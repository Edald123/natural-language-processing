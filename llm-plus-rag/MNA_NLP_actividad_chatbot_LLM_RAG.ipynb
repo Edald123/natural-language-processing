{
  "cells": [
    {
      "cell_type": "markdown",
      "metadata": {
        "id": "-hVND8xY2OKY"
      },
      "source": [
        "# **Procesamiento de Lenguaje Natural**\n",
        "\n",
        "## Maestría en Inteligencia Artificial Aplicada\n",
        "#### Tecnológico de Monterrey\n",
        "#### Prof Luis Eduardo Falcón Morales\n",
        "\n",
        "### **Adtividad en Equipos: sistema LLM + RAG**"
      ]
    },
    {
      "cell_type": "markdown",
      "metadata": {
        "id": "aimHVFOv23lm"
      },
      "source": [
        "* **Nombres y matrículas:**\n",
        "\n",
        "  *   Eduardo Aldair Ahumada Garcia Jurado - A01422929\n",
        "  *   Angel Garcia Ortega - A01796653\n",
        "  *   Ivan Troy Santaella Martínez - A01120515\n",
        "  *   Diego Alberto Baños Lopez - A01275100\n",
        "\n",
        "* **Número de Equipo:**\n",
        "  * Equipo 63"
      ]
    },
    {
      "cell_type": "markdown",
      "metadata": {},
      "source": [
        "# Introducción de la problemática a resolver"
      ]
    },
    {
      "cell_type": "markdown",
      "metadata": {},
      "source": [
        "En un contexto global donde la protección de los datos personales se ha convertido en una prioridad tanto para los gobiernos como para las organizaciones, comprender y aplicar correctamente las normativas de protección de datos es un desafío constante. Cada país o región cuenta con leyes propias —como el GDPR en Europa, el CCPA en California, el LGPD en Brasil o la LFPDPPP en México— que imponen obligaciones específicas a quienes recaban, almacenan o procesan datos personales.\n",
        "\n",
        "Sin embargo, estas normativas suelen estar redactadas en documentos extensos, complejos y en muchos casos dispersos, lo que dificulta su consulta y entendimiento, especialmente para profesionales no especializados en derecho. Esta situación representa un riesgo operativo y legal para las empresas, además de una barrera de conocimiento para estudiantes, profesionales de tecnología y ciudadanos que buscan comprender sus derechos.\n",
        "\n",
        "Ante esta problemática, se propone el desarrollo de un chatbot inteligente basado en RAG (Retrieval-Augmented Generation) que permita consultar de forma sencilla y directa los textos legales oficiales de las principales leyes de protección de datos del mundo. Este asistente está diseñado para responder preguntas complejas de manera clara, precisa y contextualizada, basándose en los documentos legales reales y no únicamente en conocimientos generales del modelo.\n",
        "\n",
        "El objetivo es democratizar el acceso al conocimiento jurídico, reducir el riesgo de interpretaciones erróneas y facilitar el cumplimiento normativo mediante una interfaz conversacional amigable, impulsada por modelos de lenguaje de última generación y técnicas de recuperación semántica."
      ]
    },
    {
      "cell_type": "markdown",
      "metadata": {},
      "source": [
        "# Tecnologías Utilizadas\n",
        "\n",
        "- **OpenAI GPT-4o-mini**: modelo LLM económico y eficiente para generación de texto con alto nivel de comprensión y contexto.\n",
        "\n",
        "- **OpenAI Embeddings (text-embedding-3-small)**: modelo de incrustaciones semánticas de bajo costo para vectorizar fragmentos de documentos.\n",
        "\n",
        "- **LangChain**: framework para conectar modelos de lenguaje con flujos de trabajo como carga de documentos, embebido, recuperación y generación.\n",
        "\n",
        "- **ChromaDB**: base de datos vectorial local para almacenamiento y recuperación eficiente de documentos embebidos.\n",
        "\n",
        "- **Gradio**: interfaz visual interactiva para que el usuario pueda dialogar con el asistente desde un entorno accesible.\n",
        "\n",
        "- **Jupyter Notebook**: plataforma utilizada para prototipar, integrar y visualizar todo el flujo de trabajo.\n",
        "\n"
      ]
    },
    {
      "cell_type": "markdown",
      "metadata": {},
      "source": [
        "# Arquitectura del Sistema (RAG + LLM)\n",
        "\n",
        "1. **Carga de documentos legales**: Se cargan documentos PDF oficiales (GDPR, CCPA, LGPD, LFPDPPP, etc.) desde una carpeta local.\n",
        "\n",
        "2. **Fragmentación de texto**: Los documentos se dividen en fragmentos de texto pequeños (chunking) para optimizar su representación semántica.\n",
        "\n",
        "3. **Embebido semántico**: Cada fragmento se convierte en un vector numérico utilizando text-embedding-3-small y se almacena en ChromaDB.\n",
        "\n",
        "4. **Recuperación de contexto (Retriever)**: Cuando el usuario hace una pregunta, el sistema busca los fragmentos más relevantes utilizando búsqueda por similitud.\n",
        "\n",
        "5. **Generación con contexto**: El modelo GPT-4o-mini recibe la pregunta y el contexto recuperado, generando una respuesta precisa, contextualizada y controlada por un prompt legal especializado.\n",
        "\n",
        "6. **Respuesta y visualización**: El usuario recibe la respuesta junto con la fuente legal correspondiente, todo desde una interfaz Gradio en el cuaderno de Jupyter."
      ]
    },
    {
      "cell_type": "markdown",
      "metadata": {},
      "source": [
        "# Justificación y Relevancia\n",
        "\n",
        "- **Alta utilidad práctica**: el chatbot puede ser utilizado por profesionales legales, estudiantes, analistas de datos, desarrolladores y responsables de cumplimiento normativo.\n",
        "\n",
        "- **Reducción de riesgo**: evita interpretaciones erróneas de las leyes al usar solo información real contenida en los textos oficiales.\n",
        "\n",
        "- **Escalabilidad**: la arquitectura permite agregar nuevos documentos legales de otros países o idiomas fácilmente.\n",
        "\n",
        "- **Costo eficiente**: el uso de modelos livianos y vector stores locales permite mantener bajos los costos y operar en entornos personales."
      ]
    },
    {
      "cell_type": "markdown",
      "metadata": {},
      "source": [
        "# Evaluación Comparativa (LLM vs RAG + LLM)\n",
        "\n",
        "Se realizaron cinco pruebas con preguntas reales sobre protección de datos. En todos los casos, el modelo RAG + LLM entregó respuestas más precisas, concisas y contextualizadas, mejorando sustancialmente la utilidad frente al uso directo del LLM sin contexto.\n",
        "\n",
        "Para más informacion ve a la sección: ***Comparando RAG + LLM contra un LLM sin RAG***"
      ]
    },
    {
      "cell_type": "markdown",
      "metadata": {},
      "source": [
        "# **Sistema RAG + LLM**"
      ]
    },
    {
      "cell_type": "markdown",
      "metadata": {},
      "source": [
        "#### Setup API openAI"
      ]
    },
    {
      "cell_type": "code",
      "execution_count": 12,
      "metadata": {},
      "outputs": [],
      "source": [
        "import os\n",
        "from dotenv import load_dotenv\n",
        "\n",
        "load_dotenv()\n",
        "openai_api_key = os.getenv(\"OPENAI_API_KEY\")"
      ]
    },
    {
      "cell_type": "markdown",
      "metadata": {},
      "source": [
        "#### Leer pdfs usando langchain"
      ]
    },
    {
      "cell_type": "code",
      "execution_count": 13,
      "metadata": {},
      "outputs": [
        {
          "name": "stdout",
          "output_type": "stream",
          "text": [
            "✅ Loaded 500 pages from PDF files.\n",
            "📄 First page preview:\n",
            "\n",
            "THE STATUTES OF THE REPUBLIC OF SINGAPORE\n",
            "PERSONAL DATA PROTECTION\n",
            "ACT 2012\n",
            "2020 REVISED EDITION\n",
            "This revised edition incorporates all amendments up to and\n",
            "including 1 December 2021 and comes into operation on 31 December 2021.\n",
            "Prepared and Published by\n",
            "THE LAW REVISION COMMISSION\n",
            "UNDER THE AUTHORITY OF\n",
            "THE REVISED EDITION OF THE LAWS ACT 1983\n",
            "Informal Consolidation– version in force from 1/10/2022\n"
          ]
        }
      ],
      "source": [
        "from langchain_community.document_loaders import PyPDFLoader\n",
        "from pathlib import Path\n",
        "\n",
        "# Load all PDF files in the `docs/` folder\n",
        "def load_pdfs_from_folder(folder_path):\n",
        "    all_docs = []\n",
        "    for pdf_path in Path(folder_path).glob(\"*.pdf\"):\n",
        "        loader = PyPDFLoader(str(pdf_path))\n",
        "        docs = loader.load()\n",
        "        for doc in docs:\n",
        "            doc.metadata[\"source\"] = pdf_path.name  # Add source metadata\n",
        "        all_docs.extend(docs)\n",
        "    return all_docs\n",
        "\n",
        "documents = load_pdfs_from_folder(\"docs/\")\n",
        "print(f\"✅ Loaded {len(documents)} pages from PDF files.\")\n",
        "print(f\"📄 First page preview:\\n\\n{documents[0].page_content[:500]}\")\n"
      ]
    },
    {
      "cell_type": "markdown",
      "metadata": {},
      "source": [
        "#### Separación de los documentos en chunks para el embedding y vector store"
      ]
    },
    {
      "cell_type": "code",
      "execution_count": 14,
      "metadata": {},
      "outputs": [
        {
          "name": "stdout",
          "output_type": "stream",
          "text": [
            "✅ Split into 1887 chunks.\n",
            "📄 First chunk preview:\n",
            "\n",
            "THE STATUTES OF THE REPUBLIC OF SINGAPORE\n",
            "PERSONAL DATA PROTECTION\n",
            "ACT 2012\n",
            "2020 REVISED EDITION\n",
            "This revised edition incorporates all amendments up to and\n",
            "including 1 December 2021 and comes into operation on 31 December 2021.\n",
            "Prepared and Published by\n",
            "THE LAW REVISION COMMISSION\n",
            "UNDER THE AUTHORITY OF\n",
            "THE REVISED EDITION OF THE LAWS ACT 1983\n",
            "Informal Consolidation– version in force from 1/10/2022\n"
          ]
        }
      ],
      "source": [
        "from langchain.text_splitter import RecursiveCharacterTextSplitter\n",
        "\n",
        "# Recommended for OpenAI embeddings: 1000 characters with 200 overlap\n",
        "text_splitter = RecursiveCharacterTextSplitter(\n",
        "    chunk_size=1000,\n",
        "    chunk_overlap=200,\n",
        "    separators=[\"\\n\\n\", \"\\n\", \".\", \" \", \"\"]\n",
        ")\n",
        "\n",
        "# Apply to your loaded documents\n",
        "chunks = text_splitter.split_documents(documents)\n",
        "\n",
        "print(f\"✅ Split into {len(chunks)} chunks.\")\n",
        "print(f\"📄 First chunk preview:\\n\\n{chunks[0].page_content[:500]}\")\n"
      ]
    },
    {
      "cell_type": "markdown",
      "metadata": {},
      "source": [
        "#### Embeddding y creación del vector store"
      ]
    },
    {
      "cell_type": "code",
      "execution_count": 25,
      "metadata": {},
      "outputs": [
        {
          "name": "stdout",
          "output_type": "stream",
          "text": [
            "✅ Loaded existing Chroma DB.\n"
          ]
        }
      ],
      "source": [
        "from langchain_openai import OpenAIEmbeddings\n",
        "from langchain_chroma import Chroma\n",
        "\n",
        "# 1. Define embedding model\n",
        "embedding_function = OpenAIEmbeddings(model=\"text-embedding-3-small\")\n",
        "\n",
        "# 2. Set path to local DB\n",
        "persist_directory = \"chroma_db\"\n",
        "\n",
        "# 3. Try to load existing DB; if not, create from chunks\n",
        "try:\n",
        "    vectorstore = Chroma(\n",
        "        embedding_function=embedding_function,\n",
        "        persist_directory=persist_directory\n",
        "    )\n",
        "    print(\"✅ Loaded existing Chroma DB.\")\n",
        "except:\n",
        "    print(\"🚧 Creating new vector store...\")\n",
        "    vectorstore = Chroma.from_documents(\n",
        "        documents=chunks,\n",
        "        embedding=embedding_function,\n",
        "        persist_directory=persist_directory\n",
        "    )\n",
        "    print(\"✅ New Chroma DB created.\")"
      ]
    },
    {
      "cell_type": "markdown",
      "metadata": {},
      "source": [
        "#### Integración RAG + LLM "
      ]
    },
    {
      "cell_type": "code",
      "execution_count": 16,
      "metadata": {},
      "outputs": [],
      "source": [
        "from langchain.prompts import PromptTemplate\n",
        "\n",
        "prompt_template = PromptTemplate.from_template(\n",
        "    \"\"\"You are a legal assistant specialized in international data protection laws such as the GDPR, CCPA, LGPD, APPI, and others.\n",
        "Use only the information provided in the context to answer the user's question in a clear, concise, and professional manner.\n",
        "If the context does not contain enough information, say that you don't have sufficient data to answer accurately.\n",
        "\n",
        "User question:\n",
        "{question}\n",
        "\n",
        "Context:\n",
        "{context}\n",
        "\n",
        "Answer:\"\"\"\n",
        ")\n"
      ]
    },
    {
      "cell_type": "code",
      "execution_count": null,
      "metadata": {},
      "outputs": [
        {
          "name": "stdout",
          "output_type": "stream",
          "text": [
            "🧠 Answer:\n",
            " The legal bases for processing personal data under the GDPR are as follows:\n",
            "\n",
            "1. **Consent**: The data subject has given clear consent for their personal data to be processed for a specific purpose.\n",
            "2. **Contractual necessity**: Processing is necessary for the performance of a contract to which the data subject is a party, or to take steps at the request of the data subject prior to entering into a contract.\n",
            "3. **Legal obligation**: Processing is necessary for compliance with a legal or regulatory obligation to which the controller is subject.\n",
            "4. **Vital interests**: Processing is necessary to protect the vital interests of the data subject or another natural person.\n",
            "5. **Public task**: Processing is necessary for the performance of a task carried out in the public interest or in the exercise of official authority vested in the controller.\n",
            "6. **Legitimate interests**: Processing is necessary for the purposes of legitimate interests pursued by the controller or a third party, except where such interests are overridden by the interests or fundamental rights and freedoms of the data subject.\n",
            "\n",
            "These bases ensure that personal data is processed lawfully and transparently.\n",
            "\n",
            "📄 Source: europe.pdf\n",
            "---\n",
            "initially collect ed. In such a case, no lega l basis separate from that whic h allo wed the collection of the personal \n",
            "data is required. If the processing is necessar y f or the performa nce of a task car r ied out in the public inte rest or \n",
            "in the exer cise of off icial author ity vested in the \n",
            "\n",
            "📄 Source: brazil.pdf\n",
            "---\n",
            "CHAPTER II \n",
            "PROCESSING OF PERSONAL DATA \n",
            "Section I \n",
            "Requirements for the Processing of Personal Data \n",
            " \n",
            " \n",
            "Art. 7 Processing of personal data shall only be carried out under the following \n",
            "circumstances: \n",
            "I  – with the consent of the data subject; \n",
            "II   – for compliance with a legal or regulatory obl\n",
            "\n",
            "📄 Source: europe.pdf\n",
            "---\n",
            "controller where personal data are processed in circumstances where data subjects do not reasonably expect \n",
            "fur ther processing. Given that it is f or the legislator to pro vide by law f or the legal basis f or public author ities to \n",
            "process personal data, that legal basis should not apply to the p\n",
            "\n",
            "📄 Source: europe.pdf\n",
            "---\n",
            "processing of personal data concer ning him or her which is based on point (e) or (f) of Ar ticle 6(1), including prof iling \n",
            "based on those pro visions. The controller shall no long er process the personal data unless the controller demonstrates \n",
            "compelling legitimate grounds f or the processing wh\n"
          ]
        }
      ],
      "source": [
        "from langchain.chains import RetrievalQA\n",
        "from langchain_openai import ChatOpenAI\n",
        "\n",
        "# 1. Set up the LLM with gpt-4o-mini\n",
        "llm = ChatOpenAI(model=\"gpt-4o-mini\", temperature=0.0)\n",
        "\n",
        "# 2. Create a retriever from the Chroma vector store\n",
        "retriever = vectorstore.as_retriever(search_type=\"similarity\", search_kwargs={\"k\": 4})\n",
        "\n",
        "# 3. Build the Retrieval-Augmented Generation chain\n",
        "rag_chain = RetrievalQA.from_chain_type(\n",
        "    llm=llm,\n",
        "    retriever=retriever,\n",
        "    return_source_documents=True,\n",
        "    chain_type_kwargs={'prompt': prompt_template}\n",
        ")\n",
        "\n",
        "# 4. Test it\n",
        "query = \"What are the legal bases for processing personal data under the GDPR?\"\n",
        "response = rag_chain.invoke(query)\n",
        "\n",
        "# Show answer\n",
        "print(\"🧠 Answer:\\n\", response[\"result\"])\n",
        "\n",
        "# Show sources\n",
        "for doc in response[\"source_documents\"]:\n",
        "    print(f\"\\n📄 Source: {doc.metadata['source']}\\n---\\n{doc.page_content[:300]}\")\n"
      ]
    },
    {
      "cell_type": "markdown",
      "metadata": {},
      "source": [
        "# Comparando RAG + LLM contra un LLM sin RAG"
      ]
    },
    {
      "cell_type": "code",
      "execution_count": 18,
      "metadata": {},
      "outputs": [
        {
          "name": "stdout",
          "output_type": "stream",
          "text": [
            "🚫 No RAG Answer:\n",
            " Yes, the General Data Protection Regulation (GDPR) allows for the processing of personal data without consent under certain circumstances. While consent is one of the legal bases for processing personal data, the GDPR outlines several other legal bases that organizations can rely on. These include:\n",
            "\n",
            "1. **Contractual necessity**: Processing is necessary for the performance of a contract to which the data subject is a party or to take steps at the request of the data subject prior to entering into a contract.\n",
            "\n",
            "2. **Legal obligation**: Processing is necessary for compliance with a legal obligation to which the data controller is subject.\n",
            "\n",
            "3. **Vital interests**: Processing is necessary to protect the vital interests of the data subject or another natural person.\n",
            "\n",
            "4. **Public task**: Processing is necessary for the performance of a task carried out in the public interest or in the exercise of official authority vested in the data controller.\n",
            "\n",
            "5. **Legitimate interests**: Processing is necessary for the purposes of the legitimate interests pursued by the data controller or a third party, except where such interests are overridden by the interests or fundamental rights and freedoms of the data subject.\n",
            "\n",
            "Organizations must carefully assess which legal basis applies to their specific situation and ensure that they comply with all relevant GDPR requirements.\n",
            "✅ RAG Answer:\n",
            " Yes, the GDPR allows for processing without consent under certain conditions. Specifically, the consent requirement can be waived for data that has been manifestly made public by the data subject, provided that the processing respects the rights of the data subject and adheres to the principles outlined in the law. Additionally, there are other legal bases for processing personal data without consent, such as compliance with a legal obligation, protection of vital interests, performance of a contract, or legitimate interests pursued by the data controller or a third party, among others. However, any waiver of the consent requirement does not exempt processing agents from their other obligations under the GDPR.\n"
          ]
        }
      ],
      "source": [
        "query = \"Does the GDPR allow processing without consent?\"\n",
        "\n",
        "# Without RAG (no context)\n",
        "no_rag_response = llm.invoke(query)\n",
        "print(\"🚫 No RAG Answer:\\n\", no_rag_response.content)\n",
        "\n",
        "# With RAG\n",
        "rag_response = rag_chain.invoke(query)\n",
        "print(\"✅ RAG Answer:\\n\", rag_response[\"result\"])\n"
      ]
    },
    {
      "cell_type": "code",
      "execution_count": 19,
      "metadata": {},
      "outputs": [
        {
          "name": "stdout",
          "output_type": "stream",
          "text": [
            "🚫 No RAG Answer:\n",
            " Under Brazil's General Data Protection Law (Lei Geral de Proteção de Dados, or LGPD), the appointment of a Data Protection Officer (DPO) is not mandatory for all organizations. However, certain entities are required to appoint a DPO based on specific criteria.\n",
            "\n",
            "According to the LGPD, a DPO is mandatory for:\n",
            "\n",
            "1. Public authorities or bodies.\n",
            "2. Organizations that process personal data on a large scale.\n",
            "3. Organizations that process sensitive personal data or data related to children and adolescents.\n",
            "\n",
            "Even if not required, organizations may choose to appoint a DPO to facilitate compliance with the LGPD and to serve as a point of contact for data subjects and the National Data Protection Authority (ANPD).\n",
            "\n",
            "In summary, while not all organizations are required to appoint a DPO under the LGPD, certain types of organizations must do so, and others may benefit from having one.\n",
            "✅ RAG Answer:\n",
            " Yes, under Brazil's LGPD (Lei Geral de Proteção de Dados), it is mandatory to appoint a Data Protection Officer (DPO) when carrying out personal data processing operations, as specified in Article 41 of the law.\n"
          ]
        }
      ],
      "source": [
        "query = \"Is it mandatory to appoint a Data Protection Officer under Brazil's LGPD?\"  # your question\n",
        "\n",
        "# No RAG\n",
        "no_rag_response = llm.invoke(query)\n",
        "print(\"🚫 No RAG Answer:\\n\", no_rag_response.content)\n",
        "\n",
        "# With RAG\n",
        "rag_response = rag_chain.invoke(query)\n",
        "print(\"✅ RAG Answer:\\n\", rag_response[\"result\"])\n"
      ]
    },
    {
      "cell_type": "code",
      "execution_count": 21,
      "metadata": {},
      "outputs": [
        {
          "name": "stdout",
          "output_type": "stream",
          "text": [
            "🚫 No RAG Answer:\n",
            " The California Consumer Privacy Act (CCPA), which took effect on January 1, 2020, grants California residents several rights regarding their personal information. Here are the key rights provided under the CCPA:\n",
            "\n",
            "1. **Right to Know**: Consumers have the right to request that businesses disclose the categories and specific pieces of personal information they have collected about them, as well as the sources of that information, the purposes for which it is used, and the categories of third parties with whom it is shared.\n",
            "\n",
            "2. **Right to Delete**: Consumers can request the deletion of their personal information that a business has collected, subject to certain exceptions (e.g., if the information is necessary for the business to complete a transaction or comply with a legal obligation).\n",
            "\n",
            "3. **Right to Opt-Out**: Consumers have the right to opt-out of the sale of their personal information to third parties. Businesses must provide a clear and accessible way for consumers to exercise this right.\n",
            "\n",
            "4. **Right to Non-Discrimination**: Consumers are protected from discrimination for exercising their rights under the CCPA. This means that businesses cannot deny services, charge different prices, or provide a different level of quality based on whether a consumer has exercised their rights.\n",
            "\n",
            "5. **Right to Access Information**: Consumers can request access to their personal information that a business has collected in the past 12 months, including the categories of information collected, the purposes for collection, and the categories of third parties with whom the information is shared.\n",
            "\n",
            "6. **Right to Data Portability**: Consumers can request a copy of their personal information in a format that is easily understandable and allows for data portability.\n",
            "\n",
            "7. **Right to Know About Financial Incentives**: If a business offers financial incentives for the collection, sale, or deletion of personal information, consumers have the right to know the terms of those incentives.\n",
            "\n",
            "Businesses are required to provide clear and conspicuous notices about consumers' rights under the CCPA and must implement processes to facilitate the exercise of these rights. Additionally, the CCPA applies to certain businesses that meet specific criteria, such as having annual gross revenues over a certain threshold or collecting personal information from a specified number of consumers.\n",
            "\n",
            "It's important to note that the CCPA has been amended and updated since its enactment, and consumers should stay informed about any changes to their rights and the obligations of businesses under the law.\n",
            "✅ RAG Answer:\n",
            " Under the California Consumer Privacy Act (CCPA), consumers have the following rights:\n",
            "\n",
            "1. **Right to Delete**: Consumers can request the deletion of their personal information held by businesses.\n",
            "2. **Right to Correct**: Consumers have the right to request correction of inaccurate personal information.\n",
            "3. **Right to Know**: Consumers can inquire about what personal information is being collected and request access to that information.\n",
            "4. **Right to Know About Sales**: Consumers have the right to know what personal information is sold or shared and to whom.\n",
            "5. **Right to Opt-Out**: Consumers can opt out of the sale or sharing of their personal information.\n",
            "6. **Right of No Retaliation**: Businesses cannot discriminate against consumers for exercising their rights under the CCPA.\n",
            "\n",
            "These rights empower consumers to have greater control over their personal information.\n"
          ]
        }
      ],
      "source": [
        "query = \"What are consumers' rights under the California CCPA?\"  # your question\n",
        "\n",
        "# No RAG\n",
        "no_rag_response = llm.invoke(query)\n",
        "print(\"🚫 No RAG Answer:\\n\", no_rag_response.content)\n",
        "\n",
        "# With RAG\n",
        "rag_response = rag_chain.invoke(query)\n",
        "print(\"✅ RAG Answer:\\n\", rag_response[\"result\"])\n"
      ]
    },
    {
      "cell_type": "code",
      "execution_count": 22,
      "metadata": {},
      "outputs": [
        {
          "name": "stdout",
          "output_type": "stream",
          "text": [
            "🚫 No RAG Answer:\n",
            " Yes, under the Act on the Protection of Personal Information (APPI) in Japan, personal data can be transferred outside of Japan, but there are specific conditions that must be met to ensure the protection of that data.\n",
            "\n",
            "1. **Consent**: The individual whose personal data is being transferred must provide consent for the transfer.\n",
            "\n",
            "2. **Adequate Protection**: The receiving country or region must have a system in place that provides an adequate level of protection for personal data. The Japanese Personal Information Protection Commission (PPC) assesses whether a country offers adequate protection.\n",
            "\n",
            "3. **Contractual Measures**: If the receiving country does not provide adequate protection, the data transfer can still occur if there are appropriate safeguards in place, such as contractual clauses that ensure the protection of personal data.\n",
            "\n",
            "4. **Exceptions**: There are certain exceptions where personal data can be transferred without meeting the above conditions, such as when the transfer is necessary for the performance of a contract or for the protection of vital interests.\n",
            "\n",
            "Organizations in Japan must ensure compliance with these requirements when transferring personal data outside the country to protect individuals' privacy rights.\n",
            "✅ RAG Answer:\n",
            " Yes, under the Act on the Protection of Personal Information (APPI) in Japan, personal data can be transferred outside of Japan, but certain conditions must be met. Businesses must obtain the identifiable person's consent for the transfer to a third party in a foreign country. Additionally, before obtaining consent, businesses are required to provide information about the personal information protection system of the foreign country and the measures taken by the third party to protect personal information.\n"
          ]
        }
      ],
      "source": [
        "query = \"Can personal data be transferred outside of Japan under APPI?\"  # your question\n",
        "\n",
        "# No RAG\n",
        "no_rag_response = llm.invoke(query)\n",
        "print(\"🚫 No RAG Answer:\\n\", no_rag_response.content)\n",
        "\n",
        "# With RAG\n",
        "rag_response = rag_chain.invoke(query)\n",
        "print(\"✅ RAG Answer:\\n\", rag_response[\"result\"])\n"
      ]
    },
    {
      "cell_type": "code",
      "execution_count": 24,
      "metadata": {},
      "outputs": [
        {
          "name": "stdout",
          "output_type": "stream",
          "text": [
            "🚫 No RAG Answer:\n",
            " Yes, under the Federal Law on Protection of Personal Data Held by Private Parties (LFPDPPP) in Mexico, prior consent is required for the collection of biometric data. Biometric data is considered sensitive personal data, and the law establishes that sensitive data can only be processed with the explicit consent of the individual. \n",
            "\n",
            "Organizations must inform individuals about the purpose of collecting their biometric data and obtain their consent before proceeding. Additionally, they must comply with other obligations set forth in the LFPDPPP, such as implementing adequate security measures to protect the data and allowing individuals to exercise their rights regarding their personal data.\n",
            "\n",
            "For the most accurate and detailed information, it is advisable to consult the actual text of the LFPDPPP or seek legal counsel.\n",
            "✅ RAG Answer:\n",
            " Yes, prior consent is required for collecting biometric data in Mexico under the Ley Federal de Protección de Datos Personales en Posesión de los Particulares (LFPDPPP). Biometric data is considered sensitive personal data, and the law mandates that the responsible party must obtain free, specific, and informed consent from the data subject before processing such data.\n"
          ]
        }
      ],
      "source": [
        "query = \"Is prior consent required for collecting biometric data in Mexico? based on the LFPDPPP\"  # your question\n",
        "\n",
        "# No RAG\n",
        "no_rag_response = llm.invoke(query)\n",
        "print(\"🚫 No RAG Answer:\\n\", no_rag_response.content)\n",
        "\n",
        "# With RAG\n",
        "rag_response = rag_chain.invoke(query)\n",
        "print(\"✅ RAG Answer:\\n\", rag_response[\"result\"])\n"
      ]
    },
    {
      "cell_type": "markdown",
      "metadata": {},
      "source": [
        "1. El **modelo LLM solo** tiene buena base, pero puede ser demasiado generalista, especialmente en temas legales.\n",
        "\n",
        "2. El **sistema RAG + LLM**:\n",
        "\n",
        "    - Mejora la exactitud jurídica\n",
        "\n",
        "    - Refuerza la confianza en la respuesta\n",
        "\n",
        "    - Ofrece un estilo más claro y enfocado\n",
        "\n",
        "    - Evita alucinaciones o respuestas poco fundamentadas\n",
        "\n",
        "\n",
        "\n",
        "| Pregunta                                                               | ❌ LLM sin RAG                                                             | ✅ LLM con RAG                                                                                             | Ventaja de RAG                                                   |\n",
        "| ---------------------------------------------------------------------- | ------------------------------------------------------------------------- | --------------------------------------------------------------------------------------------------------- | ---------------------------------------------------------------- |\n",
        "| **Does the GDPR allow processing without consent?**                    | Respuesta extensa, general y basada en conocimientos previos.             | Respuesta concisa, contextualizada y fundamentada en las excepciones del GDPR.                            | ✅ Mejora la precisión y se apoya en el documento real.           |\n",
        "| **Is it mandatory to appoint a DPO under Brazil's LGPD?**              | Ambigua: afirma que depende del tipo de organización.                     | Directa: cita el artículo 41 de la LGPD que lo exige en todos los casos de tratamiento de datos.          | ✅ Cita la fuente legal y elimina ambigüedad.                     |\n",
        "| **What are consumers' rights under the California CCPA?**              | Completa pero extensa, con mucha información redundante.                  | Clara y resumida, enumera los derechos principales con mejor foco.                                        | ✅ Mejora la claridad y evita sobreinformación.                   |\n",
        "| **Can personal data be transferred outside of Japan under APPI?**      | Acierta, pero sin detalle normativo claro sobre consentimiento informado. | Precisa: indica el requisito de consentimiento y obligación de informar sobre el país receptor.           | ✅ Aporta contexto legal exacto y requisitos específicos.         |\n",
        "| **Is prior consent required for collecting biometric data in Mexico?** | Acierta, pero de forma genérica y sin mencionar la ley específica.        | Precisa: cita explícitamente la LFPDPPP, habla del consentimiento libre e informado para datos sensibles. | ✅ Se alinea con la legislación mexicana y refuerza la respuesta. |\n"
      ]
    },
    {
      "cell_type": "markdown",
      "metadata": {},
      "source": [
        "# Chatbot con Gradio para interecciones más amigables\n",
        "***Escribe tu pregunta en la caja generada por Gradio donde dice \"Your Question\", una vez hecho esto da click en el botón \"Ask\" y espera unos segundos para que el modelo te responda.***"
      ]
    },
    {
      "cell_type": "markdown",
      "metadata": {},
      "source": [
        "#### **Instrucciones para el Usuario Final**\n",
        "\n",
        "Para utilizar este chatbot correctamente, el usuario debe seguir los siguientes pasos:\n",
        "\n",
        "1. **Configurar el entorno**:\n",
        "\n",
        "    - Crear un archivo .env en el directorio raíz del proyecto.\n",
        "\n",
        "    - Incluir su clave API de OpenAI en el archivo con el siguiente formato:\n",
        "\n",
        "        -  OPENAI_API_KEY=sk-XXXXXXXXXXXXXXXXXXXXXXXXXXXXXXX\n",
        "\n",
        "2. **Documentación utilizada**:\n",
        "\n",
        "    - El sistema se basa en los siguientes documentos legales oficiales:\n",
        "\n",
        "        - GDPR (Unión Europea)\n",
        "\n",
        "        - CCPA (California, EE.UU.)\n",
        "\n",
        "        - LGPD (Brasil)\n",
        "\n",
        "        - LFPDPPP (México)\n",
        "\n",
        "        - APPI (Japón)\n",
        "\n",
        "    - Todos los archivos PDF deben ser colocados en la carpeta docs/ antes de ejecutar el sistema.\n",
        "\n",
        "3. **Ejecución del chatbot**:\n",
        "\n",
        "    - Abrir el Jupyter Notebook del proyecto.\n",
        "\n",
        "    - Ejecutar las celdas paso a paso hasta que se despliegue la interfaz Gradio.\n",
        "\n",
        "    - Ingresar consultas en inglés relacionadas con las leyes mencionadas.\n",
        "\n",
        "4. **Limitaciones**:\n",
        "\n",
        "    - El chatbot responde únicamente con base en los documentos cargados.\n",
        "\n",
        "    - Si no encuentra suficiente información relevante, informará que no puede dar una respuesta precisa.\n",
        "\n",
        "5. **Recomendaciones**:\n",
        "\n",
        "    - Formular preguntas claras y específicas.\n",
        "\n",
        "    - Mencionar el país o ley cuando sea posible para mejorar la recuperación de contexto.\n",
        "\n",
        "***Este asistente está diseñado para facilitar la comprensión legal, pero no sustituye asesoría jurídica profesional.***"
      ]
    },
    {
      "cell_type": "code",
      "execution_count": 27,
      "metadata": {},
      "outputs": [
        {
          "name": "stdout",
          "output_type": "stream",
          "text": [
            "* Running on local URL:  http://127.0.0.1:7862\n",
            "* To create a public link, set `share=True` in `launch()`.\n"
          ]
        },
        {
          "data": {
            "text/html": [
              "<div><iframe src=\"http://127.0.0.1:7862/\" width=\"100%\" height=\"500\" allow=\"autoplay; camera; microphone; clipboard-read; clipboard-write;\" frameborder=\"0\" allowfullscreen></iframe></div>"
            ],
            "text/plain": [
              "<IPython.core.display.HTML object>"
            ]
          },
          "metadata": {},
          "output_type": "display_data"
        },
        {
          "data": {
            "text/plain": []
          },
          "execution_count": 27,
          "metadata": {},
          "output_type": "execute_result"
        }
      ],
      "source": [
        "import gradio as gr\n",
        "\n",
        "# RAG function to connect UI to the model\n",
        "def ask_data_law(query):\n",
        "    if not query.strip():\n",
        "        return \"Please enter a valid question.\"\n",
        "    \n",
        "    response = rag_chain.invoke(query)\n",
        "    answer = response[\"result\"]\n",
        "\n",
        "    # show sources (for transparency)\n",
        "    sources = \"\\n\\n\".join(\n",
        "        f\"📄 {doc.metadata['source']}\" for doc in response[\"source_documents\"]\n",
        "    )\n",
        "    \n",
        "    return f\"🧠 **Answer:**\\n{answer}\\n\\n---\\n**Sources:**\\n{sources}\"\n",
        "\n",
        "# Gradio Blocks interface\n",
        "with gr.Blocks() as demo:\n",
        "    gr.Markdown(\"# 💼 Ask the Data Law Assistant\")\n",
        "    gr.Markdown(\"Ask about GDPR, CCPA, LGPD, APPI, and more.\")\n",
        "\n",
        "    with gr.Row():\n",
        "        textbox = gr.Textbox(label=\"Your Question\")\n",
        "        submit_btn = gr.Button(\"Ask\")\n",
        "\n",
        "    output = gr.Markdown()\n",
        "\n",
        "    submit_btn.click(fn=ask_data_law, inputs=textbox, outputs=output)\n",
        "\n",
        "# Launch the app inline\n",
        "demo.launch(inline=True, share=False)\n"
      ]
    },
    {
      "cell_type": "markdown",
      "metadata": {
        "id": "Kx-dZSFJz9cK"
      },
      "source": [
        "# **Conclusiones:**"
      ]
    },
    {
      "cell_type": "markdown",
      "metadata": {
        "id": "3w3usdaC0BCj"
      },
      "source": [
        "#### **Conclusiones de la actividad chatbot LLM + RAG:**\n",
        "El desarrollo de este chatbot legal demuestra de forma concreta el potencial de las arquitecturas RAG (Retrieval-Augmented Generation) combinadas con LLMs para resolver desafíos complejos relacionados con la consulta de documentos normativos. A diferencia de un modelo de lenguaje tradicional, el sistema aquí presentado se apoya directamente en documentación legal oficial para responder, lo cual mejora la precisión, reduce los riesgos de alucinación y fortalece la trazabilidad de cada respuesta.\n",
        "\n",
        "Este enfoque es especialmente útil en dominios donde la exactitud del contenido es crítica, como en el derecho, la medicina, las políticas públicas o la educación. El asistente legal no sólo brinda respuestas claras y fundamentadas, sino que también puede ser escalado a otras jurisdicciones, adaptado a nuevos marcos regulatorios, y extendido a otras lenguas si se integran nuevos documentos fuente.\n",
        "\n",
        "Además, se valida que con herramientas accesibles y de bajo costo como GPT-4o-mini, embeddings optimizados como text-embedding-3-small, y un entorno local basado en LangChain y ChromaDB, es posible construir asistentes conversacionales avanzados sin depender de infraestructura compleja o costosa.\n",
        "\n",
        "Este proyecto representa un caso de uso realista, educativo y replicable que puede ser reutilizado en instituciones académicas, equipos legales internos, ONGs o pequeñas empresas que necesiten asistencia legal automatizada sin renunciar a la fiabilidad."
      ]
    },
    {
      "cell_type": "markdown",
      "metadata": {
        "id": "CtB5Q3m41YQ0"
      },
      "source": [
        "# **Fin de la actividad chatbot: LLM + RAG**"
      ]
    }
  ],
  "metadata": {
    "colab": {
      "provenance": []
    },
    "kernelspec": {
      "display_name": "env",
      "language": "python",
      "name": "python3"
    },
    "language_info": {
      "codemirror_mode": {
        "name": "ipython",
        "version": 3
      },
      "file_extension": ".py",
      "mimetype": "text/x-python",
      "name": "python",
      "nbconvert_exporter": "python",
      "pygments_lexer": "ipython3",
      "version": "3.13.3"
    }
  },
  "nbformat": 4,
  "nbformat_minor": 0
}
