{
  "cells": [
    {
      "cell_type": "markdown",
      "metadata": {
        "id": "759SG4TyfbUn"
      },
      "source": [
        "# **Maestría en Inteligencia Artificial Aplicada**\n",
        "## **Curso: Procesamiento de Lenguaje Natural (NLP)**\n",
        "### Tecnológico de Monterrey\n",
        "### Prof Luis Eduardo Falcón Morales\n",
        "\n",
        "## **Adtividad de la Semana 02**\n",
        "### **Introducción al procesamiento de texto.**"
      ]
    },
    {
      "cell_type": "markdown",
      "metadata": {
        "id": "6ue1YAKx3XDo"
      },
      "source": [
        "En esta actividad deberás utilizar los datos del siguiente archivo que se encuentra en Canvas:\n",
        "\n",
        "MNA_NLP_semana_02_Actividad_datos.txt\n",
        "\n",
        "El archivo contiene comentarios en inglés sobre servicios de comida de la página de Yelp: https://www.yelp.com/ . \n",
        "\n",
        "Son mil comentarios y forman parte del conjunto de datos que se encuentra en el Machine Learning Repository de la UCI, llamado \"Sentiment Labelled Sentences\": https://archive.ics.uci.edu/ml/datasets/Sentiment+Labelled+Sentences#\n"
      ]
    },
    {
      "cell_type": "markdown",
      "metadata": {
        "id": "Zj-h4drXD-X9"
      },
      "source": [
        "# **Parte 1. Cargamos los datos.**   "
      ]
    },
    {
      "cell_type": "markdown",
      "metadata": {
        "id": "BY6yifxscfrx"
      },
      "source": [
        "Cargar los datos del archivo indicado y obtener una lista de longitud de 1000 strings/comentarios. \n",
        "\n",
        "Por el momento solamente requerimos las bibliotecas de Numpy y re, para el manejo de los arreglos y de las expresiones regulares en Python.\n",
        "\n",
        "En particular, no necesitarás en esta actividad la biblioteca de Pandas.\n",
        "\n",
        "### **NOTA: En esta actividad no debes importar nada más, con estas dos bibliotecas será *suficiente*.**"
      ]
    },
    {
      "cell_type": "code",
      "execution_count": 2,
      "metadata": {
        "id": "OJ26dAfhdFnf"
      },
      "outputs": [],
      "source": [
        "import numpy as np    # importamos Numpy para el manejo de los arreglos.\n",
        "import re             # importamos re para el manejo de las expresiones regulares."
      ]
    },
    {
      "cell_type": "code",
      "execution_count": 3,
      "metadata": {
        "id": "QHUmJyjDdGNP"
      },
      "outputs": [],
      "source": [
        "# Ejecuta las siguientes instrucciones para cargar la información del achivo dado:\n",
        "\n",
        "with open('MNA_NLP_semana_02_Actividad_datos.txt',        # puedes actualizar la ruta a tu archivo, en dado caso.\n",
        "          mode='r',     # abrimos el archivo en modo lectura.\n",
        "          ) as f:\n",
        "    docs = f.readlines()    # separamos cada comentario por líneas\n",
        "\n",
        "f.close()  # ya que tenemos la información en la variable docs, cerramos el archivo"
      ]
    },
    {
      "cell_type": "code",
      "execution_count": 4,
      "metadata": {
        "id": "L6WzrSrodG-Y"
      },
      "outputs": [
        {
          "data": {
            "text/plain": [
              "True"
            ]
          },
          "execution_count": 4,
          "metadata": {},
          "output_type": "execute_result"
        }
      ],
      "source": [
        "type(docs) == list   # Verifica que tu variable \"docs\" es una lista"
      ]
    },
    {
      "cell_type": "code",
      "execution_count": 5,
      "metadata": {
        "id": "QIK1u9WS2FtS"
      },
      "outputs": [
        {
          "data": {
            "text/plain": [
              "True"
            ]
          },
          "execution_count": 5,
          "metadata": {},
          "output_type": "execute_result"
        }
      ],
      "source": [
        "len(docs)==1000  # verifica que la longitud de \"docs\" es de mil comentarios."
      ]
    },
    {
      "cell_type": "code",
      "execution_count": 6,
      "metadata": {
        "id": "9AMLIfQvJqNZ"
      },
      "outputs": [
        {
          "data": {
            "text/plain": [
              "['Wow... Loved this place.\\n',\n",
              " 'Crust is not good.\\n',\n",
              " 'Not tasty and the texture was just nasty.\\n',\n",
              " 'Stopped by during the late May bank holiday off Rick Steve recommendation and loved it.\\n',\n",
              " 'The selection on the menu was great and so were the prices.\\n',\n",
              " 'Now I am getting angry and I want my damn pho.\\n',\n",
              " \"Honeslty it didn't taste THAT fresh.)\\n\",\n",
              " 'The potatoes were like rubber and you could tell they had been made up ahead of time being kept under a warmer.\\n',\n",
              " 'The fries were great too.\\n',\n",
              " 'A great touch.\\n']"
            ]
          },
          "execution_count": 6,
          "metadata": {},
          "output_type": "execute_result"
        }
      ],
      "source": [
        "docs[0:10]     # observa algunos de los primeros comentarios"
      ]
    },
    {
      "cell_type": "markdown",
      "metadata": {
        "id": "k_ewoagic5jc"
      },
      "source": [
        "# **Parte 2: sección de preguntas (regex).**   \n"
      ]
    },
    {
      "cell_type": "markdown",
      "metadata": {
        "id": "X-eMJa3DFCIV"
      },
      "source": [
        "## **Instrucciones:**\n",
        "\n",
        "### **A continuación deberás contestar cada una de las preguntas que te piden usando expresiones regulares (regex).**\n",
        "\n",
        "### **Por el momento no hay restricción en cuanto al número de líneas de código que agregues, pero trata de incluir las mínimas posibles.**"
      ]
    },
    {
      "cell_type": "markdown",
      "metadata": {
        "id": "78nJMemzn5a5"
      },
      "source": [
        "*   **Pregunta 1.** \n",
        "\n",
        "Busca y elimina todos los saltos de línea '\\n' que se encuentran al final de cada comentario. \n",
        "\n",
        "Una vez finalizado, imprime los primeros 10 comentarios del resultado obtenido.\n"
      ]
    },
    {
      "cell_type": "code",
      "execution_count": 7,
      "metadata": {
        "id": "PwbYYIuZn8pE"
      },
      "outputs": [],
      "source": [
        "for i in range(len(docs)):\n",
        "    docs[i] = docs[i].replace('\\n', '')"
      ]
    },
    {
      "cell_type": "code",
      "execution_count": 8,
      "metadata": {
        "id": "j-0qeh2Jn8l1"
      },
      "outputs": [
        {
          "data": {
            "text/plain": [
              "['Wow... Loved this place.',\n",
              " 'Crust is not good.',\n",
              " 'Not tasty and the texture was just nasty.',\n",
              " 'Stopped by during the late May bank holiday off Rick Steve recommendation and loved it.',\n",
              " 'The selection on the menu was great and so were the prices.',\n",
              " 'Now I am getting angry and I want my damn pho.',\n",
              " \"Honeslty it didn't taste THAT fresh.)\",\n",
              " 'The potatoes were like rubber and you could tell they had been made up ahead of time being kept under a warmer.',\n",
              " 'The fries were great too.',\n",
              " 'A great touch.']"
            ]
          },
          "execution_count": 8,
          "metadata": {},
          "output_type": "execute_result"
        }
      ],
      "source": [
        "docs[0:10]"
      ]
    },
    {
      "cell_type": "markdown",
      "metadata": {
        "id": "VWeKQC93ctEo"
      },
      "source": [
        "*   **Pregunta 2.**  \n",
        "\n",
        "Busca e imprime todas las palabras que terminan con dos o más signos de admiración seguidos, por ejemplo \"!!!\". \n",
        "\n",
        "Debes imprimir tanto la palabra como la totalidad de signos de admiración que le siguen. \n",
        "\n",
        "Indica cuántos resultados obtuviste.\n",
        "\n"
      ]
    },
    {
      "cell_type": "code",
      "execution_count": 9,
      "metadata": {
        "id": "0p3kMXfddICc"
      },
      "outputs": [],
      "source": [
        "pattern = r'\\b\\w+\\!{2,}(?=\\s|$)'\n",
        "# Breakdown:\n",
        "# \\b       -> Word boundary to ensure we start matching at a real word start\n",
        "# \\w+      -> One or more word characters (letters, digits, underscore)\n",
        "# \\!{2,}   -> Two or more literal exclamation marks '!' after the word\n",
        "# (?=\\s|$) -> Positive lookahead:\n",
        "#             - \\s means a whitespace character (space, tab, etc.)\n",
        "#             - | means OR\n",
        "#             - $ means end of string\n",
        "#           So the word must be followed by a whitespace or end of string,\n",
        "#           and NOT by other characters like punctuation or more letters.\n",
        "\n",
        "all_matches = []\n",
        "\n",
        "for text in docs:\n",
        "    matches = re.findall(pattern, text)\n",
        "    all_matches.extend(matches)"
      ]
    },
    {
      "cell_type": "code",
      "execution_count": 10,
      "metadata": {},
      "outputs": [
        {
          "name": "stdout",
          "output_type": "stream",
          "text": [
            "['Firehouse!!!!!', 'APPETIZERS!!!', 'amazing!!!', 'buffet!!!', 'good!!', 'it!!!!', 'DELICIOUS!!', 'amazing!!', 'shawarrrrrrma!!!!!!', 'yucky!!!', 'delicious!!!', 'far!!', 'biscuits!!!', 'disappointing!!!', 'awesome!!', 'Up!!', 'FLY!!!!!!!!', 'great!!!!!!!!!!!!!!', 'packed!!', 'amazing!!!!!!!!!!!!!!!!!!!', 'style!!', 'disappointed!!']\n",
            "22\n"
          ]
        }
      ],
      "source": [
        "print(all_matches)\n",
        "print(len(all_matches))"
      ]
    },
    {
      "cell_type": "markdown",
      "metadata": {
        "id": "-s3okBqL96TT"
      },
      "source": [
        "*   **Pregunta 3.**  \n",
        "\n",
        "Busca e imprime todas las palabras que están escritas totalmente en mayúsculas. Cada coincidencia debe ser una sola palabra.\n",
        "\n",
        "Indica cuántas palabras encontraste.\n",
        "\n"
      ]
    },
    {
      "cell_type": "code",
      "execution_count": 11,
      "metadata": {
        "id": "yKHJkZKo_nW5"
      },
      "outputs": [],
      "source": [
        "pattern = r'\\b[A-Z]+\\b'\n",
        "# Breakdown:\n",
        "# \\b       -> Start of a word\n",
        "# [A-Z]+   -> One or more uppercase letters only\n",
        "# \\b       -> End of a word\n",
        "\n",
        "all_uppercase_words = []\n",
        "\n",
        "for text in docs:\n",
        "    matches = re.findall(pattern, text)  \n",
        "    all_uppercase_words.extend(matches)"
      ]
    },
    {
      "cell_type": "code",
      "execution_count": 12,
      "metadata": {
        "id": "L3q08aq69sNn"
      },
      "outputs": [
        {
          "name": "stdout",
          "output_type": "stream",
          "text": [
            "['I', 'I', 'THAT', 'A', 'I', 'I', 'I', 'I', 'I', 'I', 'I', 'I', 'I', 'I', 'I', 'I', 'APPETIZERS', 'A', 'I', 'I', 'I', 'I', 'I', 'I', 'I', 'WILL', 'NEVER', 'EVER', 'STEP', 'FORWARD', 'IN', 'IT', 'AGAIN', 'I', 'LOVED', 'I', 'AND', 'REAL', 'I', 'I', 'I', 'I', 'BITCHES', 'I', 'I', 'I', 'I', 'NYC', 'I', 'I', 'I', 'I', 'I', 'I', 'I', 'STALE', 'I', 'I', 'DELICIOUS', 'I', 'I', 'I', 'I', 'I', 'I', 'I', 'I', 'I', 'I', 'I', 'I', 'I', 'I', 'I', 'WORST', 'EXPERIENCE', 'EVER', 'I', 'ALL', 'I', 'BARGAIN', 'I', 'TV', 'NONE', 'I', 'M', 'FREEZING', 'AYCE', 'I', 'I', 'I', 'I', 'I', 'I', 'I', 'I', 'I', 'I', 'I', 'I', 'I', 'FLAVOR', 'I', 'I', 'I', 'I', 'I', 'I', 'I', 'I', 'I', 'I', 'I', 'I', 'I', 'I', 'I', 'I', 'I', 'I', 'NEVER', 'I', 'I', 'I', 'I', 'BBQ', 'I', 'A', 'I', 'UNREAL', 'I', 'I', 'I', 'I', 'I', 'I', 'OMG', 'I', 'BETTER', 'I', 'I', 'BLAND', 'I', 'I', 'I', 'I', 'I', 'I', 'I', 'RUDE', 'INCONSIDERATE', 'MANAGEMENT', 'I', 'I', 'WILL', 'NEVER', 'EVER', 'GO', 'BACK', 'AND', 'HAVE', 'TOLD', 'MANY', 'PEOPLE', 'WHAT', 'HAD', 'HAPPENED', 'I', 'I', 'I', 'I', 'I', 'I', 'I', 'I', 'I', 'I', 'I', 'I', 'I', 'TOTAL', 'WASTE', 'OF', 'TIME', 'I', 'I', 'I', 'I', 'I', 'I', 'I', 'I', 'I', 'I', 'I', 'I', 'I', 'I', 'I', 'FS', 'I', 'I', 'I', 'I', 'I', 'I', 'I', 'I', 'I', 'AZ', 'I', 'I', 'I', 'I', 'LOVED', 'I', 'I', 'I', 'I', 'I', 'I', 'CONCLUSION', 'I', 'I', 'I', 'I', 'I', 'I', 'BEST', 'I', 'GO', 'NOW', 'A', 'I', 'I', 'GC', 'I', 'I', 'I', 'I', 'I', 'I', 'I', 'I', 'I', 'I', 'I', 'AVOID', 'THIS', 'ESTABLISHMENT', 'I', 'I', 'I', 'A', 'I', 'I', 'AN', 'HOUR', 'I', 'I', 'I', 'I', 'I', 'I', 'I', 'I', 'NASTY', 'OMG', 'I', 'I', 'NO', 'I', 'I', 'I', 'BEST', 'I', 'I', 'I', 'I', 'THE', 'OWNERS', 'REALLY', 'REALLY', 'I', 'I', 'I', 'I', 'I', 'I', 'I', 'I', 'I', 'I', 'I', 'I', 'PERFECT', 'SCREAMS', 'LEGIT', 'I', 'MGM', 'I', 'I', 'I', 'A', 'I', 'I', 'I', 'I', 'I', 'I', 'I', 'I', 'I', 'I', 'I', 'I', 'BEST', 'I', 'I', 'T', 'A', 'FLY', 'A', 'FLY', 'I', 'I', 'I', 'I', 'I', 'I', 'I', 'I', 'I', 'I', 'I', 'I', 'FANTASTIC', 'I', 'I', 'I', 'I', 'GREAT', 'OK', 'I', 'I', 'WAY', 'I', 'I', 'MUST', 'HAVE', 'I', 'I', 'I', 'I', 'I', 'I', 'OK', 'I', 'I', 'I', 'I', 'OVERPRICED', 'I', 'I', 'I', 'I', 'I', 'I', 'I', 'I', 'I', 'I', 'I', 'I', 'I', 'I', 'I', 'I', 'I', 'I', 'I', 'I', 'I', 'I', 'I', 'I', 'I', 'BARE', 'HANDS', 'I', 'I', 'I', 'I', 'I', 'I', 'I', 'I', 'I', 'I', 'I', 'I', 'I', 'I', 'I', 'WEAK', 'I', 'I', 'I', 'I', 'I', 'I', 'I', 'I', 'SHOULD', 'I', 'I', 'I', 'RI', 'I', 'I', 'I', 'I', 'I', 'I', 'I', 'VERY', 'I', 'I', 'I', 'NOT', 'I', 'I', 'I', 'I', 'I', 'I', 'I', 'I', 'I', 'I', 'I', 'I', 'I', 'I', 'I', 'I', 'I', 'I', 'A', 'I', 'I', 'I', 'I', 'I', 'I']\n",
            "455\n"
          ]
        }
      ],
      "source": [
        "print(all_uppercase_words)\n",
        "print(len(all_uppercase_words))"
      ]
    },
    {
      "cell_type": "markdown",
      "metadata": {
        "id": "GX8eYyDoMZma"
      },
      "source": [
        "*   **Pregunta 4.**  \n",
        "\n",
        "Busca e imprime los comentarios en donde todos los caracteres alfabéticos (letras) están en mayúsculas. \n",
        "\n",
        "Cada coincidencia encontrada debe ser todo el comentario/enunciado.\n",
        "\n",
        "Indica cuántos resultados obtuviste.\n"
      ]
    },
    {
      "cell_type": "code",
      "execution_count": 13,
      "metadata": {
        "id": "K8VuZxvTMYj6"
      },
      "outputs": [],
      "source": [
        "pattern = r'^(?:[^a-z]*)$'\n",
        "# Breakdown:\n",
        "# ^             -> Start of the string\n",
        "# (?:           -> Start of a non-capturing group (grouping without capturing for backreferences)\n",
        "#   [^a-z]*     -> Zero or more characters that are NOT lowercase letters (NOT 'a' to 'z')\n",
        "# )             -> End of non-capturing group\n",
        "# $             -> End of the string\n",
        "# \n",
        "# In simple words: \"The whole string must ONLY contain characters that are NOT lowercase letters.\"\n",
        "# Spaces, digits, punctuation are allowed. Only lowercase letters are forbidden.\n",
        "\n",
        "all_uppercase_lines = []\n",
        "\n",
        "for text in docs:\n",
        "    if re.match(pattern, text):\n",
        "        all_uppercase_lines.append(text)"
      ]
    },
    {
      "cell_type": "code",
      "execution_count": 14,
      "metadata": {
        "id": "PmKgX7sCMcDx"
      },
      "outputs": [
        {
          "name": "stdout",
          "output_type": "stream",
          "text": [
            "['DELICIOUS!!', 'RUDE & INCONSIDERATE MANAGEMENT.', 'WILL NEVER EVER GO BACK AND HAVE TOLD MANY PEOPLE WHAT HAD HAPPENED.', 'TOTAL WASTE OF TIME.', 'AVOID THIS ESTABLISHMENT!']\n",
            "5\n"
          ]
        }
      ],
      "source": [
        "print(all_uppercase_lines)\n",
        "print(len(all_uppercase_lines))"
      ]
    },
    {
      "cell_type": "markdown",
      "metadata": {
        "id": "a1i6qv7-McmU"
      },
      "source": [
        "*   **Pregunta 5.**  \n",
        "\n",
        "Busca e imprime todas las palabras que tengan una vocal acentuada, del tipo á, é, í, ó, ú. \n",
        "\n",
        "Indica cuántos resultados obtuviste."
      ]
    },
    {
      "cell_type": "code",
      "execution_count": 15,
      "metadata": {
        "id": "nZZ5zKUOMeGD"
      },
      "outputs": [],
      "source": [
        "pattern = r'\\b\\w*[áéíóúÁÉÍÓÚ]\\w*\\b'\n",
        "# Breakdown:\n",
        "# \\b             -> Start of a word\n",
        "# \\w*            -> Zero or more word characters before the accented vowel\n",
        "# [áéíóúÁÉÍÓÚ]   -> One accented vowel (either lowercase or uppercase)\n",
        "# \\w*            -> Zero or more word characters after the vowel\n",
        "# \\b             -> End of a word\n",
        "\n",
        "words_with_accents = []\n",
        "\n",
        "for text in docs:\n",
        "    matches = re.findall(pattern, text)  \n",
        "    words_with_accents.extend(matches)   \n",
        "\n"
      ]
    },
    {
      "cell_type": "code",
      "execution_count": 16,
      "metadata": {
        "id": "l1mFvUEZMe8s"
      },
      "outputs": [
        {
          "name": "stdout",
          "output_type": "stream",
          "text": [
            "['fiancé', 'Café', 'puréed']\n",
            "3\n"
          ]
        }
      ],
      "source": [
        "print(words_with_accents)\n",
        "print(len(words_with_accents))"
      ]
    },
    {
      "cell_type": "markdown",
      "metadata": {
        "id": "ZmPiAI82Mfb3"
      },
      "source": [
        "*   **Pregunta 6.**  \n",
        "\n",
        "Busca e imprime todas las cantidades numéricas monetarias, enteras o con decimales, que inician con el símbolo $\\$$. \n",
        "\n",
        "Indica cuántos resultados obtuviste."
      ]
    },
    {
      "cell_type": "code",
      "execution_count": 17,
      "metadata": {
        "id": "6vhe9-Y-MhL9"
      },
      "outputs": [],
      "source": [
        "pattern = r'\\$\\d+(?:\\.\\d{2})?'\n",
        "# Breakdown:\n",
        "# \\$           -> Literal dollar sign\n",
        "# \\d+          -> One or more digits\n",
        "# (?:          -> Start a non-capturing group\n",
        "#    \\.\\d{2}   -> A dot followed by exactly two digits (for decimals like .99)\n",
        "# )?           -> The whole decimal part is optional\n",
        "\n",
        "monetary_values = []\n",
        "\n",
        "for text in docs:\n",
        "    matches = re.findall(pattern, text)  \n",
        "    monetary_values.extend(matches)      "
      ]
    },
    {
      "cell_type": "code",
      "execution_count": 18,
      "metadata": {
        "id": "_t0a5xWDMhQ5"
      },
      "outputs": [
        {
          "name": "stdout",
          "output_type": "stream",
          "text": [
            "['$20', '$4.00', '$17', '$3', '$35', '$7.85', '$12', '$11.99']\n",
            "8\n"
          ]
        }
      ],
      "source": [
        "print(monetary_values)\n",
        "print(len(monetary_values))"
      ]
    },
    {
      "cell_type": "markdown",
      "metadata": {
        "id": "2j-HpvhwMhq2"
      },
      "source": [
        "*   **Pregunta 7.**  \n",
        "\n",
        "Busca e imprime todas las palabras que sean variantes de la palabra \"love\", sin importar si incluyen mayúsculas o minúsculas, o la manera en que esté conjugada o alguna otra variación que se haga con dicha palabra.\n",
        "\n",
        "Indica cuántos resultados obtuviste."
      ]
    },
    {
      "cell_type": "code",
      "execution_count": 19,
      "metadata": {
        "id": "kqqyRChVMjol"
      },
      "outputs": [],
      "source": [
        "pattern = r'\\b[lL]ov(?:e|ed|es|ing|er|ely|ers)?\\b'\n",
        "# Breakdown:\n",
        "# \\b         -> Start of a word\n",
        "# [lL]       -> 'l' or 'L'\n",
        "# ov         -> Literal \"ov\"\n",
        "# (?: ... )? -> Optional endings like e, ed, es, ing, er, ely, ers\n",
        "# \\b         -> End of a word\n",
        "\n",
        "love_variants = []\n",
        "\n",
        "for text in docs:\n",
        "    matches = re.findall(pattern, text, flags=re.IGNORECASE)\n",
        "    love_variants.extend(matches)"
      ]
    },
    {
      "cell_type": "code",
      "execution_count": 20,
      "metadata": {
        "id": "UXd0VQluMj_x"
      },
      "outputs": [
        {
          "name": "stdout",
          "output_type": "stream",
          "text": [
            "['Loved', 'loved', 'Loved', 'love', 'loves', 'LOVED', 'lovers', 'loving', 'love', 'lovers', 'Love', 'loved', 'loved', 'love', 'love', 'love', 'loved', 'love', 'loved', 'Love', 'LOVED', 'love', 'lovely', 'love', 'lovely', 'love', 'lover', 'loved', 'love', 'love', 'love', 'love', 'love', 'love', 'love', 'love']\n",
            "36\n"
          ]
        }
      ],
      "source": [
        "print(love_variants)\n",
        "print(len(love_variants))"
      ]
    },
    {
      "cell_type": "markdown",
      "metadata": {
        "id": "Ctb-NTY3MkYG"
      },
      "source": [
        "*   **Pregunta 8.**  \n",
        "\n",
        "Busca e imprime todas las palabras, variantes de \"so\" y \"good\", que tengan dos o más \"o\" en \"so\" y 3 o más \"o\" en good. \n",
        "\n",
        "Indica cuántas encontraste.\n"
      ]
    },
    {
      "cell_type": "code",
      "execution_count": 21,
      "metadata": {
        "id": "A8Nf3B_cMlqg"
      },
      "outputs": [],
      "source": [
        "pattern = r'\\b[sS][o]{2,}\\b|\\b[gG]o{3,}d+\\b'\n",
        "# Breakdown:\n",
        "# \\b        -> Start of a word\n",
        "# [sS]      -> 's' or 'S'\n",
        "# o{2,}     -> 2 or more 'o's for \"so\" variants\n",
        "# \\b        -> End of the \"so\" word\n",
        "# |         -> OR\n",
        "# \\b        -> Start of a word\n",
        "# [gG]      -> 'g' or 'G'\n",
        "# o{3,}     -> 3 or more 'o's for \"good\" variants\n",
        "# d         -> Literal 'd'\n",
        "# \\b        -> End of the \"good\" word\n",
        "\n",
        "so_good_variants = []\n",
        "\n",
        "for text in docs:\n",
        "    matches = re.findall(pattern, text)\n",
        "    so_good_variants.extend(matches)"
      ]
    },
    {
      "cell_type": "code",
      "execution_count": 22,
      "metadata": {
        "id": "svS4-vvPMl6f"
      },
      "outputs": [
        {
          "name": "stdout",
          "output_type": "stream",
          "text": [
            "['Sooooo', 'soooo', 'gooodd', 'soooooo', 'soooo']\n",
            "5\n"
          ]
        }
      ],
      "source": [
        "print(so_good_variants)\n",
        "print(len(so_good_variants))"
      ]
    },
    {
      "cell_type": "markdown",
      "metadata": {
        "id": "hkak1opjMmlk"
      },
      "source": [
        "*   **Pregunta 9.**  \n",
        "\n",
        "Busca e imprime todas las palabras que tengan una longitud mayor estrictamente a 10 caracteres alfabéticos.\n",
        "\n",
        "No se consideran los signos de puntuación o caracteres especiales en la longitud de estas cadenas, solo caracteres alfabéticos en mayúsculas o minúsculas.\n",
        "\n",
        "Indica la cantidad de palabras encontradas.\n"
      ]
    },
    {
      "cell_type": "code",
      "execution_count": 23,
      "metadata": {
        "id": "PYxdp3uhMoD0"
      },
      "outputs": [],
      "source": [
        "pattern = r'\\b[\\w\\'-]+\\b'\n",
        "# Breakdown:\n",
        "# \\b            -> Word boundary\n",
        "# [\\w'-]+       -> One or more letters, digits, underscores, apostrophes, or hyphens\n",
        "# \\b            -> Word boundary\n",
        "\n",
        "long_words = []\n",
        "\n",
        "for text in docs:\n",
        "    # Find all \"words\"\n",
        "    words = re.findall(pattern, text)\n",
        "    for word in words:\n",
        "        # Remove non-alphabetic characters for counting\n",
        "        cleaned = re.sub(r'[^a-zA-Z]', '', word)\n",
        "        if len(cleaned) > 10:\n",
        "            long_words.append(word)"
      ]
    },
    {
      "cell_type": "code",
      "execution_count": 24,
      "metadata": {
        "id": "BR7e2F4FMof-"
      },
      "outputs": [
        {
          "name": "stdout",
          "output_type": "stream",
          "text": [
            "['recommendation', 'recommended', 'overwhelmed', 'inexpensive', 'establishment', 'imaginative', 'opportunity', 'experiencing', 'underwhelming', 'relationship', 'unsatisfying', 'disappointing', 'outrageously', 'disappointing', 'expectations', 'restaurants', 'suggestions', 'disappointed', 'considering', 'Unfortunately', 'immediately', 'ingredients', 'accommodations', 'maintaining', 'Interesting', 'disrespected', 'accordingly', 'unbelievable', 'cheeseburger', 'descriptions', 'inexpensive', 'disappointed', 'Veggitarian', 'outstanding', 'recommendation', 'disappointed', 'disappointed', 'neighborhood', 'disappointed', 'Service-check', 'corporation', 'considering', 'exceptional', 'shawarrrrrrma', 'disappointed', 'vinaigrette', 'immediately', 'unbelievably', 'replenished', 'disappointed', 'enthusiastic', 'Outstanding', 'comfortable', 'interesting', 'INCONSIDERATE', 'considering', 'transcendant', 'disappointment', 'disappointed', 'disappointed', 'overwhelmed', 'professional', 'been-stepped-in-and-tracked-everywhere', 'Furthermore', 'combination', 'connoisseur', 'profiterole', 'outstanding', 'acknowledged', 'ventilation', 'beautifully', 'establishment', 'extraordinary', 'disappointed', 'cheesecurds', 'disappointed', 'interesting', 'experienced', 'opportunity', 'disgraceful', 'restaurants', 'ESTABLISHMENT', 'recommended', 'disappointed', 'recommended', 'acknowledged', 'presentation', 'Philadelphia', 'disappointed', 'disappointing', 'non-customer', 'grandmother', 'drastically', 'High-quality', 'informative', 'Disappointed', 'constructed', 'comfortable', 'Smashburger', 'cheeseburger', 'neighborhood', 'disappointed', 'hospitality', 'recommending', 'disappointed', 'deliciously', 'compliments', 'recommendation', 'establishment', 'calligraphy', 'traditional', 'combination', \"girlfriend's\", 'Unfortunately', 'Wienerschnitzel', 'golden-crispy', 'unfortunately', 'under-services', 'considering', 'highlighted', 'Mediterranean', 'unprofessional', 'anticipated', 'disappointing', 'unexperienced', 'disrespected', 'professional', 'restaurants', 'Disappointing', 'WAAAAAAyyyyyyyyyy', 'reservation', 'imagination', 'undercooked', 'disappointed', 'disappointment', 'disappointment', 'deuchebaggery', 'disappointed', 'disappointment', 'immediately', 'Unfortunately', 'disapppointment', 'circumstances', 'undercooked', 'caterpillar', 'presentation', 'disappointed', 'underwhelming']\n",
            "148\n"
          ]
        }
      ],
      "source": [
        "print(long_words)\n",
        "print(len(long_words))"
      ]
    },
    {
      "cell_type": "markdown",
      "metadata": {
        "id": "ApjTNzSxMpDc"
      },
      "source": [
        "*   **Pregunta 10.**  \n",
        "\n",
        "Busca e imprime todas las palabras que inician con una letra mayúscula y terminan con una minúscula, pero que además no sea la primera palabra del comentario/string. \n",
        "\n",
        "Indica la cantidad de resultados obtenidos."
      ]
    },
    {
      "cell_type": "code",
      "execution_count": 25,
      "metadata": {
        "id": "Vb0ndRGAMqdL"
      },
      "outputs": [],
      "source": [
        "pattern = r'(?<=\\W)[A-Z][\\w\\'-]*[a-z]\\b'\n",
        "# Breakdown:\n",
        "# (?<=\\W)       -> Ensure non-word character before (not first word)\n",
        "# [A-Z]         -> First letter is uppercase\n",
        "# [\\w'-]*       -> Middle characters (optional): letters, digits, underscore, hyphen, apostrophe\n",
        "# [a-z]         -> Last character must be lowercase\n",
        "# \\b            -> End of word\n",
        "\n",
        "matched_words = []\n",
        "\n",
        "for text in docs:\n",
        "    matches = re.findall(pattern, text)\n",
        "    matched_words.extend(matches)"
      ]
    },
    {
      "cell_type": "code",
      "execution_count": 26,
      "metadata": {
        "id": "dLPTRPnTMqqx"
      },
      "outputs": [
        {
          "name": "stdout",
          "output_type": "stream",
          "text": [
            "['Loved', 'May', 'Rick', 'Steve', 'Cape', 'Cod', 'This', 'Vegas', 'Burrittos', 'Blah', 'The', 'The', 'They', 'This', 'Mexican', 'Took', 'Luke', 'Our', 'Also', 'Overall', 'Poor', 'Hiro', 'On', 'Frozen', 'The', 'Firehouse', 'My', 'Greek', 'Greek', 'They', 'Loved', 'Heart', 'Attack', 'Grill', 'Vegas', 'The', 'The', 'Great', 'Dos', 'Gringos', 'The', 'Jeff', 'Really', 'It', 'Excalibur', 'Very', 'Bad', 'Customer', 'Service', \"I've\", 'Vegas', 'Rice', 'Company', 'Pho', 'In', \"It's\", 'Never', 'Hard', 'Rock', 'Casino', 'On', 'Our', 'The', 'Best', 'Buffet', 'Tigerlilly', 'The', 'Yama', 'At', 'Thai', 'Nice', 'Although', 'Indian', 'Worst', 'The', 'We', 'Host', 'Not', \"I'll\", 'Phenomenal', 'Definitely', \"I'm\", 'Vegas', 'They', 'Delicious', 'Lox', 'Great', 'Subway', 'Subway', 'Vegas', 'He', 'Vegas', 'The', 'The', 'Mandalay', 'Bay', 'Great', 'Voodoo', \"I'd\", 'Unfortunately', 'Their', 'Phoenix', 'This', 'Vegas', 'Lordy', 'Khao', 'Soi', 'Perhaps', \"I'm\", 'The', 'Not', 'The', 'Love', 'Lemon', 'The', 'Also', 'When', \"Joey's\", 'Valley', 'Phoenix', 'Magazine', 'Pho', 'Fridays', \"I've\", 'The', 'If', 'For', 'Tasty', 'Jamaican', 'The', 'Lobster', 'Bisque', 'Bussell', 'Sprouts', 'Risotto', 'Filet', 'It', 'Otto', 'As', 'If', 'Ordered', 'Yeah', \"TV's\", 'If', 'The', \"I'd\", 'Honestly', \"M's\", 'Not', 'Everyone', 'It', 'Also', 'Drinks', 'Seriously', 'Vegas', 'Greek', 'Overall', 'Vegas', 'Good', 'Plus', 'The', 'Thus', 'For', 'Veggitarian', 'Stopped', 'Madison', 'Ironman', \"I've\", 'Jenni', 'Pho', 'Bachi', 'Burger', 'This', 'Pizza', 'Salads', 'They', 'Yelpers', 'The', 'You', 'Bachi', 'Service-check', 'Will', 'As', \"I'd\", 'In', 'English', 'Great', 'By', 'Back', 'And', 'Also', \"I've\", 'They', \"I've\", 'Pizza', 'Hut', 'Both', 'We', 'Seat', 'The', 'Gold', 'Standard', 'Of', 'Thai', 'Tucson', \"I've\", 'Vegas', 'This', 'Chipotle', 'Classy', 'Baseball', 'On', 'Sadly', 'Gordon', \"Ramsey's\", 'Steak', 'Vegas', \"I've\", 'The', 'Outstanding', 'Best', 'Food', \"I'll\", 'Lobster', 'Bisque', 'Vegas', 'The', 'The', 'They', 'Eggplant', 'Green', 'Bean', 'In', 'The', 'Halibut', \"I'm\", 'Vegas', 'If', 'Vegas', 'Vegas', 'Crystals', 'Aria', 'To', 'Ians', 'Overall', 'Bouchon', \"I'm\", 'Great', 'San', 'Francisco', 'Bay', 'Area', 'Buldogis', 'Gourmet', 'Hot', 'Dog', 'Come', 'For', 'Our', 'On', 'Furthermore', \"I'm\", 'Strike', \"I've\", 'Steiners', 'If', 'Anyway', 'Not', 'The', 'The', \"I'll\", \"Carly's\", 'This', 'Love', 'Vegas', 'Very', 'Total', 'Camelback', 'Flower', 'Shop', 'Cartel', 'Coffee', 'Third', 'This', 'Las', 'Vegas', \"I've\", 'This', 'It', 'Worse', 'Bunch', 'Very', 'This', \"Mom's\", \"I'd\", 'Noca', 'Give', 'At', 'Anyway', 'Point', 'Oh', 'Similarly', 'Be', 'The', 'Vegas', 'Sat', 'Sun', 'If', 'Mexican', 'Frenchman', 'Great', 'No', \"I'm\", 'Perfect', 'Vegas', 'However', 'Palm', 'The', 'Are', 'This', 'He', 'The', 'As', \"I'm\", 'If', 'Thai', 'All', \"I'll\", 'My', 'Toast', 'Thai', 'It', 'Phoenix', 'Crema', 'Philadelphia', 'We', 'Good', 'North', 'Scottsdale', 'The', 'Sorry', 'Bloody', 'Mary', 'Despite', 'Pho', 'The', 'Same', 'Caesar', 'After', 'Macarons', 'Our', 'Experience', 'Very', 'Disappointed', 'Big', 'Bay', 'Plater', 'Not', 'Italian', 'That', 'Vegas', 'Baba', 'Ganoush', 'Very', 'The', 'Nobu', 'Smashburger', \"I've\", \"I'm\", 'Panna', 'Cotta', 'Very', 'Prices', 'The', 'Good', 'Hawaiian', 'Breeze', 'Mango', 'Magic', 'Pineapple', 'Delight', \"I've\", 'We', 'Needless', 'Anyways', 'The', 'The', 'Strip', 'Steak', 'Paradise', 'Valley', 'Cibo', 'Service', 'That', 'Thumbs', 'Up', 'Italian', 'Pros', 'Large', 'Nice', 'Great', 'The', 'Elk', 'Filet', 'After', 'Cute', 'The', 'Dylan', 'All', 'One', 'Han', 'Nan', 'Chicken', 'As', 'The', 'Bar', 'Edinburgh', 'Chinese', \"I've\", 'Overall', 'Indian', 'Probably', \"Friend's\", 'Try', 'Chinese', 'When', 'The', 'Level', 'Main', 'When', \"I'm\", \"I'll\", 'Food', 'Prices', 'The', \"I'm\", 'Phoenix', \"It's\", 'Both', 'Hot', 'Sour', 'Egg', 'Flower', 'Soups', 'Stars', 'Sunday', 'Hunan', 'What', 'The', 'Unfortunately', 'Perfect', 'The', \"I'm\", 'The', 'Great', 'Pita', 'Wienerschnitzel', 'Maine', 'Lobster', 'Roll', 'My', 'The', 'Lastly', 'The', 'This', \"I'm\", 'Kabuki', 'Best', 'Maria', \"Caballero's\", 'In', \"I'm\", 'To', 'Bad', 'The', 'Wife', 'Went', \"I've\", 'This', 'Hot', 'Everything', 'They', \"I've\", 'For', 'Strip', 'The', \"I'm\", \"Costco's\", 'All', 'To', 'Place', 'Gyros', 'Japanese', 'Now', 'The', 'Albondigas', 'On', 'After', 'No', 'Mediterranean', 'Chicken', 'Salad', 'Mellow', 'Mushroom', 'Thai', 'Vegas', 'Overall', 'Mmmm', 'Buffet', 'Bellagio', 'And', 'My', 'Also', 'Vegas', 'Very', 'How', 'There', 'What', 'Christmas', 'Eve', 'Needless', 'Every', 'However', 'It', 'The', \"Denny's\", 'If', 'The', 'The', 'The', 'The', 'It', 'Maybe', 'Vegetarian', \"I've\", 'The', 'The', 'Then', 'Insults', 'Taco', 'Unfortunately', 'Your', 'Heimer', 'All', 'Ha', 'Long', 'Bay', 'Subway', 'When', 'Brushfire', 'It', 'Mirage', 'In', 'The', 'Ninja', 'Sushi', 'Then']\n",
            "557\n"
          ]
        }
      ],
      "source": [
        "print(matched_words)\n",
        "print(len(matched_words))"
      ]
    },
    {
      "cell_type": "markdown",
      "metadata": {
        "id": "u7nfm4KhMrNW"
      },
      "source": [
        "*   **Pregunta 11.**  \n",
        "\n",
        "Busca e imprime la secuencia de dos o más palabras que están separadas por un guion, \"-\", sin que tengan espacios en blanco entre ellas.\n",
        "\n",
        "Por ejemplo \"Go-Kart\" sería válido, pero \"Go  -Kart\" o \"Go  -  Kart\" no lo serían. \n",
        "\n",
        "Indica la cantidad de resultados obtenidos."
      ]
    },
    {
      "cell_type": "code",
      "execution_count": 27,
      "metadata": {
        "id": "OwU-a7eGMsub"
      },
      "outputs": [],
      "source": [
        "pattern = r'\\b\\w+(?:-\\w+){1,}\\b'\n",
        "# Breakdown:\n",
        "# \\b              -> Word boundary at the start (ensures clean word start)\n",
        "# \\w+             -> One or more word characters (first word)\n",
        "# (?:             -> Start of a non-capturing group (we don't need to save this group separately)\n",
        "#    -\\w+         -> A dash '-' followed immediately by one or more word characters (next word)\n",
        "# ){1,}           -> Repeat the non-capturing group one or more times (at least two words total)\n",
        "# \\b              -> Word boundary at the end (ensures clean word end)\n",
        "\n",
        "dash_sequences = []\n",
        "\n",
        "for text in docs:\n",
        "    matches = re.findall(pattern, text)\n",
        "    dash_sequences.extend(matches)"
      ]
    },
    {
      "cell_type": "code",
      "execution_count": 28,
      "metadata": {
        "id": "SgzIL74ZMtGw"
      },
      "outputs": [
        {
          "name": "stdout",
          "output_type": "stream",
          "text": [
            "['flat-lined', 'hands-down', 'must-stop', 'sub-par', 'Service-check', 'in-house', 'been-stepped-in-and-tracked-everywhere', 'multi-grain', 'to-go', 'non-customer', 'High-quality', 'sit-down', 'over-whelm', 'low-key', 'non-fancy', 'golden-crispy', 'over-priced', 'over-hip', 'under-services']\n",
            "19\n"
          ]
        }
      ],
      "source": [
        "print(dash_sequences)\n",
        "print(len(dash_sequences))"
      ]
    },
    {
      "cell_type": "markdown",
      "metadata": {
        "id": "DEIgl79HMthr"
      },
      "source": [
        "*   **Pregunta 12.**  \n",
        "\n",
        "Busca e imprime todas las palabras que terminan en \"ing\" o \"ed\". \n",
        "\n",
        "Indica la cantidad de palabras que encontraste de cada una."
      ]
    },
    {
      "cell_type": "code",
      "execution_count": 29,
      "metadata": {
        "id": "I4TSofBMMv9y"
      },
      "outputs": [],
      "source": [
        "pattern = r'\\b\\w+(?:ing|ed)\\b'\n",
        "# Breakdown:\n",
        "# \\b          -> Word boundary at start\n",
        "# \\w+         -> One or more word characters\n",
        "# (?:ing|ed)  -> Must end with 'ing' or 'ed'\n",
        "# \\b          -> Word boundary at end\n",
        "\n",
        "ending_words = []\n",
        "\n",
        "for text in docs:\n",
        "    matches = re.findall(pattern, text)\n",
        "    ending_words.extend(matches)\n",
        "\n",
        "# Count how many end with \"ing\" and \"ed\"\n",
        "counter = {\"ing\": 0, \"ed\": 0}\n",
        "\n",
        "for word in ending_words:\n",
        "    if word.endswith('ing'):\n",
        "        counter[\"ing\"] += 1\n",
        "    elif word.endswith('ed'):\n",
        "        counter[\"ed\"] += 1"
      ]
    },
    {
      "cell_type": "code",
      "execution_count": 30,
      "metadata": {
        "id": "AhGq6De2Mvyh"
      },
      "outputs": [
        {
          "name": "stdout",
          "output_type": "stream",
          "text": [
            "Words found: ['Loved', 'Stopped', 'during', 'loved', 'getting', 'being', 'ended', 'being', 'overpriced', 'tried', 'disgusted', 'shocked', 'recommended', 'amazing', 'performed', 'red', 'asked', 'running', 'overwhelmed', 'redeeming', 'grossed', 'melted', 'getting', 'provided', 'thing', 'cooked', 'dressing', 'refreshing', 'ordered', 'running', 'realized', 'Loved', 'lined', 'cooked', 'ripped', 'ripped', 'petrified', 'amazing', 'included', 'expected', 'nothing', 'appalling', 'seasoned', 'cheated', 'wasting', 'eating', 'going', 'Coming', 'experiencing', 'underwhelming', 'walked', 'smelled', 'eating', 'raving', 'tailored', 'spring', 'unsatisfying', 'amazing', 'Everything', 'disappointing', 'dining', 'flirting', 'arrived', 'roasted', 'added', 'thing', 'coming', 'cooked', 'playing', 'passed', 'ordering', 'arriving', 'liked', 'disappointing', 'managed', 'served', 'preparing', 'loving', 'liking', 'reviewing', 'venturing', 'overpriced', 'including', 'during', 'checked', 'disappointed', 'red', 'decorated', 'changing', 'going', 'considering', 'served', 'coming', 'watched', 'greeted', 'seated', 'waited', 'flavored', 'ordered', 'going', 'everything', 'ordered', 'relocated', 'impressed', 'seated', 'priced', 'looking', 'treated', 'ordered', 'dressing', 'dining', 'used', 'handed', 'listed', 'missed', 'Everything', 'thrilled', 'amazing', 'judging', 'inspired', 'desired', 'maintaining', 'asking', 'overcooked', 'decided', 'looked', 'having', 'dressed', 'treated', 'something', 'lacking', 'ordered', 'sucked', 'expected', 'sucked', 'imagined', 'Interesting', 'served', 'preparing', 'arrived', 'missing', 'feeling', 'satisfied', 'voted', 'insulted', 'disrespected', 'exceeding', 'dreamed', 'inviting', 'lived', 'stepped', 'mixed', 'showed', 'climbing', 'waiting', 'realized', 'coming', 'loved', 'being', 'lacking', 'needed', 'going', 'loved', 'wrapped', 'uninspired', 'amazing', 'dealing', 'annoying', 'Ordered', 'falling', 'uploaded', 'sporting', 'covered', 'supposed', 'amazing', 'rolled', 'stayed', 'providing', 'building', 'lighting', 'Based', 'received', 'going', 'nothing', 'privileged', 'working', 'eating', 'dressing', 'being', 'charged', 'visited', 'proclaimed', 'disappointed', 'Stopped', 'dedicated', 'liked', 'outstanding', 'getting', 'disappointed', 'waited', 'waited', 'burned', 'waited', 'amazing', 'disappointed', 'Waited', 'disappointed', 'pulled', 'prepared', 'rating', 'eating', 'writing', 'everything', 'dining', 'fried', 'boring', 'passed', 'charming', 'ordered', 'toasted', 'untoasted', 'going', 'figured', 'making', 'pricing', 'considering', 'returned', 'amazing', 'eyed', 'disappointed', 'pleased', 'Everything', 'replenished', 'disappointed', 'nothing', 'nothing', 'driving', 'treated', 'during', 'evening', 'offered', 'Outstanding', 'tasted', 'buying', 'handling', 'wasting', 'craving', 'dropped', 'dining', 'decorated', 'interesting', 'amazing', 'being', 'served', 'outshining', 'starving', 'coming', 'walked', 'stuffed', 'considering', 'located', 'shopping', 'nothing', 'Cooked', 'disappointed', 'getting', 'screwed', 'frustrated', 'iced', 'stuffed', 'disappointed', 'trying', 'grossed', 'enjoyed', 'eating', 'going', 'looked', 'overwhelmed', 'stayed', 'everything', 'smeared', 'stepped', 'tracked', 'tried', 'rushed', 'loved', 'Ordered', 'Nothing', 'cooked', 'going', 'insulted', 'contained', 'enjoyed', 'relaxed', 'loved', 'outstanding', 'running', 'acknowledged', 'forgetting', 'upgrading', 'trimmed', 'cooked', 'claimed', 'handled', 'asked', 'eating', 'bring', 'hoping', 'living', 'limited', 'boiled', 'dining', 'liked', 'sliced', 'attached', 'humiliated', 'filling', 'fried', 'amazing', 'impressed', 'disappointed', 'priced', 'Everything', 'disappointed', 'thing', 'amazing', 'need', 'Everything', 'interesting', 'need', 'experienced', 'amazing', 'amazing', 'waited', 'seated', 'waiting', 'going', 'going', 'dining', 'decided', 'pleased', 'saving', 'something', 'trying', 'disgusting', 'hankering', 'recommended', 'being', 'helped', 'witnessed', 'Waited', 'waited', 'waited', 'checked', 'tasted', 'disappointed', 'being', 'served', 'rated', 'recommended', 'pulled', 'waited', 'being', 'acknowledged', 'setting', 'perpared', 'dusted', 'powdered', 'enjoyed', 'expanded', 'sitting', 'ended', 'waiting', 'arrived', 'satisfying', 'wanted', 'disappointed', 'eating', 'need', 'being', 'freaking', 'checked', 'impressed', 'reheated', 'getting', 'amazing', 'tasted', 'disappointing', 'grilled', 'seasoning', 'going', 'focused', 'roasted', 'asked', 'being', 'ignored', 'bring', 'letting', 'tasted', 'evening', 'Ordered', 'greeted', 'seated', 'Tried', 'waiting', 'being', 'seated', 'eating', 'going', 'Disappointed', 'ordered', 'constructed', 'seating', 'fried', 'playing', 'requested', 'amazing', 'staying', 'used', 'tasted', 'giving', 'talking', 'amazing', 'drenched', 'amazing', 'amazing', 'tried', 'walked', 'expected', 'amazing', 'disappointed', 'mortified', 'filling', 'dripping', 'impressed', 'going', 'serving', 'refrained', 'recommending', 'pleased', 'thing', 'reading', 'loved', 'grilled', 'reminded', 'seating', 'sucked', 'hooked', 'ordered', 'going', 'disappointed', 'everything', 'seasoned', 'thing', 'added', 'sitting', 'waiting', 'bring', 'revisiting', 'coming', 'touched', 'anything', 'fried', 'opened', 'impressed', 'feeling', 'during', 'watched', 'thing', 'being', 'Tasted', 'amazing', 'being', 'amazing', 'ordered', 'satifying', 'describing', 'coming', 'everything', 'received', 'Paying', 'going', 'impressed', 'overcooked', 'cooked', 'needed', 'served', 'thing', 'ordered', 'amazing', 'overpriced', 'packed', 'getting', 'opposed', 'cramming', 'priced', 'surprised', 'considering', 'focused', 'overpriced', 'fucking', 'tried', 'enjoyed', 'going', 'qualified', 'tasted', 'hated', 'appealing', 'getting', 'coming', 'watched', 'Everything', 'fried', 'dealing', 'everything', 'tried', 'something', 'during', 'helped', 'dining', 'cooking', 'dining', 'started', 'editing', 'highlighted', 'setting', 'used', 'amazing', 'enjoyed', 'ordered', 'tasted', 'asked', 'refused', 'tried', 'rotating', 'Pricing', 'toasted', 'satisfying', 'anticipated', 'disappointing', 'amazing', 'returning', 'unexperienced', 'running', 'insulted', 'disrespected', 'being', 'impressed', 'thing', 'puréed', 'nothing', 'poisoning', 'thinking', 'something', 'going', 'disgusting', 'caring', 'bring', 'asked', 'Disappointing', 'rated', 'saying', 'going', 'lacked', 'coming', 'sliced', 'pulled', 'building', 'seating', 'undercooked', 'dipping', 'seemed', 'watered', 'lacked', 'disappointed', 'overpriced', 'setting', 'ensued', 'anything', 'drinking', 'serving', 'disappointed', 'placed', 'avoided', 'received', 'wanted', 'doing', 'sucked', 'happened', 'putting', 'owned', 'wanted', 'Overpriced', 'getting', 'vomited', 'looking', 'started', 'coming', 'unwrapped', 'lacked', 'seemed', 'undercooked', 'closed', 'staying', 'refried', 'dried', 'disappointed', 'lacking', 'impressed', 'underwhelming', 'wasted', 'poured', 'drawing', 'bring']\n",
            "Count summary: {'ing': 279, 'ed': 335}\n"
          ]
        }
      ],
      "source": [
        "print(\"Words found:\", ending_words)\n",
        "print(\"Count summary:\", counter)"
      ]
    },
    {
      "cell_type": "markdown",
      "metadata": {
        "id": "70StdqAZa9E9"
      },
      "source": [
        "# **Parte 3. Proceso de limpieza.**"
      ]
    },
    {
      "cell_type": "markdown",
      "metadata": {
        "id": "xaDUFXHrMvX2"
      },
      "source": [
        "*   **Pregunta 13.**  \n",
        "\n",
        "Ahora realiza un proceso de limpieza del corpus que incluya los siguientes procesos:\n",
        "\n",
        "*   Solo se deben considerar caracteres alfabéticos. Es decir, se eliminan todos los signos de puntuación y caracteres especiales.\n",
        "*   Todos los caracteres alfabéticos se transforman a minúsculas.\n",
        "*   Se deben eliminar todos los espacios en blanco adicionales que se puedan encontrar en cada comentario.\n",
        "\n",
        "Al finalizar dicho proceso de limpieza, imprime el resultado de los primeros 10 comentarios resultantes. \n",
        "   \n",
        "\n",
        "\n"
      ]
    },
    {
      "cell_type": "code",
      "execution_count": 41,
      "metadata": {
        "id": "K3kQzPOPMx0w"
      },
      "outputs": [],
      "source": [
        "cleaned_texts = []\n",
        "\n",
        "for text in docs:\n",
        "    # Step 1: Remove all non-alphabetical characters (replace them with a space)\n",
        "    text_alpha_only = re.sub(r\"[^a-zA-Z]\", ' ', text)\n",
        "    # Step 2: Convert to lowercase\n",
        "    text_lower = text_alpha_only.lower()\n",
        "    # Step 3: Remove extra spaces (multiple spaces to single space, and strip leading/trailing spaces)\n",
        "    text_clean = re.sub(r'\\s+', ' ', text_lower).strip()\n",
        "    \n",
        "    # Add to the result list\n",
        "    cleaned_texts.append(text_clean)"
      ]
    },
    {
      "cell_type": "code",
      "execution_count": 42,
      "metadata": {
        "id": "mYEDlHSFMyJN"
      },
      "outputs": [
        {
          "name": "stdout",
          "output_type": "stream",
          "text": [
            "['wow loved this place', 'crust is not good', 'not tasty and the texture was just nasty', 'stopped by during the late may bank holiday off rick steve recommendation and loved it', 'the selection on the menu was great and so were the prices', 'now i am getting angry and i want my damn pho', 'honeslty it didn t taste that fresh', 'the potatoes were like rubber and you could tell they had been made up ahead of time being kept under a warmer', 'the fries were great too', 'a great touch', 'service was very prompt', 'would not go back', 'the cashier had no care what so ever on what i had to say it still ended up being wayyy overpriced', 'i tried the cape cod ravoli chicken with cranberry mmmm', 'i was disgusted because i was pretty sure that was human hair', 'i was shocked because no signs indicate cash only', 'highly recommended', 'waitress was a little slow in service', 'this place is not worth your time let alone vegas', 'did not like at all', 'the burrittos blah', 'the food amazing', 'service is also cute', 'i could care less the interior is just beautiful', 'so they performed', 'that s right the red velvet cake ohhh this stuff is so good', 'they never brought a salad we asked for', 'this hole in the wall has great mexican street tacos and friendly staff', 'took an hour to get our food only tables in restaurant my food was luke warm our sever was running around like he was totally overwhelmed', 'the worst was the salmon sashimi', 'also there are combos like a burger fries and beer for which is a decent deal', 'this was like the final blow', 'i found this place by accident and i could not be happier', 'seems like a good quick place to grab a bite of some familiar pub food but do yourself a favor and look elsewhere', 'overall i like this place a lot', 'the only redeeming quality of the restaurant was that it was very inexpensive', 'ample portions and good prices', 'poor service the waiter made me feel like i was stupid every time he came to the table', 'my first visit to hiro was a delight', 'service sucks', 'the shrimp tender and moist', 'there is not a deal good enough that would drag me into that establishment again', 'hard to judge whether these sides were good because we were grossed out by the melted styrofoam and didn t want to eat it for fear of getting sick', 'on a positive note our server was very attentive and provided great service', 'frozen pucks of disgust with some of the worst people behind the register', 'the only thing i did like was the prime rib and dessert section', 'it s too bad the food is so damn generic', 'the burger is good beef cooked just right', 'if you want a sandwich just go to any firehouse', 'my side greek salad with the greek dressing was so tasty and the pita and hummus was very refreshing', 'we ordered the duck rare and it was pink and tender on the inside with a nice char on the outside', 'he came running after us when he realized my husband had left his sunglasses on the table', 'their chow mein is so good', 'they have horrible attitudes towards customers and talk down to each one when customers don t enjoy their food', 'the portion was huge', 'loved it friendly servers great food wonderful and imaginative menu', 'the heart attack grill in downtown vegas is an absolutely flat lined excuse for a restaurant', 'not much seafood and like strings of pasta at the bottom', 'the salad had just the right amount of sauce to not over power the scallop which was perfectly cooked', 'the ripped banana was not only ripped but petrified and tasteless', 'at least think to refill my water before i struggle to wave you over for minutes', 'this place receives stars for their appetizers', 'the cocktails are all handmade and delicious', 'we d definitely go back here again', 'we are so glad we found this place', 'great food and service huge portions and they give a military discount', 'always a great time at dos gringos', 'update went back for a second time and it was still just as amazing', 'we got the food and apparently they have never heard of salt and the batter on the fish was chewy', 'a great way to finish a great', 'the deal included tastings and drinks and jeff went above and beyond what we expected', 'really really good rice all the time', 'the service was meh', 'it took over min to get their milkshake which was nothing more than chocolate milk', 'i guess i should have known that this place would suck because it is inside of the excalibur but i didn t use my common sense', 'the scallop dish is quite appalling for value as well', 'times very bad customer service', 'the sweet potato fries were very good and seasoned well', 'today is the second time i ve been to their lunch buffet and it was pretty good', 'there is so much good food in vegas that i feel cheated for wasting an eating opportunity by going to rice and company', 'coming here is like experiencing an underwhelming relationship where both parties can t wait for the other person to ask to break up', 'walked in and the place smelled like an old grease trap and only others there eating', 'the turkey and roast beef were bland', 'this place has it', 'the pan cakes everyone are raving about taste like a sugary disaster tailored to the palate of a six year old', 'i love the pho and the spring rolls oh so yummy you have to try', 'the poor batter to meat ratio made the chicken tenders very unsatisfying', 'all i have to say is the food was amazing', 'omelets are to die for', 'everything was fresh and delicious', 'in summary this was a largely disappointing dining experience', 'it s like a really sexy party in your mouth where you re outrageously flirting with the hottest person at the party', 'never been to hard rock casino before will never ever step forward in it again', 'best breakfast buffet', 'say bye bye to your tip lady', 'we ll never go again', 'will be back again', 'food arrived quickly', 'it was not good', 'on the up side their cafe serves really good food', 'our server was fantastic and when he found out the wife loves roasted garlic and bone marrow he added extra to our meal and another marrow to go', 'the only good thing was our waiter he was very helpful and kept the bloddy mary s coming', 'best buffet in town for the price you cannot beat it', 'i loved their mussels cooked in this wine reduction the duck was tender and their potato dishes were delicious', 'this is one of the better buffets that i have been to', 'so we went to tigerlilly and had a fantastic afternoon', 'the food was delicious our bartender was attentive and personable and we got a great deal', 'the ambience is wonderful and there is music playing', 'will go back next trip out', 'sooooo good', 'real sushi lovers let s be honest yama is not that good', 'at least min passed in between us ordering and the food arriving and it wasn t that busy', 'this is a really fantastic thai restaurant which is definitely worth a visit', 'nice spicy and tender', 'good prices', 'check it out', 'it was pretty gross', 'i ve had better atmosphere', 'kind of hard to mess up a steak but they did', 'although i very much liked the look and sound of this place the actual experience was a bit disappointing', 'i just don t know how this place managed to served the blandest food i have ever eaten when they are preparing indian cuisine', 'worst service to boot but that is the least of their worries', 'service was fine and the waitress was friendly', 'the guys all had steaks and our steak loving son who has had steak at the best and worst places said it was the best steak he s ever eaten', 'we thought you d have to venture further away to get good sushi but this place really hit the spot that night', 'host staff were for lack of a better word bitches', 'bland not a liking this place for a number of reasons and i don t want to waste time on bad reviewing i ll leave it at that', 'phenomenal food service and ambiance', 'i wouldn t return', 'definitely worth venturing off the strip for the pork belly will return next time i m in vegas', 'this place is way too overpriced for mediocre food', 'penne vodka excellent', 'they have a good selection of food including a massive meatloaf sandwich a crispy chicken wrap a delish tuna melt and some tasty burgers', 'the management is rude', 'delicious nyc bagels good selections of cream cheese real lox with capers even', 'great subway in fact it s so good when you come here every other subway will not meet your expectations', 'i had a seriously solid breakfast here', 'this is one of the best bars with food in vegas', 'he was extremely rude and really there are so many other restaurants i would love to dine at during a weekend in vegas', 'my drink was never empty and he made some really great menu suggestions', 'don t do it', 'the waiter wasn t helpful or friendly and rarely checked on us', 'my husband and i ate lunch here and were very disappointed with the food and service', 'and the red curry had so much bamboo shoots and wasn t very tasty to me', 'nice blanket of moz over top but i feel like this was done to cover up the subpar food', 'the bathrooms are clean and the place itself is well decorated', 'the menu is always changing food quality is going down service is extremely slow', 'the service was a little slow considering that were served by people servers so the food was coming in a slow pace', 'i give it thumbs down', 'we watched our waiter pay a lot more attention to other tables and ignore us', 'my fianc and i came in the middle of the day and we were greeted and seated right away', 'this is a great restaurant at the mandalay bay', 'we waited for forty five minutes in vain', 'crostini that came with the salad was stale', 'some highlights great quality nigiri here', 'the staff is friendly and the joint is always clean', 'this was a different cut than the piece the other day but still wonderful and tender s well as well flavored', 'i ordered the voodoo pasta and it was the first time i d had really excellent pasta since going gluten free several years ago', 'this place is good', 'unfortunately we must have hit the bakery on leftover day because everything we ordered was stale', 'i came back today since they relocated and still not impressed', 'i was seated immediately', 'their menu is diverse and reasonably priced', 'avoid at all cost', 'restaurant is always full but never a wait', 'delicious', 'this place is hands down one of the best places to eat in the phoenix metro area', 'so don t go there if you are looking for good food', 'i ve never been treated so bad', 'bacon is hella salty', 'we also ordered the spinach and avocado salad the ingredients were sad and the dressing literally had zero taste', 'this really is how vegas fine dining used to be right down to the menus handed to the ladies that have no prices listed', 'the waitresses are very friendly', 'lordy the khao soi is a dish that is not to be missed for curry lovers', 'everything on the menu is terrific and we were also thrilled that they made amazing accommodations for our vegetarian daughter', 'perhaps i caught them on an off night judging by the other reviews but i m not inspired to go back', 'the service here leaves a lot to be desired', 'the atmosphere is modern and hip while maintaining a touch of coziness', 'not a weekly haunt but definitely a place to come back to every once in a while', 'we literally sat there for minutes with no one asking to take our order', 'the burger had absolutely no flavor the meat itself was totally bland the burger was overcooked and there was no charcoal flavor', 'i also decided not to send it back because our waitress looked like she was on the verge of having a heart attack', 'i dressed up to be treated so rudely', 'it was probably dirt', 'love this place hits the spot when i want something healthy but not lacking in quantity or flavor', 'i ordered the lemon raspberry ice cocktail which was also incredible', 'the food sucked which we expected but it sucked more than we could have imagined', 'interesting decor', 'what i really like there is the crepe station', 'also were served hot bread and butter and home made potato chips with bacon bits on top very original and very good', 'you can watch them preparing the delicious food', 'both of the egg rolls were fantastic', 'when my order arrived one of the gyros was missing', 'i had a salad with the wings and some ice cream for dessert and left feeling quite satisfied', 'i m not really sure how joey s was voted best hot dog in the valley by readers of phoenix magazine', 'the best place to go for a tasty bowl of pho', 'the live music on fridays totally blows', 'i ve never been more insulted or felt disrespected', 'very friendly staff', 'it is worth the drive', 'i had heard good things about this place but it exceeding every hope i could have dreamed of', 'food was great and so was the serivce', 'the warm beer didn t help', 'great brunch spot', 'service is friendly and inviting', 'very good lunch spot', 'i ve lived here since and this was the first and last time i ve stepped foot into this place', 'the worst experience ever', 'must have been an off night at this place', 'the sides are delish mixed mushrooms yukon gold puree white corn beateous', 'if that bug never showed up i would have given a for sure but on the other side of the wall where this bug was climbing was the kitchen', 'for about minutes we we re waiting for her salad when we realized that it wasn t coming any time soon', 'my friend loved the salmon tartar', 'won t go back', 'extremely tasty', 'waitress was good though', 'soggy and not good', 'the jamaican mojitos are delicious', 'which are small and not worth the price', 'the food is rich so order accordingly', 'the shower area is outside so you can only rinse not take a full shower unless you don t mind being nude for everyone to see', 'the service was a bit lacking', 'lobster bisque bussell sprouts risotto filet all needed salt and pepper and of course there is none at the tables', 'hopefully this bodes for them going out of business and someone who can cook can come in', 'it was either too cold not enough flavor or just bad', 'i loved the bacon wrapped dates', 'this is an unbelievable bargain', 'the folks at otto always make us feel so welcome and special', 'as for the mains also uninspired', 'this is the place where i first had pho and it was amazing', 'this wonderful experience made this place a must stop whenever we are in town again', 'if the food isn t bad enough for you then enjoy dealing with the world s worst annoying drunk people', 'very very fun chef', 'ordered a double cheeseburger got a single patty that was falling apart picture uploaded yeah still sucks', 'great place to have a couple drinks and watch any and all sporting events as the walls are covered with tv s', 'if it were possible to give them zero stars they d have it', 'the descriptions said yum yum sauce and another said eel sauce yet another said spicy mayo well none of the rolls had sauces on them', 'i d say that would be the hardest decision honestly all of m s dishes taste how they are supposed to taste amazing', 'if she had not rolled the eyes we may have stayed not sure if we will go back and try it again', 'everyone is very attentive providing excellent customer service', 'horrible don t waste your time and money', 'now this dish was quite flavourful', 'by this time our side of the restaurant was almost empty so there was no excuse', 'it wasn t busy either also the building was freezing cold', 'like the other reviewer said you couldn t pay me to eat at this place again', 'drinks took close to minutes to come out at one point', 'seriously flavorful delights folks', 'much better than the other ayce sushi place i went to in vegas', 'the lighting is just dark enough to set the mood', 'based on the sub par service i received and no effort to show their gratitude for my business i won t be going back', 'owner s are really great people', 'there is nothing privileged about working eating there', 'the greek dressing was very creamy and flavorful', 'overall i don t think that i would take my parents to this place again because they made most of the similar complaints that i silently felt too', 'now the pizza itself was good the peanut sauce was very tasty', 'we had at our table and the service was pretty fast', 'fantastic service here', 'i as well would ve given godfathers zero stars if possible', 'they know how to make them here', 'very tough and very short on flavor', 'i hope this place sticks around', 'i have been in more than a few bars in vegas and do not ever recall being charged for tap water', 'the restaurant atmosphere was exquisite', 'good service very clean and inexpensive to boot', 'the seafood was fresh and generous in portion', 'plus it s only bucks', 'the service was not up to par either', 'thus far have only visited twice and the food was absolutely delicious each time', 'just as good as when i had it more than a year ago', 'for a self proclaimed coffee cafe i was wildly disappointed', 'the veggitarian platter is out of this world', 'you cant go wrong with any of the food here', 'you can t beat that', 'stopped by this place while in madison for the ironman very friendly kind staff', 'the chefs were friendly and did a good job', 'i ve had better not only from dedicated boba tea spots but even from jenni pho', 'i liked the patio and the service was outstanding', 'the goat taco didn t skimp on the meat and wow what flavor', 'i think not again', 'i had the mac salad and it was pretty bland so i will not be getting that again', 'i went to bachi burger on a friend s recommendation and was not disappointed', 'service stinks here', 'i waited and waited', 'this place is not quality sushi it is not a quality restaurant', 'i would definitely recommend the wings as well as the pizza', 'great pizza and salads', 'things that went wrong they burned the saganaki', 'we waited an hour for what was a breakfast i could have done times better at home', 'this place is amazing', 'i hate to disagree with my fellow yelpers but my husband and i were so disappointed with this place', 'waited hours never got either of our pizzas as many other around us who came in later did', 'just don t know why they were so slow', 'the staff is great the food is delish and they have an incredible beer selection', 'i live in the neighborhood so i am disappointed i won t be back here because it is a convenient location', 'i didn t know pulled pork could be soooo delicious', 'you get incredibly fresh fish prepared with care', 'before i go in to why i gave a star rating please know that this was my third time eating at bachi burger before writing a review', 'i love the fact that everything on their menu is worth it', 'never again will i be dining at this place', 'the food was excellent and service was very good', 'good beer drink selection and good food selection', 'please stay away from the shrimp stir fried noodles', 'the potato chip order was sad i could probably count how many chips were in that box and it was probably around', 'food was really boring', 'good service check', 'this greedy corporation will never see another dime from me', 'will never ever go back', 'as much as i d like to go back i can t get passed the atrocious service and will never return', 'in the summer you can dine in a charming outdoor patio so very delightful', 'i did not expect this to be so good', 'fantastic food', 'she ordered a toasted english muffin that came out untoasted', 'the food was very good', 'never going back', 'great food for the price which is very high quality and house made', 'the bus boy on the other hand was so rude', 'by this point my friends and i had basically figured out this place was a joke and didn t mind making it publicly and loudly known', 'back to good bbq lighter fare reasonable pricing and tell the public they are back to the old ways', 'and considering the two of us left there very full and happy for about you just can t go wrong', 'all the bread is made in house', 'the only downside is the service', 'also the fries are without a doubt the worst fries i ve ever had', 'service was exceptional and food was a good as all the reviews', 'a couple of months later i returned and had an amazing meal', 'favorite place in town for shawarrrrrrma', 'the black eyed peas and sweet potatoes unreal', 'you won t be disappointed', 'they could serve it with just the vinaigrette and it may make for a better overall dish but it was still very good', 'i go to far too many places and i ve never seen any restaurant that serves a egg breakfast especially for', 'when my mom and i got home she immediately got sick and she only had a few bites of salad', 'the servers are not pleasant to deal with and they don t always honor pizza hut coupons', 'both of them were truly unbelievably good and i am so glad we went back', 'we had fantastic service and were pleased by the atmosphere', 'everything was gross', 'i love this place', 'great service and food', 'first the bathrooms at this location were dirty seat covers were not replenished just plain yucky', 'the burger i got the gold standard a burger and was kind of disappointed', 'omg the food was delicioso', 'there is nothing authentic about this place', 'the spaghetti is nothing special whatsoever', 'of all the dishes the salmon was the best but all were great', 'the vegetables are so fresh and the sauce feels like authentic thai', 'it s worth driving up from tucson', 'the selection was probably the worst i ve seen in vegas there was none', 'pretty good beer selection too', 'this place is like chipotle but better', 'classy warm atmosphere fun and fresh appetizers succulent steaks baseball steak', 'stars for the brick oven bread app', 'i have eaten here multiple times and each time the food was delicious', 'we sat another ten minutes and finally gave up and left', 'he was terrible', 'everyone is treated equally special', 'it shouldn t take min for pancakes and eggs', 'it was delicious', 'on the good side the staff was genuinely pleasant and enthusiastic a real treat', 'sadly gordon ramsey s steak is a place we shall sharply avoid during our next trip to vegas', 'as always the evening was wonderful and the food delicious', 'best fish i ve ever had in my life', 'the bathroom is just next door and very nice', 'the buffet is small and all the food they offered was bland', 'this is an outstanding little restaurant with some of the best food i have ever tasted', 'pretty cool i would say', 'definitely a turn off for me i doubt i ll be back unless someone else is buying', 'server did a great job handling our large rowdy table', 'i find wasting food to be despicable but this just wasn t food', 'my wife had the lobster bisque soup which was lukewarm', 'would come back again if i had a sushi craving while in vegas', 'the staff are great the ambiance is great', 'he deserves stars', 'i left with a stomach ache and felt sick the rest of the day', 'they dropped more than the ball', 'the dining space is tiny but elegantly decorated and comfortable', 'they will customize your order any way you d like my usual is eggplant with green bean stir fry love it', 'and the beans and rice were mediocre at best', 'best tacos in town by far', 'i took back my money and got outta there', 'in an interesting part of town this place is amazing', 'rude inconsiderate management', 'the staff are now not as friendly the wait times for being served are horrible no one even says hi for the first minutes', 'i won t be back', 'they have great dinners', 'the service was outshining i definitely recommend the halibut', 'the food was terrible', 'will never ever go back and have told many people what had happened', 'i don t recommend unless your car breaks down in front of it and you are starving', 'i will come back here every time i m in vegas', 'this place deserves one star and has to do with the food', 'this is a disgrace', 'def coming back to bowl next time', 'if you want healthy authentic or ethic food try this place', 'i will continue to come here on ladies night andddd date night highly recommend this place to anyone who is in the area', 'i have been here several times in the past and the experience has always been great', 'we walked away stuffed and happy about our first vegas buffet experience', 'service was excellent and prices are pretty reasonable considering this is vegas and located inside the crystals shopping mall by aria', 'to summarize the food was incredible nay transcendant but nothing brings me joy quite like the memory of the pneumatic condiment dispenser', 'i m probably one of the few people to ever go to ians and not like it', 'kids pizza is always a hit too with lots of great side dish options for the kiddos', 'service is perfect and the family atmosphere is nice to see', 'cooked to perfection and the service was impeccable', 'this one is simply a disappointment', 'overall i was very disappointed with the quality of food at bouchon', 'i don t have to be an accountant to know i m getting screwed', 'great place to eat reminds me of the little mom and pop shops in the san francisco bay area', 'today was my first taste of a buldogis gourmet hot dog and i have to tell you it was more than i ever thought possible', 'left very frustrated', 'i ll definitely be in soon again', 'food was really good and i got full petty fast', 'service was fantastic', 'total waste of time', 'i don t know what kind it is but they have the best iced tea', 'come hungry leave happy and stuffed', 'for service i give them no stars', 'i can assure you that you won t be disappointed', 'i can take a little bad service but the food sucks', 'gave up trying to eat any of the crust teeth still sore', 'but now i was completely grossed out', 'i really enjoyed eating here', 'first time going but i think i will quickly become a regular', 'our server was very nice and even though he looked a little overwhelmed with all of our needs he stayed professional and friendly until the end', 'from what my dinner companions told me everything was very fresh with nice texture and taste', 'on the ground right next to our table was a large smeared been stepped in and tracked everywhere pile of green bird poop', 'furthermore you can t even find hours of operation on the website', 'we ve tried to like this place but after times i think we re done with them', 'what a mistake that was', 'no complaints', 'this is some seriously good pizza and i m an expert connisseur on the topic', 'waiter was a jerk', 'strike who wants to be rushed', 'these are the nicest restaurant owners i ve ever come across', 'i never come again', 'we loved the biscuits', 'service is quick and friendly', 'ordered an appetizer and took minutes and then the pizza another minutes', 'so absolutley fantastic', 'it was a huge awkward lb piece of cow that was ths gristle and fat', 'definitely will come back here again', 'i like steiners because it s dark and it feels like a bar', 'wow very spicy but delicious', 'if you re not familiar check it out', 'i ll take my business dinner dollars elsewhere', 'i d love to go back', 'anyway this fs restaurant has a wonderful breakfast lunch', 'nothing special', 'each day of the week they have a different deal and it s all so delicious', 'not to mention the combination of pears almonds and bacon is a big winner', 'will not be back', 'sauce was tasteless', 'the food is delicious and just spicy enough so be sure to ask for spicier if you prefer it that way', 'my ribeye steak was cooked perfectly and had great mesquite flavor', 'i don t think we ll be going back anytime soon', 'food was so gooodd', 'i am far from a sushi connoisseur but i can definitely tell the difference between good food and bad food and this was certainly bad food', 'i was so insulted', 'the last times i had lunch here has been bad', 'the chicken wings contained the driest chicken meat i have ever eaten', 'the food was very good and i enjoyed every mouthful an enjoyable relaxed venue for couples small family groups etc', 'nargile i think you are great', 'best tater tots in the southwest', 'we loved the place', 'definitely not worth the i paid', 'the vanilla ice cream was creamy and smooth while the profiterole choux pastry was fresh enough', 'im in az all the time and now have my new spot', 'the manager was the worst', 'the inside is really quite nice and very clean', 'the food was outstanding and the prices were very reasonable', 'i don t think i ll be running back to carly s anytime soon for food', 'this is was due to the fact that it took minutes to be acknowledged then another minutes to get our food and they kept forgetting things', 'love the margaritas too', 'this was my first and only vegas buffet and it did not disappoint', 'very good though', 'the one down note is the ventilation could use some upgrading', 'great pork sandwich', 'don t waste your time here', 'total letdown i would much rather just go to the camelback flower shop and cartel coffee', 'third the cheese on my friend s burger was cold', 'we enjoy their pizza and brunch', 'the steaks are all well trimmed and also perfectly cooked', 'we had a group of when we claimed we would only have and they handled us beautifully', 'i loved it', 'we asked for the bill to leave without eating and they didn t bring that either', 'this place is a jewel in las vegas and exactly what i ve been hoping to find in nearly ten years living here', 'seafood was limited to boiled shrimp and crab legs but the crab legs definitely did not taste fresh', 'the selection of food was not the best', 'delicious and i will absolutely be back', 'this isn t a small family restaurant this is a fine dining establishment', 'they had a toro tartare with a cavier that was extraordinary and i liked the thinly sliced wagyu with white truffle', 'i dont think i will be back for a very long time', 'it was attached to a gas station and that is rarely a good sign', 'how awesome is that', 'i will be back many times soon', 'the menu had so much good stuff on it i could not decide', 'worse of all he humiliated his worker right in front of me bunch of horrible name callings', 'conclusion very filling meals', 'their daily specials are always a hit with my group', 'and then tragedy struck', 'the pancake was also really good and pretty large at that', 'this was my first crawfish experience and it was delicious', 'their monster chicken fried steak and eggs is my all time favorite', 'waitress was sweet and funny', 'i also had to taste my mom s multi grain pumpkin pancakes with pecan butter and they were amazing fluffy and delicious', 'i d rather eat airline food seriously', 'cant say enough good things about this place', 'the ambiance was incredible', 'the waitress and manager are so friendly', 'i would not recommend this place', 'overall i wasn t very impressed with noca', 'my gyro was basically lettuce only', 'terrible service', 'thoroughly disappointed', 'i don t each much pasta but i love the homemade hand made pastas and thin pizzas here', 'give it a try you will be happy you did', 'by far the best cheesecurds we have ever had', 'reasonably priced also', 'everything was perfect the night we were in', 'the food is very good for your typical bar food', 'it was a drive to get there', 'at first glance it is a lovely bakery cafe nice ambiance clean friendly staff', 'anyway i do not think i will go back there', 'point your finger at any item on the menu order it and you won t be disappointed', 'oh this is such a thing of beauty this restaurant', 'if you haven t gone here go now', 'a greasy unhealthy meal', 'first time there and might just be the last', 'those burgers were amazing', 'similarly the delivery man did not say a word of apology when our food was minutes late', 'and it was way to expensive', 'be sure to order dessert even if you need to pack it to go the tiramisu and cannoli are both to die for', 'this was my first time and i can t wait until the next', 'the bartender was also nice', 'everything was good and tasty', 'this place is two thumbs up way up', 'the best place in vegas for breakfast just check out a sat or sun', 'if you love authentic mexican food and want a whole bunch of interesting yet delicious meats to choose from you need to try this place', 'terrible management', 'an excellent new restaurant by an experienced frenchman', 'if there were zero stars i would give it zero stars', 'great steak great sides great wine amazing desserts', 'worst martini ever', 'the steak and the shrimp are in my opinion the best entrees at gc', 'i had the opportunity today to sample your amazing pizzas', 'we waited for thirty minutes to be seated although there were vacant tables and we were the only folks waiting', 'the yellowtail carpaccio was melt in your mouth fresh', 'i won t try going back there even if it s empty', 'no i m going to eat the potato that i found some strangers hair in it', 'just spicy enough perfect actually', 'last night was my second time dining here and i was so happy i decided to go back', 'not even a hello we will be right with you', 'the desserts were a bit strange', 'my boyfriend and i came here for the first time on a recent trip to vegas and could not have been more pleased with the quality of food and service', 'i really do recommend this place you can go wrong with this donut place', 'nice ambiance', 'i would recommend saving room for this', 'i guess maybe we went on an off night but it was disgraceful', 'however my recent experience at this particular location was not so good', 'i know this is not like the other restaurants at all something is very off here', 'avoid this establishment', 'i think this restaurant suffers from not trying hard enough', 'all of the tapas dishes were delicious', 'i heart this place', 'my salad had a bland vinegrette on the baby greens and hearts of palm', 'after two i felt disgusting', 'a good time', 'i believe that this place is a great stop for those with a huge belly and hankering for sushi', 'generous portions and great taste', 'i will never go back to this place and will never ever recommended this place to anyone', 'the servers went back and forth several times not even so much as an are you being helped', 'food was delicious', 'an hour seriously', 'i consider this theft', 'eew this location needs a complete overhaul', 'we recently witnessed her poor quality of management towards other guests as well', 'waited and waited and waited', 'he also came back to check on us regularly excellent service', 'our server was super nice and checked on us many times', 'the pizza tasted old super chewy in not a good way', 'i swung in to give them a try but was deeply disappointed', 'service was good and the company was better', 'the staff are also very friendly and efficient', 'as for the service i m a fan because it s quick and you re being served by some nice folks', 'boy was that sucker dry', 'over rated', 'if you look for authentic thai food go else where', 'their steaks are recommended', 'after i pulled up my car i waited for another minutes before being acknowledged', 'great food and great service in a clean and friendly setting', 'all in all i can assure you i ll be back', 'i hate those things as much as cheap quality black olives', 'my breakfast was perpared great with a beautiful presentation of giant slices of toast lightly dusted with powdered sugar', 'the kids play area is nasty', 'great place fo take out or eat in', 'the waitress was friendly and happy to accomodate for vegan veggie options', 'omg i felt like i had never eaten thai food until this dish', 'it was extremely crumby and pretty tasteless', 'it was a pale color instead of nice and char and has no flavor', 'the croutons also taste homemade which is an extra plus', 'i got home to see the driest damn wings ever', 'it ll be a regular stop on my trips to phoenix', 'i really enjoyed crema caf before they expanded i even told friends they had the best breakfast', 'not good for the money', 'i miss it and wish they had one in philadelphia', 'we got sitting fairly fast but ended up waiting minutes just to place our order another minutes before the food arrived', 'they also have the best cheese crisp in town', 'good value great food great service', 'couldn t ask for a more satisfying meal', 'the food is good', 'it was awesome', 'i just wanted to leave', 'we made the drive all the way from north scottsdale and i was not one bit disappointed', 'i will not be eating there again', 'the owners really really need to quit being soooooo cheap let them wrap my freaking sandwich in two papers not one', 'i checked out this place a couple years ago and was not impressed', 'the chicken i got was definitely reheated and was only ok the wedges were cold and soggy', 'sorry i will not be getting food from here anytime soon', 'an absolute must visit', 'the cow tongue and cheek tacos are amazing', 'my friend did not like his bloody mary', 'despite how hard i rate businesses its actually rare for me to give a star', 'they really want to make your experience a good one', 'i will not return', 'i had the chicken pho and it tasted very bland', 'very disappointing', 'the grilled chicken was so tender and yellow from the saffron seasoning', 'a drive thru means you do not want to wait around for half an hour for your food but somehow when we end up going here they make us wait and wait', 'pretty awesome place', 'ambience is perfect', 'best of luck to the rude and non customer service focused new management', 'any grandmother can make a roasted chicken better than this one', 'i asked multiple times for the wine list and after some time of being ignored i went to the hostess and got one myself', 'the staff is always super friendly and helpful which is especially cool when you bring two small boys and a baby', 'four stars for the food the guy in the blue shirt for his great vibe still letting us in to eat', 'the roast beef sandwich tasted really good', 'same evening him and i are both drastically sick', 'high quality chicken on the chicken caesar salad', 'ordered burger rare came in we ll done', 'we were promptly greeted and seated', 'tried to go here for lunch and it was a madhouse', 'i was proven dead wrong by this sushi bar not only because the quality is great but the service is fast and the food impeccable', 'after waiting an hour and being seated i was not in the greatest of moods', 'this is a good joint', 'the macarons here are insanely good', 'i m not eating here', 'our waiter was very attentive friendly and informative', 'maybe if they weren t cold they would have been somewhat edible', 'this place has a lot of promise but fails to deliver', 'very bad experience', 'what a mistake', 'food was average at best', 'great food', 'we won t be going back anytime soon', 'very very disappointed ordered the big bay plater', 'great place to relax and have an awesome burger and beer', 'it is perfect for a sit down family meal or get together with a few friends', 'not much flavor to them and very poorly constructed', 'the patio seating was very comfortable', 'the fried rice was dry as well', 'hands down my favorite italian restaurant', 'that just screams legit in my book somethat s also pretty rare here in vegas', 'it was just not a fun experience', 'the atmosphere was great with a lovely duo of violinists playing songs we requested', 'i personally love the hummus pita baklava falafels and baba ganoush it s amazing what they do with eggplant', 'very convenient since we were staying at the mgm', 'the owners are super friendly and the staff is courteous', 'both great', 'eclectic selection', 'the sweet potato tots were good but the onion rings were perfection or as close as i have had', 'the staff was very attentive', 'and the chef was generous with his time even came around twice so we can take pictures with him', 'the owner used to work at nobu so this place is really similar for half the price', 'google mediocre and i imagine smashburger will pop up', 'dont go here', 'i promise they won t disappoint', 'as a sushi lover avoid this place by all means', 'what a great double cheeseburger', 'awesome service and food', 'a fantastic neighborhood gem', 'i can t wait to go back', 'the plantains were the worst i ve ever tasted', 'it s a great place and i highly recommend it', 'service was slow and not attentive', 'i gave it stars then and i m giving it stars now', 'your staff spends more time talking to themselves than me', 'dessert panna cotta was amazing', 'very good food great atmosphere', 'damn good steak', 'total brunch fail', 'prices are very reasonable flavors are spot on the sauce is home made and the slaw is not drenched in mayo', 'the decor is nice and the piano music soundtrack is pleasant', 'the steak was amazing rge fillet relleno was the best seafood plate i have ever had', 'good food good service', 'it was absolutely amazing', 'i probably won t be back to be honest', 'will definitely be back', 'the sergeant pepper beef sandwich with auju sauce is an excellent sandwich as well', 'hawaiian breeze mango magic and pineapple delight are the smoothies that i ve tried so far and they re all good', 'went for lunch service was slow', 'we had so much to say about the place before we walked in that he expected it to be amazing but was quickly disappointed', 'i was mortified', 'needless to say we will never be back here again', 'anyways the food was definitely not filling at all and for the price you pay you should expect more', 'the chips that came out were dripping with grease and mostly not edible', 'i wasn t really impressed with strip steak', 'have been going since and every meal has been awesome', 'our server was very nice and attentive as were the other serving staff', 'the cashier was friendly and even brought the food out to me', 'i work in the hospitality industry in paradise valley and have refrained from recommending cibo any longer', 'the atmosphere here is fun', 'would not recommend to others', 'service is quick and even to go orders are just like we like it', 'i mean really how do you get so famous for your fish and chips when it s so terrible', 'that said our mouths and bellies were still quite pleased', 'not my thing', 'thumbs up', 'if you are reading this please don t go there', 'i loved the grilled pizza reminded me of legit italian pizza', 'only pros large seating area nice bar area great simple drink menu the best brick oven pizza with homemade dough', 'they have a really nice atmosphere', 'tonight i had the elk filet special and it sucked', 'after one bite i was hooked', 'we ordered some old classics and some new dishes after going there a few times and were sorely disappointed with everything', 'cute quaint simple honest', 'the chicken was deliciously seasoned and had the perfect fry on the outside and moist chicken on the inside', 'the food was great as always compliments to the chef', 'special thanks to dylan t for the recommendation on what to order all yummy for my tummy', 'awesome selection of beer', 'great food and awesome service', 'one nice thing was that they added gratuity on the bill since our party was larger than or and they didn t expect more tip than that', 'a fly was in my apple juice a fly', 'the han nan chicken was also very tasty', 'as for the service i thought it was good', 'the food was barely lukewarm so it must have been sitting waiting for the server to bring it out to us', 'ryan s bar is definitely one edinburgh establishment i won t be revisiting', 'nicest chinese restaurant i ve been in a while', 'overall i like there food and the service', 'they also now serve indian naan bread with hummus and some spicy pine nut sauce that was out of this world', 'probably never coming back and wouldn t recommend it', 'friend s pasta also bad he barely touched it', 'try them in the airport to experience some tasty food and speedy friendly service', 'i love the decor with the chinese calligraphy wall paper', 'never had anything to complain about here', 'the restaurant is very clean and has a family restaurant feel to it', 'it was way over fried', 'i m not sure how long we stood there but it was long enough for me to begin to feel awkwardly out of place', 'when i opened the sandwich i was impressed but not in a good way', 'will not be back', 'there was a warm feeling with the service and i felt like their guest for a special treat', 'an extensive menu provides lots of options for breakfast', 'i always order from the vegetarian menu during dinner which has a wide array of options to choose from', 'i have watched their prices inflate portions get smaller and management attitudes grow rapidly', 'wonderful lil tapas and the ambience made me feel all warm and fuzzy inside', 'i got to enjoy the seafood salad with a fabulous vinegrette', 'the wontons were thin not thick and chewy almost melt in your mouth', 'level spicy was perfect where spice didn t over whelm the soup', 'we were sat right on time and our server from the get go was fantastic', 'main thing i didn t enjoy is that the crowd is of older crowd around mid s and up', 'when i m on this side of town this will definitely be a spot i ll hit up again', 'i had to wait over minutes to get my drink and longer to get arepas', 'this is a great place to eat', 'the jalapeno bacon is soooo good', 'the service was poor and thats being nice', 'food was good service was good prices were good', 'the place was not clean and the food oh so stale', 'the chicken dishes are ok the beef is like shoe leather', 'but the service was beyond bad', 'i m so happy to be here', 'tasted like dirt', 'one of the few places in phoenix that i would definately go back to again', 'the block was amazing', 'it s close to my house it s low key non fancy affordable prices good food', 'both the hot sour the egg flower soups were absolutely stars', 'my sashimi was poor quality being soggy and tasteless', 'great time family dinner on a sunday night', 'the food is not tasty at all not to say its real traditional hunan style', 'what did bother me was the slow service', 'the flair bartenders are absolutely amazing', 'their frozen margaritas are way too sugary for my taste', 'these were so good we ordered them twice', 'so in a nutshell the restaraunt smells like a combination of a dirty fish market and a sewer', 'my girlfriend s veal was very bad', 'unfortunately it was not good', 'i had a pretty satifying experience', 'join the club and get awesome offers via email', 'perfect for someone me who only likes beer ice cold or in this case even colder', 'bland and flavorless is a good way of describing the barely tepid meat', 'the chains which i m no fan of beat this place easily', 'the nachos are a must have', 'we will not be coming back', 'i don t have very many words to say about this place but it does everything pretty well', 'the staff is super nice and very quick even with the crazy crowds of the downtown juries lawyers and court staff', 'great atmosphere friendly and fast service', 'when i received my pita it was huge it did have a lot of meat in it so thumbs up there', 'once your food arrives it s meh', 'paying for a hot dog and fries that looks like it came out of a kid s meal at the wienerschnitzel is not my idea of a good meal', 'the classic maine lobster roll was fantastic', 'my brother in law who works at the mall ate here same day and guess what he was sick all night too', 'so good i am going to have to review this place twice once hereas a tribute to the place and once as a tribute to an event held here last night', 'the chips and salsa were really good the salsa was very fresh', 'this place is great', 'mediocre food', 'once you get inside you ll be impressed with the place', 'i m super pissd', 'and service was super friendly', 'why are these sad little vegetables so overcooked', 'this place was such a nice surprise', 'they were golden crispy and delicious', 'i had high hopes for this place since the burgers are cooked over a charcoal grill but unfortunately the taste fell flat way flat', 'i could eat their bruschetta all day it is devine', 'not a single employee came out to see if we were ok or even needed a water refill once they finally served us our food', 'lastly the mozzarella sticks they were the best thing we ordered', 'the first time i ever came here i had an amazing experience i still tell people how awesome the duck was', 'the server was very negligent of our needs and made us feel very unwelcome i would not suggest this place', 'the service was terrible though', 'this place is overpriced not consistent with their boba and it really is overpriced', 'it was packed', 'i love this place', 'i can say that the desserts were yummy', 'the food was terrible', 'the seasonal fruit was fresh white peach puree', 'it kept getting worse and worse so now i m officially done', 'this place should honestly be blown up', 'but i definitely would not eat here again', 'do not waste your money here', 'i love that they put their food in nice plastic containers as opposed to cramming it in little paper takeout boxes', 'the cr pe was delicate and thin and moist', 'awful service', 'won t ever go here again', 'food quality has been horrible', 'for that price i can think of a few place i would have much rather gone', 'the service here is fair at best', 'i do love sushi but i found kabuki to be over priced over hip and under services', 'do yourself a favor and stay away from this dish', 'very poor service', 'no one at the table thought the food was above average or worth the wait that we had for it', 'best service and food ever maria our server was so good and friendly she made our day', 'they were excellent', 'i paid the bill but did not tip because i felt the server did a terrible job', 'just had lunch here and had a great experience', 'i have never had such bland food which surprised me considering the article we read focused so much on their spices and flavor', 'food is way overpriced and portions are fucking small', 'i recently tried caballero s and i have been back every week since', 'for bucks a head i really expect better food', 'the food came out at a good pace', 'i ate there twice on my last visit and especially enjoyed the salmon salad', 'i won t be back', 'we could not believe how dirty the oysters were', 'this place deserves no stars', 'i would not recommend this place', 'in fact i m going to round up to stars just because she was so awesome', 'to my disbelief each dish qualified as the worst version of these foods i have ever tasted', 'bad day or not i have a very low tolerance for rude customer service people it is your job to be nice and polite wash dishes otherwise', 'the potatoes were great and so was the biscuit', 'i probably would not go here again', 'so flavorful and has just the perfect amount of heat', 'the price is reasonable and the service is great', 'the wife hated her meal coconut shrimp and our friends really did not enjoy their meals either', 'my fella got the huevos rancheros and they didn t look too appealing', 'went in for happy hour great list of wines', 'some may say this buffet is pricey but i think you get what you pay for and this place you are getting quite a lot', 'i probably won t be coming back here', 'worst food service i ve had in a while', 'this place is pretty good nice little vibe in the restaurant', 'talk about great customer service of course we will be back', 'hot dishes are not hot cold dishes are close to room temp i watched staff prepare food with bare hands no gloves everything is deep fried in oil', 'i love their fries and their beans', 'always a pleasure dealing with him', 'they have a plethora of salads and sandwiches and everything i ve tried gets my seal of approval', 'this place is awesome if you want something light and healthy during the summer', 'for sushi on the strip this is the place to go', 'the service was great even the manager came and helped with our table', 'the feel of the dining room was more college cooking course than high class dining and the service was slow at best', 'i started this review with two stars but i m editing it to give it only one', 'this is the worst sushi i have ever eat besides costco s', 'all in all an excellent restaurant highlighted by great service a unique menu and a beautiful setting', 'my boyfriend and i sat at the bar and had a completely delightful experience', 'weird vibe from owners', 'there was hardly any meat', 'i ve had better bagels from the grocery store', 'go to place for gyros', 'i love the owner chef his one authentic japanese cool dude', 'now the burgers aren t as good the pizza which used to be amazing is doughy and flavorless', 'i found a six inch long piece of wire in my salsa', 'the service was terrible food was mediocre', 'we definately enjoyed ourselves', 'i ordered albondigas soup which was just warm and tasted like tomato soup with frozen meatballs', 'on three different occasions i asked for well done or medium well and all three times i got the bloodiest piece of meat on my plate', 'i had about two bites and refused to eat anymore', 'the service was extremely slow', 'after minutes wait i got a table', 'seriously killer hot chai latte', 'no allergy warnings on the menu and the waitress had absolutely no clue as to which meals did or did not contain peanuts', 'my boyfriend tried the mediterranean chicken salad and fell in love', 'their rotating beers on tap is also a highlight of this place', 'pricing is a bit of a concern at mellow mushroom', 'worst thai ever', 'if you stay in vegas you must get breakfast here at least once', 'i want to first say our server was great and we had perfect service', 'the pizza selections are good', 'i had strawberry tea which was good', 'highly unprofessional and rude to a loyal patron', 'overall a great experience', 'spend your money elsewhere', 'their regular toasted bread was equally satisfying with the occasional pats of butter mmmm', 'the buffet at bellagio was far from what i anticipated', 'and the drinks are weak people', 'my order was not correct', 'also i feel like the chips are bought not made in house', 'after the disappointing dinner we went elsewhere for dessert', 'the chips and sals a here is amazing', 'we won t be returning', 'this is my new fav vegas buffet spot', 'i seriously cannot believe that the owner has so many unexperienced employees that all are running around like chickens with their heads cut off', 'very very sad', 'i felt insulted and disrespected how could you talk and judge another human being like that', 'how can you call yourself a steakhouse if you can t properly cook a steak i don t understand', 'i m not impressed with the concept or the food', 'the only thing i wasn t too crazy about was their guacamole as i don t like it pur ed', 'there is really nothing for me at postinos hope your experience is better', 'i got food poisoning here at the buffet', 'they brought a fresh batch of fries and i was thinking yay something warm but no', 'what should have been a hilarious yummy christmas eve dinner to remember was the biggest fail of the entire trip for us', 'needless to say i won t be going back anytime soon', 'this place is disgusting', 'every time i eat here i see caring teamwork to a professional degree', 'the ri style calamari was a joke', 'however there was so much garlic in the fondue it was barely edible', 'i could barely stomach the meal but didn t complain because it was a business lunch', 'it was so bad i had lost the heart to finish it', 'it also took her forever to bring us the check when we asked for it', 'we aren t ones to make a scene at restaurants but i just don t get it definitely lost the love after this one', 'disappointing experience', 'the food is about on par with denny s which is to say not good at all', 'if you want to wait for mediocre food and downright terrible service then this is the place for you', 'waaaaaayyyyyyyyyy over rated is all i am saying', 'we won t be going back', 'the place was fairly clean but the food simply wasn t worth it', 'this place lacked style', 'the sangria was about half of a glass wine full and was ridiculous', 'don t bother coming here', 'the meat was pretty dry i had the sliced brisket and pulled pork', 'the building itself seems pretty neat the bathroom is pretty trippy but i wouldn t eat here again', 'it was equally awful', 'probably not in a hurry to go back', 'very slow at seating even with reservation', 'not good by any stretch of the imagination', 'the cashew cream sauce was bland and the vegetables were undercooked', 'the chipolte ranch dipping sause was tasteless seemed thin and watered down with no heat', 'it was a bit too sweet not really spicy enough and lacked flavor', 'i was very disappointed', 'this place is horrible and way overpriced', 'maybe it s just their vegetarian fare but i ve been twice and i thought it was average at best', 'it wasn t busy at all and now we know why', 'the tables outside are also dirty a lot of the time and the workers are not always friendly and helpful with the menu', 'the ambiance here did not feel like a buffet setting but more of a douchey indoor garden for tea and biscuits', 'con spotty service', 'the fries were not hot and neither was my burger', 'but then they came back cold', 'then our food came out disappointment ensued', 'the real disappointment was our waiter', 'my husband said she was very rude did not even apologize for the bad food or anything', 'the only reason to eat here would be to fill up before a night of binge drinking just to get some carbs in your stomach', 'insults profound deuchebaggery and had to go outside for a smoke break while serving just to solidify it', 'if someone orders two tacos don t you think it may be part of customer service to ask if it is combo or ala cart', 'she was quite disappointed although some blame needs to be placed at her door', 'after all the rave reviews i couldn t wait to eat here what a disappointment', 'del taco is pretty nasty and should be avoided if possible', 'it s not hard to make a decent hamburger', 'but i don t like it', 'hell no will i go back', 'we ve have gotten a much better service from the pizza place next door than the services we received from this restaurant', 'i don t know what the big deal is about this place but i won t be back ya all', 'i immediately said i wanted to talk to the manager but i did not want to talk to the guy who was doing shots of fireball behind the bar', 'the ambiance isn t much better', 'unfortunately it only set us up for disapppointment with our entrees', 'the food wasn t good', 'your servers suck wait correction our server heimer sucked', 'what happened next was pretty off putting', 'too bad cause i know it s family owned i really wanted to like this place', 'overpriced for what you are getting', 'i vomited in the bathroom mid lunch', 'i kept looking at the time and it had soon become minutes yet still no food', 'i have been to very few places to eat that under no circumstances would i ever return to and this tops the list', 'we started with the tuna sashimi which was brownish in color and obviously wasn t fresh', 'food was below average', 'it sure does beat the nachos at the movies but i would expect a little bit more coming from a restaurant', 'all in all ha long bay was a bit of a flop', 'the problem i have is that they charge for a sandwich that is no bigger than a subway sub which offers better and more amount of vegetables', 'shrimp when i unwrapped it i live only a mile from brushfire it was literally ice cold', 'it lacked flavor seemed undercooked and dry', 'it really is impressive that the place hasn t closed down', 'i would avoid this place if you are staying in the mirage', 'the refried beans that came with my meal were dried out and crusty and the food was bland', 'spend your money and time some place else', 'a lady at the table next to us found a live green caterpillar in her salad', 'the presentation of the food was awful', 'i can t tell you how disappointed i was', 'i think food should have flavor and texture and both were lacking', 'appetite instantly gone', 'overall i was not impressed and would not go back', 'the whole experience was underwhelming and i think we ll just go to ninja sushi next time', 'then as if i hadn t wasted enough of my life there they poured salt in the wound by drawing out the time it took to bring the check']\n"
          ]
        }
      ],
      "source": [
        "print(cleaned_texts)"
      ]
    },
    {
      "cell_type": "markdown",
      "metadata": {
        "id": "WZwEhg2lUSAX"
      },
      "source": [
        "*   **Pregunta 14.**  \n",
        "\n",
        "Con el resultado de la limpieza obtenido en la pregunta anterior, realiza ahora un proceso de tokenización por palabras del corpus. \n",
        "\n",
        "Es decir, al final de este proceso de tokenización, debes tener como resultado una lista de listas, donde cada comentario estará tokenizado por palabras.\n",
        "\n",
        "Al terminar calcula el total de tokens obtenido en todo el corpus. "
      ]
    },
    {
      "cell_type": "code",
      "execution_count": 43,
      "metadata": {
        "id": "kbAL9-v0V-jx"
      },
      "outputs": [
        {
          "name": "stdout",
          "output_type": "stream",
          "text": [
            "[['wow', 'loved', 'this', 'place'], ['crust', 'is', 'not', 'good'], ['not', 'tasty', 'and', 'the', 'texture', 'was', 'just', 'nasty'], ['stopped', 'by', 'during', 'the', 'late', 'may', 'bank', 'holiday', 'off', 'rick', 'steve', 'recommendation', 'and', 'loved', 'it'], ['the', 'selection', 'on', 'the', 'menu', 'was', 'great', 'and', 'so', 'were', 'the', 'prices'], ['now', 'i', 'am', 'getting', 'angry', 'and', 'i', 'want', 'my', 'damn', 'pho'], ['honeslty', 'it', 'didn', 't', 'taste', 'that', 'fresh'], ['the', 'potatoes', 'were', 'like', 'rubber', 'and', 'you', 'could', 'tell', 'they', 'had', 'been', 'made', 'up', 'ahead', 'of', 'time', 'being', 'kept', 'under', 'a', 'warmer'], ['the', 'fries', 'were', 'great', 'too'], ['a', 'great', 'touch']]\n"
          ]
        }
      ],
      "source": [
        "cleaned_texts_tokenized = []\n",
        "len_cleaned_texts_tokenized = []\n",
        "for s in cleaned_texts:\n",
        "    tokenized = s.split()\n",
        "    cleaned_texts_tokenized.append(tokenized)\n",
        "    len_cleaned_texts_tokenized.append(len(tokenized))\n",
        "print(cleaned_texts_tokenized[0:10])"
      ]
    },
    {
      "cell_type": "code",
      "execution_count": null,
      "metadata": {
        "id": "DZs_etmiV-fd"
      },
      "outputs": [
        {
          "name": "stdout",
          "output_type": "stream",
          "text": [
            "Total tokens: 11040\n"
          ]
        }
      ],
      "source": [
        "total_tokens = sum(len_cleaned_texts_tokenized)\n",
        "print(\"Total tokens:\", total_tokens)"
      ]
    },
    {
      "cell_type": "markdown",
      "metadata": {
        "id": "EFeu0OJ7WDPD"
      },
      "source": [
        "*   **Pregunta 15.**  \n",
        "\n",
        "Finalmente, en este ejercicio definiremos nuestro conjunto de palabras \"stopwords\", las cuales deberás eliminar de todo el corpus. \n",
        "\n",
        "Recuerda que ejemplos de stopwords son artículos, adverbios, conectivos, etcétera, que tienen frecuencias de aparición muy altas en cualquier documento, pero que no brindan mucho significado en cuanto al significado de un enunciado.\n",
        "\n",
        "Con base a la lista de stopwords que se te proporciona, realiza un proceso de limpieza eliminando todas estas palabras del corpus obtenido en el ejercicio anterior.\n",
        "\n",
        "Obtener cuántos tokens/palabras quedan finalmente en todo el corpus.\n",
        "\n",
        "Obtener cuántos de estos tokens/palabras son diferentes, es decir, cuántos tokens únicos tendrá lo que llamaremos más adelante nuestro vocabulario."
      ]
    },
    {
      "cell_type": "code",
      "execution_count": 33,
      "metadata": {
        "id": "6FP4FF3KXGxm"
      },
      "outputs": [],
      "source": [
        "# Considera la siguiente lista como tu conjunto de stopwords:\n",
        "mis_stopwords = ['i', 'me', 'my', 'myself', 'we', 'our', 'ours', 'ourselves', 'you', 'your', 'yours', 'he', 'him', 'his', 'himself', 'she', 'her', 'hers', 'herself', 'it', 'its', 'itself', 'they', 'them', 'their', 'theirs', 'themselves', 'what', 'which', 'who', 'whom', 'this', 'that', 'these', 'those', 'am', 'is', 'are', 'was', 'were', 'be', 'been', 'being', 'have', 'has', 'had', 'having', 'do', 'does', 'did', 'doing', 'a', 'an', 'the', 'and', 'but', 'if', 'or', 'because', 'as', 'until', 'while', 'of', 'at', 'by', 'for', 'with', 'about', 'against', 'between', 'into', 'through', 'during', 'before', 'after', 'above', 'below', 'to', 'from', 'up', 'down', 'in', 'out', 'on', 'over', 'under', 'again', 'further', 'then', 'once', 'here', 'there', 'when', 'where', 'why', 'how', 'all', 'any', 'both', 'each', 'few', 'more', 'most', 'other', 'some', 'such', 'only', 'own', 'same', 'so', 'than', 'too', 'very', 's', 't', 'can', 'will', 'just', 'should', 'now', 'll']"
      ]
    },
    {
      "cell_type": "code",
      "execution_count": 46,
      "metadata": {
        "id": "CD8yjyq1ZrwY"
      },
      "outputs": [
        {
          "name": "stdout",
          "output_type": "stream",
          "text": [
            "[['wow', 'loved', 'place'], ['crust', 'not', 'good'], ['not', 'tasty', 'texture', 'nasty'], ['stopped', 'late', 'may', 'bank', 'holiday', 'off', 'rick', 'steve', 'recommendation', 'loved'], ['selection', 'the', 'menu', 'great', 'the', 'prices'], ['getting', 'angry', 'i', 'want', 'damn', 'pho'], ['honeslty', 'didn', 'taste', 'fresh'], ['potatoes', 'like', 'rubber', 'could', 'tell', 'made', 'ahead', 'time', 'kept', 'warmer'], ['fries', 'great'], ['great', 'touch']]\n"
          ]
        }
      ],
      "source": [
        "for l in cleaned_texts_tokenized:\n",
        "    for w in mis_stopwords:\n",
        "        if w in l:\n",
        "            l.remove(w)\n",
        "print(cleaned_texts_tokenized[0:10])"
      ]
    },
    {
      "cell_type": "code",
      "execution_count": null,
      "metadata": {
        "id": "4ZPi5prKZro5"
      },
      "outputs": [
        {
          "name": "stdout",
          "output_type": "stream",
          "text": [
            "6313\n"
          ]
        }
      ],
      "source": [
        "print(sum(len(l) for l in cleaned_texts_tokenized))"
      ]
    },
    {
      "cell_type": "code",
      "execution_count": 48,
      "metadata": {},
      "outputs": [
        {
          "name": "stdout",
          "output_type": "stream",
          "text": [
            "Total unique tokens: 1959\n"
          ]
        }
      ],
      "source": [
        "unique_tokens = set()\n",
        "for l in cleaned_texts_tokenized:\n",
        "    for w in l:\n",
        "        unique_tokens.add(w)\n",
        "print(\"Total unique tokens:\", len(unique_tokens))"
      ]
    },
    {
      "cell_type": "markdown",
      "metadata": {
        "id": "NDbKkuxRbLoX"
      },
      "source": [
        "*   **Comentarios**\n",
        "\n",
        "Incluye finalmente tus comentarios de la actividad."
      ]
    },
    {
      "cell_type": "markdown",
      "metadata": {},
      "source": [
        "El uso de expresiones regulares (regex) en el procesamiento de texto proporciona una herramienta poderosa y flexible para identificar, extraer y limpiar patrones en textos no estructurados.\n",
        "Mediante el diseño cuidadoso de patrones regex, es posible localizar de forma eficiente palabras, frases, números y elementos estructurales dentro de grandes conjuntos de datos, ahorrando tiempo y asegurando consistencia.\n",
        "\n",
        "En este trabajo, utilizamos regex para:\n",
        "\n",
        "Encontrar patrones específicos de palabras (por ejemplo, palabras que terminan en \"ing\" o \"ed\"),\n",
        "\n",
        "Manejar casos especiales (como palabras unidas por guiones),\n",
        "\n",
        "Limpiar las cadenas de texto eliminando caracteres no deseados, preservando la información relevante.\n",
        "\n",
        "Después de limpiar el texto, aplicamos la tokenización, el proceso de dividir el texto en palabras individuales (tokens).\n",
        "La tokenización es un paso esencial en la preparación del texto para tareas de procesamiento de lenguaje natural (NLP), ya que transforma texto libre en datos estructurados que se pueden analizar.\n",
        "Cada oración fue transformada en una lista de palabras, lo que nos permitió contar tokens, medir la longitud de los textos y preparar los datos para análisis posteriores.\n",
        "\n",
        "En resumen, la combinación de regex y tokenización nos proporciona una base sólida para construir flujos de trabajo de análisis de texto más avanzados."
      ]
    },
    {
      "cell_type": "markdown",
      "metadata": {
        "id": "PHaKw_6Ldbaf"
      },
      "source": [
        "## **Fin de la Actividad de la semana 2.**"
      ]
    }
  ],
  "metadata": {
    "colab": {
      "collapsed_sections": [
        "759SG4TyfbUn",
        "Zj-h4drXD-X9",
        "BY6yifxscfrx",
        "k_ewoagic5jc",
        "70StdqAZa9E9"
      ],
      "provenance": []
    },
    "kernelspec": {
      "display_name": "env",
      "language": "python",
      "name": "python3"
    },
    "language_info": {
      "codemirror_mode": {
        "name": "ipython",
        "version": 3
      },
      "file_extension": ".py",
      "mimetype": "text/x-python",
      "name": "python",
      "nbconvert_exporter": "python",
      "pygments_lexer": "ipython3",
      "version": "3.13.2"
    }
  },
  "nbformat": 4,
  "nbformat_minor": 0
}
