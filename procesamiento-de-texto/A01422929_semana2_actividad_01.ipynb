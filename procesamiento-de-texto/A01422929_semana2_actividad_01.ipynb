{
  "cells": [
    {
      "cell_type": "markdown",
      "metadata": {
        "id": "759SG4TyfbUn"
      },
      "source": [
        "# **Maestría en Inteligencia Artificial Aplicada**\n",
        "## **Curso: Procesamiento de Lenguaje Natural (NLP)**\n",
        "### Tecnológico de Monterrey\n",
        "### Prof Luis Eduardo Falcón Morales\n",
        "\n",
        "## **Adtividad de la Semana 02**\n",
        "### **Introducción al procesamiento de texto.**"
      ]
    },
    {
      "cell_type": "markdown",
      "metadata": {
        "id": "6ue1YAKx3XDo"
      },
      "source": [
        "En esta actividad deberás utilizar los datos del siguiente archivo que se encuentra en Canvas:\n",
        "\n",
        "MNA_NLP_semana_02_Actividad_datos.txt\n",
        "\n",
        "El archivo contiene comentarios en inglés sobre servicios de comida de la página de Yelp: https://www.yelp.com/ . \n",
        "\n",
        "Son mil comentarios y forman parte del conjunto de datos que se encuentra en el Machine Learning Repository de la UCI, llamado \"Sentiment Labelled Sentences\": https://archive.ics.uci.edu/ml/datasets/Sentiment+Labelled+Sentences#\n"
      ]
    },
    {
      "cell_type": "markdown",
      "metadata": {
        "id": "Zj-h4drXD-X9"
      },
      "source": [
        "# **Parte 1. Cargamos los datos.**   "
      ]
    },
    {
      "cell_type": "markdown",
      "metadata": {
        "id": "BY6yifxscfrx"
      },
      "source": [
        "Cargar los datos del archivo indicado y obtener una lista de longitud de 1000 strings/comentarios. \n",
        "\n",
        "Por el momento solamente requerimos las bibliotecas de Numpy y re, para el manejo de los arreglos y de las expresiones regulares en Python.\n",
        "\n",
        "En particular, no necesitarás en esta actividad la biblioteca de Pandas.\n",
        "\n",
        "### **NOTA: En esta actividad no debes importar nada más, con estas dos bibliotecas será *suficiente*.**"
      ]
    },
    {
      "cell_type": "code",
      "execution_count": 1,
      "metadata": {
        "id": "OJ26dAfhdFnf"
      },
      "outputs": [],
      "source": [
        "import numpy as np    # importamos Numpy para el manejo de los arreglos.\n",
        "import re             # importamos re para el manejo de las expresiones regulares."
      ]
    },
    {
      "cell_type": "code",
      "execution_count": 2,
      "metadata": {
        "id": "QHUmJyjDdGNP"
      },
      "outputs": [],
      "source": [
        "# Ejecuta las siguientes instrucciones para cargar la información del achivo dado:\n",
        "\n",
        "with open('MNA_NLP_semana_02_Actividad_datos.txt',        # puedes actualizar la ruta a tu archivo, en dado caso.\n",
        "          mode='r',     # abrimos el archivo en modo lectura.\n",
        "          ) as f:\n",
        "    docs = f.readlines()    # separamos cada comentario por líneas\n",
        "\n",
        "f.close()  # ya que tenemos la información en la variable docs, cerramos el archivo"
      ]
    },
    {
      "cell_type": "code",
      "execution_count": 3,
      "metadata": {
        "id": "L6WzrSrodG-Y"
      },
      "outputs": [
        {
          "data": {
            "text/plain": [
              "True"
            ]
          },
          "execution_count": 3,
          "metadata": {},
          "output_type": "execute_result"
        }
      ],
      "source": [
        "type(docs) == list   # Verifica que tu variable \"docs\" es una lista"
      ]
    },
    {
      "cell_type": "code",
      "execution_count": 4,
      "metadata": {
        "id": "QIK1u9WS2FtS"
      },
      "outputs": [
        {
          "data": {
            "text/plain": [
              "True"
            ]
          },
          "execution_count": 4,
          "metadata": {},
          "output_type": "execute_result"
        }
      ],
      "source": [
        "len(docs)==1000  # verifica que la longitud de \"docs\" es de mil comentarios."
      ]
    },
    {
      "cell_type": "code",
      "execution_count": 5,
      "metadata": {
        "id": "9AMLIfQvJqNZ"
      },
      "outputs": [
        {
          "data": {
            "text/plain": [
              "['Wow... Loved this place.\\n',\n",
              " 'Crust is not good.\\n',\n",
              " 'Not tasty and the texture was just nasty.\\n',\n",
              " 'Stopped by during the late May bank holiday off Rick Steve recommendation and loved it.\\n',\n",
              " 'The selection on the menu was great and so were the prices.\\n',\n",
              " 'Now I am getting angry and I want my damn pho.\\n',\n",
              " \"Honeslty it didn't taste THAT fresh.)\\n\",\n",
              " 'The potatoes were like rubber and you could tell they had been made up ahead of time being kept under a warmer.\\n',\n",
              " 'The fries were great too.\\n',\n",
              " 'A great touch.\\n']"
            ]
          },
          "execution_count": 5,
          "metadata": {},
          "output_type": "execute_result"
        }
      ],
      "source": [
        "docs[0:10]     # observa algunos de los primeros comentarios"
      ]
    },
    {
      "cell_type": "markdown",
      "metadata": {
        "id": "k_ewoagic5jc"
      },
      "source": [
        "# **Parte 2: sección de preguntas (regex).**   \n"
      ]
    },
    {
      "cell_type": "markdown",
      "metadata": {
        "id": "X-eMJa3DFCIV"
      },
      "source": [
        "## **Instrucciones:**\n",
        "\n",
        "### **A continuación deberás contestar cada una de las preguntas que te piden usando expresiones regulares (regex).**\n",
        "\n",
        "### **Por el momento no hay restricción en cuanto al número de líneas de código que agregues, pero trata de incluir las mínimas posibles.**"
      ]
    },
    {
      "cell_type": "markdown",
      "metadata": {
        "id": "78nJMemzn5a5"
      },
      "source": [
        "*   **Pregunta 1.** \n",
        "\n",
        "Busca y elimina todos los saltos de línea '\\n' que se encuentran al final de cada comentario. \n",
        "\n",
        "Una vez finalizado, imprime los primeros 10 comentarios del resultado obtenido.\n"
      ]
    },
    {
      "cell_type": "code",
      "execution_count": null,
      "metadata": {
        "id": "PwbYYIuZn8pE"
      },
      "outputs": [],
      "source": [
        "for i in range(len(docs)):\n",
        "    docs[i] = docs[i].replace('\\n', '')"
      ]
    },
    {
      "cell_type": "code",
      "execution_count": null,
      "metadata": {
        "id": "j-0qeh2Jn8l1"
      },
      "outputs": [
        {
          "data": {
            "text/plain": [
              "['Wow... Loved this place.',\n",
              " 'Crust is not good.',\n",
              " 'Not tasty and the texture was just nasty.',\n",
              " 'Stopped by during the late May bank holiday off Rick Steve recommendation and loved it.',\n",
              " 'The selection on the menu was great and so were the prices.',\n",
              " 'Now I am getting angry and I want my damn pho.',\n",
              " \"Honeslty it didn't taste THAT fresh.)\",\n",
              " 'The potatoes were like rubber and you could tell they had been made up ahead of time being kept under a warmer.',\n",
              " 'The fries were great too.',\n",
              " 'A great touch.']"
            ]
          },
          "execution_count": 15,
          "metadata": {},
          "output_type": "execute_result"
        }
      ],
      "source": [
        "docs[0:10]"
      ]
    },
    {
      "cell_type": "code",
      "execution_count": 41,
      "metadata": {},
      "outputs": [
        {
          "data": {
            "text/plain": [
              "['Wow... Loved this place.',\n",
              " 'Crust is not good.',\n",
              " 'Not tasty and the texture was just nasty.',\n",
              " 'Stopped by during the late May bank holiday off Rick Steve recommendation and loved it.',\n",
              " 'The selection on the menu was great and so were the prices.',\n",
              " 'Now I am getting angry and I want my damn pho.',\n",
              " \"Honeslty it didn't taste THAT fresh.)\",\n",
              " 'The potatoes were like rubber and you could tell they had been made up ahead of time being kept under a warmer.',\n",
              " 'The fries were great too.',\n",
              " 'A great touch.',\n",
              " 'Service was very prompt.',\n",
              " 'Would not go back.',\n",
              " 'The cashier had no care what so ever on what I had to say it still ended up being wayyy overpriced.',\n",
              " '\"I tried the Cape Cod ravoli, chicken,with cranberry...mmmm!\"',\n",
              " 'I was disgusted because I was pretty sure that was human hair.',\n",
              " 'I was shocked because no signs indicate cash only.',\n",
              " 'Highly recommended.',\n",
              " 'Waitress was a little slow in service.',\n",
              " '\"This place is not worth your time, let alone Vegas.\"',\n",
              " 'did not like at all.',\n",
              " 'The Burrittos Blah!',\n",
              " '\"The food, amazing.\"',\n",
              " 'Service is also cute.',\n",
              " 'I could care less... The interior is just beautiful.',\n",
              " 'So they performed.',\n",
              " \"That's right....the red velvet cake.....ohhh this stuff is so good.\",\n",
              " '- They never brought a salad we asked for.',\n",
              " '\"This hole in the wall has great Mexican street tacos, and friendly staff.\"',\n",
              " '\"Took an hour to get our food only 4 tables in restaurant my food was Luke warm, Our sever was running around like he was totally overwhelmed.\"',\n",
              " 'The worst was the salmon sashimi.',\n",
              " '\"Also there are combos like a burger, fries, and beer for 23 which is a decent deal.\"',\n",
              " 'This was like the final blow!',\n",
              " 'I found this place by accident and I could not be happier.',\n",
              " '\"seems like a good quick place to grab a bite of some familiar pub food, but do yourself a favor and look elsewhere.\"',\n",
              " '\"Overall, I like this place a lot.\"',\n",
              " 'The only redeeming quality of the restaurant was that it was very inexpensive.',\n",
              " 'Ample portions and good prices.',\n",
              " '\"Poor service, the waiter made me feel like I was stupid every time he came to the table.\"',\n",
              " 'My first visit to Hiro was a delight!',\n",
              " 'Service sucks.',\n",
              " 'The shrimp tender and moist.',\n",
              " 'There is not a deal good enough that would drag me into that establishment again.',\n",
              " \"Hard to judge whether these sides were good because we were grossed out by the melted styrofoam and didn't want to eat it for fear of getting sick.\",\n",
              " '\"On a positive note, our server was very attentive and provided great service.\"',\n",
              " '\"Frozen pucks of disgust, with some of the worst people behind the register.\"',\n",
              " 'The only thing I did like was the prime rib and dessert section.',\n",
              " \"It's too bad the food is so damn generic.\",\n",
              " '\"The burger is good beef, cooked just right.\"',\n",
              " 'If you want a sandwich just go to any Firehouse!!!!!',\n",
              " '\"My side Greek salad with the Greek dressing was so tasty, and the pita and hummus was very refreshing.\"',\n",
              " 'We ordered the duck rare and it was pink and tender on the inside with a nice char on the outside.',\n",
              " 'He came running after us when he realized my husband had left his sunglasses on the table.',\n",
              " 'Their chow mein is so good!',\n",
              " '\"They have horrible attitudes towards customers, and talk down to each one when customers don\\'t enjoy their food.\"',\n",
              " 'The portion was huge!',\n",
              " '\"Loved it...friendly servers, great food, wonderful and imaginative menu.\"',\n",
              " 'The Heart Attack Grill in downtown Vegas is an absolutely flat-lined excuse for a restaurant.',\n",
              " 'Not much seafood and like 5 strings of pasta at the bottom.',\n",
              " '\"The salad had just the right amount of sauce to not over power the scallop, which was perfectly cooked.\"',\n",
              " '\"The ripped banana was not only ripped, but petrified and tasteless.\"',\n",
              " 'At least think to refill my water before I struggle to wave you over for 10 minutes.',\n",
              " 'This place receives stars for their APPETIZERS!!!',\n",
              " 'The cocktails are all handmade and delicious.',\n",
              " \"We'd definitely go back here again.\",\n",
              " 'We are so glad we found this place.',\n",
              " '\"Great food and service, huge portions and they give a military discount.\"',\n",
              " 'Always a great time at Dos Gringos!',\n",
              " 'Update.....went back for a second time and it was still just as amazing',\n",
              " 'We got the food and apparently they have never heard of salt and the batter on the fish was chewy.',\n",
              " 'A great way to finish a great.',\n",
              " '\"The deal included 5 tastings and 2 drinks, and Jeff went above and beyond what we expected.\"',\n",
              " '\"- Really, really good rice, all the time.\"',\n",
              " 'The service was meh.',\n",
              " '\"It took over 30 min to get their milkshake, which was nothing more than chocolate milk.\"',\n",
              " '\"I guess I should have known that this place would suck, because it is inside of the Excalibur, but I didn\\'t use my common sense.\"',\n",
              " 'The scallop dish is quite appalling for value as well.',\n",
              " '2 times - Very Bad Customer Service !',\n",
              " 'The sweet potato fries were very good and seasoned well.',\n",
              " \"Today is the second time I've been to their lunch buffet and it was pretty good.\",\n",
              " 'There is so much good food in Vegas that I feel cheated for wasting an eating opportunity by going to Rice and Company.',\n",
              " \"Coming here is like experiencing an underwhelming relationship where both parties can't wait for the other person to ask to break up.\",\n",
              " 'walked in and the place smelled like an old grease trap and only 2 others there eating.',\n",
              " 'The turkey and roast beef were bland.',\n",
              " 'This place has it!',\n",
              " 'The pan cakes everyone are raving about taste like a sugary disaster tailored to the palate of a six year old.',\n",
              " 'I love the Pho and the spring rolls oh so yummy you have to try.',\n",
              " 'The poor batter to meat ratio made the chicken tenders very unsatisfying.',\n",
              " 'All I have to say is the food was amazing!!!',\n",
              " 'Omelets are to die for!',\n",
              " 'Everything was fresh and delicious!',\n",
              " '\"In summary, this was a largely disappointing dining experience.\"',\n",
              " '\"It\\'s like a really sexy party in your mouth, where you\\'re outrageously flirting with the hottest person at the party.\"',\n",
              " '\"Never been to Hard Rock Casino before, WILL NEVER EVER STEP FORWARD IN IT AGAIN!\"',\n",
              " 'Best breakfast buffet!!!',\n",
              " 'say bye bye to your tip lady!',\n",
              " \"We'll never go again.\",\n",
              " 'Will be back again!',\n",
              " 'Food arrived quickly!',\n",
              " 'It was not good.',\n",
              " '\"On the up side, their cafe serves really good food.\"',\n",
              " '\"Our server was fantastic and when he found out the wife loves roasted garlic and bone marrow, he added extra to our meal and another marrow to go!\"',\n",
              " '\"The only good thing was our waiter, he was very helpful and kept the bloddy mary\\'s coming.\"',\n",
              " '\"Best Buffet in town, for the price you cannot beat it.\"',\n",
              " '\"I LOVED their mussels cooked in this wine reduction, the duck was tender, and their potato dishes were delicious.\"',\n",
              " 'This is one of the better buffets that I have been to.',\n",
              " 'So we went to Tigerlilly and had a fantastic afternoon!',\n",
              " '\"The food was delicious, our bartender was attentive and personable AND we got a great deal!\"',\n",
              " 'The ambience is wonderful and there is music playing.',\n",
              " 'Will go back next trip out.',\n",
              " 'Sooooo good!!',\n",
              " '\"REAL sushi lovers, let\\'s be honest - Yama is not that good.\"',\n",
              " '\"At least 40min passed in between us ordering and the food arriving, and it wasn\\'t that busy.\"',\n",
              " 'This is a really fantastic Thai restaurant which is definitely worth a visit.',\n",
              " '\"Nice, spicy and tender.\"',\n",
              " 'Good prices.',\n",
              " 'Check it out.',\n",
              " 'It was pretty gross!',\n",
              " \"I've had better atmosphere.\",\n",
              " 'Kind of hard to mess up a steak but they did.',\n",
              " '\"Although I very much liked the look and sound of this place, the actual experience was a bit disappointing.\"',\n",
              " \"I just don't know how this place managed to served the blandest food I have ever eaten when they are preparing Indian cuisine.\",\n",
              " '\"Worst service to boot, but that is the least of their worries.\"',\n",
              " 'Service was fine and the waitress was friendly.',\n",
              " '\"The guys all had steaks, and our steak loving son who has had steak at the best and worst places said it was the best steak he\\'s ever eaten.\"',\n",
              " '\"We thought you\\'d have to venture further away to get good sushi, but this place really hit the spot that night.\"',\n",
              " '\"Host staff were, for lack of a better word, BITCHES!\"',\n",
              " \"Bland... Not a liking this place for a number of reasons and I don't want to waste time on bad reviewing.. I'll leave it at that...\",\n",
              " '\"Phenomenal food, service and ambiance.\"',\n",
              " \"I wouldn't return.\",\n",
              " '\"Definitely worth venturing off the strip for the pork belly, will return next time I\\'m in Vegas.\"',\n",
              " 'This place is way too overpriced for mediocre food.',\n",
              " 'Penne vodka excellent!',\n",
              " '\"They have a good selection of food including a massive meatloaf sandwich, a crispy chicken wrap, a delish tuna melt and some tasty burgers.\"',\n",
              " 'The management is rude.',\n",
              " '\"Delicious NYC bagels, good selections of cream cheese, real Lox with capers even.\"',\n",
              " '\"Great Subway, in fact it\\'s so good when you come here every other Subway will not meet your expectations.\"',\n",
              " 'I had a seriously solid breakfast here.',\n",
              " 'This is one of the best bars with food in Vegas.',\n",
              " '\"He was extremely rude and really, there are so many other restaurants I would love to dine at during a weekend in Vegas.\"',\n",
              " 'My drink was never empty and he made some really great menu suggestions.',\n",
              " \"Don't do it!!!!\",\n",
              " \"The waiter wasn't helpful or friendly and rarely checked on us.\",\n",
              " 'My husband and I ate lunch here and were very disappointed with the food and service.',\n",
              " \"And the red curry had so much bamboo shoots and wasn't very tasty to me.\",\n",
              " 'Nice blanket of moz over top but i feel like this was done to cover up the subpar food.',\n",
              " 'The bathrooms are clean and the place itself is well decorated.',\n",
              " '\"The menu is always changing, food quality is going down & service is extremely slow.\"',\n",
              " '\"The service was a little slow , considering that were served by 3 people servers so the food was coming in a slow pace.\"',\n",
              " 'I give it 2 thumbs down',\n",
              " 'We watched our waiter pay a lot more attention to other tables and ignore us.',\n",
              " 'My fiancé and I came in the middle of the day and we were greeted and seated right away.',\n",
              " 'This is a great restaurant at the Mandalay Bay.',\n",
              " 'We waited for forty five minutes in vain.',\n",
              " 'Crostini that came with the salad was stale.',\n",
              " 'Some highlights : Great quality nigiri here!',\n",
              " 'the staff is friendly and the joint is always clean.',\n",
              " 'this was a different cut than the piece the other day but still wonderful and tender s well as well flavored.',\n",
              " \"I ordered the Voodoo pasta and it was the first time I'd had really excellent pasta since going gluten free several years ago.\",\n",
              " 'this place is good.',\n",
              " '\"Unfortunately, we must have hit the bakery on leftover day because everything we ordered was STALE.\"',\n",
              " 'I came back today since they relocated and still not impressed.',\n",
              " 'I was seated immediately.',\n",
              " '\"Their menu is diverse, and reasonably priced.\"',\n",
              " 'Avoid at all cost!',\n",
              " 'Restaurant is always full but never a wait.',\n",
              " 'DELICIOUS!!',\n",
              " 'This place is hands-down one of the best places to eat in the Phoenix metro area.',\n",
              " \"So don't go there if you are looking for good food...\",\n",
              " \"I've never been treated so bad.\",\n",
              " 'Bacon is hella salty.',\n",
              " 'We also ordered the spinach and avocado salad; the ingredients were sad and the dressing literally had zero taste.',\n",
              " '\"This really is how Vegas fine dining used to be, right down to the menus handed to the ladies that have no prices listed.\"',\n",
              " 'The waitresses are very friendly.',\n",
              " '\"Lordy, the Khao Soi is a dish that is not to be missed for curry lovers!\"',\n",
              " 'Everything on the menu is terrific and we were also thrilled that they made amazing accommodations for our vegetarian daughter.',\n",
              " '\"Perhaps I caught them on an off night judging by the other reviews, but I\\'m not inspired to go back.\"',\n",
              " 'The service here leaves a lot to be desired.',\n",
              " '\"The atmosphere is modern and hip, while maintaining a touch of coziness.\"',\n",
              " '\"Not a weekly haunt, but definitely a place to come back to every once in a while.\"',\n",
              " 'We literally sat there for 20 minutes with no one asking to take our order.',\n",
              " '\"The burger had absolutely no flavor - the meat itself was totally bland, the burger was overcooked and there was no charcoal flavor.\"',\n",
              " 'I also decided not to send it back because our waitress looked like she was on the verge of having a heart attack.',\n",
              " 'I dressed up to be treated so rudely!',\n",
              " 'It was probably dirt.',\n",
              " '\"Love this place, hits the spot when I want something healthy but not lacking in quantity or flavor.\"',\n",
              " 'I ordered the Lemon raspberry ice cocktail which was also incredible.',\n",
              " '\"The food sucked, which we expected but it sucked more than we could have imagined.\"',\n",
              " 'Interesting decor.',\n",
              " 'What I really like there is the crepe station.',\n",
              " '\"Also were served hot bread and butter, and home made potato chips with bacon bits on top....very original and very good.\"',\n",
              " 'you can watch them preparing the delicious food!)',\n",
              " 'Both of the egg rolls were fantastic.',\n",
              " '\"When my order arrived, one of the gyros was missing.\"',\n",
              " '\"I had a salad with the wings, and some ice cream for dessert and left feeling quite satisfied.\"',\n",
              " \"I'm not really sure how Joey's was voted best hot dog in the Valley by readers of Phoenix Magazine.\",\n",
              " 'The best place to go for a tasty bowl of Pho!',\n",
              " 'The live music on Fridays totally blows.',\n",
              " \"I've never been more insulted or felt disrespected.\",\n",
              " 'Very friendly staff.',\n",
              " 'It is worth the drive.',\n",
              " '\"I had heard good things about this place, but it exceeding every hope I could have dreamed of.\"',\n",
              " 'Food was great and so was the serivce!',\n",
              " \"The warm beer didn't help.\",\n",
              " 'Great brunch spot.',\n",
              " 'Service is friendly and inviting.',\n",
              " 'Very good lunch spot.',\n",
              " \"I've lived here since 1979 and this was the first (and last) time I've stepped foot into this place.\",\n",
              " 'The WORST EXPERIENCE EVER.',\n",
              " 'Must have been an off night at this place.',\n",
              " '\"The sides are delish - mixed mushrooms, yukon gold puree, white corn - beateous.\"',\n",
              " '\"If that bug never showed up I would have given a 4 for sure, but on the other side of the wall where this bug was climbing was the kitchen.\"',\n",
              " '\"For about 10 minutes, we we\\'re waiting for her salad when we realized that it wasn\\'t coming any time soon.\"',\n",
              " 'My friend loved the salmon tartar.',\n",
              " \"Won't go back.\",\n",
              " 'Extremely Tasty!',\n",
              " 'Waitress was good though!',\n",
              " 'Soggy and not good.',\n",
              " 'The Jamaican mojitos are delicious.',\n",
              " 'Which are small and not worth the price.',\n",
              " '- the food is rich so order accordingly.',\n",
              " '\"The shower area is outside so you can only rinse, not take a full shower, unless you don\\'t mind being nude for everyone to see!\"',\n",
              " 'The service was a bit lacking.',\n",
              " '\"Lobster Bisque, Bussell Sprouts, Risotto, Filet ALL needed salt and pepper..and of course there is none at the tables.\"',\n",
              " 'Hopefully this bodes for them going out of business and someone who can cook can come in.',\n",
              " '\"It was either too cold, not enough flavor or just bad.\"',\n",
              " 'I loved the bacon wrapped dates.',\n",
              " 'This is an unbelievable BARGAIN!',\n",
              " 'The folks at Otto always make us feel so welcome and special.',\n",
              " '\"As for the \"\"mains,\"\" also uninspired.\"',\n",
              " 'This is the place where I first had pho and it was amazing!!',\n",
              " 'This wonderful experience made this place a must-stop whenever we are in town again.',\n",
              " '\"If the food isn\\'t bad enough for you, then enjoy dealing with the world\\'s worst/annoying drunk people.\"',\n",
              " 'Very very fun chef.',\n",
              " '\"Ordered a double cheeseburger & got a single patty that was falling apart (picture uploaded) Yeah, still sucks.\"',\n",
              " \"Great place to have a couple drinks and watch any and all sporting events as the walls are covered with TV's.\",\n",
              " '\"If it were possible to give them zero stars, they\\'d have it.\"',\n",
              " '\"The descriptions said \"\"yum yum sauce\"\" and another said \"\"eel sauce\"\", yet another said \"\"spicy mayo\"\"...well NONE of the rolls had sauces on them.\"',\n",
              " '\"I\\'d say that would be the hardest decision... Honestly, all of M\\'s dishes taste how they are supposed to taste (amazing).\"',\n",
              " 'If she had not rolled the eyes we may have stayed... Not sure if we will go back and try it again.',\n",
              " '\"Everyone is very attentive, providing excellent customer service.\"',\n",
              " \"Horrible - don't waste your time and money.\",\n",
              " 'Now this dish was quite flavourful.',\n",
              " 'By this time our side of the restaurant was almost empty so there was no excuse.',\n",
              " '\"(It wasn\\'t busy either) Also, the building was FREEZING cold.\"',\n",
              " '\"like the other reviewer said \"\"you couldn\\'t pay me to eat at this place again.\"\"\"',\n",
              " '-Drinks took close to 30 minutes to come out at one point.',\n",
              " '\"Seriously flavorful delights, folks.\"',\n",
              " 'Much better than the other AYCE sushi place I went to in Vegas.',\n",
              " 'The lighting is just dark enough to set the mood.',\n",
              " \"Based on the sub-par service I received and no effort to show their gratitude for my business I won't be going back.\",\n",
              " \"Owner's are really great people.!\",\n",
              " 'There is nothing privileged about working/eating there.',\n",
              " 'The Greek dressing was very creamy and flavorful.',\n",
              " '\"Overall, I don\\'t think that I would take my parents to this place again because they made most of the similar complaints that I silently felt too.\"',\n",
              " 'Now the pizza itself was good the peanut sauce was very tasty.',\n",
              " 'We had 7 at our table and the service was pretty fast.',\n",
              " 'Fantastic service here.',\n",
              " \"I as well would've given godfathers zero stars if possible.\",\n",
              " 'They know how to make them here.',\n",
              " 'very tough and very short on flavor!',\n",
              " 'I hope this place sticks around.',\n",
              " '\"I have been in more than a few bars in Vegas, and do not ever recall being charged for tap water.\"',\n",
              " 'The restaurant atmosphere was exquisite.',\n",
              " '\"Good service, very clean, and inexpensive, to boot!\"',\n",
              " 'The seafood was fresh and generous in portion.',\n",
              " '\"Plus, it\\'s only 8 bucks.\"',\n",
              " '\"The service was not up to par, either.\"',\n",
              " '\"Thus far, have only visited twice and the food was absolutely delicious each time.\"',\n",
              " 'Just as good as when I had it more than a year ago!',\n",
              " '\"For a self proclaimed coffee cafe, I was wildly disappointed.\"',\n",
              " 'The Veggitarian platter is out of this world!',\n",
              " 'You cant go wrong with any of the food here.',\n",
              " \"You can't beat that.\",\n",
              " '\"Stopped by this place while in Madison for the Ironman, very friendly, kind staff.\"',\n",
              " 'The chefs were friendly and did a good job.',\n",
              " '\"I\\'ve had better, not only from dedicated boba tea spots, but even from Jenni Pho.\"',\n",
              " 'I liked the patio and the service was outstanding.',\n",
              " \"The goat taco didn't skimp on the meat and wow what FLAVOR!\",\n",
              " 'I think not again',\n",
              " 'I had the mac salad and it was pretty bland so I will not be getting that again.',\n",
              " \"I went to Bachi Burger on a friend's recommendation and was not disappointed.\",\n",
              " 'Service stinks here!',\n",
              " 'I waited and waited.',\n",
              " '\"This place is not quality sushi, it is not a quality restaurant.\"',\n",
              " 'I would definitely recommend the wings as well as the pizza.',\n",
              " 'Great Pizza and Salads!',\n",
              " 'Things that went wrong: - They burned the saganaki.',\n",
              " 'We waited an hour for what was a breakfast I could have done 100 times better at home.',\n",
              " 'This place is amazing!',\n",
              " '\"I hate to disagree with my fellow Yelpers, but my husband and I were so disappointed with this place.\"',\n",
              " 'Waited 2 hours & never got either of our pizzas as many other around us who came in later did!',\n",
              " \"Just don't know why they were so slow.\",\n",
              " '\"The staff is great, the food is delish, and they have an incredible beer selection.\"',\n",
              " '\"I live in the neighborhood so I am disappointed I won\\'t be back here, because it is a convenient location.\"',\n",
              " \"I didn't know pulled pork could be soooo delicious.\",\n",
              " '\"You get incredibly fresh fish, prepared with care.\"',\n",
              " 'Before I go in to why I gave a 1 star rating please know that this was my third time eating at Bachi burger before writing a review.',\n",
              " 'I love the fact that everything on their menu is worth it.',\n",
              " 'Never again will I be dining at this place!',\n",
              " 'The food was excellent and service was very good.',\n",
              " 'Good beer & drink selection and good food selection.',\n",
              " 'Please stay away from the shrimp stir fried noodles.',\n",
              " 'The potato chip order was sad... I could probably count how many chips were in that box and it was probably around 12.',\n",
              " 'Food was really boring.',\n",
              " 'Good Service-check!',\n",
              " 'This greedy corporation will NEVER see another dime from me!',\n",
              " '\"Will never, ever go back.\"',\n",
              " '\"As much as I\\'d like to go back, I can\\'t get passed the atrocious service and will never return.\"',\n",
              " '\"In the summer, you can dine in a charming outdoor patio - so very delightful.\"',\n",
              " 'I did not expect this to be so good!',\n",
              " 'Fantastic food!',\n",
              " 'She ordered a toasted English muffin that came out untoasted.',\n",
              " 'The food was very good.',\n",
              " 'Never going back.',\n",
              " '\"Great food for the price, which is very high quality and house made.\"',\n",
              " 'The bus boy on the other hand was so rude.',\n",
              " '\"By this point, my friends and I had basically figured out this place was a joke and didn\\'t mind making it publicly and loudly known.\"',\n",
              " '\"Back to good BBQ, lighter fare, reasonable pricing and tell the public they are back to the old ways.\"',\n",
              " '\"And considering the two of us left there very full and happy for about $20, you just can\\'t go wrong.\"',\n",
              " 'All the bread is made in-house!',\n",
              " 'The only downside is the service.',\n",
              " '\"Also, the fries are without a doubt the worst fries I\\'ve ever had.\"',\n",
              " 'Service was exceptional and food was a good as all the reviews.',\n",
              " '\"A couple of months later, I returned and had an amazing meal.\"',\n",
              " 'Favorite place in town for shawarrrrrrma!!!!!!',\n",
              " 'The black eyed peas and sweet potatoes... UNREAL!',\n",
              " \"You won't be disappointed.\",\n",
              " '\"They could serve it with just the vinaigrette and it may make for a better overall dish, but it was still very good.\"',\n",
              " '\"I go to far too many places and I\\'ve never seen any restaurant that serves a 1 egg breakfast, especially for $4.00.\"',\n",
              " 'When my mom and I got home she immediately got sick and she only had a few bites of salad.',\n",
              " \"The servers are not pleasant to deal with and they don't always honor Pizza Hut coupons.\",\n",
              " '\"Both of them were truly unbelievably good, and I am so glad we went back.\"',\n",
              " '\"We had fantastic service, and were pleased by the atmosphere.\"',\n",
              " 'Everything was gross.',\n",
              " 'I love this place.',\n",
              " 'Great service and food.',\n",
              " 'First - the bathrooms at this location were dirty- Seat covers were not replenished & just plain yucky!!!',\n",
              " '\"The burger... I got the \"\"Gold Standard\"\" a $17 burger and was kind of disappointed.\"',\n",
              " '\"OMG, the food was delicioso!\"',\n",
              " 'There is nothing authentic about this place.',\n",
              " 'the spaghetti is nothing special whatsoever.',\n",
              " '\"Of all the dishes, the salmon was the best, but all were great.\"',\n",
              " 'The vegetables are so fresh and the sauce feels like authentic Thai.',\n",
              " \"It's worth driving up from Tucson!\",\n",
              " \"The selection was probably the worst I've seen in Vegas.....there was none.\",\n",
              " 'Pretty good beer selection too.',\n",
              " '\"This place is like Chipotle, but BETTER.\"',\n",
              " '\"Classy/warm atmosphere, fun and fresh appetizers, succulent steaks (Baseball steak!!!!!\"',\n",
              " '5 stars for the brick oven bread app!',\n",
              " '\"I have eaten here multiple times, and each time the food was delicious.\"',\n",
              " 'We sat another ten minutes and finally gave up and left.',\n",
              " 'He was terrible!',\n",
              " 'Everyone is treated equally special.',\n",
              " \"It shouldn't take 30 min for pancakes and eggs.\",\n",
              " 'It was delicious!!!',\n",
              " '\"On the good side, the staff was genuinely pleasant and enthusiastic - a real treat.\"',\n",
              " '\"Sadly, Gordon Ramsey\\'s Steak is a place we shall sharply avoid during our next trip to Vegas.\"',\n",
              " 'As always the evening was wonderful and the food delicious!',\n",
              " \"Best fish I've ever had in my life!\",\n",
              " '(The bathroom is just next door and very nice.)',\n",
              " 'The buffet is small and all the food they offered was BLAND.',\n",
              " 'This is an Outstanding little restaurant with some of the Best Food I have ever tasted.',\n",
              " 'Pretty cool I would say.',\n",
              " \"Definitely a turn off for me & i doubt I'll be back unless someone else is buying.\",\n",
              " 'Server did a great job handling our large rowdy table.',\n",
              " '\"I find wasting food to be despicable, but this just wasn\\'t food.\"',\n",
              " 'My wife had the Lobster Bisque soup which was lukewarm.',\n",
              " 'Would come back again if I had a sushi craving while in Vegas.',\n",
              " '\"The staff are great, the ambiance is great.\"',\n",
              " 'He deserves 5 stars.',\n",
              " 'I left with a stomach ache and felt sick the rest of the day.',\n",
              " 'They dropped more than the ball.',\n",
              " '\"The dining space is tiny, but elegantly decorated and comfortable.\"',\n",
              " '\"They will customize your order any way you\\'d like, my usual is Eggplant with Green Bean stir fry, love it!\"',\n",
              " 'And the beans and rice were mediocre at best.',\n",
              " 'Best tacos in town by far!!',\n",
              " 'I took back my money and got outta there.',\n",
              " '\"In an interesting part of town, this place is amazing.\"',\n",
              " 'RUDE & INCONSIDERATE MANAGEMENT.',\n",
              " '\"The staff are now not as friendly, the wait times for being served are horrible, no one even says hi for the first 10 minutes.\"',\n",
              " \"I won't be back.\",\n",
              " 'They have great dinners.',\n",
              " 'The service was outshining & I definitely recommend the Halibut.',\n",
              " 'The food was terrible.',\n",
              " 'WILL NEVER EVER GO BACK AND HAVE TOLD MANY PEOPLE WHAT HAD HAPPENED.',\n",
              " \"I don't recommend unless your car breaks down in front of it and you are starving.\",\n",
              " \"I will come back here every time I'm in Vegas.\",\n",
              " 'This place deserves one star and 90% has to do with the food.',\n",
              " 'This is a disgrace.',\n",
              " 'Def coming back to bowl next time',\n",
              " '\"If you want healthy authentic or ethic food, try this place.\"',\n",
              " 'I will continue to come here on ladies night andddd date night ... highly recommend this place to anyone who is in the area (;',\n",
              " '\"I have been here several times in the past, and the experience has always been great.\"',\n",
              " 'We walked away stuffed and happy about our first Vegas buffet experience.',\n",
              " 'Service was excellent and prices are pretty reasonable considering this is Vegas and located inside the Crystals shopping mall by Aria.',\n",
              " '\"To summarize... the food was incredible, nay, transcendant... but nothing brings me joy quite like the memory of the pneumatic condiment dispenser.\"',\n",
              " \"I'm probably one of the few people to ever go to Ians and not like it.\",\n",
              " 'Kids pizza is always a hit too with lots of great side dish options for the kiddos!',\n",
              " 'Service is perfect and the family atmosphere is nice to see.',\n",
              " 'Cooked to perfection and the service was impeccable.',\n",
              " 'This one is simply a disappointment.',\n",
              " '\"Overall, I was very disappointed with the quality of food at Bouchon.\"',\n",
              " \"I don't have to be an accountant to know I'm getting screwed!\",\n",
              " '\"Great place to eat, reminds me of the little mom and pop shops in the San Francisco Bay Area.\"',\n",
              " 'Today was my first taste of a Buldogis Gourmet Hot Dog and I have to tell you it was more than I ever thought possible.',\n",
              " 'Left very frustrated.',\n",
              " \"I'll definitely be in soon again.\",\n",
              " 'Food was really good and I got full petty fast.',\n",
              " 'Service was fantastic.',\n",
              " 'TOTAL WASTE OF TIME.',\n",
              " \"I don't know what kind it is but they have the best iced tea.\",\n",
              " '\"Come hungry, leave happy and stuffed!\"',\n",
              " '\"For service, I give them no stars.\"',\n",
              " \"I can assure you that you won't be disappointed.\",\n",
              " 'I can take a little bad service but the food sucks.',\n",
              " 'Gave up trying to eat any of the crust (teeth still sore).',\n",
              " 'But now I was completely grossed out.',\n",
              " 'I really enjoyed eating here.',\n",
              " 'First time going but I think I will quickly become a regular.',\n",
              " '\"Our server was very nice, and even though he looked a little overwhelmed with all of our needs, he stayed professional and friendly until the end.\"',\n",
              " 'From what my dinner companions told me...everything was very fresh with nice texture and taste.',\n",
              " '\"On the ground, right next to our table was a large, smeared, been-stepped-in-and-tracked-everywhere pile of green bird poop.\"',\n",
              " '\"Furthermore, you can\\'t even find hours of operation on the website!\"',\n",
              " \"We've tried to like this place but after 10+ times I think we're done with them.\",\n",
              " 'What a mistake that was!',\n",
              " 'No complaints!',\n",
              " \"This is some seriously good pizza and I'm an expert/connisseur on the topic.\",\n",
              " 'Waiter was a jerk.',\n",
              " '\"Strike 2, who wants to be rushed.\"',\n",
              " \"These are the nicest restaurant owners I've ever come across.\",\n",
              " 'I never come again.',\n",
              " 'We loved the biscuits!!!',\n",
              " 'Service is quick and friendly.',\n",
              " 'Ordered an appetizer and took 40 minutes and then the pizza another 10 minutes.',\n",
              " 'So absolutley fantastic.',\n",
              " 'It was a huge awkward 1.5lb piece of cow that was 3/4ths gristle and fat.',\n",
              " 'definitely will come back here again.',\n",
              " \"I like Steiners because it's dark and it feels like a bar.\",\n",
              " 'Wow very spicy but delicious.',\n",
              " '\"If you\\'re not familiar, check it out.\"',\n",
              " \"I'll take my business dinner dollars elsewhere.\",\n",
              " \"I'd love to go back.\",\n",
              " '\"Anyway, this FS restaurant has a wonderful breakfast/lunch.\"',\n",
              " 'Nothing special.',\n",
              " \"Each day of the week they have a different deal and it's all so delicious!\",\n",
              " '\"Not to mention the combination of pears, almonds and bacon is a big winner!\"',\n",
              " 'Will not be back.',\n",
              " 'Sauce was tasteless.',\n",
              " '\"The food is delicious and just spicy enough, so be sure to ask for spicier if you prefer it that way.\"',\n",
              " 'My ribeye steak was cooked perfectly and had great mesquite flavor.',\n",
              " \"I don't think we'll be going back anytime soon.\",\n",
              " 'Food was so gooodd.',\n",
              " 'I am far from a sushi connoisseur but I can definitely tell the difference between good food and bad food and this was certainly bad food.',\n",
              " 'I was so insulted.',\n",
              " 'The last 3 times I had lunch here has been bad.',\n",
              " 'The chicken wings contained the driest chicken meat I have ever eaten.',\n",
              " '\"The food was very good and I enjoyed every mouthful, an enjoyable relaxed venue for couples small family groups etc.\"',\n",
              " 'Nargile - I think you are great.',\n",
              " 'Best tater tots in the southwest.',\n",
              " 'We loved the place.',\n",
              " 'Definitely not worth the $3 I paid.',\n",
              " 'The vanilla ice cream was creamy and smooth while the profiterole (choux) pastry was fresh enough.',\n",
              " 'Im in AZ all the time and now have my new spot.',\n",
              " 'The manager was the worst.',\n",
              " 'The inside is really quite nice and very clean.',\n",
              " 'The food was outstanding and the prices were very reasonable.',\n",
              " \"I don't think I'll be running back to Carly's anytime soon for food.\",\n",
              " '\"This is was due to the fact that it took 20 minutes to be acknowledged, then another 35 minutes to get our food...and they kept forgetting things.\"',\n",
              " '\"Love the margaritas, too!\"',\n",
              " 'This was my first and only Vegas buffet and it did not disappoint.',\n",
              " '\"Very good, though!\"',\n",
              " 'The one down note is the ventilation could use some upgrading.',\n",
              " 'Great pork sandwich.',\n",
              " \"Don't waste your time here.\",\n",
              " '\"Total letdown, I would much rather just go to the Camelback Flower Shop and Cartel Coffee.\"',\n",
              " '\"Third, the cheese on my friend\\'s burger was cold.\"',\n",
              " 'We enjoy their pizza and brunch.',\n",
              " 'The steaks are all well trimmed and also perfectly cooked.',\n",
              " 'We had a group of 70+ when we claimed we would only have 40 and they handled us beautifully.',\n",
              " 'I LOVED it!',\n",
              " \"We asked for the bill to leave without eating and they didn't bring that either.\",\n",
              " '\"This place is a jewel in Las Vegas, and exactly what I\\'ve been hoping to find in nearly ten years living here.\"',\n",
              " 'Seafood was limited to boiled shrimp and crab legs but the crab legs definitely did not taste fresh.',\n",
              " 'The selection of food was not the best.',\n",
              " 'Delicious and I will absolutely be back!',\n",
              " '\"This isn\\'t a small family restaurant, this is a fine dining establishment.\"',\n",
              " 'They had a toro tartare with a cavier that was extraordinary and I liked the thinly sliced wagyu with white truffle.',\n",
              " 'I dont think I will be back for a very long time.',\n",
              " '\"It was attached to a gas station, and that is rarely a good sign.\"',\n",
              " 'How awesome is that.',\n",
              " 'I will be back many times soon.',\n",
              " 'The menu had so much good stuff on it i could not decide!',\n",
              " '\"Worse of all, he humiliated his worker right in front of me..Bunch of horrible name callings.\"',\n",
              " 'CONCLUSION: Very filling meals.',\n",
              " 'Their daily specials are always a hit with my group.',\n",
              " 'And then tragedy struck.',\n",
              " 'The pancake was also really good and pretty large at that.',\n",
              " '\"This was my first crawfish experience, and it was delicious!\"',\n",
              " 'Their monster chicken fried steak and eggs is my all time favorite.',\n",
              " 'Waitress was sweet and funny.',\n",
              " '\"I also had to taste my Mom\\'s multi-grain pumpkin pancakes with pecan butter and they were amazing, fluffy, and delicious!\"',\n",
              " '\"I\\'d rather eat airline food, seriously.\"',\n",
              " 'Cant say enough good things about this place.',\n",
              " 'The ambiance was incredible.',\n",
              " 'The waitress and manager are so friendly.',\n",
              " 'I would not recommend this place.',\n",
              " \"Overall I wasn't very impressed with Noca.\",\n",
              " 'My gyro was basically lettuce only.',\n",
              " 'Terrible service!',\n",
              " 'Thoroughly disappointed!',\n",
              " '\"I don\\'t each much pasta, but I love the homemade /hand made pastas and thin pizzas here.\"',\n",
              " '\"Give it a try, you will be happy you did.\"',\n",
              " 'By far the BEST cheesecurds we have ever had!',\n",
              " 'Reasonably priced also!',\n",
              " 'Everything was perfect the night we were in.',\n",
              " 'The food is very good for your typical bar food.',\n",
              " 'it was a drive to get there.',\n",
              " '\"At first glance it is a lovely bakery cafe - nice ambiance, clean, friendly staff.\"',\n",
              " '\"Anyway, I do not think i will go back there.\"',\n",
              " '\"Point your finger at any item on the menu, order it and you won\\'t be disappointed.\"',\n",
              " '\"Oh this is such a thing of beauty, this restaurant.\"',\n",
              " \"If you haven't gone here GO NOW!\",\n",
              " '\"A greasy, unhealthy meal.\"',\n",
              " 'first time there and might just be the last.',\n",
              " 'Those burgers were amazing.',\n",
              " '\"Similarly, the delivery man did not say a word of apology when our food was 45 minutes late.\"',\n",
              " 'And it was way to expensive.',\n",
              " '\"Be sure to order dessert, even if you need to pack it to-go - the tiramisu and cannoli are both to die for.\"',\n",
              " \"This was my first time and I can't wait until the next.\",\n",
              " 'The bartender was also nice.',\n",
              " 'Everything was good and tasty!',\n",
              " 'This place is two thumbs up....way up.',\n",
              " '\"The best place in Vegas for breakfast (just check out a Sat, or Sun.\"',\n",
              " '\"If you love authentic Mexican food and want a whole bunch of interesting, yet delicious meats to choose from, you need to try this place.\"',\n",
              " 'Terrible management.',\n",
              " 'An excellent new restaurant by an experienced Frenchman.',\n",
              " 'If there were zero stars I would give it zero stars.',\n",
              " '\"Great steak, great sides, great wine, amazing desserts.\"',\n",
              " 'Worst martini ever!',\n",
              " 'The steak and the shrimp are in my opinion the best entrees at GC.',\n",
              " 'I had the opportunity today to sample your amazing pizzas!',\n",
              " 'We waited for thirty minutes to be seated (although there were 8 vacant tables and we were the only folks waiting).',\n",
              " 'The yellowtail carpaccio was melt in your mouth fresh.',\n",
              " \"I won't try going back there even if it's empty.\",\n",
              " '\"No, I\\'m going to eat the potato that I found some strangers hair in it.\"',\n",
              " 'Just spicy enough.. Perfect actually.',\n",
              " 'Last night was my second time dining here and I was so happy I decided to go back!',\n",
              " '\"not even a \"\"hello, we will be right with you.\"\"\"',\n",
              " 'The desserts were a bit strange.',\n",
              " 'My boyfriend and I came here for the first time on a recent trip to Vegas and could not have been more pleased with the quality of food and service.',\n",
              " '\"I really do recommend this place, you can go wrong with this donut place!\"',\n",
              " 'Nice ambiance.',\n",
              " 'I would recommend saving room for this!',\n",
              " 'I guess maybe we went on an off night but it was disgraceful.',\n",
              " '\"However, my recent experience at this particular location was not so good.\"',\n",
              " '\"I know this is not like the other restaurants at all, something is very off here!\"',\n",
              " 'AVOID THIS ESTABLISHMENT!',\n",
              " 'I think this restaurant suffers from not trying hard enough.',\n",
              " 'All of the tapas dishes were delicious!',\n",
              " 'I *heart* this place.',\n",
              " 'My salad had a bland vinegrette on the baby greens and hearts of Palm.',\n",
              " 'After two I felt disgusting.',\n",
              " 'A good time!',\n",
              " 'I believe that this place is a great stop for those with a huge belly and hankering for sushi.',\n",
              " 'Generous portions and great taste.',\n",
              " 'I will never go back to this place and will never ever recommended this place to anyone!',\n",
              " '\"The servers went back and forth several times, not even so much as an \"\"Are you being helped?\"\"\"',\n",
              " 'Food was delicious!',\n",
              " 'AN HOUR... seriously?',\n",
              " 'I consider this theft.',\n",
              " 'Eew... This location needs a complete overhaul.',\n",
              " 'We recently witnessed her poor quality of management towards other guests as well.',\n",
              " 'Waited and waited and waited.',\n",
              " '\"He also came back to check on us regularly, excellent service.\"',\n",
              " 'Our server was super nice and checked on us many times.',\n",
              " '\"The pizza tasted old, super chewy in not a good way.\"',\n",
              " 'I swung in to give them a try but was deeply disappointed.',\n",
              " 'Service was good and the company was better!',\n",
              " 'The staff are also very friendly and efficient.',\n",
              " '\"As for the service: I\\'m a fan, because it\\'s quick and you\\'re being served by some nice folks.\"',\n",
              " 'Boy was that sucker dry!!.',\n",
              " 'Over rated.',\n",
              " '\"If you look for authentic Thai food, go else where.\"',\n",
              " 'Their steaks are 100% recommended!',\n",
              " 'After I pulled up my car I waited for another 15 minutes before being acknowledged.',\n",
              " 'Great food and great service in a clean and friendly setting.',\n",
              " '\"All in all, I can assure you I\\'ll be back.\"',\n",
              " 'I hate those things as much as cheap quality black olives.',\n",
              " '\"My breakfast was perpared great, with a beautiful presentation of 3 giant slices of Toast, lightly dusted with powdered sugar.\"',\n",
              " 'The kids play area is NASTY!',\n",
              " 'Great place fo take out or eat in.',\n",
              " 'The waitress was friendly and happy to accomodate for vegan/veggie options.',\n",
              " 'OMG I felt like I had never eaten Thai food until this dish.',\n",
              " '\"It was extremely \"\"crumby\"\" and pretty tasteless.\"',\n",
              " 'It was a pale color instead of nice and char and has NO flavor.',\n",
              " 'The croutons also taste homemade which is an extra plus.',\n",
              " 'I got home to see the driest damn wings ever!',\n",
              " \"It'll be a regular stop on my trips to Phoenix!\",\n",
              " 'I really enjoyed Crema Café before they expanded; I even told friends they had the BEST breakfast.',\n",
              " 'Not good for the money.',\n",
              " 'I miss it and wish they had one in Philadelphia!',\n",
              " '\"We got sitting fairly fast, but, ended up waiting 40 minutes just to place our order, another 30 minutes before the food arrived.\"',\n",
              " 'They also have the best cheese crisp in town.',\n",
              " '\"Good value, great food, great service.\"',\n",
              " \"Couldn't ask for a more satisfying meal.\",\n",
              " 'The food is good.',\n",
              " 'It was awesome.',\n",
              " 'I just wanted to leave.',\n",
              " 'We made the drive all the way from North Scottsdale... and I was not one bit disappointed!',\n",
              " 'I will not be eating there again.',\n",
              " '!....THE OWNERS REALLY REALLY need to quit being soooooo cheap let them wrap my freaking sandwich in two papers not one!',\n",
              " 'I checked out this place a couple years ago and was not impressed.',\n",
              " '\"The chicken I got was definitely reheated and was only ok, the wedges were cold and soggy.\"',\n",
              " '\"Sorry, I will not be getting food from here anytime soon :(\"',\n",
              " 'An absolute must visit!',\n",
              " 'The cow tongue and cheek tacos are amazing.',\n",
              " 'My friend did not like his Bloody Mary.',\n",
              " '\"Despite how hard I rate businesses, its actually rare for me to give a 1 star.\"',\n",
              " 'They really want to make your experience a good one.',\n",
              " 'I will not return.',\n",
              " 'I had the chicken Pho and it tasted very bland.',\n",
              " 'Very disappointing!!!',\n",
              " 'The grilled chicken was so tender and yellow from the saffron seasoning.',\n",
              " '\"a drive thru means you do not want to wait around for half an hour for your food, but somehow when we end up going here they make us wait and wait.\"',\n",
              " 'Pretty awesome place.',\n",
              " 'Ambience is perfect.',\n",
              " 'Best of luck to the rude and non-customer service focused new management.',\n",
              " 'Any grandmother can make a roasted chicken better than this one.',\n",
              " 'I asked multiple times for the wine list and after some time of being ignored I went to the hostess and got one myself.',\n",
              " '\"The staff is always super friendly and helpful, which is especially cool when you bring two small boys and a baby!\"',\n",
              " 'Four stars for the food & the guy in the blue shirt for his great vibe & still letting us in to eat !',\n",
              " 'The roast beef sandwich tasted really good!',\n",
              " '\"Same evening, him and I are both drastically sick.\"',\n",
              " 'High-quality chicken on the chicken Caesar salad.',\n",
              " \"Ordered burger rare came in we'll done.\",\n",
              " 'We were promptly greeted and seated.',\n",
              " 'Tried to go here for lunch and it was a madhouse.',\n",
              " '\"I was proven dead wrong by this sushi bar, not only because the quality is great, but the service is fast and the food, impeccable.\"',\n",
              " '\"After waiting an hour and being seated, I was not in the greatest of moods.\"',\n",
              " 'This is a good joint.',\n",
              " 'The Macarons here are insanely good.',\n",
              " \"I'm not eating here!\",\n",
              " '\"Our waiter was very attentive, friendly, and informative.\"',\n",
              " \"Maybe if they weren't cold they would have been somewhat edible.\",\n",
              " 'This place has a lot of promise but fails to deliver.',\n",
              " 'Very bad Experience!',\n",
              " 'What a mistake.',\n",
              " 'Food was average at best.',\n",
              " 'Great food.',\n",
              " \"We won't be going back anytime soon!\",\n",
              " 'Very Very Disappointed ordered the $35 Big Bay Plater.',\n",
              " 'Great place to relax and have an awesome burger and beer.',\n",
              " 'It is PERFECT for a sit-down family meal or get together with a few friends.',\n",
              " '\"Not much flavor to them, and very poorly constructed.\"',\n",
              " 'The patio seating was very comfortable.',\n",
              " 'The fried rice was dry as well.',\n",
              " 'Hands down my favorite Italian restaurant!',\n",
              " '\"That just SCREAMS \"\"LEGIT\"\" in my book...somethat\\'s also pretty rare here in Vegas.\"',\n",
              " 'It was just not a fun experience.',\n",
              " 'The atmosphere was great with a lovely duo of violinists playing songs we requested.',\n",
              " '\"I personally love the hummus, pita, baklava, falafels and Baba Ganoush (it\\'s amazing what they do with eggplant!).\"',\n",
              " '\"Very convenient, since we were staying at the MGM!\"',\n",
              " 'The owners are super friendly and the staff is courteous.',\n",
              " 'Both great!',\n",
              " 'Eclectic selection.',\n",
              " 'The sweet potato tots were good but the onion rings were perfection or as close as I have had.',\n",
              " 'The staff was very attentive.',\n",
              " 'And the chef was generous with his time (even came around twice so we can take pictures with him).',\n",
              " '\"The owner used to work at Nobu, so this place is really similar for half the price.\"',\n",
              " 'Google mediocre and I imagine Smashburger will pop up.',\n",
              " 'dont go here.',\n",
              " \"I promise they won't disappoint.\",\n",
              " 'As a sushi lover avoid this place by all means.',\n",
              " 'What a great double cheeseburger!',\n",
              " 'Awesome service and food.',\n",
              " 'A fantastic neighborhood gem !!!',\n",
              " \"I can't wait to go back.\",\n",
              " \"The plantains were the worst I've ever tasted.\",\n",
              " \"It's a great place and I highly recommend it.\",\n",
              " 'Service was slow and not attentive.',\n",
              " '\"I gave it 5 stars then, and I\\'m giving it 5 stars now.\"',\n",
              " 'Your staff spends more time talking to themselves than me.',\n",
              " 'Dessert: Panna Cotta was amazing.',\n",
              " '\"Very good food, great atmosphere.1\"',\n",
              " 'Damn good steak.',\n",
              " 'Total brunch fail.',\n",
              " '\"Prices are very reasonable, flavors are spot on, the sauce is home made, and the slaw is not drenched in mayo.\"',\n",
              " '\"The decor is nice, and the piano music soundtrack is pleasant.\"',\n",
              " 'The steak was amazing...rge fillet relleno was the best seafood plate i have ever had!',\n",
              " '\"Good food , good service .\"',\n",
              " 'It was absolutely amazing.',\n",
              " '\"I probably won\\'t be back, to be honest.\"',\n",
              " 'will definitely be back!',\n",
              " 'The sergeant pepper beef sandwich with auju sauce is an excellent sandwich as well.',\n",
              " '\"Hawaiian Breeze, Mango Magic, and Pineapple Delight are the smoothies that I\\'ve tried so far and they\\'re all good.\"',\n",
              " 'Went for lunch - service was slow.',\n",
              " '\"We had so much to say about the place before we walked in that he expected it to be amazing, but was quickly disappointed.\"',\n",
              " 'I was mortified.',\n",
              " '\"Needless to say, we will never be back here again.\"',\n",
              " '\"Anyways, The food was definitely not filling at all, and for the price you pay you should expect more.\"',\n",
              " '\"The chips that came out were dripping with grease, and mostly not edible.\"',\n",
              " \"I wasn't really impressed with Strip Steak.\",\n",
              " 'Have been going since 2007 and every meal has been awesome!!',\n",
              " 'Our server was very nice and attentive as were the other serving staff.',\n",
              " 'The cashier was friendly and even brought the food out to me.',\n",
              " 'I work in the hospitality industry in Paradise Valley and have refrained from recommending Cibo any longer.',\n",
              " 'The atmosphere here is fun.',\n",
              " 'Would not recommend to others.',\n",
              " '\"Service is quick and even \"\"to go\"\" orders are just like we like it!\"',\n",
              " '\"I mean really, how do you get so famous for your fish and chips when it\\'s so terrible!?!\"',\n",
              " '\"That said, our mouths and bellies were still quite pleased.\"',\n",
              " 'Not my thing.',\n",
              " '2 Thumbs Up!!',\n",
              " \"If you are reading this please don't go there.\",\n",
              " '\"I loved the grilled pizza, reminded me of legit Italian pizza.\"',\n",
              " 'Only Pros : Large seating area/ Nice bar area/ Great simple drink menu/ The BEST brick oven pizza with homemade dough!',\n",
              " 'They have a really nice atmosphere.',\n",
              " 'Tonight I had the Elk Filet special...and it sucked.',\n",
              " '\"After one bite, I was hooked.\"',\n",
              " 'We ordered some old classics and some new dishes after going there a few times and were sorely disappointed with everything.',\n",
              " '\"Cute, quaint, simple, honest.\"',\n",
              " 'The chicken was deliciously seasoned and had the perfect fry on the outside and moist chicken on the inside.',\n",
              " '\"The food was great as always, compliments to the chef.\"',\n",
              " 'Special thanks to Dylan T. for the recommendation on what to order :) All yummy for my tummy.',\n",
              " 'Awesome selection of beer.',\n",
              " 'Great food and awesome service!',\n",
              " '\"One nice thing was that they added gratuity on the bill since our party was larger than 6 or 8, and they didn\\'t expect more tip than that.\"',\n",
              " 'A FLY was in my apple juice.. A FLY!!!!!!!!',\n",
              " 'The Han Nan Chicken was also very tasty.',\n",
              " '\"As for the service, I thought it was good.\"',\n",
              " '\"The food was barely lukewarm, so it must have been sitting waiting for the server to bring it out to us.\"',\n",
              " \"Ryan's Bar is definitely one Edinburgh establishment I won't be revisiting.\",\n",
              " \"Nicest Chinese restaurant I've been in a while.\",\n",
              " '\"Overall, I like there food and the service.\"',\n",
              " 'They also now serve Indian naan bread with hummus and some spicy pine nut sauce that was out of this world.',\n",
              " '\"Probably never coming back, and wouldn\\'t recommend it.\"',\n",
              " '\"Friend\\'s pasta -- also bad, he barely touched it.\"',\n",
              " '\"Try them in the airport to experience some tasty food and speedy, friendly service.\"',\n",
              " 'I love the decor with the Chinese calligraphy wall paper.',\n",
              " 'Never had anything to complain about here.',\n",
              " 'The restaurant is very clean and has a family restaurant feel to it.',\n",
              " 'It was way over fried.',\n",
              " \"I'm not sure how long we stood there but it was long enough for me to begin to feel awkwardly out of place.\",\n",
              " '\"When I opened the sandwich, I was impressed, but not in a good way.\"',\n",
              " 'Will not be back!',\n",
              " 'There was a warm feeling with the service and I felt like their guest for a special treat.',\n",
              " 'An extensive menu provides lots of options for breakfast.',\n",
              " '\"I always order from the vegetarian menu during dinner, which has a wide array of options to choose from.\"',\n",
              " '\"I have watched their prices inflate, portions get smaller and management attitudes grow rapidly!\"',\n",
              " 'Wonderful lil tapas and the ambience made me feel all warm and fuzzy inside.',\n",
              " '\"I got to enjoy the seafood salad, with a fabulous vinegrette.\"',\n",
              " '\"The wontons were thin, not thick and chewy, almost melt in your mouth.\"',\n",
              " '\"Level 5 spicy was perfect, where spice didn\\'t over-whelm the soup.\"',\n",
              " 'We were sat right on time and our server from the get go was FANTASTIC!',\n",
              " '\"Main thing I didn\\'t enjoy is that the crowd is of older crowd, around mid 30s and up.\"',\n",
              " '\"When I\\'m on this side of town, this will definitely be a spot I\\'ll hit up again!\"',\n",
              " 'I had to wait over 30 minutes to get my drink and longer to get 2 arepas.',\n",
              " 'This is a GREAT place to eat!',\n",
              " 'The jalapeno bacon is soooo good.',\n",
              " 'The service was poor and thats being nice.',\n",
              " '\"Food was good, service was good, Prices were good.\"',\n",
              " 'The place was not clean and the food oh so stale!',\n",
              " '\"The chicken dishes are OK, the beef is like shoe leather.\"',\n",
              " 'But the service was beyond bad.',\n",
              " '\"I\\'m so happy to be here!!!\"\"\"',\n",
              " 'Tasted like dirt.',\n",
              " 'One of the few places in Phoenix that I would definately go back to again .',\n",
              " 'The block was amazing.',\n",
              " '\"It\\'s close to my house, it\\'s low-key, non-fancy, affordable prices, good food.\"',\n",
              " '* Both the Hot & Sour & the Egg Flower Soups were absolutely 5 Stars!',\n",
              " 'My sashimi was poor quality being soggy and tasteless.',\n",
              " 'Great time - family dinner on a Sunday night.',\n",
              " '\"the food is not tasty at all, not to say its \"\"real traditional Hunan style\"\".\"',\n",
              " '\"What did bother me, was the slow service.\"',\n",
              " 'The flair bartenders are absolutely amazing!',\n",
              " 'Their frozen margaritas are WAY too sugary for my taste.',\n",
              " 'These were so good we ordered them twice.',\n",
              " 'So in a nutshell: 1) The restaraunt smells like a combination of a dirty fish market and a sewer.',\n",
              " \"My girlfriend's veal was very bad.\",\n",
              " '\"Unfortunately, it was not good.\"',\n",
              " 'I had a pretty satifying experience.',\n",
              " 'Join the club and get awesome offers via email.',\n",
              " '\"Perfect for someone (me) who only likes beer ice cold, or in this case, even colder.\"',\n",
              " 'Bland and flavorless is a good way of describing the barely tepid meat.',\n",
              " '\"The chains, which I\\'m no fan of, beat this place easily.\"',\n",
              " 'The nachos are a MUST HAVE!',\n",
              " 'We will not be coming back.',\n",
              " '\"I don\\'t have very many words to say about this place, but it does everything pretty well.\"',\n",
              " '\"The staff is super nice and very quick even with the crazy crowds of the downtown juries, lawyers, and court staff.\"',\n",
              " '\"Great atmosphere, friendly and fast service.\"',\n",
              " 'When I received my Pita it was huge it did have a lot of meat in it so thumbs up there.',\n",
              " \"Once your food arrives it's meh.\",\n",
              " \"Paying $7.85 for a hot dog and fries that looks like it came out of a kid's meal at the Wienerschnitzel is not my idea of a good meal.\",\n",
              " 'The classic Maine Lobster Roll was fantastic.',\n",
              " '\"My brother in law who works at the mall ate here same day, and guess what he was sick all night too.\"',\n",
              " 'So good I am going to have to review this place twice - once hereas a tribute to the place and once as a tribute to an event held here last night.',\n",
              " '\"The chips and salsa were really good, the salsa was very fresh.\"',\n",
              " 'This place is great!!!!!!!!!!!!!!',\n",
              " 'Mediocre food.',\n",
              " \"Once you get inside you'll be impressed with the place.\",\n",
              " \"I'm super pissd.\",\n",
              " 'And service was super friendly.',\n",
              " 'Why are these sad little vegetables so overcooked?',\n",
              " 'This place was such a nice surprise!',\n",
              " 'They were golden-crispy and delicious.',\n",
              " '\"I had high hopes for this place since the burgers are cooked over a charcoal grill, but unfortunately the taste fell flat, way flat.\"',\n",
              " 'I could eat their bruschetta all day it is devine.',\n",
              " 'Not a single employee came out to see if we were OK or even needed a water refill once they finally served us our food.',\n",
              " '\"Lastly, the mozzarella sticks, they were the best thing we ordered.\"',\n",
              " '\"The first time I ever came here I had an amazing experience, I still tell people how awesome the duck was.\"',\n",
              " 'The server was very negligent of our needs and made us feel very unwelcome... I would not suggest this place!',\n",
              " 'The service was terrible though.',\n",
              " '\"This place is overpriced, not consistent with their boba, and it really is OVERPRICED!\"',\n",
              " 'It was packed!!',\n",
              " 'I love this place.',\n",
              " 'I can say that the desserts were yummy.',\n",
              " 'The food was terrible.',\n",
              " 'The seasonal fruit was fresh white peach puree.',\n",
              " \"It kept getting worse and worse so now I'm officially done.\",\n",
              " 'This place should honestly be blown up.',\n",
              " 'But I definitely would not eat here again.',\n",
              " 'Do not waste your money here!',\n",
              " 'I love that they put their food in nice plastic containers as opposed to cramming it in little paper takeout boxes.',\n",
              " 'The crêpe was delicate and thin and moist.',\n",
              " 'Awful service.',\n",
              " \"Won't ever go here again.\",\n",
              " 'Food quality has been horrible.',\n",
              " 'For that price I can think of a few place I would have much rather gone.',\n",
              " 'The service here is fair at best.',\n",
              " '\"I do love sushi, but I found Kabuki to be over-priced, over-hip and under-services.\"',\n",
              " 'Do yourself a favor and stay away from this dish.',\n",
              " 'Very poor service.',\n",
              " 'No one at the table thought the food was above average or worth the wait that we had for it.',\n",
              " '\"Best service and food ever, Maria our server was so good and friendly she made our day.\"',\n",
              " 'They were excellent.',\n",
              " 'I paid the bill but did not tip because I felt the server did a terrible job.',\n",
              " 'Just had lunch here and had a great experience.',\n",
              " 'I have never had such bland food which surprised me considering the article we read focused so much on their spices and flavor.',\n",
              " 'Food is way overpriced and portions are fucking small.',\n",
              " \"I recently tried Caballero's and I have been back every week since!\",\n",
              " '\"for 40 bucks a head, i really expect better food.\"',\n",
              " 'The food came out at a good pace.',\n",
              " '\"I ate there twice on my last visit, and especially enjoyed the salmon salad.\"',\n",
              " \"I won't be back.\",\n",
              " 'We could not believe how dirty the oysters were!',\n",
              " 'This place deserves no stars.',\n",
              " 'I would not recommend this place.',\n",
              " '\"In fact I\\'m going to round up to 4 stars, just because she was so awesome.\"',\n",
              " '\"To my disbelief, each dish qualified as the worst version of these foods I have ever tasted.\"',\n",
              " '\"Bad day or not, I have a very low tolerance for rude customer service people, it is your job to be nice and polite, wash dishes otherwise!!\"',\n",
              " 'the potatoes were great and so was the biscuit.',\n",
              " 'I probably would not go here again.',\n",
              " 'So flavorful and has just the perfect amount of heat.',\n",
              " 'The price is reasonable and the service is great.',\n",
              " '\"The Wife hated her meal (coconut shrimp), and our friends really did not enjoy their meals, either.\"',\n",
              " \"My fella got the huevos rancheros and they didn't look too appealing.\",\n",
              " '\"Went in for happy hour, great list of wines.\"',\n",
              " 'Some may say this buffet is pricey but I think you get what you pay for and this place you are getting quite a lot!',\n",
              " \"I probably won't be coming back here.\",\n",
              " \"Worst food/service I've had in a while.\",\n",
              " '\"This place is pretty good, nice little vibe in the restaurant.\"',\n",
              " 'Talk about great customer service of course we will be back.',\n",
              " '\"Hot dishes are not hot, cold dishes are close to room temp.I watched staff prepare food with BARE HANDS, no gloves.Everything is deep fried in oil.\"',\n",
              " 'I love their fries and their beans.',\n",
              " 'Always a pleasure dealing with him.',\n",
              " '\"They have a plethora of salads and sandwiches, and everything I\\'ve tried gets my seal of approval.\"',\n",
              " 'This place is awesome if you want something light and healthy during the summer.',\n",
              " '\"For sushi on the Strip, this is the place to go.\"',\n",
              " '\"The service was great, even the manager came and helped with our table.\"',\n",
              " 'The feel of the dining room was more college cooking course than high class dining and the service was slow at best.',\n",
              " '\"I started this review with two stars, but I\\'m editing it to give it only one.\"',\n",
              " \"this is the worst sushi i have ever eat besides Costco's.\",\n",
              " '\"All in all an excellent restaurant highlighted by great service, a unique menu, and a beautiful setting.\"',\n",
              " 'My boyfriend and i sat at the bar and had a completely delightful experience.',\n",
              " 'Weird vibe from owners.',\n",
              " 'There was hardly any meat.',\n",
              " \"I've had better bagels from the grocery store.\",\n",
              " 'Go To Place for Gyros.',\n",
              " '\"I love the owner/chef, his one authentic Japanese cool dude!\"',\n",
              " '\"Now the burgers aren\\'t as good, the pizza which used to be amazing is doughy and flavorless.\"',\n",
              " 'I found a six inch long piece of wire in my salsa.',\n",
              " '\"The service was terrible, food was mediocre.\"',\n",
              " 'We definately enjoyed ourselves.',\n",
              " 'I ordered Albondigas soup - which was just warm - and tasted like tomato soup with frozen meatballs.',\n",
              " '\"On three different occasions I asked for well done or medium well, and all three times I got the bloodiest piece of meat on my plate.\"',\n",
              " 'I had about two bites and refused to eat anymore.',\n",
              " 'The service was extremely slow.',\n",
              " '\"After 20 minutes wait, I got a table.\"',\n",
              " 'Seriously killer hot chai latte.',\n",
              " '\"No allergy warnings on the menu, and the waitress had absolutely no clue as to which meals did or did not contain peanuts.\"',\n",
              " 'My boyfriend tried the Mediterranean Chicken Salad and fell in love.',\n",
              " 'Their rotating beers on tap is also a highlight of this place.',\n",
              " 'Pricing is a bit of a concern at Mellow Mushroom.',\n",
              " 'Worst Thai ever.',\n",
              " 'If you stay in Vegas you must get breakfast here at least once.',\n",
              " 'I want to first say our server was great and we had perfect service.',\n",
              " 'The pizza selections are good.',\n",
              " '\"I had strawberry tea, which was good.\"',\n",
              " 'Highly unprofessional and rude to a loyal patron!',\n",
              " '\"Overall, a great experience.\"',\n",
              " 'Spend your money elsewhere.',\n",
              " 'Their regular toasted bread was equally satisfying with the occasional pats of butter... Mmmm...!',\n",
              " 'The Buffet at Bellagio was far from what I anticipated.',\n",
              " '\"And the drinks are WEAK, people!\"',\n",
              " '-My order was not correct.',\n",
              " '\"Also, I feel like the chips are bought, not made in house.\"',\n",
              " 'After the disappointing dinner we went elsewhere for dessert.',\n",
              " 'The chips and sals a here is amazing!!!!!!!!!!!!!!!!!!!',\n",
              " \"We won't be returning.\",\n",
              " 'This is my new fav Vegas buffet spot.',\n",
              " 'I seriously cannot believe that the owner has so many unexperienced employees that all are running around like chickens with their heads cut off.',\n",
              " '\"Very, very sad.\"',\n",
              " '\"i felt insulted and disrespected, how could you talk and judge another human being like that?\"',\n",
              " '\"How can you call yourself a steakhouse if you can\\'t properly cook a steak, I don\\'t understand!\"',\n",
              " \"I'm not impressed with the concept or the food.\",\n",
              " \"The only thing I wasn't too crazy about was their guacamole as I don't like it puréed.\",\n",
              " '\"There is really nothing for me at postinos, hope your experience is better\"',\n",
              " 'I got food poisoning here at the buffet.',\n",
              " 'They brought a fresh batch of fries and I was thinking yay something warm but no!',\n",
              " '\"What SHOULD have been a hilarious, yummy Christmas Eve dinner to remember was the biggest fail of the entire trip for us.\"',\n",
              " '\"Needless to say, I won\\'t be going back anytime soon.\"',\n",
              " 'This place is disgusting!',\n",
              " '\"Every time I eat here, I see caring teamwork to a professional degree.\"',\n",
              " 'The RI style calamari was a joke.',\n",
              " '\"However, there was so much garlic in the fondue, it was barely edible.\"',\n",
              " '\"I could barely stomach the meal, but didn\\'t complain because it was a business lunch.\"',\n",
              " '\"It was so bad, I had lost the heart to finish it.\"',\n",
              " 'It also took her forever to bring us the check when we asked for it.',\n",
              " \"We aren't ones to make a scene at restaurants but I just don't get it...definitely lost the love after this one!\",\n",
              " 'Disappointing experience.',\n",
              " '\"The food is about on par with Denny\\'s, which is to say, not good at all.\"',\n",
              " '\"If you want to wait for mediocre food and downright terrible service, then this is the place for you.\"',\n",
              " 'WAAAAAAyyyyyyyyyy over rated is all I am saying.',\n",
              " \"We won't be going back.\",\n",
              " \"The place was fairly clean but the food simply wasn't worth it.\",\n",
              " 'This place lacked style!!',\n",
              " '\"The sangria was about half of a glass wine full and was $12, ridiculous.\"',\n",
              " \"Don't bother coming here.\",\n",
              " '\"The meat was pretty dry, I had the sliced brisket and pulled pork.\"',\n",
              " '\"The building itself seems pretty neat; the bathroom is pretty trippy, but I wouldn\\'t eat here again.\"',\n",
              " 'It was equally awful.',\n",
              " 'Probably not in a hurry to go back.',\n",
              " 'very slow at seating even with reservation.',\n",
              " 'Not good by any stretch of the imagination.',\n",
              " 'The cashew cream sauce was bland and the vegetables were undercooked.',\n",
              " '\"The chipolte ranch dipping sause was tasteless, seemed thin and watered down with no heat.\"',\n",
              " '\"It was a bit too sweet, not really spicy enough, and lacked flavor.\"',\n",
              " 'I was VERY disappointed!!',\n",
              " 'This place is horrible and way overpriced.',\n",
              " '\"Maybe it\\'s just their Vegetarian fare, but I\\'ve been twice and I thought it was average at best.\"',\n",
              " \"It wasn't busy at all and now we know why.\",\n",
              " 'The tables outside are also dirty a lot of the time and the workers are not always friendly and helpful with the menu.',\n",
              " '\"The ambiance here did not feel like a buffet setting, but more of a douchey indoor garden for tea and biscuits.\"',\n",
              " 'Con: spotty service.',\n",
              " '\"The fries were not hot, and neither was my burger.\"',\n",
              " 'But then they came back cold.',\n",
              " '\"Then our food came out, disappointment ensued.\"',\n",
              " 'The real disappointment was our waiter.',\n",
              " 'My husband said she was very rude... did not even apologize for the bad food or anything.',\n",
              " 'The only reason to eat here would be to fill up before a night of binge drinking just to get some carbs in your stomach.',\n",
              " '\"Insults, profound deuchebaggery, and had to go outside for a smoke break while serving just to solidify it.\"',\n",
              " \"If someone orders two tacos don't' you think it may be part of customer service to ask if it is combo or ala cart?\",\n",
              " 'She was quite disappointed although some blame needs to be placed at her door.',\n",
              " \"After all the rave reviews I couldn't wait to eat here......what a disappointment!\",\n",
              " 'Del Taco is pretty nasty and should be avoided if possible.',\n",
              " \"It's NOT hard to make a decent hamburger.\",\n",
              " \"But I don't like it.\",\n",
              " 'Hell no will I go back',\n",
              " \"We've have gotten a much better service from the pizza place next door than the services we received from this restaurant.\",\n",
              " '\"I don\\'t know what the big deal is about this place, but I won\\'t be back \"\"ya\\'all\"\".\"',\n",
              " 'I immediately said I wanted to talk to the manager but I did not want to talk to the guy who was doing shots of fireball behind the bar.',\n",
              " \"The ambiance isn't much better.\",\n",
              " '\"Unfortunately, it only set us up for disapppointment with our entrees.\"',\n",
              " \"The food wasn't good.\",\n",
              " '\"Your servers suck, wait, correction, our server Heimer sucked.\"',\n",
              " 'What happened next was pretty....off putting.',\n",
              " '\"too bad cause I know it\\'s family owned, I really wanted to like this place.\"',\n",
              " 'Overpriced for what you are getting.',\n",
              " 'I vomited in the bathroom mid lunch.',\n",
              " '\"I kept looking at the time and it had soon become 35 minutes, yet still no food.\"',\n",
              " '\"I have been to very few places to eat that under no circumstances would I ever return to, and this tops the list.\"',\n",
              " \"We started with the tuna sashimi which was brownish in color and obviously wasn't fresh.\",\n",
              " 'Food was below average.',\n",
              " 'It sure does beat the nachos at the movies but I would expect a little bit more coming from a restaurant.',\n",
              " '\"All in all, Ha Long Bay was a bit of a flop.\"',\n",
              " 'The problem I have is that they charge $11.99 for a sandwich that is no bigger than a Subway sub (which offers better and more amount of vegetables).',\n",
              " 'Shrimp- When I unwrapped it (I live only 1/2 a mile from Brushfire) it was literally ice cold.',\n",
              " '\"It lacked flavor, seemed undercooked, and dry.\"',\n",
              " \"It really is impressive that the place hasn't closed down.\",\n",
              " 'I would avoid this place if you are staying in the Mirage.',\n",
              " 'The refried beans that came with my meal were dried out and crusty and the food was bland.',\n",
              " 'Spend your money and time some place else.',\n",
              " 'A lady at the table next to us found a live green caterpillar In her salad.',\n",
              " 'the presentation of the food was awful.',\n",
              " \"I can't tell you how disappointed I was.\",\n",
              " 'I think food should have flavor and texture and both were lacking.',\n",
              " 'Appetite instantly gone.',\n",
              " 'Overall I was not impressed and would not go back.',\n",
              " '\"The whole experience was underwhelming, and I think we\\'ll just go to Ninja Sushi next time.\"',\n",
              " '\"Then, as if I hadn\\'t wasted enough of my life there, they poured salt in the wound by drawing out the time it took to bring the check.\"']"
            ]
          },
          "execution_count": 41,
          "metadata": {},
          "output_type": "execute_result"
        }
      ],
      "source": [
        "docs"
      ]
    },
    {
      "cell_type": "markdown",
      "metadata": {
        "id": "VWeKQC93ctEo"
      },
      "source": [
        "*   **Pregunta 2.**  \n",
        "\n",
        "Busca e imprime todas las palabras que terminan con dos o más signos de admiración seguidos, por ejemplo \"!!!\". \n",
        "\n",
        "Debes imprimir tanto la palabra como la totalidad de signos de admiración que le siguen. \n",
        "\n",
        "Indica cuántos resultados obtuviste.\n",
        "\n"
      ]
    },
    {
      "cell_type": "code",
      "execution_count": null,
      "metadata": {
        "id": "0p3kMXfddICc"
      },
      "outputs": [],
      "source": [
        "pattern = r'\\b\\w+\\!{2,}(?=\\s|$)'\n",
        "# Breakdown:\n",
        "# \\b       -> Word boundary to ensure we start matching at a real word start\n",
        "# \\w+      -> One or more word characters (letters, digits, underscore)\n",
        "# \\!{2,}   -> Two or more literal exclamation marks '!' after the word\n",
        "# (?=\\s|$) -> Positive lookahead:\n",
        "#             - \\s means a whitespace character (space, tab, etc.)\n",
        "#             - | means OR\n",
        "#             - $ means end of string\n",
        "#           So the word must be followed by a whitespace or end of string,\n",
        "#           and NOT by other characters like punctuation or more letters.\n",
        "\n",
        "all_matches = []\n",
        "\n",
        "for text in docs:\n",
        "    matches = re.findall(pattern, text)\n",
        "    all_matches.extend(matches)"
      ]
    },
    {
      "cell_type": "code",
      "execution_count": null,
      "metadata": {},
      "outputs": [
        {
          "name": "stdout",
          "output_type": "stream",
          "text": [
            "['Firehouse!!!!!', 'APPETIZERS!!!', 'amazing!!!', 'buffet!!!', 'good!!', 'it!!!!', 'DELICIOUS!!', 'amazing!!', 'shawarrrrrrma!!!!!!', 'yucky!!!', 'delicious!!!', 'far!!', 'biscuits!!!', 'disappointing!!!', 'awesome!!', 'Up!!', 'FLY!!!!!!!!', 'great!!!!!!!!!!!!!!', 'packed!!', 'amazing!!!!!!!!!!!!!!!!!!!', 'style!!', 'disappointed!!']\n",
            "22\n"
          ]
        }
      ],
      "source": [
        "print(all_matches)\n",
        "print(len(all_matches))"
      ]
    },
    {
      "cell_type": "markdown",
      "metadata": {
        "id": "-s3okBqL96TT"
      },
      "source": [
        "*   **Pregunta 3.**  \n",
        "\n",
        "Busca e imprime todas las palabras que están escritas totalmente en mayúsculas. Cada coincidencia debe ser una sola palabra.\n",
        "\n",
        "Indica cuántas palabras encontraste.\n",
        "\n"
      ]
    },
    {
      "cell_type": "code",
      "execution_count": 53,
      "metadata": {
        "id": "yKHJkZKo_nW5"
      },
      "outputs": [],
      "source": [
        "pattern = r'\\b[A-Z]+\\b'\n",
        "# Breakdown:\n",
        "# \\b       -> Start of a word\n",
        "# [A-Z]+   -> One or more uppercase letters only\n",
        "# \\b       -> End of a word\n",
        "\n",
        "all_uppercase_words = []\n",
        "\n",
        "for text in docs:\n",
        "    matches = re.findall(pattern, text)  \n",
        "    all_uppercase_words.extend(matches)"
      ]
    },
    {
      "cell_type": "code",
      "execution_count": 54,
      "metadata": {
        "id": "L3q08aq69sNn"
      },
      "outputs": [
        {
          "name": "stdout",
          "output_type": "stream",
          "text": [
            "['I', 'I', 'THAT', 'A', 'I', 'I', 'I', 'I', 'I', 'I', 'I', 'I', 'I', 'I', 'I', 'I', 'APPETIZERS', 'A', 'I', 'I', 'I', 'I', 'I', 'I', 'I', 'WILL', 'NEVER', 'EVER', 'STEP', 'FORWARD', 'IN', 'IT', 'AGAIN', 'I', 'LOVED', 'I', 'AND', 'REAL', 'I', 'I', 'I', 'I', 'BITCHES', 'I', 'I', 'I', 'I', 'NYC', 'I', 'I', 'I', 'I', 'I', 'I', 'I', 'STALE', 'I', 'I', 'DELICIOUS', 'I', 'I', 'I', 'I', 'I', 'I', 'I', 'I', 'I', 'I', 'I', 'I', 'I', 'I', 'I', 'WORST', 'EXPERIENCE', 'EVER', 'I', 'ALL', 'I', 'BARGAIN', 'I', 'TV', 'NONE', 'I', 'M', 'FREEZING', 'AYCE', 'I', 'I', 'I', 'I', 'I', 'I', 'I', 'I', 'I', 'I', 'I', 'I', 'I', 'FLAVOR', 'I', 'I', 'I', 'I', 'I', 'I', 'I', 'I', 'I', 'I', 'I', 'I', 'I', 'I', 'I', 'I', 'I', 'I', 'NEVER', 'I', 'I', 'I', 'I', 'BBQ', 'I', 'A', 'I', 'UNREAL', 'I', 'I', 'I', 'I', 'I', 'I', 'OMG', 'I', 'BETTER', 'I', 'I', 'BLAND', 'I', 'I', 'I', 'I', 'I', 'I', 'I', 'RUDE', 'INCONSIDERATE', 'MANAGEMENT', 'I', 'I', 'WILL', 'NEVER', 'EVER', 'GO', 'BACK', 'AND', 'HAVE', 'TOLD', 'MANY', 'PEOPLE', 'WHAT', 'HAD', 'HAPPENED', 'I', 'I', 'I', 'I', 'I', 'I', 'I', 'I', 'I', 'I', 'I', 'I', 'I', 'TOTAL', 'WASTE', 'OF', 'TIME', 'I', 'I', 'I', 'I', 'I', 'I', 'I', 'I', 'I', 'I', 'I', 'I', 'I', 'I', 'I', 'FS', 'I', 'I', 'I', 'I', 'I', 'I', 'I', 'I', 'I', 'AZ', 'I', 'I', 'I', 'I', 'LOVED', 'I', 'I', 'I', 'I', 'I', 'I', 'CONCLUSION', 'I', 'I', 'I', 'I', 'I', 'I', 'BEST', 'I', 'GO', 'NOW', 'A', 'I', 'I', 'GC', 'I', 'I', 'I', 'I', 'I', 'I', 'I', 'I', 'I', 'I', 'I', 'AVOID', 'THIS', 'ESTABLISHMENT', 'I', 'I', 'I', 'A', 'I', 'I', 'AN', 'HOUR', 'I', 'I', 'I', 'I', 'I', 'I', 'I', 'I', 'NASTY', 'OMG', 'I', 'I', 'NO', 'I', 'I', 'I', 'BEST', 'I', 'I', 'I', 'I', 'THE', 'OWNERS', 'REALLY', 'REALLY', 'I', 'I', 'I', 'I', 'I', 'I', 'I', 'I', 'I', 'I', 'I', 'I', 'PERFECT', 'SCREAMS', 'LEGIT', 'I', 'MGM', 'I', 'I', 'I', 'A', 'I', 'I', 'I', 'I', 'I', 'I', 'I', 'I', 'I', 'I', 'I', 'I', 'BEST', 'I', 'I', 'T', 'A', 'FLY', 'A', 'FLY', 'I', 'I', 'I', 'I', 'I', 'I', 'I', 'I', 'I', 'I', 'I', 'I', 'FANTASTIC', 'I', 'I', 'I', 'I', 'GREAT', 'OK', 'I', 'I', 'WAY', 'I', 'I', 'MUST', 'HAVE', 'I', 'I', 'I', 'I', 'I', 'I', 'OK', 'I', 'I', 'I', 'I', 'OVERPRICED', 'I', 'I', 'I', 'I', 'I', 'I', 'I', 'I', 'I', 'I', 'I', 'I', 'I', 'I', 'I', 'I', 'I', 'I', 'I', 'I', 'I', 'I', 'I', 'I', 'I', 'BARE', 'HANDS', 'I', 'I', 'I', 'I', 'I', 'I', 'I', 'I', 'I', 'I', 'I', 'I', 'I', 'I', 'I', 'WEAK', 'I', 'I', 'I', 'I', 'I', 'I', 'I', 'I', 'SHOULD', 'I', 'I', 'I', 'RI', 'I', 'I', 'I', 'I', 'I', 'I', 'I', 'VERY', 'I', 'I', 'I', 'NOT', 'I', 'I', 'I', 'I', 'I', 'I', 'I', 'I', 'I', 'I', 'I', 'I', 'I', 'I', 'I', 'I', 'I', 'I', 'A', 'I', 'I', 'I', 'I', 'I', 'I']\n",
            "455\n"
          ]
        }
      ],
      "source": [
        "print(all_uppercase_words)\n",
        "print(len(all_uppercase_words))"
      ]
    },
    {
      "cell_type": "markdown",
      "metadata": {
        "id": "GX8eYyDoMZma"
      },
      "source": [
        "*   **Pregunta 4.**  \n",
        "\n",
        "Busca e imprime los comentarios en donde todos los caracteres alfabéticos (letras) están en mayúsculas. \n",
        "\n",
        "Cada coincidencia encontrada debe ser todo el comentario/enunciado.\n",
        "\n",
        "Indica cuántos resultados obtuviste.\n"
      ]
    },
    {
      "cell_type": "code",
      "execution_count": 55,
      "metadata": {
        "id": "K8VuZxvTMYj6"
      },
      "outputs": [],
      "source": [
        "pattern = r'^(?:[^a-z]*)$'\n",
        "# Breakdown:\n",
        "# ^             -> Start of the string\n",
        "# (?:           -> Start of a non-capturing group (grouping without capturing for backreferences)\n",
        "#   [^a-z]*     -> Zero or more characters that are NOT lowercase letters (NOT 'a' to 'z')\n",
        "# )             -> End of non-capturing group\n",
        "# $             -> End of the string\n",
        "# \n",
        "# In simple words: \"The whole string must ONLY contain characters that are NOT lowercase letters.\"\n",
        "# Spaces, digits, punctuation are allowed. Only lowercase letters are forbidden.\n",
        "\n",
        "all_uppercase_lines = []\n",
        "\n",
        "for text in docs:\n",
        "    if re.match(pattern, text):\n",
        "        all_uppercase_lines.append(text)"
      ]
    },
    {
      "cell_type": "code",
      "execution_count": 56,
      "metadata": {
        "id": "PmKgX7sCMcDx"
      },
      "outputs": [
        {
          "name": "stdout",
          "output_type": "stream",
          "text": [
            "['DELICIOUS!!', 'RUDE & INCONSIDERATE MANAGEMENT.', 'WILL NEVER EVER GO BACK AND HAVE TOLD MANY PEOPLE WHAT HAD HAPPENED.', 'TOTAL WASTE OF TIME.', 'AVOID THIS ESTABLISHMENT!']\n",
            "5\n"
          ]
        }
      ],
      "source": [
        "print(all_uppercase_lines)\n",
        "print(len(all_uppercase_lines))"
      ]
    },
    {
      "cell_type": "markdown",
      "metadata": {
        "id": "a1i6qv7-McmU"
      },
      "source": [
        "*   **Pregunta 5.**  \n",
        "\n",
        "Busca e imprime todas las palabras que tengan una vocal acentuada, del tipo á, é, í, ó, ú. \n",
        "\n",
        "Indica cuántos resultados obtuviste."
      ]
    },
    {
      "cell_type": "code",
      "execution_count": 57,
      "metadata": {
        "id": "nZZ5zKUOMeGD"
      },
      "outputs": [],
      "source": [
        "pattern = r'\\b\\w*[áéíóúÁÉÍÓÚ]\\w*\\b'\n",
        "# Breakdown:\n",
        "# \\b             -> Start of a word\n",
        "# \\w*            -> Zero or more word characters before the accented vowel\n",
        "# [áéíóúÁÉÍÓÚ]   -> One accented vowel (either lowercase or uppercase)\n",
        "# \\w*            -> Zero or more word characters after the vowel\n",
        "# \\b             -> End of a word\n",
        "\n",
        "words_with_accents = []\n",
        "\n",
        "for text in docs:\n",
        "    matches = re.findall(pattern, text)  \n",
        "    words_with_accents.extend(matches)   \n",
        "\n"
      ]
    },
    {
      "cell_type": "code",
      "execution_count": 58,
      "metadata": {
        "id": "l1mFvUEZMe8s"
      },
      "outputs": [
        {
          "name": "stdout",
          "output_type": "stream",
          "text": [
            "['fiancé', 'Café', 'puréed']\n",
            "3\n"
          ]
        }
      ],
      "source": [
        "print(words_with_accents)\n",
        "print(len(words_with_accents))"
      ]
    },
    {
      "cell_type": "markdown",
      "metadata": {
        "id": "ZmPiAI82Mfb3"
      },
      "source": [
        "*   **Pregunta 6.**  \n",
        "\n",
        "Busca e imprime todas las cantidades numéricas monetarias, enteras o con decimales, que inician con el símbolo $\\$$. \n",
        "\n",
        "Indica cuántos resultados obtuviste."
      ]
    },
    {
      "cell_type": "code",
      "execution_count": 59,
      "metadata": {
        "id": "6vhe9-Y-MhL9"
      },
      "outputs": [],
      "source": [
        "pattern = r'\\$\\d+(?:\\.\\d{2})?'\n",
        "# Breakdown:\n",
        "# \\$           -> Literal dollar sign\n",
        "# \\d+          -> One or more digits\n",
        "# (?:          -> Start a non-capturing group\n",
        "#    \\.\\d{2}   -> A dot followed by exactly two digits (for decimals like .99)\n",
        "# )?           -> The whole decimal part is optional\n",
        "\n",
        "monetary_values = []\n",
        "\n",
        "for text in docs:\n",
        "    matches = re.findall(pattern, text)  \n",
        "    monetary_values.extend(matches)      "
      ]
    },
    {
      "cell_type": "code",
      "execution_count": 61,
      "metadata": {
        "id": "_t0a5xWDMhQ5"
      },
      "outputs": [
        {
          "name": "stdout",
          "output_type": "stream",
          "text": [
            "['$20', '$4.00', '$17', '$3', '$35', '$7.85', '$12', '$11.99']\n",
            "8\n"
          ]
        }
      ],
      "source": [
        "print(monetary_values)\n",
        "print(len(monetary_values))"
      ]
    },
    {
      "cell_type": "markdown",
      "metadata": {
        "id": "2j-HpvhwMhq2"
      },
      "source": [
        "*   **Pregunta 7.**  \n",
        "\n",
        "Busca e imprime todas las palabras que sean variantes de la palabra \"love\", sin importar si incluyen mayúsculas o minúsculas, o la manera en que esté conjugada o alguna otra variación que se haga con dicha palabra.\n",
        "\n",
        "Indica cuántos resultados obtuviste."
      ]
    },
    {
      "cell_type": "code",
      "execution_count": 66,
      "metadata": {
        "id": "kqqyRChVMjol"
      },
      "outputs": [],
      "source": [
        "pattern = r'\\b[lL]ov(?:e|ed|es|ing|er|ely|ers)?\\b'\n",
        "# Breakdown:\n",
        "# \\b         -> Start of a word\n",
        "# [lL]       -> 'l' or 'L'\n",
        "# ov         -> Literal \"ov\"\n",
        "# (?: ... )? -> Optional endings like e, ed, es, ing, er, ely, ers\n",
        "# \\b         -> End of a word\n",
        "\n",
        "love_variants = []\n",
        "\n",
        "for text in docs:\n",
        "    matches = re.findall(pattern, text, flags=re.IGNORECASE)\n",
        "    love_variants.extend(matches)"
      ]
    },
    {
      "cell_type": "code",
      "execution_count": 67,
      "metadata": {
        "id": "UXd0VQluMj_x"
      },
      "outputs": [
        {
          "name": "stdout",
          "output_type": "stream",
          "text": [
            "['Loved', 'loved', 'Loved', 'love', 'loves', 'LOVED', 'lovers', 'loving', 'love', 'lovers', 'Love', 'loved', 'loved', 'love', 'love', 'love', 'loved', 'love', 'loved', 'Love', 'LOVED', 'love', 'lovely', 'love', 'lovely', 'love', 'lover', 'loved', 'love', 'love', 'love', 'love', 'love', 'love', 'love', 'love']\n",
            "36\n"
          ]
        }
      ],
      "source": [
        "print(love_variants)\n",
        "print(len(love_variants))"
      ]
    },
    {
      "cell_type": "markdown",
      "metadata": {
        "id": "Ctb-NTY3MkYG"
      },
      "source": [
        "*   **Pregunta 8.**  \n",
        "\n",
        "Busca e imprime todas las palabras, variantes de \"so\" y \"good\", que tengan dos o más \"o\" en \"so\" y 3 o más \"o\" en good. \n",
        "\n",
        "Indica cuántas encontraste.\n"
      ]
    },
    {
      "cell_type": "code",
      "execution_count": null,
      "metadata": {
        "id": "A8Nf3B_cMlqg"
      },
      "outputs": [],
      "source": [
        "pattern = r'\\b[sS][o]{2,}\\b|\\b[gG]o{3,}d+\\b'\n",
        "# Breakdown:\n",
        "# \\b        -> Start of a word\n",
        "# [sS]      -> 's' or 'S'\n",
        "# o{2,}     -> 2 or more 'o's for \"so\" variants\n",
        "# \\b        -> End of the \"so\" word\n",
        "# |         -> OR\n",
        "# \\b        -> Start of a word\n",
        "# [gG]      -> 'g' or 'G'\n",
        "# o{3,}     -> 3 or more 'o's for \"good\" variants\n",
        "# d         -> Literal 'd'\n",
        "# \\b        -> End of the \"good\" word\n",
        "\n",
        "so_good_variants = []\n",
        "\n",
        "for text in docs:\n",
        "    matches = re.findall(pattern, text)\n",
        "    so_good_variants.extend(matches)"
      ]
    },
    {
      "cell_type": "code",
      "execution_count": 85,
      "metadata": {
        "id": "svS4-vvPMl6f"
      },
      "outputs": [
        {
          "name": "stdout",
          "output_type": "stream",
          "text": [
            "['Sooooo', 'soooo', 'gooodd', 'soooooo', 'soooo']\n",
            "5\n"
          ]
        }
      ],
      "source": [
        "print(so_good_variants)\n",
        "print(len(so_good_variants))"
      ]
    },
    {
      "cell_type": "markdown",
      "metadata": {
        "id": "hkak1opjMmlk"
      },
      "source": [
        "*   **Pregunta 9.**  \n",
        "\n",
        "Busca e imprime todas las palabras que tengan una longitud mayor estrictamente a 10 caracteres alfabéticos.\n",
        "\n",
        "No se consideran los signos de puntuación o caracteres especiales en la longitud de estas cadenas, solo caracteres alfabéticos en mayúsculas o minúsculas.\n",
        "\n",
        "Indica la cantidad de palabras encontradas.\n"
      ]
    },
    {
      "cell_type": "code",
      "execution_count": null,
      "metadata": {
        "id": "PYxdp3uhMoD0"
      },
      "outputs": [],
      "source": [
        "pattern = r'\\b[\\w\\'-]+\\b'\n",
        "# Breakdown:\n",
        "# \\b            -> Word boundary\n",
        "# [\\w'-]+       -> One or more letters, digits, underscores, apostrophes, or hyphens\n",
        "# \\b            -> Word boundary\n",
        "\n",
        "long_words = []\n",
        "\n",
        "for text in docs:\n",
        "    # Find all \"words\"\n",
        "    words = re.findall(pattern, text)\n",
        "    for word in words:\n",
        "        # Remove non-alphabetic characters for counting\n",
        "        cleaned = re.sub(r'[^a-zA-Z]', '', word)\n",
        "        if len(cleaned) > 10:\n",
        "            long_words.append(word)"
      ]
    },
    {
      "cell_type": "code",
      "execution_count": 87,
      "metadata": {
        "id": "BR7e2F4FMof-"
      },
      "outputs": [
        {
          "name": "stdout",
          "output_type": "stream",
          "text": [
            "['recommendation', 'recommended', 'overwhelmed', 'inexpensive', 'establishment', 'imaginative', 'opportunity', 'experiencing', 'underwhelming', 'relationship', 'unsatisfying', 'disappointing', 'outrageously', 'disappointing', 'expectations', 'restaurants', 'suggestions', 'disappointed', 'considering', 'Unfortunately', 'immediately', 'ingredients', 'accommodations', 'maintaining', 'Interesting', 'disrespected', 'accordingly', 'unbelievable', 'cheeseburger', 'descriptions', 'inexpensive', 'disappointed', 'Veggitarian', 'outstanding', 'recommendation', 'disappointed', 'disappointed', 'neighborhood', 'disappointed', 'Service-check', 'corporation', 'considering', 'exceptional', 'shawarrrrrrma', 'disappointed', 'vinaigrette', 'immediately', 'unbelievably', 'replenished', 'disappointed', 'enthusiastic', 'Outstanding', 'comfortable', 'interesting', 'INCONSIDERATE', 'considering', 'transcendant', 'disappointment', 'disappointed', 'disappointed', 'overwhelmed', 'professional', 'been-stepped-in-and-tracked-everywhere', 'Furthermore', 'combination', 'connoisseur', 'profiterole', 'outstanding', 'acknowledged', 'ventilation', 'beautifully', 'establishment', 'extraordinary', 'disappointed', 'cheesecurds', 'disappointed', 'interesting', 'experienced', 'opportunity', 'disgraceful', 'restaurants', 'ESTABLISHMENT', 'recommended', 'disappointed', 'recommended', 'acknowledged', 'presentation', 'Philadelphia', 'disappointed', 'disappointing', 'non-customer', 'grandmother', 'drastically', 'High-quality', 'informative', 'Disappointed', 'constructed', 'comfortable', 'Smashburger', 'cheeseburger', 'neighborhood', 'disappointed', 'hospitality', 'recommending', 'disappointed', 'deliciously', 'compliments', 'recommendation', 'establishment', 'calligraphy', 'traditional', 'combination', \"girlfriend's\", 'Unfortunately', 'Wienerschnitzel', 'golden-crispy', 'unfortunately', 'under-services', 'considering', 'highlighted', 'Mediterranean', 'unprofessional', 'anticipated', 'disappointing', 'unexperienced', 'disrespected', 'professional', 'restaurants', 'Disappointing', 'WAAAAAAyyyyyyyyyy', 'reservation', 'imagination', 'undercooked', 'disappointed', 'disappointment', 'disappointment', 'deuchebaggery', 'disappointed', 'disappointment', 'immediately', 'Unfortunately', 'disapppointment', 'circumstances', 'undercooked', 'caterpillar', 'presentation', 'disappointed', 'underwhelming']\n",
            "148\n"
          ]
        }
      ],
      "source": [
        "print(long_words)\n",
        "print(len(long_words))"
      ]
    },
    {
      "cell_type": "markdown",
      "metadata": {
        "id": "ApjTNzSxMpDc"
      },
      "source": [
        "*   **Pregunta 10.**  \n",
        "\n",
        "Busca e imprime todas las palabras que inician con una letra mayúscula y terminan con una minúscula, pero que además no sea la primera palabra del comentario/string. \n",
        "\n",
        "Indica la cantidad de resultados obtenidos."
      ]
    },
    {
      "cell_type": "code",
      "execution_count": 88,
      "metadata": {
        "id": "Vb0ndRGAMqdL"
      },
      "outputs": [],
      "source": [
        "pattern = r'(?<=\\W)[A-Z][\\w\\'-]*[a-z]\\b'\n",
        "# Breakdown:\n",
        "# (?<=\\W)       -> Ensure non-word character before (not first word)\n",
        "# [A-Z]         -> First letter is uppercase\n",
        "# [\\w'-]*       -> Middle characters (optional): letters, digits, underscore, hyphen, apostrophe\n",
        "# [a-z]         -> Last character must be lowercase\n",
        "# \\b            -> End of word\n",
        "\n",
        "matched_words = []\n",
        "\n",
        "for text in docs:\n",
        "    matches = re.findall(pattern, text)\n",
        "    matched_words.extend(matches)"
      ]
    },
    {
      "cell_type": "code",
      "execution_count": 89,
      "metadata": {
        "id": "dLPTRPnTMqqx"
      },
      "outputs": [
        {
          "name": "stdout",
          "output_type": "stream",
          "text": [
            "['Loved', 'May', 'Rick', 'Steve', 'Cape', 'Cod', 'This', 'Vegas', 'Burrittos', 'Blah', 'The', 'The', 'They', 'This', 'Mexican', 'Took', 'Luke', 'Our', 'Also', 'Overall', 'Poor', 'Hiro', 'On', 'Frozen', 'The', 'Firehouse', 'My', 'Greek', 'Greek', 'They', 'Loved', 'Heart', 'Attack', 'Grill', 'Vegas', 'The', 'The', 'Great', 'Dos', 'Gringos', 'The', 'Jeff', 'Really', 'It', 'Excalibur', 'Very', 'Bad', 'Customer', 'Service', \"I've\", 'Vegas', 'Rice', 'Company', 'Pho', 'In', \"It's\", 'Never', 'Hard', 'Rock', 'Casino', 'On', 'Our', 'The', 'Best', 'Buffet', 'Tigerlilly', 'The', 'Yama', 'At', 'Thai', 'Nice', 'Although', 'Indian', 'Worst', 'The', 'We', 'Host', 'Not', \"I'll\", 'Phenomenal', 'Definitely', \"I'm\", 'Vegas', 'They', 'Delicious', 'Lox', 'Great', 'Subway', 'Subway', 'Vegas', 'He', 'Vegas', 'The', 'The', 'Mandalay', 'Bay', 'Great', 'Voodoo', \"I'd\", 'Unfortunately', 'Their', 'Phoenix', 'This', 'Vegas', 'Lordy', 'Khao', 'Soi', 'Perhaps', \"I'm\", 'The', 'Not', 'The', 'Love', 'Lemon', 'The', 'Also', 'When', \"Joey's\", 'Valley', 'Phoenix', 'Magazine', 'Pho', 'Fridays', \"I've\", 'The', 'If', 'For', 'Tasty', 'Jamaican', 'The', 'Lobster', 'Bisque', 'Bussell', 'Sprouts', 'Risotto', 'Filet', 'It', 'Otto', 'As', 'If', 'Ordered', 'Yeah', \"TV's\", 'If', 'The', \"I'd\", 'Honestly', \"M's\", 'Not', 'Everyone', 'It', 'Also', 'Drinks', 'Seriously', 'Vegas', 'Greek', 'Overall', 'Vegas', 'Good', 'Plus', 'The', 'Thus', 'For', 'Veggitarian', 'Stopped', 'Madison', 'Ironman', \"I've\", 'Jenni', 'Pho', 'Bachi', 'Burger', 'This', 'Pizza', 'Salads', 'They', 'Yelpers', 'The', 'You', 'Bachi', 'Service-check', 'Will', 'As', \"I'd\", 'In', 'English', 'Great', 'By', 'Back', 'And', 'Also', \"I've\", 'They', \"I've\", 'Pizza', 'Hut', 'Both', 'We', 'Seat', 'The', 'Gold', 'Standard', 'Of', 'Thai', 'Tucson', \"I've\", 'Vegas', 'This', 'Chipotle', 'Classy', 'Baseball', 'On', 'Sadly', 'Gordon', \"Ramsey's\", 'Steak', 'Vegas', \"I've\", 'The', 'Outstanding', 'Best', 'Food', \"I'll\", 'Lobster', 'Bisque', 'Vegas', 'The', 'The', 'They', 'Eggplant', 'Green', 'Bean', 'In', 'The', 'Halibut', \"I'm\", 'Vegas', 'If', 'Vegas', 'Vegas', 'Crystals', 'Aria', 'To', 'Ians', 'Overall', 'Bouchon', \"I'm\", 'Great', 'San', 'Francisco', 'Bay', 'Area', 'Buldogis', 'Gourmet', 'Hot', 'Dog', 'Come', 'For', 'Our', 'On', 'Furthermore', \"I'm\", 'Strike', \"I've\", 'Steiners', 'If', 'Anyway', 'Not', 'The', 'The', \"I'll\", \"Carly's\", 'This', 'Love', 'Vegas', 'Very', 'Total', 'Camelback', 'Flower', 'Shop', 'Cartel', 'Coffee', 'Third', 'This', 'Las', 'Vegas', \"I've\", 'This', 'It', 'Worse', 'Bunch', 'Very', 'This', \"Mom's\", \"I'd\", 'Noca', 'Give', 'At', 'Anyway', 'Point', 'Oh', 'Similarly', 'Be', 'The', 'Vegas', 'Sat', 'Sun', 'If', 'Mexican', 'Frenchman', 'Great', 'No', \"I'm\", 'Perfect', 'Vegas', 'However', 'Palm', 'The', 'Are', 'This', 'He', 'The', 'As', \"I'm\", 'If', 'Thai', 'All', \"I'll\", 'My', 'Toast', 'Thai', 'It', 'Phoenix', 'Crema', 'Philadelphia', 'We', 'Good', 'North', 'Scottsdale', 'The', 'Sorry', 'Bloody', 'Mary', 'Despite', 'Pho', 'The', 'Same', 'Caesar', 'After', 'Macarons', 'Our', 'Experience', 'Very', 'Disappointed', 'Big', 'Bay', 'Plater', 'Not', 'Italian', 'That', 'Vegas', 'Baba', 'Ganoush', 'Very', 'The', 'Nobu', 'Smashburger', \"I've\", \"I'm\", 'Panna', 'Cotta', 'Very', 'Prices', 'The', 'Good', 'Hawaiian', 'Breeze', 'Mango', 'Magic', 'Pineapple', 'Delight', \"I've\", 'We', 'Needless', 'Anyways', 'The', 'The', 'Strip', 'Steak', 'Paradise', 'Valley', 'Cibo', 'Service', 'That', 'Thumbs', 'Up', 'Italian', 'Pros', 'Large', 'Nice', 'Great', 'The', 'Elk', 'Filet', 'After', 'Cute', 'The', 'Dylan', 'All', 'One', 'Han', 'Nan', 'Chicken', 'As', 'The', 'Bar', 'Edinburgh', 'Chinese', \"I've\", 'Overall', 'Indian', 'Probably', \"Friend's\", 'Try', 'Chinese', 'When', 'The', 'Level', 'Main', 'When', \"I'm\", \"I'll\", 'Food', 'Prices', 'The', \"I'm\", 'Phoenix', \"It's\", 'Both', 'Hot', 'Sour', 'Egg', 'Flower', 'Soups', 'Stars', 'Sunday', 'Hunan', 'What', 'The', 'Unfortunately', 'Perfect', 'The', \"I'm\", 'The', 'Great', 'Pita', 'Wienerschnitzel', 'Maine', 'Lobster', 'Roll', 'My', 'The', 'Lastly', 'The', 'This', \"I'm\", 'Kabuki', 'Best', 'Maria', \"Caballero's\", 'In', \"I'm\", 'To', 'Bad', 'The', 'Wife', 'Went', \"I've\", 'This', 'Hot', 'Everything', 'They', \"I've\", 'For', 'Strip', 'The', \"I'm\", \"Costco's\", 'All', 'To', 'Place', 'Gyros', 'Japanese', 'Now', 'The', 'Albondigas', 'On', 'After', 'No', 'Mediterranean', 'Chicken', 'Salad', 'Mellow', 'Mushroom', 'Thai', 'Vegas', 'Overall', 'Mmmm', 'Buffet', 'Bellagio', 'And', 'My', 'Also', 'Vegas', 'Very', 'How', 'There', 'What', 'Christmas', 'Eve', 'Needless', 'Every', 'However', 'It', 'The', \"Denny's\", 'If', 'The', 'The', 'The', 'The', 'It', 'Maybe', 'Vegetarian', \"I've\", 'The', 'The', 'Then', 'Insults', 'Taco', 'Unfortunately', 'Your', 'Heimer', 'All', 'Ha', 'Long', 'Bay', 'Subway', 'When', 'Brushfire', 'It', 'Mirage', 'In', 'The', 'Ninja', 'Sushi', 'Then']\n",
            "557\n"
          ]
        }
      ],
      "source": [
        "print(matched_words)\n",
        "print(len(matched_words))"
      ]
    },
    {
      "cell_type": "markdown",
      "metadata": {
        "id": "u7nfm4KhMrNW"
      },
      "source": [
        "*   **Pregunta 11.**  \n",
        "\n",
        "Busca e imprime la secuencia de dos o más palabras que están separadas por un guion, \"-\", sin que tengan espacios en blanco entre ellas.\n",
        "\n",
        "Por ejemplo \"Go-Kart\" sería válido, pero \"Go  -Kart\" o \"Go  -  Kart\" no lo serían. \n",
        "\n",
        "Indica la cantidad de resultados obtenidos."
      ]
    },
    {
      "cell_type": "code",
      "execution_count": 90,
      "metadata": {
        "id": "OwU-a7eGMsub"
      },
      "outputs": [],
      "source": [
        "pattern = r'\\b\\w+(?:-\\w+){1,}\\b'\n",
        "# Breakdown:\n",
        "# \\b              -> Word boundary at the start (ensures clean word start)\n",
        "# \\w+             -> One or more word characters (first word)\n",
        "# (?:             -> Start of a non-capturing group (we don't need to save this group separately)\n",
        "#    -\\w+         -> A dash '-' followed immediately by one or more word characters (next word)\n",
        "# ){1,}           -> Repeat the non-capturing group one or more times (at least two words total)\n",
        "# \\b              -> Word boundary at the end (ensures clean word end)\n",
        "\n",
        "dash_sequences = []\n",
        "\n",
        "for text in docs:\n",
        "    matches = re.findall(pattern, text)\n",
        "    dash_sequences.extend(matches)"
      ]
    },
    {
      "cell_type": "code",
      "execution_count": 91,
      "metadata": {
        "id": "SgzIL74ZMtGw"
      },
      "outputs": [
        {
          "name": "stdout",
          "output_type": "stream",
          "text": [
            "['flat-lined', 'hands-down', 'must-stop', 'sub-par', 'Service-check', 'in-house', 'been-stepped-in-and-tracked-everywhere', 'multi-grain', 'to-go', 'non-customer', 'High-quality', 'sit-down', 'over-whelm', 'low-key', 'non-fancy', 'golden-crispy', 'over-priced', 'over-hip', 'under-services']\n",
            "19\n"
          ]
        }
      ],
      "source": [
        "print(dash_sequences)\n",
        "print(len(dash_sequences))"
      ]
    },
    {
      "cell_type": "markdown",
      "metadata": {
        "id": "DEIgl79HMthr"
      },
      "source": [
        "*   **Pregunta 12.**  \n",
        "\n",
        "Busca e imprime todas las palabras que terminan en \"ing\" o \"ed\". \n",
        "\n",
        "Indica la cantidad de palabras que encontraste de cada una."
      ]
    },
    {
      "cell_type": "code",
      "execution_count": 92,
      "metadata": {
        "id": "I4TSofBMMv9y"
      },
      "outputs": [],
      "source": [
        "pattern = r'\\b\\w+(?:ing|ed)\\b'\n",
        "# Breakdown:\n",
        "# \\b          -> Word boundary at start\n",
        "# \\w+         -> One or more word characters\n",
        "# (?:ing|ed)  -> Must end with 'ing' or 'ed'\n",
        "# \\b          -> Word boundary at end\n",
        "\n",
        "ending_words = []\n",
        "\n",
        "for text in docs:\n",
        "    matches = re.findall(pattern, text)\n",
        "    ending_words.extend(matches)\n",
        "\n",
        "# Count how many end with \"ing\" and \"ed\"\n",
        "counter = {\"ing\": 0, \"ed\": 0}\n",
        "\n",
        "for word in ending_words:\n",
        "    if word.endswith('ing'):\n",
        "        counter[\"ing\"] += 1\n",
        "    elif word.endswith('ed'):\n",
        "        counter[\"ed\"] += 1"
      ]
    },
    {
      "cell_type": "code",
      "execution_count": 93,
      "metadata": {
        "id": "AhGq6De2Mvyh"
      },
      "outputs": [
        {
          "name": "stdout",
          "output_type": "stream",
          "text": [
            "Words found: ['Loved', 'Stopped', 'during', 'loved', 'getting', 'being', 'ended', 'being', 'overpriced', 'tried', 'disgusted', 'shocked', 'recommended', 'amazing', 'performed', 'red', 'asked', 'running', 'overwhelmed', 'redeeming', 'grossed', 'melted', 'getting', 'provided', 'thing', 'cooked', 'dressing', 'refreshing', 'ordered', 'running', 'realized', 'Loved', 'lined', 'cooked', 'ripped', 'ripped', 'petrified', 'amazing', 'included', 'expected', 'nothing', 'appalling', 'seasoned', 'cheated', 'wasting', 'eating', 'going', 'Coming', 'experiencing', 'underwhelming', 'walked', 'smelled', 'eating', 'raving', 'tailored', 'spring', 'unsatisfying', 'amazing', 'Everything', 'disappointing', 'dining', 'flirting', 'arrived', 'roasted', 'added', 'thing', 'coming', 'cooked', 'playing', 'passed', 'ordering', 'arriving', 'liked', 'disappointing', 'managed', 'served', 'preparing', 'loving', 'liking', 'reviewing', 'venturing', 'overpriced', 'including', 'during', 'checked', 'disappointed', 'red', 'decorated', 'changing', 'going', 'considering', 'served', 'coming', 'watched', 'greeted', 'seated', 'waited', 'flavored', 'ordered', 'going', 'everything', 'ordered', 'relocated', 'impressed', 'seated', 'priced', 'looking', 'treated', 'ordered', 'dressing', 'dining', 'used', 'handed', 'listed', 'missed', 'Everything', 'thrilled', 'amazing', 'judging', 'inspired', 'desired', 'maintaining', 'asking', 'overcooked', 'decided', 'looked', 'having', 'dressed', 'treated', 'something', 'lacking', 'ordered', 'sucked', 'expected', 'sucked', 'imagined', 'Interesting', 'served', 'preparing', 'arrived', 'missing', 'feeling', 'satisfied', 'voted', 'insulted', 'disrespected', 'exceeding', 'dreamed', 'inviting', 'lived', 'stepped', 'mixed', 'showed', 'climbing', 'waiting', 'realized', 'coming', 'loved', 'being', 'lacking', 'needed', 'going', 'loved', 'wrapped', 'uninspired', 'amazing', 'dealing', 'annoying', 'Ordered', 'falling', 'uploaded', 'sporting', 'covered', 'supposed', 'amazing', 'rolled', 'stayed', 'providing', 'building', 'lighting', 'Based', 'received', 'going', 'nothing', 'privileged', 'working', 'eating', 'dressing', 'being', 'charged', 'visited', 'proclaimed', 'disappointed', 'Stopped', 'dedicated', 'liked', 'outstanding', 'getting', 'disappointed', 'waited', 'waited', 'burned', 'waited', 'amazing', 'disappointed', 'Waited', 'disappointed', 'pulled', 'prepared', 'rating', 'eating', 'writing', 'everything', 'dining', 'fried', 'boring', 'passed', 'charming', 'ordered', 'toasted', 'untoasted', 'going', 'figured', 'making', 'pricing', 'considering', 'returned', 'amazing', 'eyed', 'disappointed', 'pleased', 'Everything', 'replenished', 'disappointed', 'nothing', 'nothing', 'driving', 'treated', 'during', 'evening', 'offered', 'Outstanding', 'tasted', 'buying', 'handling', 'wasting', 'craving', 'dropped', 'dining', 'decorated', 'interesting', 'amazing', 'being', 'served', 'outshining', 'starving', 'coming', 'walked', 'stuffed', 'considering', 'located', 'shopping', 'nothing', 'Cooked', 'disappointed', 'getting', 'screwed', 'frustrated', 'iced', 'stuffed', 'disappointed', 'trying', 'grossed', 'enjoyed', 'eating', 'going', 'looked', 'overwhelmed', 'stayed', 'everything', 'smeared', 'stepped', 'tracked', 'tried', 'rushed', 'loved', 'Ordered', 'Nothing', 'cooked', 'going', 'insulted', 'contained', 'enjoyed', 'relaxed', 'loved', 'outstanding', 'running', 'acknowledged', 'forgetting', 'upgrading', 'trimmed', 'cooked', 'claimed', 'handled', 'asked', 'eating', 'bring', 'hoping', 'living', 'limited', 'boiled', 'dining', 'liked', 'sliced', 'attached', 'humiliated', 'filling', 'fried', 'amazing', 'impressed', 'disappointed', 'priced', 'Everything', 'disappointed', 'thing', 'amazing', 'need', 'Everything', 'interesting', 'need', 'experienced', 'amazing', 'amazing', 'waited', 'seated', 'waiting', 'going', 'going', 'dining', 'decided', 'pleased', 'saving', 'something', 'trying', 'disgusting', 'hankering', 'recommended', 'being', 'helped', 'witnessed', 'Waited', 'waited', 'waited', 'checked', 'tasted', 'disappointed', 'being', 'served', 'rated', 'recommended', 'pulled', 'waited', 'being', 'acknowledged', 'setting', 'perpared', 'dusted', 'powdered', 'enjoyed', 'expanded', 'sitting', 'ended', 'waiting', 'arrived', 'satisfying', 'wanted', 'disappointed', 'eating', 'need', 'being', 'freaking', 'checked', 'impressed', 'reheated', 'getting', 'amazing', 'tasted', 'disappointing', 'grilled', 'seasoning', 'going', 'focused', 'roasted', 'asked', 'being', 'ignored', 'bring', 'letting', 'tasted', 'evening', 'Ordered', 'greeted', 'seated', 'Tried', 'waiting', 'being', 'seated', 'eating', 'going', 'Disappointed', 'ordered', 'constructed', 'seating', 'fried', 'playing', 'requested', 'amazing', 'staying', 'used', 'tasted', 'giving', 'talking', 'amazing', 'drenched', 'amazing', 'amazing', 'tried', 'walked', 'expected', 'amazing', 'disappointed', 'mortified', 'filling', 'dripping', 'impressed', 'going', 'serving', 'refrained', 'recommending', 'pleased', 'thing', 'reading', 'loved', 'grilled', 'reminded', 'seating', 'sucked', 'hooked', 'ordered', 'going', 'disappointed', 'everything', 'seasoned', 'thing', 'added', 'sitting', 'waiting', 'bring', 'revisiting', 'coming', 'touched', 'anything', 'fried', 'opened', 'impressed', 'feeling', 'during', 'watched', 'thing', 'being', 'Tasted', 'amazing', 'being', 'amazing', 'ordered', 'satifying', 'describing', 'coming', 'everything', 'received', 'Paying', 'going', 'impressed', 'overcooked', 'cooked', 'needed', 'served', 'thing', 'ordered', 'amazing', 'overpriced', 'packed', 'getting', 'opposed', 'cramming', 'priced', 'surprised', 'considering', 'focused', 'overpriced', 'fucking', 'tried', 'enjoyed', 'going', 'qualified', 'tasted', 'hated', 'appealing', 'getting', 'coming', 'watched', 'Everything', 'fried', 'dealing', 'everything', 'tried', 'something', 'during', 'helped', 'dining', 'cooking', 'dining', 'started', 'editing', 'highlighted', 'setting', 'used', 'amazing', 'enjoyed', 'ordered', 'tasted', 'asked', 'refused', 'tried', 'rotating', 'Pricing', 'toasted', 'satisfying', 'anticipated', 'disappointing', 'amazing', 'returning', 'unexperienced', 'running', 'insulted', 'disrespected', 'being', 'impressed', 'thing', 'puréed', 'nothing', 'poisoning', 'thinking', 'something', 'going', 'disgusting', 'caring', 'bring', 'asked', 'Disappointing', 'rated', 'saying', 'going', 'lacked', 'coming', 'sliced', 'pulled', 'building', 'seating', 'undercooked', 'dipping', 'seemed', 'watered', 'lacked', 'disappointed', 'overpriced', 'setting', 'ensued', 'anything', 'drinking', 'serving', 'disappointed', 'placed', 'avoided', 'received', 'wanted', 'doing', 'sucked', 'happened', 'putting', 'owned', 'wanted', 'Overpriced', 'getting', 'vomited', 'looking', 'started', 'coming', 'unwrapped', 'lacked', 'seemed', 'undercooked', 'closed', 'staying', 'refried', 'dried', 'disappointed', 'lacking', 'impressed', 'underwhelming', 'wasted', 'poured', 'drawing', 'bring']\n",
            "Count summary: {'ing': 279, 'ed': 335}\n"
          ]
        }
      ],
      "source": [
        "print(\"Words found:\", ending_words)\n",
        "print(\"Count summary:\", counter)"
      ]
    },
    {
      "cell_type": "markdown",
      "metadata": {
        "id": "70StdqAZa9E9"
      },
      "source": [
        "# **Parte 3. Proceso de limpieza.**"
      ]
    },
    {
      "cell_type": "markdown",
      "metadata": {
        "id": "xaDUFXHrMvX2"
      },
      "source": [
        "*   **Pregunta 13.**  \n",
        "\n",
        "Ahora realiza un proceso de limpieza del corpus que incluya los siguientes procesos:\n",
        "\n",
        "*   Solo se deben considerar caracteres alfabéticos. Es decir, se eliminan todos los signos de puntuación y caracteres especiales.\n",
        "*   Todos los caracteres alfabéticos se transforman a minúsculas.\n",
        "*   Se deben eliminar todos los espacios en blanco adicionales que se puedan encontrar en cada comentario.\n",
        "\n",
        "Al finalizar dicho proceso de limpieza, imprime el resultado de los primeros 10 comentarios resultantes. \n",
        "   \n",
        "\n",
        "\n"
      ]
    },
    {
      "cell_type": "code",
      "execution_count": null,
      "metadata": {
        "id": "K3kQzPOPMx0w"
      },
      "outputs": [],
      "source": []
    },
    {
      "cell_type": "code",
      "execution_count": null,
      "metadata": {
        "id": "mYEDlHSFMyJN"
      },
      "outputs": [],
      "source": []
    },
    {
      "cell_type": "markdown",
      "metadata": {
        "id": "WZwEhg2lUSAX"
      },
      "source": [
        "*   **Pregunta 14.**  \n",
        "\n",
        "Con el resultado de la limpieza obtenido en la pregunta anterior, realiza ahora un proceso de tokenización por palabras del corpus. \n",
        "\n",
        "Es decir, al final de este proceso de tokenización, debes tener como resultado una lista de listas, donde cada comentario estará tokenizado por palabras.\n",
        "\n",
        "Al terminar calcula el total de tokens obtenido en todo el corpus. "
      ]
    },
    {
      "cell_type": "code",
      "execution_count": null,
      "metadata": {
        "id": "kbAL9-v0V-jx"
      },
      "outputs": [],
      "source": []
    },
    {
      "cell_type": "code",
      "execution_count": null,
      "metadata": {
        "id": "DZs_etmiV-fd"
      },
      "outputs": [],
      "source": []
    },
    {
      "cell_type": "markdown",
      "metadata": {
        "id": "EFeu0OJ7WDPD"
      },
      "source": [
        "*   **Pregunta 15.**  \n",
        "\n",
        "Finalmente, en este ejercicio definiremos nuestro conjunto de palabras \"stopwords\", las cuales deberás eliminar de todo el corpus. \n",
        "\n",
        "Recuerda que ejemplos de stopwords son artículos, adverbios, conectivos, etcétera, que tienen frecuencias de aparición muy altas en cualquier documento, pero que no brindan mucho significado en cuanto al significado de un enunciado.\n",
        "\n",
        "Con base a la lista de stopwords que se te proporciona, realiza un proceso de limpieza eliminando todas estas palabras del corpus obtenido en el ejercicio anterior.\n",
        "\n",
        "Obtener cuántos tokens/palabras quedan finalmente en todo el corpus.\n",
        "\n",
        "Obtener cuántos de estos tokens/palabras son diferentes, es decir, cuántos tokens únicos tendrá lo que llamaremos más adelante nuestro vocabulario."
      ]
    },
    {
      "cell_type": "code",
      "execution_count": 7,
      "metadata": {
        "id": "6FP4FF3KXGxm"
      },
      "outputs": [],
      "source": [
        "# Considera la siguiente lista como tu conjunto de stopwords:\n",
        "mis_stopwords = ['i', 'me', 'my', 'myself', 'we', 'our', 'ours', 'ourselves', 'you', 'your', 'yours', 'he', 'him', 'his', 'himself', 'she', 'her', 'hers', 'herself', 'it', 'its', 'itself', 'they', 'them', 'their', 'theirs', 'themselves', 'what', 'which', 'who', 'whom', 'this', 'that', 'these', 'those', 'am', 'is', 'are', 'was', 'were', 'be', 'been', 'being', 'have', 'has', 'had', 'having', 'do', 'does', 'did', 'doing', 'a', 'an', 'the', 'and', 'but', 'if', 'or', 'because', 'as', 'until', 'while', 'of', 'at', 'by', 'for', 'with', 'about', 'against', 'between', 'into', 'through', 'during', 'before', 'after', 'above', 'below', 'to', 'from', 'up', 'down', 'in', 'out', 'on', 'over', 'under', 'again', 'further', 'then', 'once', 'here', 'there', 'when', 'where', 'why', 'how', 'all', 'any', 'both', 'each', 'few', 'more', 'most', 'other', 'some', 'such', 'only', 'own', 'same', 'so', 'than', 'too', 'very', 's', 't', 'can', 'will', 'just', 'should', 'now', 'll']"
      ]
    },
    {
      "cell_type": "code",
      "execution_count": null,
      "metadata": {
        "id": "CD8yjyq1ZrwY"
      },
      "outputs": [],
      "source": []
    },
    {
      "cell_type": "code",
      "execution_count": null,
      "metadata": {
        "id": "4ZPi5prKZro5"
      },
      "outputs": [],
      "source": []
    },
    {
      "cell_type": "markdown",
      "metadata": {
        "id": "NDbKkuxRbLoX"
      },
      "source": [
        "*   **Comentarios**\n",
        "\n",
        "Incluye finalmente tus comentarios de la actividad."
      ]
    },
    {
      "cell_type": "markdown",
      "metadata": {
        "id": "o7fzbvqVbUGr"
      },
      "source": [
        "<< incluye aquí tus comentarios >>"
      ]
    },
    {
      "cell_type": "markdown",
      "metadata": {
        "id": "PHaKw_6Ldbaf"
      },
      "source": [
        "## **Fin de la Actividad de la semana 2.**"
      ]
    }
  ],
  "metadata": {
    "colab": {
      "collapsed_sections": [
        "759SG4TyfbUn",
        "Zj-h4drXD-X9",
        "BY6yifxscfrx",
        "k_ewoagic5jc",
        "70StdqAZa9E9"
      ],
      "provenance": []
    },
    "kernelspec": {
      "display_name": "env",
      "language": "python",
      "name": "python3"
    },
    "language_info": {
      "codemirror_mode": {
        "name": "ipython",
        "version": 3
      },
      "file_extension": ".py",
      "mimetype": "text/x-python",
      "name": "python",
      "nbconvert_exporter": "python",
      "pygments_lexer": "ipython3",
      "version": "3.13.2"
    }
  },
  "nbformat": 4,
  "nbformat_minor": 0
}
