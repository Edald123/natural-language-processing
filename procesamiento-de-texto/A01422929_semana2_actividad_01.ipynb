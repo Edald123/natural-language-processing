{
  "cells": [
    {
      "cell_type": "markdown",
      "metadata": {
        "id": "759SG4TyfbUn"
      },
      "source": [
        "# **Maestría en Inteligencia Artificial Aplicada**\n",
        "## **Curso: Procesamiento de Lenguaje Natural (NLP)**\n",
        "### Tecnológico de Monterrey\n",
        "### Prof Luis Eduardo Falcón Morales\n",
        "\n",
        "## **Adtividad de la Semana 02**\n",
        "### **Introducción al procesamiento de texto.**"
      ]
    },
    {
      "cell_type": "markdown",
      "metadata": {
        "id": "6ue1YAKx3XDo"
      },
      "source": [
        "En esta actividad deberás utilizar los datos del siguiente archivo que se encuentra en Canvas:\n",
        "\n",
        "MNA_NLP_semana_02_Actividad_datos.txt\n",
        "\n",
        "El archivo contiene comentarios en inglés sobre servicios de comida de la página de Yelp: https://www.yelp.com/ . \n",
        "\n",
        "Son mil comentarios y forman parte del conjunto de datos que se encuentra en el Machine Learning Repository de la UCI, llamado \"Sentiment Labelled Sentences\": https://archive.ics.uci.edu/ml/datasets/Sentiment+Labelled+Sentences#\n"
      ]
    },
    {
      "cell_type": "markdown",
      "metadata": {
        "id": "Zj-h4drXD-X9"
      },
      "source": [
        "# **Parte 1. Cargamos los datos.**   "
      ]
    },
    {
      "cell_type": "markdown",
      "metadata": {
        "id": "BY6yifxscfrx"
      },
      "source": [
        "Cargar los datos del archivo indicado y obtener una lista de longitud de 1000 strings/comentarios. \n",
        "\n",
        "Por el momento solamente requerimos las bibliotecas de Numpy y re, para el manejo de los arreglos y de las expresiones regulares en Python.\n",
        "\n",
        "En particular, no necesitarás en esta actividad la biblioteca de Pandas.\n",
        "\n",
        "### **NOTA: En esta actividad no debes importar nada más, con estas dos bibliotecas será *suficiente*.**"
      ]
    },
    {
      "cell_type": "code",
      "execution_count": 1,
      "metadata": {
        "id": "OJ26dAfhdFnf"
      },
      "outputs": [],
      "source": [
        "import numpy as np    # importamos Numpy para el manejo de los arreglos.\n",
        "import re             # importamos re para el manejo de las expresiones regulares."
      ]
    },
    {
      "cell_type": "code",
      "execution_count": 2,
      "metadata": {
        "id": "QHUmJyjDdGNP"
      },
      "outputs": [],
      "source": [
        "# Ejecuta las siguientes instrucciones para cargar la información del achivo dado:\n",
        "\n",
        "with open('MNA_NLP_semana_02_Actividad_datos.txt',        # puedes actualizar la ruta a tu archivo, en dado caso.\n",
        "          mode='r',     # abrimos el archivo en modo lectura.\n",
        "          ) as f:\n",
        "    docs = f.readlines()    # separamos cada comentario por líneas\n",
        "\n",
        "f.close()  # ya que tenemos la información en la variable docs, cerramos el archivo"
      ]
    },
    {
      "cell_type": "code",
      "execution_count": 3,
      "metadata": {
        "id": "L6WzrSrodG-Y"
      },
      "outputs": [
        {
          "data": {
            "text/plain": [
              "True"
            ]
          },
          "execution_count": 3,
          "metadata": {},
          "output_type": "execute_result"
        }
      ],
      "source": [
        "type(docs) == list   # Verifica que tu variable \"docs\" es una lista"
      ]
    },
    {
      "cell_type": "code",
      "execution_count": 4,
      "metadata": {
        "id": "QIK1u9WS2FtS"
      },
      "outputs": [
        {
          "data": {
            "text/plain": [
              "True"
            ]
          },
          "execution_count": 4,
          "metadata": {},
          "output_type": "execute_result"
        }
      ],
      "source": [
        "len(docs)==1000  # verifica que la longitud de \"docs\" es de mil comentarios."
      ]
    },
    {
      "cell_type": "code",
      "execution_count": 5,
      "metadata": {
        "id": "9AMLIfQvJqNZ"
      },
      "outputs": [
        {
          "data": {
            "text/plain": [
              "['Wow... Loved this place.\\n',\n",
              " 'Crust is not good.\\n',\n",
              " 'Not tasty and the texture was just nasty.\\n',\n",
              " 'Stopped by during the late May bank holiday off Rick Steve recommendation and loved it.\\n',\n",
              " 'The selection on the menu was great and so were the prices.\\n',\n",
              " 'Now I am getting angry and I want my damn pho.\\n',\n",
              " \"Honeslty it didn't taste THAT fresh.)\\n\",\n",
              " 'The potatoes were like rubber and you could tell they had been made up ahead of time being kept under a warmer.\\n',\n",
              " 'The fries were great too.\\n',\n",
              " 'A great touch.\\n']"
            ]
          },
          "execution_count": 5,
          "metadata": {},
          "output_type": "execute_result"
        }
      ],
      "source": [
        "docs[0:10]     # observa algunos de los primeros comentarios"
      ]
    },
    {
      "cell_type": "markdown",
      "metadata": {
        "id": "k_ewoagic5jc"
      },
      "source": [
        "# **Parte 2: sección de preguntas (regex).**   \n"
      ]
    },
    {
      "cell_type": "markdown",
      "metadata": {
        "id": "X-eMJa3DFCIV"
      },
      "source": [
        "## **Instrucciones:**\n",
        "\n",
        "### **A continuación deberás contestar cada una de las preguntas que te piden usando expresiones regulares (regex).**\n",
        "\n",
        "### **Por el momento no hay restricción en cuanto al número de líneas de código que agregues, pero trata de incluir las mínimas posibles.**"
      ]
    },
    {
      "cell_type": "markdown",
      "metadata": {
        "id": "78nJMemzn5a5"
      },
      "source": [
        "*   **Pregunta 1.** \n",
        "\n",
        "Busca y elimina todos los saltos de línea '\\n' que se encuentran al final de cada comentario. \n",
        "\n",
        "Una vez finalizado, imprime los primeros 10 comentarios del resultado obtenido.\n"
      ]
    },
    {
      "cell_type": "code",
      "execution_count": null,
      "metadata": {
        "id": "PwbYYIuZn8pE"
      },
      "outputs": [],
      "source": [
        "for i in range(len(docs)):\n",
        "    docs[i] = docs[i].replace('\\n', '')"
      ]
    },
    {
      "cell_type": "code",
      "execution_count": null,
      "metadata": {
        "id": "j-0qeh2Jn8l1"
      },
      "outputs": [
        {
          "data": {
            "text/plain": [
              "['Wow... Loved this place.',\n",
              " 'Crust is not good.',\n",
              " 'Not tasty and the texture was just nasty.',\n",
              " 'Stopped by during the late May bank holiday off Rick Steve recommendation and loved it.',\n",
              " 'The selection on the menu was great and so were the prices.',\n",
              " 'Now I am getting angry and I want my damn pho.',\n",
              " \"Honeslty it didn't taste THAT fresh.)\",\n",
              " 'The potatoes were like rubber and you could tell they had been made up ahead of time being kept under a warmer.',\n",
              " 'The fries were great too.',\n",
              " 'A great touch.']"
            ]
          },
          "execution_count": 15,
          "metadata": {},
          "output_type": "execute_result"
        }
      ],
      "source": [
        "docs[0:10]"
      ]
    },
    {
      "cell_type": "markdown",
      "metadata": {
        "id": "VWeKQC93ctEo"
      },
      "source": [
        "*   **Pregunta 2.**  \n",
        "\n",
        "Busca e imprime todas las palabras que terminan con dos o más signos de admiración seguidos, por ejemplo \"!!!\". \n",
        "\n",
        "Debes imprimir tanto la palabra como la totalidad de signos de admiración que le siguen. \n",
        "\n",
        "Indica cuántos resultados obtuviste.\n",
        "\n"
      ]
    },
    {
      "cell_type": "code",
      "execution_count": null,
      "metadata": {
        "id": "0p3kMXfddICc"
      },
      "outputs": [],
      "source": [
        "pattern = r'\\b\\w+\\!{2,}(?=\\s|$)'\n",
        "# Breakdown:\n",
        "# \\b       -> Word boundary to ensure we start matching at a real word start\n",
        "# \\w+      -> One or more word characters (letters, digits, underscore)\n",
        "# \\!{2,}   -> Two or more literal exclamation marks '!' after the word\n",
        "# (?=\\s|$) -> Positive lookahead:\n",
        "#             - \\s means a whitespace character (space, tab, etc.)\n",
        "#             - | means OR\n",
        "#             - $ means end of string\n",
        "#           So the word must be followed by a whitespace or end of string,\n",
        "#           and NOT by other characters like punctuation or more letters.\n",
        "\n",
        "all_matches = []\n",
        "\n",
        "for text in docs:\n",
        "    matches = re.findall(pattern, text)\n",
        "    all_matches.extend(matches)"
      ]
    },
    {
      "cell_type": "code",
      "execution_count": null,
      "metadata": {},
      "outputs": [
        {
          "name": "stdout",
          "output_type": "stream",
          "text": [
            "['Firehouse!!!!!', 'APPETIZERS!!!', 'amazing!!!', 'buffet!!!', 'good!!', 'it!!!!', 'DELICIOUS!!', 'amazing!!', 'shawarrrrrrma!!!!!!', 'yucky!!!', 'delicious!!!', 'far!!', 'biscuits!!!', 'disappointing!!!', 'awesome!!', 'Up!!', 'FLY!!!!!!!!', 'great!!!!!!!!!!!!!!', 'packed!!', 'amazing!!!!!!!!!!!!!!!!!!!', 'style!!', 'disappointed!!']\n",
            "22\n"
          ]
        }
      ],
      "source": [
        "print(all_matches)\n",
        "print(len(all_matches))"
      ]
    },
    {
      "cell_type": "markdown",
      "metadata": {
        "id": "-s3okBqL96TT"
      },
      "source": [
        "*   **Pregunta 3.**  \n",
        "\n",
        "Busca e imprime todas las palabras que están escritas totalmente en mayúsculas. Cada coincidencia debe ser una sola palabra.\n",
        "\n",
        "Indica cuántas palabras encontraste.\n",
        "\n"
      ]
    },
    {
      "cell_type": "code",
      "execution_count": 53,
      "metadata": {
        "id": "yKHJkZKo_nW5"
      },
      "outputs": [],
      "source": [
        "pattern = r'\\b[A-Z]+\\b'\n",
        "# Breakdown:\n",
        "# \\b       -> Start of a word\n",
        "# [A-Z]+   -> One or more uppercase letters only\n",
        "# \\b       -> End of a word\n",
        "\n",
        "all_uppercase_words = []\n",
        "\n",
        "for text in docs:\n",
        "    matches = re.findall(pattern, text)  \n",
        "    all_uppercase_words.extend(matches)"
      ]
    },
    {
      "cell_type": "code",
      "execution_count": 54,
      "metadata": {
        "id": "L3q08aq69sNn"
      },
      "outputs": [
        {
          "name": "stdout",
          "output_type": "stream",
          "text": [
            "['I', 'I', 'THAT', 'A', 'I', 'I', 'I', 'I', 'I', 'I', 'I', 'I', 'I', 'I', 'I', 'I', 'APPETIZERS', 'A', 'I', 'I', 'I', 'I', 'I', 'I', 'I', 'WILL', 'NEVER', 'EVER', 'STEP', 'FORWARD', 'IN', 'IT', 'AGAIN', 'I', 'LOVED', 'I', 'AND', 'REAL', 'I', 'I', 'I', 'I', 'BITCHES', 'I', 'I', 'I', 'I', 'NYC', 'I', 'I', 'I', 'I', 'I', 'I', 'I', 'STALE', 'I', 'I', 'DELICIOUS', 'I', 'I', 'I', 'I', 'I', 'I', 'I', 'I', 'I', 'I', 'I', 'I', 'I', 'I', 'I', 'WORST', 'EXPERIENCE', 'EVER', 'I', 'ALL', 'I', 'BARGAIN', 'I', 'TV', 'NONE', 'I', 'M', 'FREEZING', 'AYCE', 'I', 'I', 'I', 'I', 'I', 'I', 'I', 'I', 'I', 'I', 'I', 'I', 'I', 'FLAVOR', 'I', 'I', 'I', 'I', 'I', 'I', 'I', 'I', 'I', 'I', 'I', 'I', 'I', 'I', 'I', 'I', 'I', 'I', 'NEVER', 'I', 'I', 'I', 'I', 'BBQ', 'I', 'A', 'I', 'UNREAL', 'I', 'I', 'I', 'I', 'I', 'I', 'OMG', 'I', 'BETTER', 'I', 'I', 'BLAND', 'I', 'I', 'I', 'I', 'I', 'I', 'I', 'RUDE', 'INCONSIDERATE', 'MANAGEMENT', 'I', 'I', 'WILL', 'NEVER', 'EVER', 'GO', 'BACK', 'AND', 'HAVE', 'TOLD', 'MANY', 'PEOPLE', 'WHAT', 'HAD', 'HAPPENED', 'I', 'I', 'I', 'I', 'I', 'I', 'I', 'I', 'I', 'I', 'I', 'I', 'I', 'TOTAL', 'WASTE', 'OF', 'TIME', 'I', 'I', 'I', 'I', 'I', 'I', 'I', 'I', 'I', 'I', 'I', 'I', 'I', 'I', 'I', 'FS', 'I', 'I', 'I', 'I', 'I', 'I', 'I', 'I', 'I', 'AZ', 'I', 'I', 'I', 'I', 'LOVED', 'I', 'I', 'I', 'I', 'I', 'I', 'CONCLUSION', 'I', 'I', 'I', 'I', 'I', 'I', 'BEST', 'I', 'GO', 'NOW', 'A', 'I', 'I', 'GC', 'I', 'I', 'I', 'I', 'I', 'I', 'I', 'I', 'I', 'I', 'I', 'AVOID', 'THIS', 'ESTABLISHMENT', 'I', 'I', 'I', 'A', 'I', 'I', 'AN', 'HOUR', 'I', 'I', 'I', 'I', 'I', 'I', 'I', 'I', 'NASTY', 'OMG', 'I', 'I', 'NO', 'I', 'I', 'I', 'BEST', 'I', 'I', 'I', 'I', 'THE', 'OWNERS', 'REALLY', 'REALLY', 'I', 'I', 'I', 'I', 'I', 'I', 'I', 'I', 'I', 'I', 'I', 'I', 'PERFECT', 'SCREAMS', 'LEGIT', 'I', 'MGM', 'I', 'I', 'I', 'A', 'I', 'I', 'I', 'I', 'I', 'I', 'I', 'I', 'I', 'I', 'I', 'I', 'BEST', 'I', 'I', 'T', 'A', 'FLY', 'A', 'FLY', 'I', 'I', 'I', 'I', 'I', 'I', 'I', 'I', 'I', 'I', 'I', 'I', 'FANTASTIC', 'I', 'I', 'I', 'I', 'GREAT', 'OK', 'I', 'I', 'WAY', 'I', 'I', 'MUST', 'HAVE', 'I', 'I', 'I', 'I', 'I', 'I', 'OK', 'I', 'I', 'I', 'I', 'OVERPRICED', 'I', 'I', 'I', 'I', 'I', 'I', 'I', 'I', 'I', 'I', 'I', 'I', 'I', 'I', 'I', 'I', 'I', 'I', 'I', 'I', 'I', 'I', 'I', 'I', 'I', 'BARE', 'HANDS', 'I', 'I', 'I', 'I', 'I', 'I', 'I', 'I', 'I', 'I', 'I', 'I', 'I', 'I', 'I', 'WEAK', 'I', 'I', 'I', 'I', 'I', 'I', 'I', 'I', 'SHOULD', 'I', 'I', 'I', 'RI', 'I', 'I', 'I', 'I', 'I', 'I', 'I', 'VERY', 'I', 'I', 'I', 'NOT', 'I', 'I', 'I', 'I', 'I', 'I', 'I', 'I', 'I', 'I', 'I', 'I', 'I', 'I', 'I', 'I', 'I', 'I', 'A', 'I', 'I', 'I', 'I', 'I', 'I']\n",
            "455\n"
          ]
        }
      ],
      "source": [
        "print(all_uppercase_words)\n",
        "print(len(all_uppercase_words))"
      ]
    },
    {
      "cell_type": "markdown",
      "metadata": {
        "id": "GX8eYyDoMZma"
      },
      "source": [
        "*   **Pregunta 4.**  \n",
        "\n",
        "Busca e imprime los comentarios en donde todos los caracteres alfabéticos (letras) están en mayúsculas. \n",
        "\n",
        "Cada coincidencia encontrada debe ser todo el comentario/enunciado.\n",
        "\n",
        "Indica cuántos resultados obtuviste.\n"
      ]
    },
    {
      "cell_type": "code",
      "execution_count": 55,
      "metadata": {
        "id": "K8VuZxvTMYj6"
      },
      "outputs": [],
      "source": [
        "pattern = r'^(?:[^a-z]*)$'\n",
        "# Breakdown:\n",
        "# ^             -> Start of the string\n",
        "# (?:           -> Start of a non-capturing group (grouping without capturing for backreferences)\n",
        "#   [^a-z]*     -> Zero or more characters that are NOT lowercase letters (NOT 'a' to 'z')\n",
        "# )             -> End of non-capturing group\n",
        "# $             -> End of the string\n",
        "# \n",
        "# In simple words: \"The whole string must ONLY contain characters that are NOT lowercase letters.\"\n",
        "# Spaces, digits, punctuation are allowed. Only lowercase letters are forbidden.\n",
        "\n",
        "all_uppercase_lines = []\n",
        "\n",
        "for text in docs:\n",
        "    if re.match(pattern, text):\n",
        "        all_uppercase_lines.append(text)"
      ]
    },
    {
      "cell_type": "code",
      "execution_count": 56,
      "metadata": {
        "id": "PmKgX7sCMcDx"
      },
      "outputs": [
        {
          "name": "stdout",
          "output_type": "stream",
          "text": [
            "['DELICIOUS!!', 'RUDE & INCONSIDERATE MANAGEMENT.', 'WILL NEVER EVER GO BACK AND HAVE TOLD MANY PEOPLE WHAT HAD HAPPENED.', 'TOTAL WASTE OF TIME.', 'AVOID THIS ESTABLISHMENT!']\n",
            "5\n"
          ]
        }
      ],
      "source": [
        "print(all_uppercase_lines)\n",
        "print(len(all_uppercase_lines))"
      ]
    },
    {
      "cell_type": "markdown",
      "metadata": {
        "id": "a1i6qv7-McmU"
      },
      "source": [
        "*   **Pregunta 5.**  \n",
        "\n",
        "Busca e imprime todas las palabras que tengan una vocal acentuada, del tipo á, é, í, ó, ú. \n",
        "\n",
        "Indica cuántos resultados obtuviste."
      ]
    },
    {
      "cell_type": "code",
      "execution_count": 57,
      "metadata": {
        "id": "nZZ5zKUOMeGD"
      },
      "outputs": [],
      "source": [
        "pattern = r'\\b\\w*[áéíóúÁÉÍÓÚ]\\w*\\b'\n",
        "# Breakdown:\n",
        "# \\b             -> Start of a word\n",
        "# \\w*            -> Zero or more word characters before the accented vowel\n",
        "# [áéíóúÁÉÍÓÚ]   -> One accented vowel (either lowercase or uppercase)\n",
        "# \\w*            -> Zero or more word characters after the vowel\n",
        "# \\b             -> End of a word\n",
        "\n",
        "words_with_accents = []\n",
        "\n",
        "for text in docs:\n",
        "    matches = re.findall(pattern, text)  \n",
        "    words_with_accents.extend(matches)   \n",
        "\n"
      ]
    },
    {
      "cell_type": "code",
      "execution_count": 58,
      "metadata": {
        "id": "l1mFvUEZMe8s"
      },
      "outputs": [
        {
          "name": "stdout",
          "output_type": "stream",
          "text": [
            "['fiancé', 'Café', 'puréed']\n",
            "3\n"
          ]
        }
      ],
      "source": [
        "print(words_with_accents)\n",
        "print(len(words_with_accents))"
      ]
    },
    {
      "cell_type": "markdown",
      "metadata": {
        "id": "ZmPiAI82Mfb3"
      },
      "source": [
        "*   **Pregunta 6.**  \n",
        "\n",
        "Busca e imprime todas las cantidades numéricas monetarias, enteras o con decimales, que inician con el símbolo $\\$$. \n",
        "\n",
        "Indica cuántos resultados obtuviste."
      ]
    },
    {
      "cell_type": "code",
      "execution_count": 59,
      "metadata": {
        "id": "6vhe9-Y-MhL9"
      },
      "outputs": [],
      "source": [
        "pattern = r'\\$\\d+(?:\\.\\d{2})?'\n",
        "# Breakdown:\n",
        "# \\$           -> Literal dollar sign\n",
        "# \\d+          -> One or more digits\n",
        "# (?:          -> Start a non-capturing group\n",
        "#    \\.\\d{2}   -> A dot followed by exactly two digits (for decimals like .99)\n",
        "# )?           -> The whole decimal part is optional\n",
        "\n",
        "monetary_values = []\n",
        "\n",
        "for text in docs:\n",
        "    matches = re.findall(pattern, text)  \n",
        "    monetary_values.extend(matches)      "
      ]
    },
    {
      "cell_type": "code",
      "execution_count": 61,
      "metadata": {
        "id": "_t0a5xWDMhQ5"
      },
      "outputs": [
        {
          "name": "stdout",
          "output_type": "stream",
          "text": [
            "['$20', '$4.00', '$17', '$3', '$35', '$7.85', '$12', '$11.99']\n",
            "8\n"
          ]
        }
      ],
      "source": [
        "print(monetary_values)\n",
        "print(len(monetary_values))"
      ]
    },
    {
      "cell_type": "markdown",
      "metadata": {
        "id": "2j-HpvhwMhq2"
      },
      "source": [
        "*   **Pregunta 7.**  \n",
        "\n",
        "Busca e imprime todas las palabras que sean variantes de la palabra \"love\", sin importar si incluyen mayúsculas o minúsculas, o la manera en que esté conjugada o alguna otra variación que se haga con dicha palabra.\n",
        "\n",
        "Indica cuántos resultados obtuviste."
      ]
    },
    {
      "cell_type": "code",
      "execution_count": 66,
      "metadata": {
        "id": "kqqyRChVMjol"
      },
      "outputs": [],
      "source": [
        "pattern = r'\\b[lL]ov(?:e|ed|es|ing|er|ely|ers)?\\b'\n",
        "# Breakdown:\n",
        "# \\b         -> Start of a word\n",
        "# [lL]       -> 'l' or 'L'\n",
        "# ov         -> Literal \"ov\"\n",
        "# (?: ... )? -> Optional endings like e, ed, es, ing, er, ely, ers\n",
        "# \\b         -> End of a word\n",
        "\n",
        "love_variants = []\n",
        "\n",
        "for text in docs:\n",
        "    matches = re.findall(pattern, text, flags=re.IGNORECASE)\n",
        "    love_variants.extend(matches)"
      ]
    },
    {
      "cell_type": "code",
      "execution_count": 67,
      "metadata": {
        "id": "UXd0VQluMj_x"
      },
      "outputs": [
        {
          "name": "stdout",
          "output_type": "stream",
          "text": [
            "['Loved', 'loved', 'Loved', 'love', 'loves', 'LOVED', 'lovers', 'loving', 'love', 'lovers', 'Love', 'loved', 'loved', 'love', 'love', 'love', 'loved', 'love', 'loved', 'Love', 'LOVED', 'love', 'lovely', 'love', 'lovely', 'love', 'lover', 'loved', 'love', 'love', 'love', 'love', 'love', 'love', 'love', 'love']\n",
            "36\n"
          ]
        }
      ],
      "source": [
        "print(love_variants)\n",
        "print(len(love_variants))"
      ]
    },
    {
      "cell_type": "markdown",
      "metadata": {
        "id": "Ctb-NTY3MkYG"
      },
      "source": [
        "*   **Pregunta 8.**  \n",
        "\n",
        "Busca e imprime todas las palabras, variantes de \"so\" y \"good\", que tengan dos o más \"o\" en \"so\" y 3 o más \"o\" en good. \n",
        "\n",
        "Indica cuántas encontraste.\n"
      ]
    },
    {
      "cell_type": "code",
      "execution_count": null,
      "metadata": {
        "id": "A8Nf3B_cMlqg"
      },
      "outputs": [],
      "source": [
        "pattern = r'\\b[sS][o]{2,}\\b|\\b[gG]o{3,}d+\\b'\n",
        "# Breakdown:\n",
        "# \\b        -> Start of a word\n",
        "# [sS]      -> 's' or 'S'\n",
        "# o{2,}     -> 2 or more 'o's for \"so\" variants\n",
        "# \\b        -> End of the \"so\" word\n",
        "# |         -> OR\n",
        "# \\b        -> Start of a word\n",
        "# [gG]      -> 'g' or 'G'\n",
        "# o{3,}     -> 3 or more 'o's for \"good\" variants\n",
        "# d         -> Literal 'd'\n",
        "# \\b        -> End of the \"good\" word\n",
        "\n",
        "so_good_variants = []\n",
        "\n",
        "for text in docs:\n",
        "    matches = re.findall(pattern, text)\n",
        "    so_good_variants.extend(matches)"
      ]
    },
    {
      "cell_type": "code",
      "execution_count": 85,
      "metadata": {
        "id": "svS4-vvPMl6f"
      },
      "outputs": [
        {
          "name": "stdout",
          "output_type": "stream",
          "text": [
            "['Sooooo', 'soooo', 'gooodd', 'soooooo', 'soooo']\n",
            "5\n"
          ]
        }
      ],
      "source": [
        "print(so_good_variants)\n",
        "print(len(so_good_variants))"
      ]
    },
    {
      "cell_type": "markdown",
      "metadata": {
        "id": "hkak1opjMmlk"
      },
      "source": [
        "*   **Pregunta 9.**  \n",
        "\n",
        "Busca e imprime todas las palabras que tengan una longitud mayor estrictamente a 10 caracteres alfabéticos.\n",
        "\n",
        "No se consideran los signos de puntuación o caracteres especiales en la longitud de estas cadenas, solo caracteres alfabéticos en mayúsculas o minúsculas.\n",
        "\n",
        "Indica la cantidad de palabras encontradas.\n"
      ]
    },
    {
      "cell_type": "code",
      "execution_count": null,
      "metadata": {
        "id": "PYxdp3uhMoD0"
      },
      "outputs": [],
      "source": [
        "pattern = r'\\b[\\w\\'-]+\\b'\n",
        "# Breakdown:\n",
        "# \\b            -> Word boundary\n",
        "# [\\w'-]+       -> One or more letters, digits, underscores, apostrophes, or hyphens\n",
        "# \\b            -> Word boundary\n",
        "\n",
        "long_words = []\n",
        "\n",
        "for text in docs:\n",
        "    # Find all \"words\"\n",
        "    words = re.findall(pattern, text)\n",
        "    for word in words:\n",
        "        # Remove non-alphabetic characters for counting\n",
        "        cleaned = re.sub(r'[^a-zA-Z]', '', word)\n",
        "        if len(cleaned) > 10:\n",
        "            long_words.append(word)"
      ]
    },
    {
      "cell_type": "code",
      "execution_count": 87,
      "metadata": {
        "id": "BR7e2F4FMof-"
      },
      "outputs": [
        {
          "name": "stdout",
          "output_type": "stream",
          "text": [
            "['recommendation', 'recommended', 'overwhelmed', 'inexpensive', 'establishment', 'imaginative', 'opportunity', 'experiencing', 'underwhelming', 'relationship', 'unsatisfying', 'disappointing', 'outrageously', 'disappointing', 'expectations', 'restaurants', 'suggestions', 'disappointed', 'considering', 'Unfortunately', 'immediately', 'ingredients', 'accommodations', 'maintaining', 'Interesting', 'disrespected', 'accordingly', 'unbelievable', 'cheeseburger', 'descriptions', 'inexpensive', 'disappointed', 'Veggitarian', 'outstanding', 'recommendation', 'disappointed', 'disappointed', 'neighborhood', 'disappointed', 'Service-check', 'corporation', 'considering', 'exceptional', 'shawarrrrrrma', 'disappointed', 'vinaigrette', 'immediately', 'unbelievably', 'replenished', 'disappointed', 'enthusiastic', 'Outstanding', 'comfortable', 'interesting', 'INCONSIDERATE', 'considering', 'transcendant', 'disappointment', 'disappointed', 'disappointed', 'overwhelmed', 'professional', 'been-stepped-in-and-tracked-everywhere', 'Furthermore', 'combination', 'connoisseur', 'profiterole', 'outstanding', 'acknowledged', 'ventilation', 'beautifully', 'establishment', 'extraordinary', 'disappointed', 'cheesecurds', 'disappointed', 'interesting', 'experienced', 'opportunity', 'disgraceful', 'restaurants', 'ESTABLISHMENT', 'recommended', 'disappointed', 'recommended', 'acknowledged', 'presentation', 'Philadelphia', 'disappointed', 'disappointing', 'non-customer', 'grandmother', 'drastically', 'High-quality', 'informative', 'Disappointed', 'constructed', 'comfortable', 'Smashburger', 'cheeseburger', 'neighborhood', 'disappointed', 'hospitality', 'recommending', 'disappointed', 'deliciously', 'compliments', 'recommendation', 'establishment', 'calligraphy', 'traditional', 'combination', \"girlfriend's\", 'Unfortunately', 'Wienerschnitzel', 'golden-crispy', 'unfortunately', 'under-services', 'considering', 'highlighted', 'Mediterranean', 'unprofessional', 'anticipated', 'disappointing', 'unexperienced', 'disrespected', 'professional', 'restaurants', 'Disappointing', 'WAAAAAAyyyyyyyyyy', 'reservation', 'imagination', 'undercooked', 'disappointed', 'disappointment', 'disappointment', 'deuchebaggery', 'disappointed', 'disappointment', 'immediately', 'Unfortunately', 'disapppointment', 'circumstances', 'undercooked', 'caterpillar', 'presentation', 'disappointed', 'underwhelming']\n",
            "148\n"
          ]
        }
      ],
      "source": [
        "print(long_words)\n",
        "print(len(long_words))"
      ]
    },
    {
      "cell_type": "markdown",
      "metadata": {
        "id": "ApjTNzSxMpDc"
      },
      "source": [
        "*   **Pregunta 10.**  \n",
        "\n",
        "Busca e imprime todas las palabras que inician con una letra mayúscula y terminan con una minúscula, pero que además no sea la primera palabra del comentario/string. \n",
        "\n",
        "Indica la cantidad de resultados obtenidos."
      ]
    },
    {
      "cell_type": "code",
      "execution_count": 88,
      "metadata": {
        "id": "Vb0ndRGAMqdL"
      },
      "outputs": [],
      "source": [
        "pattern = r'(?<=\\W)[A-Z][\\w\\'-]*[a-z]\\b'\n",
        "# Breakdown:\n",
        "# (?<=\\W)       -> Ensure non-word character before (not first word)\n",
        "# [A-Z]         -> First letter is uppercase\n",
        "# [\\w'-]*       -> Middle characters (optional): letters, digits, underscore, hyphen, apostrophe\n",
        "# [a-z]         -> Last character must be lowercase\n",
        "# \\b            -> End of word\n",
        "\n",
        "matched_words = []\n",
        "\n",
        "for text in docs:\n",
        "    matches = re.findall(pattern, text)\n",
        "    matched_words.extend(matches)"
      ]
    },
    {
      "cell_type": "code",
      "execution_count": 89,
      "metadata": {
        "id": "dLPTRPnTMqqx"
      },
      "outputs": [
        {
          "name": "stdout",
          "output_type": "stream",
          "text": [
            "['Loved', 'May', 'Rick', 'Steve', 'Cape', 'Cod', 'This', 'Vegas', 'Burrittos', 'Blah', 'The', 'The', 'They', 'This', 'Mexican', 'Took', 'Luke', 'Our', 'Also', 'Overall', 'Poor', 'Hiro', 'On', 'Frozen', 'The', 'Firehouse', 'My', 'Greek', 'Greek', 'They', 'Loved', 'Heart', 'Attack', 'Grill', 'Vegas', 'The', 'The', 'Great', 'Dos', 'Gringos', 'The', 'Jeff', 'Really', 'It', 'Excalibur', 'Very', 'Bad', 'Customer', 'Service', \"I've\", 'Vegas', 'Rice', 'Company', 'Pho', 'In', \"It's\", 'Never', 'Hard', 'Rock', 'Casino', 'On', 'Our', 'The', 'Best', 'Buffet', 'Tigerlilly', 'The', 'Yama', 'At', 'Thai', 'Nice', 'Although', 'Indian', 'Worst', 'The', 'We', 'Host', 'Not', \"I'll\", 'Phenomenal', 'Definitely', \"I'm\", 'Vegas', 'They', 'Delicious', 'Lox', 'Great', 'Subway', 'Subway', 'Vegas', 'He', 'Vegas', 'The', 'The', 'Mandalay', 'Bay', 'Great', 'Voodoo', \"I'd\", 'Unfortunately', 'Their', 'Phoenix', 'This', 'Vegas', 'Lordy', 'Khao', 'Soi', 'Perhaps', \"I'm\", 'The', 'Not', 'The', 'Love', 'Lemon', 'The', 'Also', 'When', \"Joey's\", 'Valley', 'Phoenix', 'Magazine', 'Pho', 'Fridays', \"I've\", 'The', 'If', 'For', 'Tasty', 'Jamaican', 'The', 'Lobster', 'Bisque', 'Bussell', 'Sprouts', 'Risotto', 'Filet', 'It', 'Otto', 'As', 'If', 'Ordered', 'Yeah', \"TV's\", 'If', 'The', \"I'd\", 'Honestly', \"M's\", 'Not', 'Everyone', 'It', 'Also', 'Drinks', 'Seriously', 'Vegas', 'Greek', 'Overall', 'Vegas', 'Good', 'Plus', 'The', 'Thus', 'For', 'Veggitarian', 'Stopped', 'Madison', 'Ironman', \"I've\", 'Jenni', 'Pho', 'Bachi', 'Burger', 'This', 'Pizza', 'Salads', 'They', 'Yelpers', 'The', 'You', 'Bachi', 'Service-check', 'Will', 'As', \"I'd\", 'In', 'English', 'Great', 'By', 'Back', 'And', 'Also', \"I've\", 'They', \"I've\", 'Pizza', 'Hut', 'Both', 'We', 'Seat', 'The', 'Gold', 'Standard', 'Of', 'Thai', 'Tucson', \"I've\", 'Vegas', 'This', 'Chipotle', 'Classy', 'Baseball', 'On', 'Sadly', 'Gordon', \"Ramsey's\", 'Steak', 'Vegas', \"I've\", 'The', 'Outstanding', 'Best', 'Food', \"I'll\", 'Lobster', 'Bisque', 'Vegas', 'The', 'The', 'They', 'Eggplant', 'Green', 'Bean', 'In', 'The', 'Halibut', \"I'm\", 'Vegas', 'If', 'Vegas', 'Vegas', 'Crystals', 'Aria', 'To', 'Ians', 'Overall', 'Bouchon', \"I'm\", 'Great', 'San', 'Francisco', 'Bay', 'Area', 'Buldogis', 'Gourmet', 'Hot', 'Dog', 'Come', 'For', 'Our', 'On', 'Furthermore', \"I'm\", 'Strike', \"I've\", 'Steiners', 'If', 'Anyway', 'Not', 'The', 'The', \"I'll\", \"Carly's\", 'This', 'Love', 'Vegas', 'Very', 'Total', 'Camelback', 'Flower', 'Shop', 'Cartel', 'Coffee', 'Third', 'This', 'Las', 'Vegas', \"I've\", 'This', 'It', 'Worse', 'Bunch', 'Very', 'This', \"Mom's\", \"I'd\", 'Noca', 'Give', 'At', 'Anyway', 'Point', 'Oh', 'Similarly', 'Be', 'The', 'Vegas', 'Sat', 'Sun', 'If', 'Mexican', 'Frenchman', 'Great', 'No', \"I'm\", 'Perfect', 'Vegas', 'However', 'Palm', 'The', 'Are', 'This', 'He', 'The', 'As', \"I'm\", 'If', 'Thai', 'All', \"I'll\", 'My', 'Toast', 'Thai', 'It', 'Phoenix', 'Crema', 'Philadelphia', 'We', 'Good', 'North', 'Scottsdale', 'The', 'Sorry', 'Bloody', 'Mary', 'Despite', 'Pho', 'The', 'Same', 'Caesar', 'After', 'Macarons', 'Our', 'Experience', 'Very', 'Disappointed', 'Big', 'Bay', 'Plater', 'Not', 'Italian', 'That', 'Vegas', 'Baba', 'Ganoush', 'Very', 'The', 'Nobu', 'Smashburger', \"I've\", \"I'm\", 'Panna', 'Cotta', 'Very', 'Prices', 'The', 'Good', 'Hawaiian', 'Breeze', 'Mango', 'Magic', 'Pineapple', 'Delight', \"I've\", 'We', 'Needless', 'Anyways', 'The', 'The', 'Strip', 'Steak', 'Paradise', 'Valley', 'Cibo', 'Service', 'That', 'Thumbs', 'Up', 'Italian', 'Pros', 'Large', 'Nice', 'Great', 'The', 'Elk', 'Filet', 'After', 'Cute', 'The', 'Dylan', 'All', 'One', 'Han', 'Nan', 'Chicken', 'As', 'The', 'Bar', 'Edinburgh', 'Chinese', \"I've\", 'Overall', 'Indian', 'Probably', \"Friend's\", 'Try', 'Chinese', 'When', 'The', 'Level', 'Main', 'When', \"I'm\", \"I'll\", 'Food', 'Prices', 'The', \"I'm\", 'Phoenix', \"It's\", 'Both', 'Hot', 'Sour', 'Egg', 'Flower', 'Soups', 'Stars', 'Sunday', 'Hunan', 'What', 'The', 'Unfortunately', 'Perfect', 'The', \"I'm\", 'The', 'Great', 'Pita', 'Wienerschnitzel', 'Maine', 'Lobster', 'Roll', 'My', 'The', 'Lastly', 'The', 'This', \"I'm\", 'Kabuki', 'Best', 'Maria', \"Caballero's\", 'In', \"I'm\", 'To', 'Bad', 'The', 'Wife', 'Went', \"I've\", 'This', 'Hot', 'Everything', 'They', \"I've\", 'For', 'Strip', 'The', \"I'm\", \"Costco's\", 'All', 'To', 'Place', 'Gyros', 'Japanese', 'Now', 'The', 'Albondigas', 'On', 'After', 'No', 'Mediterranean', 'Chicken', 'Salad', 'Mellow', 'Mushroom', 'Thai', 'Vegas', 'Overall', 'Mmmm', 'Buffet', 'Bellagio', 'And', 'My', 'Also', 'Vegas', 'Very', 'How', 'There', 'What', 'Christmas', 'Eve', 'Needless', 'Every', 'However', 'It', 'The', \"Denny's\", 'If', 'The', 'The', 'The', 'The', 'It', 'Maybe', 'Vegetarian', \"I've\", 'The', 'The', 'Then', 'Insults', 'Taco', 'Unfortunately', 'Your', 'Heimer', 'All', 'Ha', 'Long', 'Bay', 'Subway', 'When', 'Brushfire', 'It', 'Mirage', 'In', 'The', 'Ninja', 'Sushi', 'Then']\n",
            "557\n"
          ]
        }
      ],
      "source": [
        "print(matched_words)\n",
        "print(len(matched_words))"
      ]
    },
    {
      "cell_type": "markdown",
      "metadata": {
        "id": "u7nfm4KhMrNW"
      },
      "source": [
        "*   **Pregunta 11.**  \n",
        "\n",
        "Busca e imprime la secuencia de dos o más palabras que están separadas por un guion, \"-\", sin que tengan espacios en blanco entre ellas.\n",
        "\n",
        "Por ejemplo \"Go-Kart\" sería válido, pero \"Go  -Kart\" o \"Go  -  Kart\" no lo serían. \n",
        "\n",
        "Indica la cantidad de resultados obtenidos."
      ]
    },
    {
      "cell_type": "code",
      "execution_count": 90,
      "metadata": {
        "id": "OwU-a7eGMsub"
      },
      "outputs": [],
      "source": [
        "pattern = r'\\b\\w+(?:-\\w+){1,}\\b'\n",
        "# Breakdown:\n",
        "# \\b              -> Word boundary at the start (ensures clean word start)\n",
        "# \\w+             -> One or more word characters (first word)\n",
        "# (?:             -> Start of a non-capturing group (we don't need to save this group separately)\n",
        "#    -\\w+         -> A dash '-' followed immediately by one or more word characters (next word)\n",
        "# ){1,}           -> Repeat the non-capturing group one or more times (at least two words total)\n",
        "# \\b              -> Word boundary at the end (ensures clean word end)\n",
        "\n",
        "dash_sequences = []\n",
        "\n",
        "for text in docs:\n",
        "    matches = re.findall(pattern, text)\n",
        "    dash_sequences.extend(matches)"
      ]
    },
    {
      "cell_type": "code",
      "execution_count": 91,
      "metadata": {
        "id": "SgzIL74ZMtGw"
      },
      "outputs": [
        {
          "name": "stdout",
          "output_type": "stream",
          "text": [
            "['flat-lined', 'hands-down', 'must-stop', 'sub-par', 'Service-check', 'in-house', 'been-stepped-in-and-tracked-everywhere', 'multi-grain', 'to-go', 'non-customer', 'High-quality', 'sit-down', 'over-whelm', 'low-key', 'non-fancy', 'golden-crispy', 'over-priced', 'over-hip', 'under-services']\n",
            "19\n"
          ]
        }
      ],
      "source": [
        "print(dash_sequences)\n",
        "print(len(dash_sequences))"
      ]
    },
    {
      "cell_type": "markdown",
      "metadata": {
        "id": "DEIgl79HMthr"
      },
      "source": [
        "*   **Pregunta 12.**  \n",
        "\n",
        "Busca e imprime todas las palabras que terminan en \"ing\" o \"ed\". \n",
        "\n",
        "Indica la cantidad de palabras que encontraste de cada una."
      ]
    },
    {
      "cell_type": "code",
      "execution_count": 92,
      "metadata": {
        "id": "I4TSofBMMv9y"
      },
      "outputs": [],
      "source": [
        "pattern = r'\\b\\w+(?:ing|ed)\\b'\n",
        "# Breakdown:\n",
        "# \\b          -> Word boundary at start\n",
        "# \\w+         -> One or more word characters\n",
        "# (?:ing|ed)  -> Must end with 'ing' or 'ed'\n",
        "# \\b          -> Word boundary at end\n",
        "\n",
        "ending_words = []\n",
        "\n",
        "for text in docs:\n",
        "    matches = re.findall(pattern, text)\n",
        "    ending_words.extend(matches)\n",
        "\n",
        "# Count how many end with \"ing\" and \"ed\"\n",
        "counter = {\"ing\": 0, \"ed\": 0}\n",
        "\n",
        "for word in ending_words:\n",
        "    if word.endswith('ing'):\n",
        "        counter[\"ing\"] += 1\n",
        "    elif word.endswith('ed'):\n",
        "        counter[\"ed\"] += 1"
      ]
    },
    {
      "cell_type": "code",
      "execution_count": 93,
      "metadata": {
        "id": "AhGq6De2Mvyh"
      },
      "outputs": [
        {
          "name": "stdout",
          "output_type": "stream",
          "text": [
            "Words found: ['Loved', 'Stopped', 'during', 'loved', 'getting', 'being', 'ended', 'being', 'overpriced', 'tried', 'disgusted', 'shocked', 'recommended', 'amazing', 'performed', 'red', 'asked', 'running', 'overwhelmed', 'redeeming', 'grossed', 'melted', 'getting', 'provided', 'thing', 'cooked', 'dressing', 'refreshing', 'ordered', 'running', 'realized', 'Loved', 'lined', 'cooked', 'ripped', 'ripped', 'petrified', 'amazing', 'included', 'expected', 'nothing', 'appalling', 'seasoned', 'cheated', 'wasting', 'eating', 'going', 'Coming', 'experiencing', 'underwhelming', 'walked', 'smelled', 'eating', 'raving', 'tailored', 'spring', 'unsatisfying', 'amazing', 'Everything', 'disappointing', 'dining', 'flirting', 'arrived', 'roasted', 'added', 'thing', 'coming', 'cooked', 'playing', 'passed', 'ordering', 'arriving', 'liked', 'disappointing', 'managed', 'served', 'preparing', 'loving', 'liking', 'reviewing', 'venturing', 'overpriced', 'including', 'during', 'checked', 'disappointed', 'red', 'decorated', 'changing', 'going', 'considering', 'served', 'coming', 'watched', 'greeted', 'seated', 'waited', 'flavored', 'ordered', 'going', 'everything', 'ordered', 'relocated', 'impressed', 'seated', 'priced', 'looking', 'treated', 'ordered', 'dressing', 'dining', 'used', 'handed', 'listed', 'missed', 'Everything', 'thrilled', 'amazing', 'judging', 'inspired', 'desired', 'maintaining', 'asking', 'overcooked', 'decided', 'looked', 'having', 'dressed', 'treated', 'something', 'lacking', 'ordered', 'sucked', 'expected', 'sucked', 'imagined', 'Interesting', 'served', 'preparing', 'arrived', 'missing', 'feeling', 'satisfied', 'voted', 'insulted', 'disrespected', 'exceeding', 'dreamed', 'inviting', 'lived', 'stepped', 'mixed', 'showed', 'climbing', 'waiting', 'realized', 'coming', 'loved', 'being', 'lacking', 'needed', 'going', 'loved', 'wrapped', 'uninspired', 'amazing', 'dealing', 'annoying', 'Ordered', 'falling', 'uploaded', 'sporting', 'covered', 'supposed', 'amazing', 'rolled', 'stayed', 'providing', 'building', 'lighting', 'Based', 'received', 'going', 'nothing', 'privileged', 'working', 'eating', 'dressing', 'being', 'charged', 'visited', 'proclaimed', 'disappointed', 'Stopped', 'dedicated', 'liked', 'outstanding', 'getting', 'disappointed', 'waited', 'waited', 'burned', 'waited', 'amazing', 'disappointed', 'Waited', 'disappointed', 'pulled', 'prepared', 'rating', 'eating', 'writing', 'everything', 'dining', 'fried', 'boring', 'passed', 'charming', 'ordered', 'toasted', 'untoasted', 'going', 'figured', 'making', 'pricing', 'considering', 'returned', 'amazing', 'eyed', 'disappointed', 'pleased', 'Everything', 'replenished', 'disappointed', 'nothing', 'nothing', 'driving', 'treated', 'during', 'evening', 'offered', 'Outstanding', 'tasted', 'buying', 'handling', 'wasting', 'craving', 'dropped', 'dining', 'decorated', 'interesting', 'amazing', 'being', 'served', 'outshining', 'starving', 'coming', 'walked', 'stuffed', 'considering', 'located', 'shopping', 'nothing', 'Cooked', 'disappointed', 'getting', 'screwed', 'frustrated', 'iced', 'stuffed', 'disappointed', 'trying', 'grossed', 'enjoyed', 'eating', 'going', 'looked', 'overwhelmed', 'stayed', 'everything', 'smeared', 'stepped', 'tracked', 'tried', 'rushed', 'loved', 'Ordered', 'Nothing', 'cooked', 'going', 'insulted', 'contained', 'enjoyed', 'relaxed', 'loved', 'outstanding', 'running', 'acknowledged', 'forgetting', 'upgrading', 'trimmed', 'cooked', 'claimed', 'handled', 'asked', 'eating', 'bring', 'hoping', 'living', 'limited', 'boiled', 'dining', 'liked', 'sliced', 'attached', 'humiliated', 'filling', 'fried', 'amazing', 'impressed', 'disappointed', 'priced', 'Everything', 'disappointed', 'thing', 'amazing', 'need', 'Everything', 'interesting', 'need', 'experienced', 'amazing', 'amazing', 'waited', 'seated', 'waiting', 'going', 'going', 'dining', 'decided', 'pleased', 'saving', 'something', 'trying', 'disgusting', 'hankering', 'recommended', 'being', 'helped', 'witnessed', 'Waited', 'waited', 'waited', 'checked', 'tasted', 'disappointed', 'being', 'served', 'rated', 'recommended', 'pulled', 'waited', 'being', 'acknowledged', 'setting', 'perpared', 'dusted', 'powdered', 'enjoyed', 'expanded', 'sitting', 'ended', 'waiting', 'arrived', 'satisfying', 'wanted', 'disappointed', 'eating', 'need', 'being', 'freaking', 'checked', 'impressed', 'reheated', 'getting', 'amazing', 'tasted', 'disappointing', 'grilled', 'seasoning', 'going', 'focused', 'roasted', 'asked', 'being', 'ignored', 'bring', 'letting', 'tasted', 'evening', 'Ordered', 'greeted', 'seated', 'Tried', 'waiting', 'being', 'seated', 'eating', 'going', 'Disappointed', 'ordered', 'constructed', 'seating', 'fried', 'playing', 'requested', 'amazing', 'staying', 'used', 'tasted', 'giving', 'talking', 'amazing', 'drenched', 'amazing', 'amazing', 'tried', 'walked', 'expected', 'amazing', 'disappointed', 'mortified', 'filling', 'dripping', 'impressed', 'going', 'serving', 'refrained', 'recommending', 'pleased', 'thing', 'reading', 'loved', 'grilled', 'reminded', 'seating', 'sucked', 'hooked', 'ordered', 'going', 'disappointed', 'everything', 'seasoned', 'thing', 'added', 'sitting', 'waiting', 'bring', 'revisiting', 'coming', 'touched', 'anything', 'fried', 'opened', 'impressed', 'feeling', 'during', 'watched', 'thing', 'being', 'Tasted', 'amazing', 'being', 'amazing', 'ordered', 'satifying', 'describing', 'coming', 'everything', 'received', 'Paying', 'going', 'impressed', 'overcooked', 'cooked', 'needed', 'served', 'thing', 'ordered', 'amazing', 'overpriced', 'packed', 'getting', 'opposed', 'cramming', 'priced', 'surprised', 'considering', 'focused', 'overpriced', 'fucking', 'tried', 'enjoyed', 'going', 'qualified', 'tasted', 'hated', 'appealing', 'getting', 'coming', 'watched', 'Everything', 'fried', 'dealing', 'everything', 'tried', 'something', 'during', 'helped', 'dining', 'cooking', 'dining', 'started', 'editing', 'highlighted', 'setting', 'used', 'amazing', 'enjoyed', 'ordered', 'tasted', 'asked', 'refused', 'tried', 'rotating', 'Pricing', 'toasted', 'satisfying', 'anticipated', 'disappointing', 'amazing', 'returning', 'unexperienced', 'running', 'insulted', 'disrespected', 'being', 'impressed', 'thing', 'puréed', 'nothing', 'poisoning', 'thinking', 'something', 'going', 'disgusting', 'caring', 'bring', 'asked', 'Disappointing', 'rated', 'saying', 'going', 'lacked', 'coming', 'sliced', 'pulled', 'building', 'seating', 'undercooked', 'dipping', 'seemed', 'watered', 'lacked', 'disappointed', 'overpriced', 'setting', 'ensued', 'anything', 'drinking', 'serving', 'disappointed', 'placed', 'avoided', 'received', 'wanted', 'doing', 'sucked', 'happened', 'putting', 'owned', 'wanted', 'Overpriced', 'getting', 'vomited', 'looking', 'started', 'coming', 'unwrapped', 'lacked', 'seemed', 'undercooked', 'closed', 'staying', 'refried', 'dried', 'disappointed', 'lacking', 'impressed', 'underwhelming', 'wasted', 'poured', 'drawing', 'bring']\n",
            "Count summary: {'ing': 279, 'ed': 335}\n"
          ]
        }
      ],
      "source": [
        "print(\"Words found:\", ending_words)\n",
        "print(\"Count summary:\", counter)"
      ]
    },
    {
      "cell_type": "markdown",
      "metadata": {
        "id": "70StdqAZa9E9"
      },
      "source": [
        "# **Parte 3. Proceso de limpieza.**"
      ]
    },
    {
      "cell_type": "markdown",
      "metadata": {
        "id": "xaDUFXHrMvX2"
      },
      "source": [
        "*   **Pregunta 13.**  \n",
        "\n",
        "Ahora realiza un proceso de limpieza del corpus que incluya los siguientes procesos:\n",
        "\n",
        "*   Solo se deben considerar caracteres alfabéticos. Es decir, se eliminan todos los signos de puntuación y caracteres especiales.\n",
        "*   Todos los caracteres alfabéticos se transforman a minúsculas.\n",
        "*   Se deben eliminar todos los espacios en blanco adicionales que se puedan encontrar en cada comentario.\n",
        "\n",
        "Al finalizar dicho proceso de limpieza, imprime el resultado de los primeros 10 comentarios resultantes. \n",
        "   \n",
        "\n",
        "\n"
      ]
    },
    {
      "cell_type": "code",
      "execution_count": null,
      "metadata": {
        "id": "K3kQzPOPMx0w"
      },
      "outputs": [],
      "source": []
    },
    {
      "cell_type": "code",
      "execution_count": null,
      "metadata": {
        "id": "mYEDlHSFMyJN"
      },
      "outputs": [],
      "source": []
    },
    {
      "cell_type": "markdown",
      "metadata": {
        "id": "WZwEhg2lUSAX"
      },
      "source": [
        "*   **Pregunta 14.**  \n",
        "\n",
        "Con el resultado de la limpieza obtenido en la pregunta anterior, realiza ahora un proceso de tokenización por palabras del corpus. \n",
        "\n",
        "Es decir, al final de este proceso de tokenización, debes tener como resultado una lista de listas, donde cada comentario estará tokenizado por palabras.\n",
        "\n",
        "Al terminar calcula el total de tokens obtenido en todo el corpus. "
      ]
    },
    {
      "cell_type": "code",
      "execution_count": null,
      "metadata": {
        "id": "kbAL9-v0V-jx"
      },
      "outputs": [],
      "source": []
    },
    {
      "cell_type": "code",
      "execution_count": null,
      "metadata": {
        "id": "DZs_etmiV-fd"
      },
      "outputs": [],
      "source": []
    },
    {
      "cell_type": "markdown",
      "metadata": {
        "id": "EFeu0OJ7WDPD"
      },
      "source": [
        "*   **Pregunta 15.**  \n",
        "\n",
        "Finalmente, en este ejercicio definiremos nuestro conjunto de palabras \"stopwords\", las cuales deberás eliminar de todo el corpus. \n",
        "\n",
        "Recuerda que ejemplos de stopwords son artículos, adverbios, conectivos, etcétera, que tienen frecuencias de aparición muy altas en cualquier documento, pero que no brindan mucho significado en cuanto al significado de un enunciado.\n",
        "\n",
        "Con base a la lista de stopwords que se te proporciona, realiza un proceso de limpieza eliminando todas estas palabras del corpus obtenido en el ejercicio anterior.\n",
        "\n",
        "Obtener cuántos tokens/palabras quedan finalmente en todo el corpus.\n",
        "\n",
        "Obtener cuántos de estos tokens/palabras son diferentes, es decir, cuántos tokens únicos tendrá lo que llamaremos más adelante nuestro vocabulario."
      ]
    },
    {
      "cell_type": "code",
      "execution_count": 7,
      "metadata": {
        "id": "6FP4FF3KXGxm"
      },
      "outputs": [],
      "source": [
        "# Considera la siguiente lista como tu conjunto de stopwords:\n",
        "mis_stopwords = ['i', 'me', 'my', 'myself', 'we', 'our', 'ours', 'ourselves', 'you', 'your', 'yours', 'he', 'him', 'his', 'himself', 'she', 'her', 'hers', 'herself', 'it', 'its', 'itself', 'they', 'them', 'their', 'theirs', 'themselves', 'what', 'which', 'who', 'whom', 'this', 'that', 'these', 'those', 'am', 'is', 'are', 'was', 'were', 'be', 'been', 'being', 'have', 'has', 'had', 'having', 'do', 'does', 'did', 'doing', 'a', 'an', 'the', 'and', 'but', 'if', 'or', 'because', 'as', 'until', 'while', 'of', 'at', 'by', 'for', 'with', 'about', 'against', 'between', 'into', 'through', 'during', 'before', 'after', 'above', 'below', 'to', 'from', 'up', 'down', 'in', 'out', 'on', 'over', 'under', 'again', 'further', 'then', 'once', 'here', 'there', 'when', 'where', 'why', 'how', 'all', 'any', 'both', 'each', 'few', 'more', 'most', 'other', 'some', 'such', 'only', 'own', 'same', 'so', 'than', 'too', 'very', 's', 't', 'can', 'will', 'just', 'should', 'now', 'll']"
      ]
    },
    {
      "cell_type": "code",
      "execution_count": null,
      "metadata": {
        "id": "CD8yjyq1ZrwY"
      },
      "outputs": [],
      "source": []
    },
    {
      "cell_type": "code",
      "execution_count": null,
      "metadata": {
        "id": "4ZPi5prKZro5"
      },
      "outputs": [],
      "source": []
    },
    {
      "cell_type": "markdown",
      "metadata": {
        "id": "NDbKkuxRbLoX"
      },
      "source": [
        "*   **Comentarios**\n",
        "\n",
        "Incluye finalmente tus comentarios de la actividad."
      ]
    },
    {
      "cell_type": "markdown",
      "metadata": {
        "id": "o7fzbvqVbUGr"
      },
      "source": [
        "<< incluye aquí tus comentarios >>"
      ]
    },
    {
      "cell_type": "markdown",
      "metadata": {
        "id": "PHaKw_6Ldbaf"
      },
      "source": [
        "## **Fin de la Actividad de la semana 2.**"
      ]
    }
  ],
  "metadata": {
    "colab": {
      "collapsed_sections": [
        "759SG4TyfbUn",
        "Zj-h4drXD-X9",
        "BY6yifxscfrx",
        "k_ewoagic5jc",
        "70StdqAZa9E9"
      ],
      "provenance": []
    },
    "kernelspec": {
      "display_name": "env",
      "language": "python",
      "name": "python3"
    },
    "language_info": {
      "codemirror_mode": {
        "name": "ipython",
        "version": 3
      },
      "file_extension": ".py",
      "mimetype": "text/x-python",
      "name": "python",
      "nbconvert_exporter": "python",
      "pygments_lexer": "ipython3",
      "version": "3.13.2"
    }
  },
  "nbformat": 4,
  "nbformat_minor": 0
}
