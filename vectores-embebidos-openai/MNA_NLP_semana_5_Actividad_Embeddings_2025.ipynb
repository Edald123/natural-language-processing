{
  "cells": [
    {
      "cell_type": "markdown",
      "metadata": {
        "id": "lNl8G3vHkPSX"
      },
      "source": [
        "# **Maestría en Inteligencia Artificial Aplicada**\n",
        "\n",
        "## Curso: **Procesamiento de Lenguaje Natural**\n",
        "\n",
        "### Tecnológico de Monterrey\n",
        "\n",
        "### Prof Luis Eduardo Falcón Morales\n",
        "\n",
        "## Actividad Semana 5\n",
        "\n",
        "### **Vectores Embebidos de OpenAI**"
      ]
    },
    {
      "cell_type": "markdown",
      "metadata": {
        "id": "U69mHA6i201G"
      },
      "source": [
        "#### **Nombres y matrículas de los integrantes del equipo:**\n",
        "\n",
        "\n",
        "\n",
        "*   Elemento de lista\n",
        "*   Elemento de lista\n",
        "\n"
      ]
    },
    {
      "cell_type": "code",
      "execution_count": 20,
      "metadata": {
        "id": "wCL2p6MA8NuT"
      },
      "outputs": [
        {
          "name": "stderr",
          "output_type": "stream",
          "text": [
            "[nltk_data] Downloading package punkt to /home/eahumada/nltk_data...\n",
            "[nltk_data]   Package punkt is already up-to-date!\n",
            "[nltk_data] Downloading package stopwords to\n",
            "[nltk_data]     /home/eahumada/nltk_data...\n",
            "[nltk_data]   Package stopwords is already up-to-date!\n",
            "[nltk_data] Downloading package averaged_perceptron_tagger_eng to\n",
            "[nltk_data]     /home/eahumada/nltk_data...\n",
            "[nltk_data]   Package averaged_perceptron_tagger_eng is already up-to-\n",
            "[nltk_data]       date!\n",
            "[nltk_data] Downloading package wordnet to /home/eahumada/nltk_data...\n",
            "[nltk_data]   Package wordnet is already up-to-date!\n"
          ]
        },
        {
          "data": {
            "text/plain": [
              "True"
            ]
          },
          "execution_count": 20,
          "metadata": {},
          "output_type": "execute_result"
        }
      ],
      "source": [
        "# Aquí deberás incluir todas las librerías que requieras durante esta actividad:\n",
        "import pandas as pd  \n",
        "import numpy as np\n",
        "\n",
        "import nltk\n",
        "from nltk.corpus import stopwords\n",
        "import re\n",
        "\n",
        "from sklearn.model_selection import train_test_split\n",
        "\n",
        "from nltk.stem import WordNetLemmatizer\n",
        "from nltk.corpus import wordnet\n",
        "from nltk import pos_tag\n",
        "from collections import Counter \n",
        "\n",
        "nltk.download('punkt')    # es un tokenizador que ayuda a dividr el texto en enunciados mediante un modelo no-supervisado.\n",
        "nltk.download('stopwords')    # para tener acceso a \"stopwords\" en varios idiomas.\n",
        "nltk.download('averaged_perceptron_tagger_eng')   # es un etiquetador de partes del discurso (POS) para inglés.\n",
        "nltk.download('wordnet')   # es un recurso léxico para el inglés que agrupa palabras en conjuntos de sinónimos (synsets) y proporciona definiciones y ejemplos de uso.\n"
      ]
    },
    {
      "cell_type": "code",
      "execution_count": 27,
      "metadata": {
        "id": "7wc107K-oIV4"
      },
      "outputs": [],
      "source": [
        "# Incluye las celdas necesarias para tu acceso a la API de OpenAI.\n",
        "\n",
        "import openai\n",
        "import time\n",
        "import pickle\n",
        "\n",
        "import os\n",
        "from dotenv import load_dotenv\n",
        "\n",
        "load_dotenv()\n",
        "openai.api_key = os.getenv(\"OPENAI_API_KEY\")"
      ]
    },
    {
      "cell_type": "markdown",
      "metadata": {
        "id": "4c34ZOnna3Gu"
      },
      "source": [
        "# **Pregunta - 1:**\n",
        "\n"
      ]
    },
    {
      "cell_type": "markdown",
      "metadata": {
        "id": "yeNllxRdmeWg"
      },
      "source": [
        "Descarga los 3 archivos de Canvas y genera un nuevo DataFrame de Pandas con ellos.\n",
        "\n",
        "**Llama simplemente \"df\" a dicho DataFrame.**\n",
        "\n",
        "Los archivos los encuentras en Canvas: amazon5.txt, imdb5.txt, yelp5.txt.\n",
        "\n"
      ]
    },
    {
      "cell_type": "code",
      "execution_count": null,
      "metadata": {
        "id": "T_lyEFRkxzC6"
      },
      "outputs": [
        {
          "name": "stdout",
          "output_type": "stream",
          "text": [
            "(3000, 2)\n"
          ]
        }
      ],
      "source": [
        "\n",
        "# ******* Inlcuye a continuación todas las líneas de código y celdas que requieras: ***********\n",
        "\n",
        "dfa = pd.read_csv('amazon5.txt', sep='\\t', names=['review','label'], header=None, encoding='utf-8')\n",
        "dfi = pd.read_csv('imdb5.txt', delimiter='\\t', names=['review','label'], header=None, encoding='utf-8')\n",
        "dfy = pd.read_csv('yelp5.txt', sep='\\t', names=['review','label'], header=None, encoding='utf-8')\n",
        "\n",
        "\n",
        "df = pd.concat([dfa, dfi, dfy], ignore_index=True)\n",
        "print(df.shape)\n",
        "\n",
        "# *********** Aquí termina la sección de agregar código *************\n"
      ]
    },
    {
      "cell_type": "code",
      "execution_count": 3,
      "metadata": {
        "id": "3-w1xMLYnm9b"
      },
      "outputs": [
        {
          "name": "stdout",
          "output_type": "stream",
          "text": [
            "<class 'pandas.core.frame.DataFrame'>\n",
            "RangeIndex: 3000 entries, 0 to 2999\n",
            "Data columns (total 2 columns):\n",
            " #   Column  Non-Null Count  Dtype  \n",
            "---  ------  --------------  -----  \n",
            " 0   review  3000 non-null   object \n",
            " 1   label   2000 non-null   float64\n",
            "dtypes: float64(1), object(1)\n",
            "memory usage: 47.0+ KB\n"
          ]
        }
      ],
      "source": [
        "# Verifiquemos la información del DataFrame:\n",
        "df.info()"
      ]
    },
    {
      "cell_type": "code",
      "execution_count": 4,
      "metadata": {
        "id": "NfVUcYe1nubT"
      },
      "outputs": [
        {
          "data": {
            "text/html": [
              "<div>\n",
              "<style scoped>\n",
              "    .dataframe tbody tr th:only-of-type {\n",
              "        vertical-align: middle;\n",
              "    }\n",
              "\n",
              "    .dataframe tbody tr th {\n",
              "        vertical-align: top;\n",
              "    }\n",
              "\n",
              "    .dataframe thead th {\n",
              "        text-align: right;\n",
              "    }\n",
              "</style>\n",
              "<table border=\"1\" class=\"dataframe\">\n",
              "  <thead>\n",
              "    <tr style=\"text-align: right;\">\n",
              "      <th></th>\n",
              "      <th>review</th>\n",
              "      <th>label</th>\n",
              "    </tr>\n",
              "  </thead>\n",
              "  <tbody>\n",
              "    <tr>\n",
              "      <th>0</th>\n",
              "      <td>So there is no way for me to plug it in here i...</td>\n",
              "      <td>0.0</td>\n",
              "    </tr>\n",
              "    <tr>\n",
              "      <th>1</th>\n",
              "      <td>Good case, Excellent value.</td>\n",
              "      <td>1.0</td>\n",
              "    </tr>\n",
              "    <tr>\n",
              "      <th>2</th>\n",
              "      <td>Great for the jawbone.</td>\n",
              "      <td>1.0</td>\n",
              "    </tr>\n",
              "    <tr>\n",
              "      <th>3</th>\n",
              "      <td>Tied to charger for conversations lasting more...</td>\n",
              "      <td>0.0</td>\n",
              "    </tr>\n",
              "    <tr>\n",
              "      <th>4</th>\n",
              "      <td>The mic is great.</td>\n",
              "      <td>1.0</td>\n",
              "    </tr>\n",
              "  </tbody>\n",
              "</table>\n",
              "</div>"
            ],
            "text/plain": [
              "                                              review  label\n",
              "0  So there is no way for me to plug it in here i...    0.0\n",
              "1                        Good case, Excellent value.    1.0\n",
              "2                             Great for the jawbone.    1.0\n",
              "3  Tied to charger for conversations lasting more...    0.0\n",
              "4                                  The mic is great.    1.0"
            ]
          },
          "execution_count": 4,
          "metadata": {},
          "output_type": "execute_result"
        }
      ],
      "source": [
        "# Y veamos sus primeros registros:\n",
        "\n",
        "df.head()"
      ]
    },
    {
      "cell_type": "markdown",
      "metadata": {
        "id": "MfZZ0stLmWJN"
      },
      "source": [
        "# **Pregunta - 2:**"
      ]
    },
    {
      "cell_type": "markdown",
      "metadata": {
        "id": "7F6JF5BommZ6"
      },
      "source": [
        "Realiza el proceso de limpieza. Aplica el preprocesamiento que consideres adecuado.\n",
        "\n",
        "\n",
        "\n",
        "\n",
        "\n",
        "\n",
        "\n",
        "\n",
        "\n"
      ]
    },
    {
      "cell_type": "code",
      "execution_count": 10,
      "metadata": {
        "id": "TsnvMp-7oYCM"
      },
      "outputs": [],
      "source": [
        "\n",
        "# ******* Inlcuye a continuación todas las líneas de código y celdas que requieras: ***********\n",
        "\n",
        "# Definimos una lista de stopwords que no incluya las palabras negativas para evitar que se eliminen\n",
        "# en el preprocesamiento, ya que pueden ser importantes para la clasificación.\n",
        "negwords = [ 'no', 'nor', 'not', 'ain', 'aren', \"aren't\", 'don', \"don't\", 'couldn', \"couldn't\", 'didn', \"didn't\", 'doesn', \"doesn't\", 'hadn', \"hadn't\", 'hasn', \"hasn't\", 'haven', \"haven't\", 'isn', \"isn't\", 'mightn', \"mightn't\", 'mustn', \"mustn't\", 'needn', \"needn't\", 'shan', \"shan't\", 'shouldn', \"shouldn't\", 'wasn', \"wasn't\", 'weren', \"weren't\", 'won', \"won't\", 'wouldn', \"wouldn't\"]\n",
        "mystopwords = set(stopwords.words('english')) - set(negwords)\n"
      ]
    },
    {
      "cell_type": "code",
      "execution_count": 11,
      "metadata": {},
      "outputs": [],
      "source": [
        "# Separamos nuestro dataset en dos variables, X e Y, donde X contiene las reseñas y Y contiene las etiquetas.\n",
        "X = df.review     \n",
        "Y = df.label      \n",
        "\n",
        "# Verificamos que la longitud de X e Y sean correctas.\n",
        "assert X.shape == (3000,)\n",
        "assert Y.shape == (3000,)"
      ]
    },
    {
      "cell_type": "code",
      "execution_count": 12,
      "metadata": {},
      "outputs": [],
      "source": [
        "# Definimos una función para limpiar el texto de las reseñas.\n",
        "def clean_tok(doc):\n",
        "  # Remplazamos los caracteres de puntuación por espacios.\n",
        "  doc = re.sub(r'[^A-Za-z0-9]', ' ', doc)\n",
        "  # Separamos el texto en tokens.\n",
        "  as_list = doc.split()\n",
        "  # eliminamos los caracteres no alfabéticos y convertimos a minúsculas.\n",
        "  as_list = [re.sub(r'[^A-Za-z]+', '', s).lower() for s in as_list]\n",
        "  # eliminamos las palabras de longitud menor a 2.\n",
        "  as_list = [x for x in as_list if len(x) > 1]\n",
        "  # eliminamos las stopwords.\n",
        "  as_list = [x for x in as_list if x not in mystopwords]\n",
        "  tokens = as_list\n",
        "\n",
        "  return tokens"
      ]
    },
    {
      "cell_type": "code",
      "execution_count": 13,
      "metadata": {},
      "outputs": [],
      "source": [
        "# Aplicamos 2 procesos extras de limpieza:\n",
        "# 1. Eliminamos los caracteres repetidos (ej: \"loooove\" -> \"loove\").\n",
        "# 2. Lematizamos las palabras (ej: \"running\" -> \"run\").\n",
        "# Definimos una lista de palabras que no queremos lematizar.\n",
        "# Esto es útil para evitar lematizar pronombres y otras palabras que no cambian su forma.\n",
        "do_not_lemmatize = {\n",
        "    'i', 'me', 'my', 'mine', 'you', 'your', 'yours',\n",
        "    'he', 'him', 'his', 'she', 'her', 'hers',\n",
        "    'we', 'us', 'our', 'ours', 'they', 'them', 'their', 'theirs',\n",
        "    'it', 'its'\n",
        "}\n",
        "\n",
        "def get_wordnet_pos(treebank_tag):\n",
        "    if treebank_tag.startswith('J'):\n",
        "        return wordnet.ADJ\n",
        "    elif treebank_tag.startswith('V'):\n",
        "        return wordnet.VERB\n",
        "    elif treebank_tag.startswith('N'):\n",
        "        return wordnet.NOUN\n",
        "    elif treebank_tag.startswith('R'):\n",
        "        return wordnet.ADV\n",
        "    else:\n",
        "        return wordnet.NOUN\n",
        "\n",
        "# Función para eliminar caracteres repetidos.\n",
        "def reduce_repeated_chars(word):\n",
        "    return re.sub(r'(.)\\1{2,}', r'\\1\\1', word)\n",
        "\n",
        "def clean_doc(doc):\n",
        "    # eliminamos caracteres repetidos.\n",
        "    reduced = [reduce_repeated_chars(word) for word in doc]\n",
        "    # inicializamos el lematizador.\n",
        "    lemmatizer = WordNetLemmatizer()\n",
        "    # obtenemos las etiquetas de parte de la oración.\n",
        "    pos_tags = pos_tag(reduced) \n",
        "    # lematizamos las palabras según su etiqueta.\n",
        "    lemmatized = []\n",
        "    for word, tag in pos_tags:\n",
        "        lower_word = word.lower()\n",
        "        if lower_word in do_not_lemmatize:\n",
        "            lemmatized.append(lower_word)\n",
        "        else:\n",
        "            lemma = lemmatizer.lemmatize(word, get_wordnet_pos(tag))\n",
        "            lemmatized.append(lemma)\n",
        "\n",
        "    tokens = lemmatized\n",
        "\n",
        "    return tokens"
      ]
    },
    {
      "cell_type": "code",
      "execution_count": 16,
      "metadata": {
        "id": "7jlQuoI2o33T"
      },
      "outputs": [],
      "source": [
        "# Aplicamos el proceso de limpieza y tokenización:\n",
        "Xcleantok = [clean_tok(x) for x in X]   \n",
        "\n",
        "# Aplicamos el proceso de limpieza/normalización adicionales:\n",
        "Xclean = [clean_doc(x) for x in Xcleantok]  \n"
      ]
    },
    {
      "cell_type": "code",
      "execution_count": 17,
      "metadata": {},
      "outputs": [
        {
          "data": {
            "text/plain": [
              "[['no', 'way', 'plug', 'us', 'unless', 'go', 'converter'],\n",
              " ['good', 'case', 'excellent', 'value'],\n",
              " ['great', 'jawbone'],\n",
              " ['tie', 'charger', 'conversation', 'last', 'minute', 'major', 'problem'],\n",
              " ['mic', 'great']]"
            ]
          },
          "execution_count": 17,
          "metadata": {},
          "output_type": "execute_result"
        }
      ],
      "source": [
        "Xclean[0:5]         # Veamos los primero registros para ver cómo va quedando el resultado."
      ]
    },
    {
      "cell_type": "code",
      "execution_count": null,
      "metadata": {},
      "outputs": [],
      "source": [
        "# *********** Aquí termina la sección de agregar código *************"
      ]
    },
    {
      "cell_type": "markdown",
      "metadata": {
        "id": "ygchEdcKqIzU"
      },
      "source": [
        "# **Pregunta - 3:**\n"
      ]
    },
    {
      "cell_type": "markdown",
      "metadata": {
        "id": "7wEIOkkl9Dot"
      },
      "source": [
        "\n",
        "Realicemos una partición aleatoria con los mismos porcentajes de la práctica pasada para poder comparar dichos resultados con los de\n",
        "esta actividad, a saber, 70%, 15% y 15%, para entrenamiento, validación y prueba, respectivamente."
      ]
    },
    {
      "cell_type": "code",
      "execution_count": 18,
      "metadata": {
        "id": "b0SAcYdq9X0w"
      },
      "outputs": [
        {
          "name": "stdout",
          "output_type": "stream",
          "text": [
            "X,y Train: 2100 2100\n",
            "X,y Val: 450 450\n",
            "X,y Test 450 450\n"
          ]
        }
      ],
      "source": [
        "\n",
        "# ************* Inicia la sección de agregar código:*****************************\n",
        "\n",
        "x_train, x_val_and_test, y_train, y_val_and_test = train_test_split(Xclean, Y, train_size=.70, shuffle=True, random_state=1) \n",
        "x_val, x_test, y_val, y_test = train_test_split(x_val_and_test, y_val_and_test, test_size=.50, shuffle=True, random_state=17)\n",
        "\n",
        "\n",
        "# *********** Termina la sección de agregar código *************\n",
        "\n",
        "# verificemos las dimensiones obtenidas:\n",
        "print('X,y Train:', len(x_train), len(y_train))\n",
        "print('X,y Val:', len(x_val), len(y_val))\n",
        "print('X,y Test', len(x_test), len(y_test))"
      ]
    },
    {
      "cell_type": "markdown",
      "metadata": {
        "id": "1qjKoEqiqBN1"
      },
      "source": [
        "# **Pregunta - 4:**"
      ]
    },
    {
      "cell_type": "markdown",
      "metadata": {
        "id": "jENsKiN99r3F"
      },
      "source": [
        "\n",
        "\n",
        "Construye tu vocabulario a continuación\n"
      ]
    },
    {
      "cell_type": "code",
      "execution_count": null,
      "metadata": {
        "id": "TzJntmLPqPqC"
      },
      "outputs": [],
      "source": [
        "# a.\tUsa el conjunto de entrenamiento para generar tu vocabulario\n",
        "#     con un tamaño que consideres adecuado:\n",
        "\n",
        "\n",
        "# ******* Inlcuye a continuación todas las líneas de código y celdas que requieras: ***********\n",
        "\n",
        "midiccionario = Counter()    \n",
        "\n",
        "for k in range(len(x_train)):\n",
        "  midiccionario.update(x_train[k])\n",
        "\n",
        "# *********** Aquí termina la sección de agregar código *************"
      ]
    },
    {
      "cell_type": "code",
      "execution_count": 22,
      "metadata": {
        "id": "yTDZ0Rr86CUP"
      },
      "outputs": [
        {
          "name": "stdout",
          "output_type": "stream",
          "text": [
            "Longitud del vocabulario generado:\n",
            "Longitud del diccionario: 3421\n",
            "\n",
            "(word,frequency):\n",
            "[('not', 218), ('good', 178), ('great', 141), ('movie', 140), ('phone', 134), ('film', 130), ('work', 113), ('time', 101), ('one', 100), ('like', 98)]\n"
          ]
        }
      ],
      "source": [
        "# b.\tIndica el tamaño del vocabulario generado.\n",
        "\n",
        "print('Longitud del vocabulario generado:')\n",
        "\n",
        "\n",
        "# ******* Inicia la sección de agregar código: ***********\n",
        "\n",
        "print('Longitud del diccionario:', len(midiccionario))  \n",
        "print('\\n(word,frequency):') \n",
        "print(midiccionario.most_common(10)) \n",
        "\n",
        "# *********** Aquí termina la sección de agregar código *************"
      ]
    },
    {
      "cell_type": "code",
      "execution_count": 23,
      "metadata": {},
      "outputs": [
        {
          "name": "stdout",
          "output_type": "stream",
          "text": [
            "Nueva longitud del nuevo vocabulario: 933\n",
            "[('star', 18), ('don', 56), ('much', 39), ('good', 178), ('people', 23)]\n"
          ]
        }
      ],
      "source": [
        "# Filtramos el vocabulario para quedarnos con las palabras que aparecen al menos 3 veces en el conjunto de entrenamiento.\n",
        "min_freq = 3\n",
        "\n",
        "# filtramos el diccionario.\n",
        "midicc = {word: freq for word, freq in midiccionario.items() if freq >= min_freq}\n",
        "\n",
        "print('Nueva longitud del nuevo vocabulario:', len(midicc))\n",
        "print(list(midicc.items())[0:5])     # veamos algunos elementos del diccionario."
      ]
    },
    {
      "cell_type": "markdown",
      "metadata": {
        "id": "NDa4EhTqrw15"
      },
      "source": [
        "c.\t¿Por qué debe usarse solamente el conjunto de entrenamiento para generar el vocabulario?\n",
        "\n",
        "\n",
        "### ++++++++ Inicia la sección de agregar texto: +++++++++++\n",
        "\n",
        "1. Evitar data leakage: Si se incluye información de los conjuntos de validación o prueba al construir el vocabulario, se corre el riesgo de que el modelo aprenda patrones específicos de esos conjuntos, lo que puede llevar a un sobreajuste y a una evaluación sesgada del rendimiento del modelo.\n",
        "2. Evaluación realista: Al construir el vocabulario solo con el conjunto de entrenamiento, se asegura que la evaluación del modelo en los conjuntos de validación y prueba sea más representativa de su rendimiento en datos no vistos.\n",
        "3. Generalización: Un vocabulario construido únicamente a partir del conjunto de entrenamiento ayuda a garantizar que el modelo se generalice mejor a nuevos datos, ya que no está influenciado por las características específicas de los conjuntos de validación o prueba.\n",
        "\n",
        "### ++++++++ Termina la sección de agregar texto: +++++++++++\n"
      ]
    },
    {
      "cell_type": "code",
      "execution_count": 24,
      "metadata": {
        "id": "7ykjxQI3rpxx"
      },
      "outputs": [],
      "source": [
        "# d.\tCon el vocabulario generado, filtra los conjuntos de entrenamiento,\n",
        "#     validación y prueba para que todos los comentarios usen solamente las\n",
        "#     palabras de este vocabulario.\n",
        "\n",
        "#     Llamar train_x, val_x y test_x a estos tres conjuntos.\n",
        "\n",
        "\n",
        "# ******* Inlcuye a continuación todas las líneas de código y celdas que requieras: ***********\n",
        "\n",
        "\n",
        "train_x = []\n",
        "for ss in x_train:\n",
        "  train_x.append([w for w in ss if w in midicc])\n",
        "\n",
        "val_x = []\n",
        "for ss in x_val:\n",
        "  val_x.append([w for w in ss if w in midicc])\n",
        "\n",
        "test_x = []\n",
        "for ss in x_test:\n",
        "  test_x.append([w for w in ss if w in midicc])\n",
        "\n",
        "\n",
        "# *********** Aquí termina la sección de agregar código *************\n"
      ]
    },
    {
      "cell_type": "code",
      "execution_count": 25,
      "metadata": {
        "id": "iYF2RGuPtQTC"
      },
      "outputs": [
        {
          "name": "stdout",
          "output_type": "stream",
          "text": [
            "['star', 'don', 'much', 'good', 'people', 'like', 'ed', 'waste']\n",
            "['special', 'suck']\n",
            "['pay', 'bill', 'not', 'tip', 'felt', 'server', 'terrible', 'job']\n",
            "['call', 'cook', 'steak', 'don', 'understand']\n",
            "['however', 'keypad', 'tinny', 'sometimes', 'wrong', 'button']\n"
          ]
        }
      ],
      "source": [
        "# Vemos el resultado de los primeros comentarios del conjunto de entrenamiento:\n",
        "\n",
        "for ss in train_x[0:5]:\n",
        "  print(ss)"
      ]
    },
    {
      "cell_type": "markdown",
      "metadata": {
        "id": "RS0Hxj25vTWh"
      },
      "source": [
        "# **Pregunta - 5:**"
      ]
    },
    {
      "cell_type": "markdown",
      "metadata": {
        "id": "CnHHAza5_P5Z"
      },
      "source": [
        "\n",
        "#### **Incluye aquí un resumen de las características y diferencias que tiene al menos los tres modelos de OpenAI indicados: \"text-embedding-3-small\", \"text-embedding-3-large\" y \"text-embedding-ada-002\".**"
      ]
    },
    {
      "cell_type": "markdown",
      "metadata": {
        "id": "uTI9xSgF_Xc8"
      },
      "source": [
        "### ++++++++ Inicia la sección de agregar texto: +++++++++++\n",
        "\n",
        "##### ***Comparativa de modelos de OpenAI para embeddings de texto:***\n",
        "| Característica                          | `text-embedding-ada-002`               | `text-embedding-3-small`                                 | `text-embedding-3-large`                     |\n",
        "| --------------------------------------- | -------------------------------------- | -------------------------------------------------------- | -------------------------------------------- |\n",
        "| **Lanzamiento**                         | 2022                                   | Enero 2024                                               | Enero 2024                                   |\n",
        "| **Generación**                          | 2ª generación                          | 3ª generación                                            | 3ª generación                                |\n",
        "| **Dimensión del vector**                | Fija: 1536                             | Ajustable hasta 1536                                     | Ajustable hasta 3072                         |\n",
        "| **Tokens de entrada**                   | 8191                                   | 8191                                                     | 8191                                         |\n",
        "| **Precio por 1,000 tokens**             | \\$0.0001                               | \\$0.00002                                                | \\$0.00013                                    |\n",
        "| **Optimización**                        | General                                | Precisión/costo                                          | Máxima precisión                             |\n",
        "| **Multilingüe**                         | Sí (limitado)                          | Sí (mejorado)                                            | Sí (superior)                                |\n",
        "| **Soporte para reducción de dimensión** | No                                     | Sí                                                       | Sí                                           |\n",
        "| **Benchmark MIRACL (multilingüe)**      | 31.4%                                  | 44.0%                                                    | 54.9%                                        |\n",
        "| **Benchmark MTEB (tareas variadas)**    | 61.0%                                  | 62.3%                                                    | 64.6%                                        |\n",
        "| **Casos de uso ideales**                | Búsqueda general, clasificación simple | Análisis de sentimientos, motores de búsqueda económicos | Recomendaciones, búsqueda semántica avanzada |\n",
        "| **Ventaja clave**                       | Simplicidad y disponibilidad           | Balance costo/rendimiento                                | Precisión máxima y multilingüismo            |\n",
        "| **Desventaja**                          | Menor precisión                        | Menor precisión que `3-large`                            | Más caro                                     |\n",
        "\n",
        "\n",
        "##### ***Cuadro Comparativo: Ventajas, Desventajas y Casos de Uso***\n",
        "| Modelo                     | Ventajas                                                                                                            | Desventajas                                                                                | Descripción / Casos de Uso Ideales                                                                                        |\n",
        "| -------------------------- | ------------------------------------------------------------------------------------------------------------------- | ------------------------------------------------------------------------------------------ | ------------------------------------------------------------------------------------------------------------------------- |\n",
        "| **text-embedding-ada-002** | ✅ Bajo costo<br>✅ Dimensión razonable (1536)<br>✅ Bien probado en producción                                        | ❌ Menor precisión<br>❌ No permite reducir dimensiones<br>❌ Superado por modelos más nuevos | Ideal para prototipos, POCs y aplicaciones de bajo presupuesto que requieran embeddings decentes sin máxima precisión.    |\n",
        "| **text-embedding-3-small** | ✅ Excelente relación costo/rendimiento<br>✅ Soporte para reducción de dimensión<br>✅ Precisión superior a `ada-002` | ❌ No alcanza el rendimiento máximo del modelo `3-large`                                    | Óptimo para la mayoría de aplicaciones productivas: clasificación, búsqueda semántica, análisis de sentimientos, etc.     |\n",
        "| **text-embedding-3-large** | ✅ Mayor precisión<br>✅ Excelente rendimiento multilingüe<br>✅ Ideal para tareas complejas                           | ❌ Costo más alto<br>❌ Mayor dimensión base                                                 | Recomendado para motores de búsqueda críticos, recomendadores, RAG, NLP multilingüe y sistemas de atención al cliente AI. |\n",
        "\n",
        "#### ***Recomendaciones de Uso***\n",
        "- **text-embedding-3-large**: Para tareas que requieren la mayor precisión y soporte multilingüe avanzado, como motores de búsqueda semántica de alta calidad y sistemas de recomendación complejos.\n",
        "    - Usa 3-large si: tu proyecto es crítico en precisión, involucra múltiples idiomas o necesitas máximo rendimiento en tareas semánticas.\n",
        "\n",
        "- **text-embedding-3-small**: Para aplicaciones que buscan un equilibrio entre rendimiento y costo, como análisis de sentimientos, clasificación de contenido y búsqueda semántica eficiente.\n",
        "    - Usa 3-small si: buscas precisión alta a bajo costo, con buena flexibilidad dimensional.\n",
        "\n",
        "- **text-embedding-ada-002**: Para proyectos existentes que ya utilizan este modelo o cuando se requiere una solución probada y rentable, aunque con menor rendimiento en comparación con los modelos más recientes.\n",
        "    - Usa ada-002 si: tu prioridad es el costo más bajo y no necesitas la mejor precisión.\n",
        "\n",
        "### ++++++++ Termina la sección de agregar texto: +++++++++++\n"
      ]
    },
    {
      "cell_type": "markdown",
      "metadata": {
        "id": "ToqRl7fT_fn2"
      },
      "source": [
        "# **Pregunta - 6:**\n"
      ]
    },
    {
      "cell_type": "markdown",
      "metadata": {
        "id": "BKqQk03oqoOD"
      },
      "source": [
        "#### **Diccionario clave-valor de palabras del diccionario y vectores embebidos.**"
      ]
    },
    {
      "cell_type": "code",
      "execution_count": 32,
      "metadata": {
        "id": "UdK-jMfLxHLY"
      },
      "outputs": [
        {
          "name": "stdout",
          "output_type": "stream",
          "text": [
            "Embeddings cargados desde archivo.\n"
          ]
        }
      ],
      "source": [
        "# ******* Inlcuye a continuación todas las líneas de código y celdas que requieras: ***********\n",
        "\n",
        "embedding_path = \"embedding_dict.pkl\"\n",
        "\n",
        "# Si el archivo existe, lo cargamos. Si no, lo generamos y guardamos.\n",
        "if os.path.exists(embedding_path):\n",
        "    with open(embedding_path, \"rb\") as f:\n",
        "        embedding_dict = pickle.load(f)\n",
        "    print(\"Embeddings cargados desde archivo.\")\n",
        "else:\n",
        "    words = list(midicc.keys())\n",
        "    embedding_dict = {}\n",
        "    i = 0\n",
        "    for word in words:\n",
        "        try:\n",
        "            response = openai.embeddings.create(\n",
        "                input=word,\n",
        "                model=\"text-embedding-3-small\"\n",
        "            )\n",
        "            embedding = response.data[0].embedding\n",
        "            embedding_dict[word] = embedding\n",
        "            i += 1\n",
        "            # Imprimimos el progreso cada 100 palabras\n",
        "            if i % 100 == 0:\n",
        "                print(f\"Progreso: {i}/{len(words)} palabras procesadas.\")\n",
        "            time.sleep(0.1)  # Para evitar rate limits\n",
        "        except Exception as e:\n",
        "            print(f\"Error con la palabra '{word}': {e}\")\n",
        "    # Guardamos el diccionario en un archivo pickle\n",
        "    with open(embedding_path, \"wb\") as f:\n",
        "        pickle.dump(embedding_dict, f)\n",
        "    print(\"Embeddings generados y guardados en archivo.\")\n",
        "\n",
        "# Ahora embedding_dict tiene la estructura {word: embedding_vector}\n",
        "\n",
        "\n",
        "# *********** Aquí termina la sección de agregar código *************"
      ]
    },
    {
      "cell_type": "code",
      "execution_count": 33,
      "metadata": {},
      "outputs": [
        {
          "name": "stdout",
          "output_type": "stream",
          "text": [
            "Tamaño del diccionario de embeddings: 933\n",
            "Primeras 5 palabras y sus embeddings:\n",
            "star: [-0.013770227320492268, -0.012703923508524895, -0.020466158166527748, -0.02024831250309944, -0.013804624788463116]...\n",
            "don: [0.020259618759155273, -0.03061453439295292, 0.011888456530869007, 0.012978818267583847, 0.02128666825592518]...\n",
            "much: [0.030653979629278183, -0.03788820654153824, 0.010267253965139389, 0.052722591906785965, -0.0006658936617895961]...\n",
            "good: [0.0023704110644757748, 0.006724473088979721, -0.019609607756137848, 0.02746170200407505, 0.03913670778274536]...\n",
            "people: [0.04156694561243057, -0.03560338169336319, 0.007150345481932163, 0.07280891388654709, 0.038362644612789154]...\n"
          ]
        }
      ],
      "source": [
        "print(\"Tamaño del diccionario de embeddings:\", len(embedding_dict))\n",
        "print(\"Primeras 5 palabras y sus embeddings:\")\n",
        "for word, embedding in list(embedding_dict.items())[:5]:\n",
        "    print(f\"{word}: {embedding[:5]}...\")  # Mostramos solo los primeros 5 valores del embedding\n"
      ]
    },
    {
      "cell_type": "markdown",
      "metadata": {
        "id": "W4S7q0yR0Mpi"
      },
      "source": [
        "# **Pregunta - 7:**"
      ]
    },
    {
      "cell_type": "markdown",
      "metadata": {
        "id": "VyeOrkoaC1eq"
      },
      "source": [
        "\n",
        "\n",
        "Generamos los vectores embebidos a partir de los conjuntos de entrenamiento, validación y prueba.\n",
        "\n",
        "Los llamaremos trainEmb, valEmb y testEmb, respectivamente."
      ]
    },
    {
      "cell_type": "code",
      "execution_count": 34,
      "metadata": {},
      "outputs": [
        {
          "name": "stdout",
          "output_type": "stream",
          "text": [
            "[['star', 'don', 'much', 'good', 'people', 'like', 'ed', 'waste'], ['special', 'suck'], ['pay', 'bill', 'not', 'tip', 'felt', 'server', 'terrible', 'job'], ['call', 'cook', 'steak', 'don', 'understand'], ['however', 'keypad', 'tinny', 'sometimes', 'wrong', 'button'], ['highly', 'recommend', 'movie', 'anyone', 'art', 'theater', 'history'], ['place', 'vega', 'exactly', 'hop', 'find', 'nearly', 'ten', 'year', 'live'], ['great', 'product'], ['leave', 'felt', 'sick', 'rest', 'day'], ['point', 'item', 'menu', 'order', 'win', 'disappointed'], ['best', 'scene', 'movie', 'end', 'win'], ['make', 'full', 'film'], ['not', 'provide', 'enough', 'charge'], ['beautifully', 'don', 'perfectly', 'describe', 'situation', 'movie', 'appreciate', 'subtle', 'excellent', 'film'], ['people', 'first', 'film', 'make', 'think', 'excellent', 'job'], ['didn', 'know', 'pull', 'pork', 'could', 'soo', 'delicious'], ['start', 'review', 'two', 'star', 'edit', 'give', 'one'], ['use', 'dirty'], ['pleased', 'act', 'ability'], ['overall', 'great', 'experience'], ['yeah', 'movie', 'pretty', 'much', 'suck'], ['place', 'good', 'film', 'garbage'], ['find', 'probably', 'return', 'phone', 'perhaps', 'change'], ['seem', 'pretty', 'bathroom', 'pretty', 'wouldn', 'eat'], ['company', 'charge', 'still', 'not', 'give', 'refund', 'back'], ['love'], ['film', 'highlight', 'not', 'rather', 'present', 'well'], ['track', 'actually', 'scene', 'character'], ['excellent', 'sound', 'quality'], ['love', 'fact', 'everything', 'menu', 'worth'], ['great', 'food', 'price', 'high', 'quality', 'house', 'make'], ['pair', 'two', 'device', 'easy', 'barely', 'take', 'couple', 'minute', 'start', 'make', 'call', 'voice', 'feature'], ['movie', 'totally'], ['highly'], ['child', 'year', 'old'], ['understand', 'cheap', 'comedy', 'doesn', 'mean', 'completely', 'insult', 'intelligence', 'write', 'incredibly'], ['use', 'small', 'earpiece', 'provide', 'stay', 'pretty', 'well'], ['also', 'difficult', 'put', 'recommend', 'avoid', 'product'], ['overall', 'don', 'think', 'would', 'take', 'parent', 'place', 'make', 'felt'], ['small', 'don', 'even', 'realize', 'get'], ['even', 'find', 'hour', 'website'], ['annoy', 'thing', 'cover', 'girl', 'way', 'put'], ['would', 'definitely', 'buy'], ['service', 'food', 'good', 'review'], ['no', 'ear', 'need', 'sound', 'great'], ['would', 'recommend', 'purchase', 'jabra', 'series', 'work', 'go'], ['win', 'go', 'back', 'anytime', 'soon'], ['movie', 'great', 'portrayal', 'family', 'share', 'ups', 'end', 'know', 'special', 'love'], ['ear', 'play', 'music', 'one', 'ear'], ['worst', 'hour', 'half', 'life', 'oh'], ['really', 'plantronics', 'right', 'one', 'many', 'issue', 'good'], ['story', 'man', 'art'], ['half', 'glass', 'wine', 'full', 'ridiculous'], ['recommend'], ['food', 'par', 'say', 'not', 'good'], ['glad', 'film', 'didn', 'go', 'choice', 'film', 'certainly', 'would'], ['describe', 'time', 'film'], ['price', 'reasonable', 'service', 'great'], ['never', 'work', 'well', 'certainly', 'doesn', 'work'], ['take', 'picture', 'battery', 'drop', 'bar', 'start', 'beep', 'let', 'know', 'die'], ['great', 'service'], ['don', 'yet', 'hear', 'mickey', 'speak', 'sound', 'effect', 'music', 'throughout', 'film', 'something', 'take', 'huge', 'crowd'], ['best', 'town', 'far'], ['please', 'stay', 'away', 'shrimp', 'fry'], ['screen', 'not', 'job'], ['cheap', 'feel', 'look', 'cheap'], ['little', 'device', 'make', 'life', 'whole', 'lot', 'easy'], ['go', 'give', 'star', 'rating', 'please', 'know', 'third', 'time', 'eat', 'burger', 'write', 'review'], ['bad', 'performance', 'play', 'computer', 'home', 'time'], ['subtle', 'script', 'occasionally', 'focus', 'tension', 'well', 'serve', 'perfect', 'performance', 'apart', 'odd', 'though', 'perhaps', 'direction', 'time', 'character', 'often', 'mention'], ['like', 'design', 'look', 'jabra', 'ear', 'headset', 'pretty', 'wear', 'hour', 'day', 'without', 'ear'], ['dont', 'think', 'back', 'long', 'time'], ['year', 'however', 'remind', 'us', 'still', 'top', 'game', 'dead'], ['line', 'cut', 'audio', 'everything', 'wrong'], ['actually', 'original', 'battery', 'come'], ['worst', 'ever'], ['service', 'great', 'even', 'manager', 'come', 'help', 'table'], ['buy', 'charger', 'break', 'soon', 'purchase'], ['lightweight', 'work', 'well'], ['work', 'good'], ['sound', 'quality', 'good', 'awesome'], ['don', 'many', 'word', 'say', 'place', 'everything', 'pretty', 'well'], ['worst', 'customer', 'service', 'ever'], ['could', 'eat', 'day'], ['along', 'headset', 'start', 'ring', 'no', 'reason'], ['dish', 'quite', 'appal', 'value', 'well'], [], ['crap', 'sound', 'quality', 'terrible'], ['service', 'quick', 'even', 'go', 'order', 'like', 'like'], ['buy', 'phone', 'regret', 'since'], ['think', 'wonderful', 'part', 'literally', 'full', 'wonder', 'work'], ['yet', 'run', 'new', 'battery', 'two', 'bar', 'three', 'day', 'without', 'charge'], ['don'], ['scene', 'whether', 'not', 'murder', 'horror', 'really', 'stupid'], ['not', 'charge', 'cingular', 'phone'], ['work'], ['bore', 'piece', 'kill', 'movie', 'anyone', 'else'], ['great', 'no', 'problem'], ['attempt', 'black', 'white', 'clever', 'camera', 'angle', 'movie', 'disappoint', 'become', 'even', 'ridiculous', 'act', 'poor', 'plot', 'line', 'almost', 'non'], ['place', 'friendly', 'kind', 'staff'], ['food', 'great', 'always', 'chef'], ['food', 'excellent', 'service', 'good'], ['first', 'vega', 'buffet', 'not', 'disappoint'], ['win', 'return'], ['whole', 'experience', 'think', 'go', 'sushi', 'next', 'time'], ['come', 'lady', 'night', 'night', 'highly', 'recommend', 'place', 'anyone', 'area'], ['place', 'way', 'overprice', 'mediocre', 'food'], ['not', 'worth', 'one', 'second', 'time'], ['fry', 'great'], ['like', 'final', 'blow'], ['work', 'right'], ['speak', 'music'], ['disappointment'], ['best', 'bluetooth'], ['performance', 'simply'], ['star', 'bread'], ['quite', 'honestly', 'often', 'not', 'good'], ['poor', 'quality'], ['definitely', 'not', 'worth', 'pay'], ['way', 'exchange', 'bad', 'phone', 'unit', 'something'], ['want', 'wait', 'mediocre', 'food', 'terrible', 'service', 'place'], ['also', 'feel', 'like', 'chip', 'buy', 'not', 'make', 'house'], ['someone', 'involve', 'together', 'narrative'], ['shot', 'use', 'faux', 'documentary', 'style', 'create', 'film', 'like', 'no'], ['charger', 'work', 'week', 'completely', 'stop', 'charge', 'phone'], ['extremely', 'slow', 'take', 'forever', 'anything'], ['dont', 'go'], ['receive', 'pita', 'huge', 'lot', 'meat', 'thumb'], ['love', 'place', 'hit', 'spot', 'want', 'something', 'not', 'lack', 'flavor'], ['utterly', 'first', 'cause', 'lose', 'couple', 'important', 'contact'], ['staff', 'super', 'nice', 'quick', 'even', 'crazy', 'crowd', 'staff'], ['much', 'phone', 'best', 'mistake'], ['soo', 'good'], ['high', 'best'], ['much', 'good', 'service', 'pizza', 'place', 'next', 'door', 'service', 'receive', 'restaurant'], ['camera', 'part', 'phone', 'reasonably', 'good'], ['food', 'good'], ['simple', 'little', 'phone', 'use'], ['excellent', 'hand', 'free', 'tool'], ['wasn', 'single', 'note', 'act', 'either', 'solid'], ['charger', 'tip', 'really', 'great'], ['movie', 'really', 'ed'], ['rating'], ['terrible', 'product', 'waste', 'money'], ['brain', 'attempt', 'part', 'self'], ['character', 'interest', 'really', 'care'], ['phone', 'like', 'new', 'performance'], [], ['reception', 'headset', 'excellent'], ['kid', 'annoy'], ['average', 'act', 'main', 'person', 'low', 'budget', 'clearly', 'see'], ['bother', 'slow', 'service'], ['verizon', 'year', 'ago', 'really', 'liked', 'service'], ['movie', 'seem', 'didn', 'really', 'work'], ['rate', 'movie'], ['pointless', 'complete', 'waste', 'time'], ['total', 'waste', 'time'], ['whatever', 'go', 'miss'], ['great', 'director'], ['movie', 'live', 'first', 'movie', 'year', 'work', 'experience', 'find', 'intelligence'], ['earbud', 'piece', 'break', 'easily'], ['think', 'show', 'people', 'learn', 'find', 'self', 'without', 'involve', 'people', 'issue'], ['might', 'get', 'would', 'not', 'buy', 'build', 'quality', 'alone'], ['lady', 'time', 'sometimes', 'look', 'like', 'girl', 'taste'], ['last', 'minute', 'movie', 'also', 'not', 'bad', 'well'], ['work', 'well'], ['particular', 'would', 'not', 'work', 'motorola'], ['best'], ['haven', 'go', 'go'], ['nothing', 'special'], ['poor', 'best', 'friend'], ['advise', 'everyone', 'not'], ['mean', 'world', 'would', 'never', 'get', 'whole', 'thing', 'quite', 'pathetic'], ['still', 'set', 'get', 'big', 'scale'], ['love', 'death', 'one'], ['get', 'food', 'never', 'hear', 'fish', 'chewy'], ['no', 'actress', 'bad', 'use', 'movie'], ['one', 'boring', 'pointless', 'movie', 'ever', 'see'], ['fantastic', 'service'], ['win', 'go', 'back'], ['direct', 'seem', 'pretentious'], ['worst', 'phone', 'samsung', 'crap', 'samsung', 'bad', 'ever', 'see'], ['thought', 'away', 'get', 'good', 'sushi', 'place', 'really', 'hit', 'spot', 'night'], ['don', 'make', 'mistake'], ['want', 'real', 'rent', 'one'], ['wonderfully'], ['feel', 'menu', 'difficult', 'button', 'difficult', 'push'], ['hell', 'barely', 'understand'], ['owner', 'super', 'friendly', 'staff'], ['not', 'back'], ['not', 'buy'], ['die', 'week'], ['talk', 'awful'], ['restaurant', 'always', 'full', 'never', 'wait'], ['didn', 'taste', 'fresh'], ['pretty', 'funny'], ['place', 'hand', 'one', 'best', 'place', 'eat', 'area'], ['original', 'masterpiece'], ['good', 'case', 'excellent', 'value'], ['disappointing', 'good'], ['also', 'try', 'push', 'ear', 'plug', 'ear'], ['well', 'keep', 'bad'], ['would', 'handle', 'us', 'beautifully'], ['never', 'character', 'good', 'genuine', 'heart', 'believable', 'problem'], ['steak', 'well', 'also', 'perfectly', 'cook'], ['fantastic', 'buy', 'get', 'whatever', 'next', 'phone'], ['sweet', 'potato', 'good', 'ring', 'close'], ['obviously', 'terrible', 'customer', 'service', 'get', 'pay'], ['check', 'voice', 'night', 'keypad', 'turn', 'second', 'first', 'message', 'lose'], ['go', 'back', 'next', 'trip'], ['charm', 'patio'], ['impressed', 'go', 'original', 'battery', 'battery'], ['network', 'coverage', 'horrible'], ['disappoint'], ['first', 'time', 'wait', 'next'], ['thing', 'kid', 'get', 'absolutely', 'watch'], ['color', 'even', 'pretty', 'thought', 'would', 'incredibly', 'sharp'], ['don', 'waste', 'time', 'watch', 'non', 'film'], ['many', 'one', 'comment', 'different', 'car', 'glass', 'one', 'get', 'fact', 'seem', 'change', 'scene', 'scene'], ['staff', 'attentive'], ['happy', 'product'], ['chicken'], ['wonderful', 'character', 'subtle', 'character', 'play'], ['probably', 'show', 'ever', 'see', 'entire', 'life'], ['movie', 'well', 'comedy', 'drama', 'thoroughly', 'enjoy'], ['volume'], ['excellent', 'performance'], ['anne', 'utterly'], ['still', 'stuff', 'though', 'highly', 'recommended', 'fan', 'giallo', 'cinema'], ['keep', 'look', 'time', 'soon', 'become', 'minute', 'yet', 'still', 'no', 'food'], ['nice', 'full', 'cell', 'phone', 'number', 'keypad'], ['could', 'use', 'set'], ['not', 'easy', 'watch'], ['highly', 'recommended', 'age', 'although', 'young', 'set', 'probably', 'not', 'appreciate', 'subtle', 'certainly', 'appreciate', 'one', 'scene', 'particular'], ['stupid', 'keep', 'buy', 'new', 'charger', 'car', 'charger', 'headphone', 'car', 'every', 'time', 'new', 'phone', 'come'], ['tell', 'disappoint'], ['movie', 'edge'], ['number', 'one', 'best', 'th', 'game', 'series'], ['try', 'back', 'every', 'week', 'since'], ['good', 'thing', 'waiter', 'helpful', 'keep', 'come'], ['however', 'finally', 'watch', 'film', 'realize', 'not', 'close', 'mind', 'also', 'find', 'watch'], ['leave', 'theater', 'step', 'joy', 'heart', 'hope', 'human'], ['seriously', 'killer', 'hot'], ['waste', 'since', 'focus', 'documentary'], ['manager', 'bad'], ['boy', 'hand', 'rude'], ['martin', 'contain', 'wonderful', 'chemistry', 'saw', 'wall', 'martin'], ['good', 'item', 'low', 'price'], ['lot', 'website', 'rating', 'good', 'phone'], ['subtle', 'connection', 'three', 'film', 'awesome'], ['waiter', 'attentive', 'friendly'], ['suspense', 'feel', 'girl'], ['good', 'though'], ['attempt', 'story', 'awful', 'think', 'basically', 'involve', 'find', 'seriously', 'didn', 'care', 'film', 'oh', 'not', 'mention', 'dance'], ['read', 'review', 'haven', 'problem'], ['character', 'one', 'even', 'good', 'guy', 'especially', 'bad', 'guy'], ['act', 'bad', 'dialog', 'extremely'], ['great', 'deal'], ['however', 'didn', 'make', 'fact', 'overall', 'boring', 'movie'], ['awesome', 'selection', 'beer'], ['hour', 'seriously'], ['die'], ['waste'], ['not', 'roll', 'eye', 'may', 'stay', 'not', 'sure', 'go', 'back', 'try'], ['big', 'fan', 'series', 'mostly', 'anne', 'rice', 'style'], ['company', 'product', 'work', 'well'], ['plan', 'order'], ['place', 'couple', 'year', 'ago', 'not', 'impressed'], ['doesn', 'make', 'look', 'cool'], ['place', 'deserve', 'no', 'star'], ['another', 'thing', 'didn', 'really', 'like', 'character', 'get', 'face', 'would', 'soon'], ['love', 'phone'], ['guess', 'network', 'watch', 'put'], ['nothing', 'new'], ['quality', 'restaurant'], ['scene', 'terrible', 'play', 'like', 'year', 'old', 'foot', 'etc'], ['long', 'bay', 'bit'], ['wow', 'spicy', 'delicious'], ['worth', 'drive'], ['conclusion', 'not', 'bother', 'movie', 'nothing'], ['buy', 'problem', 'battery'], ['must', 'say', 'episode', 'find', 'watch'], ['could', 'money', 'right'], ['case', 'less', 'extra', 'put', 'later', 'scratch', 'ear'], ['movie', 'full', 'wonderful', 'dance'], ['one', 'day', 'blow'], ['one', 'bite'], ['definitely', 'soon'], ['say', 'waste', 'money'], ['totally', 'scene'], ['bad', 'fit', 'way', 'big'], ['service', 'extremely', 'slow'], ['cool'], ['disappointment'], ['live', 'music', 'totally', 'blow'], ['always', 'deal'], ['horrible', 'customer', 'talk', 'one', 'customer', 'don', 'enjoy', 'food'], ['case', 'great', 'work', 'fine'], ['least', 'min', 'pass', 'us', 'order', 'food', 'arrive', 'wasn'], ['case', 'best', 'part', 'picture', 'use', 'even', 'send', 'picture', 'phone'], ['drop', 'phone', 'time', 'say', 'even', 'phone', 'still', 'great'], ['good', 'price'], ['bad', 'piece', 'crap', 'ever', 'along', 'verizon', 'customer', 'service'], ['sushi', 'strip', 'place', 'go'], ['simple', 'use', 'like'], ['nearly', 'year', 'work', 'great'], ['negative', 'enough', 'cause', 'regret', 'another', 'hour', 'life', 'waste', 'front', 'screen'], ['server', 'fantastic', 'find', 'wife', 'love', 'add', 'extra', 'meal', 'another', 'go'], ['do', 'second', 'movie'], ['particular', 'relationship', 'bakery', 'waitress', 'didn', 'work'], ['case', 'seem', 'well', 'make'], ['place', 'not', 'worth', 'time', 'let', 'alone'], ['go'], ['see', 'movie', 'anyone', 'come', 'fear'], ['chicken', 'tender', 'season'], ['actor', 'play', 'support', 'role', 'many', 'film', 'era', 'black', 'man', 'murder', 'white', 'man'], ['avoid', 'cost'], ['not', 'purchase', 'phone'], ['atmosphere', 'fun'], ['product', 'high', 'quality', 'crap'], ['far', 'best', 'ever'], ['best', 'buffet', 'town', 'price', 'cannot', 'beat'], ['go', 'first', 'review', 'product'], ['movie', 'boring', 'sometimes', 'find', 'paper', 'instead', 'watch', 'never', 'happen', 'movie'], ['comment', 'black', 'phone', 'fire', 'red', 'great', 'color'], ['ruthless', 'one', 'minute', 'ruthless', 'killer', 'next', 'minute', 'completely'], ['great', 'price', 'also'], ['delicious'], ['plot', 'doesn', 'interest', 'way'], ['best'], ['win', 'go', 'back'], [], ['dialogue', 'thing', 'make', 'little', 'sense'], ['unfortunately', 'must', 'hit', 'bakery', 'day', 'everything', 'order', 'stale'], ['see', 'film'], ['song', 'could', 'emotion', 'well', 'life', 'talk', 'song', 'old', 'man', 'young', 'play', 'many', 'emotion'], ['bad', 'character', 'bad', 'story', 'bad', 'act'], ['expect', 'well', 'experience', 'motorola'], ['good'], ['go', 'store', 'bought', 'new', 'nokia', 'phone', 'work', 'great'], ['order', 'think', 'work', 'thats', 'first', 'use'], ['guy', 'steak', 'steak', 'love', 'son', 'steak', 'best', 'bad', 'place', 'say', 'best', 'steak', 'ever', 'eat'], ['place', 'good'], ['open', 'sandwich', 'impress', 'not', 'good', 'way'], ['pretty', 'experience'], ['film', 'cast', 'character'], ['owner', 'really', 'great', 'people'], ['play', 'speaker', 'size', 'price', 'low', 'would', 'think', 'quality', 'lack', 'however', 'not'], ['last', 'night', 'second', 'time', 'din', 'happy', 'decide', 'go', 'back'], ['advise', 'anyone', 'go', 'see'], ['doesn', 'work'], ['poor', 'service', 'waiter', 'make', 'feel', 'like', 'stupid', 'every', 'time', 'come', 'table'], ['great', 'touch'], ['start', 'color', 'obviously', 'wasn', 'fresh'], ['say', 'phone', 'camera', 'nice', 'many', 'cool', 'effect', 'play', 'video', 'decent', 'well'], ['bad', 'script', 'bad', 'direction', 'horrible', 'act', 'make', 'one', 'plain', 'bad'], ['think', 'must', 'see', 'old', 'john', 'film'], ['result', 'film', 'don', 'look', 'right'], ['drive'], ['sound', 'good', 'reasonably', 'price', 'effective', 'simple'], ['drink', 'never', 'empty', 'make', 'really', 'great', 'menu'], ['get', 'awesome', 'offer'], ['fit', 'comfortably', 'come', 'three', 'size', 'earbud', 'tip'], ['hand', 'free', 'phone', 'speaker', 'awesome'], ['film', 'ridiculous'], ['felt', 'first', 'time', 'watch', 'recommend'], ['poor', 'talk', 'time', 'performance'], ['sad'], ['script', 'look', 'write', 'begin', 'finish', 'script', 'complete'], ['lot', 'hole', 'script'], ['description', 'say', 'sauce', 'another', 'say', 'sauce', 'yet', 'another', 'say', 'spicy', 'well', 'none', 'roll', 'sauce'], ['movie', 'excellent', 'job', 'incredible', 'face'], ['never', 'go', 'back', 'place', 'never', 'ever', 'recommended', 'place', 'anyone'], ['battery', 'life', 'also', 'great'], ['go', 'see', 'movie', 'bring', 'boyfriend', 'keep'], ['fantastic', 'food'], ['food', 'definitely', 'not', 'price', 'pay', 'expect'], ['movie', 'almost', 'no', 'action', 'little', 'comedy'], ['glad', 'find', 'place'], ['never', 'ever', 'go', 'back', 'many', 'people', 'happen'], ['act', 'bad'], ['problem', 'script'], ['fish', 'make', 'shot', 'repeat', 'time', 'film'], ['voice', 'excellent'], ['good', 'film', 'indeed', 'great', 'love'], ['oh', 'charger', 'seem', 'work', 'fine'], ['great', 'use', 'home'], ['love', 'color'], ['boring'], ['plug', 'find', 'not', 'thing', 'work'], ['good', 'go', 'review', 'place', 'twice', 'place', 'hold', 'last', 'night'], ['since', 'stay'], ['movie'], ['stay', 'away'], ['great', 'pizza', 'salad'], ['get', 'bad', 'worse', 'do'], ['see', 'movie', 'free'], ['check'], ['lunch', 'great', 'experience'], ['today', 'second', 'time', 'lunch', 'buffet', 'pretty', 'good'], ['note', 'server', 'attentive', 'provide', 'great', 'service'], ['menu', 'reasonably', 'price'], ['get', 'case', 'new', 'palm', 'work', 'really', 'well', 'perfectly', 'far'], ['feel', 'comfortable', 'headset', 'wear', 'glass', 'get', 'way', 'sometimes'], ['small', 'look', 'place'], ['one', 'bad', 'show', 'time'], ['dialogue'], ['really', 'nothing', 'hope', 'experience', 'better'], ['not', 'care', 'one', 'bit'], ['good', 'work', 'fine'], ['gyro', 'basically'], ['seriously', 'cannot', 'believe', 'owner', 'many', 'run', 'around', 'like', 'chicken', 'head', 'cut'], ['overall', 'film', 'interest', 'think'], ['best', 'place', 'vega', 'breakfast', 'check', 'sit'], ['great', 'audio'], ['great', 'ipod'], ['movie', 'make', 'lot', 'serious', 'mistake'], ['film', 'fails'], ['scene', 'strong'], ['month', 'screen', 'go', 'black'], ['rare', 'film', 'take', 'time', 'tell', 'care', 'love', 'doesn', 'fall', 'indulgent'], ['literally', 'sat', 'minute', 'no', 'one', 'ask', 'take', 'order'], ['bad', 'experience'], ['watch', 'film', 'want', 'learn', 'work'], ['excellent', 'totally', 'believable', 'great', 'actor'], ['much', 'well', 'hard', 'plastic', 'case'], ['unfortunately', 'not', 'good'], ['never', 'come'], ['wish', 'could', 'return', 'unit', 'get', 'back', 'money'], ['delicious'], ['food', 'delicious'], ['excellent', 'tool', 'especially', 'pair', 'phone'], ['first', 'thing', 'happen', 'track'], ['forget', 'support'], ['perfect', 'amount'], ['one', 'didn', 'work', 'either'], ['thumb'], ['end', 'perfect'], ['quality', 'product'], ['piece', 'trash'], ['bad', 'food', 'damn'], ['don', 'waste', 'money'], ['pro', 'large', 'seat', 'area', 'nice', 'bar', 'area', 'great', 'simple', 'drink', 'menu', 'best', 'pizza'], ['send', 'back'], ['boring'], ['aren', 'one', 'make', 'scene', 'restaurant', 'don', 'get', 'definitely', 'lose', 'love', 'one'], ['make', 'end', 'call'], ['good', 'audio', 'quality'], ['either', 'way', 'suck'], ['movie', 'awesome'], ['well', 'short', 'run', 'time'], ['terrible'], ['write', 'fresh'], ['beat', 'price'], ['important', 'film', 'cinema', 'history'], ['don', 'waste', 'time'], ['not', 'software', 'great', 'job', 'could', 'also', 'make', 'form', 'without', 'internet', 'connection'], ['mostly', 'plot'], ['however', 'ear', 'come', 'easily', 'one', 'week', 'lose', 'one'], ['main', 'player'], ['great', 'item'], ['short', 'don', 'bother', 'movie'], ['conclusion', 'meal'], ['menu', 'always', 'change', 'food', 'quality', 'go', 'service', 'extremely', 'slow'], ['good'], ['verizon', 'phone', 'work', 'well', 'together', 'good', 'reception', 'range', 'foot', 'line'], ['music', 'film', 'really', 'nice'], ['movie', 'mind', 'awful', 'couldn', 'even', 'create'], ['place', 'pretty', 'good', 'nice', 'little', 'restaurant'], ['don', 'think', 'ever', 'see', 'movie', 'half', 'bore', 'self', 'indulgent', 'piece', 'junk'], ['staff', 'friendly', 'always', 'clean'], ['could', 'take', 'time', 'quality', 'poor'], ['today', 'graphic', 'crap'], ['think', 'restaurant', 'not', 'try', 'hard', 'enough'], ['italian', 'reviewer', 'call', 'small', 'great', 'film', 'right'], ['good', 'not', 'make', 'phone'], ['receive', 'quickly', 'work', 'great'], ['film', 'lack', 'real', 'tension', 'use', 'throughout', 'bit', 'say', 'least', 'say'], ['see', 'good', 'actor', 'like', 'make', 'live', 'mess', 'like'], ['whatever', 'avoid', 'good', 'human'], ['buy', 'play', 'enjoy', 'love'], ['case', 'pass', 'one', 'year', 'mark', 'show', 'sign', 'wear'], ['look', 'headset', 'long', 'time', 'get', 'couldn'], ['food', 'average', 'best'], ['plot', 'simply', 'like', 'machine', 'addition', 'new', 'scene'], ['service', 'give', 'no', 'star'], ['everything', 'act', 'cinematography', 'solid'], ['receive', 'supposedly', 'new', 'motorola', 'not', 'match', 'phone', 'charger'], ['go', 'see'], ['summary', 'weren'], ['food'], ['movie', 'put', 'forever'], ['good'], ['barely', 'ever', 'hear', 'say'], ['movie', 'good', 'comment', 'life'], ['get', 'watching', 'take'], ['never', 'walk', 'movie'], ['bland', 'not', 'like', 'place', 'number', 'reason', 'don', 'want', 'waste', 'time', 'bad', 'leave'], ['bean', 'rice', 'mediocre', 'best'], ['budget'], ['writer', 'think', 'best', 'actor', 'show', 'character', 'real'], ['definitely', 'one', 'good', 'documentary', 'see', 'look', 'family', 'relationship'], ['nothing', 'believable'], ['everything', 'say', 'either', 'plain', 'stupid'], ['walk', 'minute', 'get'], ['cinema', 'good', 'house', 'good', 'laugh'], ['hour', 'half', 'wish', 'could', 'bring', 'back'], ['shrimp', 'live', 'literally', 'cold'], ['avoid', 'avoid', 'avoid'], ['scene', 'oh', 'girl'], ['stay', 'away'], ['share', 'exquisite', 'joy', 'even', 'though', 'watch', 'movie', 'wish', 'small'], ['film', 'film'], ['everyone', 'equally', 'special'], ['don', 'think', 'run', 'back', 'anytime', 'soon', 'food'], ['special', 'always', 'hit'], ['say', 'fun', 'game'], ['not', 'bother', 'contact', 'company', 'product', 'learn', 'not', 'buy', 'form', 'anyway'], ['phone', 'pretty', 'sturdy', 'never', 'large', 'problem'], ['phone', 'get', 'year', 'old', 'break', 'despite', 'much', 'care', 'part'], ['back'], ['poor', 'sound', 'quality'], ['right', 'next', 'table', 'large', 'track', 'green'], ['spend', 'money', 'time', 'place', 'else'], ['waste', 'time'], ['bad', 'purchase'], ['work', 'well', 'pair', 'treo', 'headset', 'use', 'bluetooth'], ['screen', 'get', 'easily', 'touch', 'ear', 'face'], ['predictable', 'not', 'bad', 'watch'], ['ever', 'writer', 'director', 'ability', 'two', 'highly'], ['bought', 'battery', 'amazon', 'happy', 'purchase'], ['earlier', 'review', 'note', 'plug', 'charger', 'nothing'], ['seriously', 'solid', 'breakfast'], ['everything', 'stink'], ['look', 'sharp', 'screen', 'nice', 'clear', 'great', 'graphic'], ['act', 'suck', 'music', 'suck', 'script', 'suck', 'pace', 'suck', 'special', 'fx', 'suck', 'direct', 'suck', 'basically', 'movie', 'suck'], ['story', 'line', 'awful'], ['character', 'interest', 'even', 'bit', 'predictable'], ['patio', 'seat', 'comfortable'], ['plot', 'doesn', 'together', 'act', 'absolutely', 'appal'], ['scene'], ['service', 'terrible', 'food', 'mediocre'], ['sound', 'quality', 'excellent', 'well'], ['nice', 'spicy', 'tender'], ['one', 'nice', 'thing', 'add', 'bill', 'since', 'party', 'large', 'didn', 'expect', 'tip'], ['heart', 'attack', 'vega', 'absolutely', 'line', 'restaurant'], ['table', 'outside', 'also', 'dirty', 'lot', 'time', 'not', 'always', 'friendly', 'helpful', 'menu'], ['first', 'experience', 'delicious'], ['happy', 'purchase', 'good', 'quality', 'low', 'price'], ['salad', 'bland', 'green', 'heart', 'palm'], ['couldn', 'ask', 'meal'], ['great', 'restaurant', 'bay'], ['total', 'brunch', 'fail'], ['never', 'amaze'], ['love', 'look', 'feel', 'samsung'], ['meal'], ['razr', 'battery', 'good', 'buy'], ['everything', 'film', 'simply', 'incredible'], ['one', 'movie', 'never', 'interest', 'simply', 'keep', 'try', 'attempt'], ['button', 'bad'], ['nice', 'leather'], ['least', 'say', 'act', 'better'], ['film', 'give', 'mean', 'never', 'history', 'human', 'conflict', 'much', 'many'], ['love', 'bluetooth'], ['maybe', 'would', 'reasonable'], ['lack', 'flavor', 'seem', 'dry'], ['food', 'good'], ['wasn', 'either', 'also', 'build', 'cold'], ['service', 'friendly'], ['first', 'enough', 'joke', 'everyone'], ['perhaps', 'night', 'judge', 'review', 'not', 'go', 'back'], ['awful', 'service'], ['not', 'waste', 'money'], ['not', 'cult', 'cult', 'classic'], ['love', 'close', 'ups'], ['selection', 'food', 'not', 'best'], ['product', 'cover', 'important', 'light', 'ear'], ['however', 'pretty', 'good', 'act', 'least', 'film'], ['thoroughly', 'enjoy', 'take', 'control', 'series'], ['don', 'even', 'get', 'start'], ['phone', 'sturdy'], ['character', 'turn'], ['not', 'work'], ['service', 'slow', 'not', 'attentive'], ['try', 'go', 'lunch'], ['store', 'anything', 'phone', 'number'], ['mediocre', 'every', 'aspect', 'become', 'mess', 'one', 'movie', 'see'], ['disappointed', 'battery'], ['not', 'last', 'forever', 'not', 'replace', 'easy', 'operate', 'sound', 'much', 'good', 'others', 'try'], ['waste', 'two', 'hour'], ['price', 'great', 'deal'], ['good', 'selection', 'food', 'include', 'massive', 'sandwich', 'chicken', 'wrap', 'melt', 'tasty', 'burger'], ['portion', 'huge'], ['find', 'movie', 'even', 'say', 'intelligence', 'imagination', 'obviously', 'use', 'try', 'make', 'sense', 'attempt', 'human', 'try', 'make', 'sense', 'thing'], ['drama', 'american'], ['buy', 'two', 'neither', 'charge'], ['also', 'area', 'unit', 'break', 'not'], ['awesome', 'new', 'look', 'fall'], ['no', 'way', 'plug', 'us', 'unless', 'go'], ['finally', 'get', 'end', 'would', 'great', 'people', 'not'], ['excellent', 'job', 'script'], ['food', 'not', 'tasty', 'not', 'say', 'real', 'style'], ['love'], ['attention', 'give', 'every', 'character', 'portrayal', 'love', 'hope', 'tremendous'], ['connect', 'wife', 'bluetooth', 'motorola', 'phone', 'work', 'like', 'charm', 'whether', 'phone', 'pocket', 'case'], ['great', 'place', 'eat', 'remind', 'little', 'shop', 'bay', 'area'], ['one', 'disappointing', 'aspect', 'lack'], ['sound', 'clear', 'people', 'talk', 'amaze', 'quality'], ['bluetooth', 'range', 'good', 'day', 'ago', 'leave', 'phone', 'get', 'call', 'conversation', 'without'], ['plot', 'well', 'say', 'let', 'one', 'go'], ['piece', 'junk'], ['consider', 'screen', 'stanwyck', 'little', 'chemistry', 'screen', 'two'], ['also', 'phone', 'drop', 'case', 'not', 'go', 'face'], ['time', 'side', 'restaurant', 'almost', 'empty', 'no'], ['unfortunately', 'direction', 'mean', 'scene', 'scene', 'pass', 'little', 'way', 'tension', 'conflict'], ['still', 'good', 'actor', 'around'], ['move', 'final', 'give', 'dark', 'force', 'human', 'face', 'make', 'interest'], ['obviously', 'problem'], ['problem', 'bottom', 'line', 'put', 'money', 'else', 'cingular', 'not', 'support'], ['lame'], ['get', 'good', 'reception', 'phone'], ['film', 'not', 'easily', 'forget'], ['long', 'pointless'], ['steve', 'martin', 'delivers', 'really', 'funny', 'performance', 'age', 'white', 'guy'], ['atmosphere', 'great', 'lovely', 'play', 'song'], ['order', 'old', 'classic', 'new', 'dish', 'go', 'time', 'disappoint', 'everything'], ['bacon', 'soo', 'good'], ['work', 'great'], ['cinematography', 'simply', 'say', 'least', 'fx', 'nothing', 'not', 'state', 'art'], ['today', 'amaze', 'pizza'], ['bad', 'sushi', 'ever', 'eat'], ['good'], ['man', 'really', 'funny', 'nut', 'truly', 'genuine'], ['movie', 'terrible'], ['definitely', 'come', 'back'], ['great', 'hand', 'free', 'device'], ['bad', 'well', 'bad'], ['really', 'fantastic', 'thai', 'restaurant', 'definitely', 'worth'], ['service', 'fan', 'quick', 'serve', 'nice', 'folk'], ['movie', 'seem', 'little', 'slow', 'first'], ['always', 'even', 'wonderful', 'food', 'delicious'], ['everything', 'description', 'say', 'would'], ['hold', 'charge', 'long', 'time', 'reasonably', 'comfortable', 'long', 'quality', 'sound', 'tremendous'], ['pretty', 'good', 'place', 'first', 'dance', 'scene'], ['much', 'like', 'go', 'back', 'get', 'pass', 'service', 'never', 'return'], ['saw', 'child', 'tv', 'back', 'love'], ['service', 'suck'], ['plastic', 'break', 'really', 'easy', 'clip'], ['performance'], ['worthless', 'product'], ['crash', 'little', 'nothing', 'emotion', 'nothing', 'know', 'bad', 'thing'], ['act', 'whole', 'cast', 'could', 'put', 'scale', 'perfectly'], ['sauce', 'tasteless'], ['portrayal'], ['wear', 'hold', 'well'], ['year', 'christmas', 'buy', 'rest', 'family'], ['nice', 'station', 'home', 'work'], [], ['great', 'product', 'price'], ['shrimp', 'tender', 'moist'], ['work', 'day', 'guess', 'sick', 'night'], ['soundtrack', 'suck'], ['seriously', 'not', 'worth', 'waste', 'kid', 'time'], ['wasn', 'watch', 'film', 'great', 'actually'], ['even', 'finally', 'show', 'no', 'sign', 'expect', 'thing', 'happen', 'time', 'film', 'might', 'far'], ['easily', 'none', 'make', 'laugh', 'tender', 'way', 'get', 'dark'], ['wait', 'hour', 'never', 'get', 'either', 'many', 'around', 'us', 'come', 'later'], ['miss', 'call', 'reason'], ['even', 'bad', 'almost'], ['holster', 'arrive', 'not', 'match'], ['utterly', 'without', 'level', 'torture'], ['cream', 'fresh', 'enough'], ['exchange', 'phone', 'even', 'problem'], ['brilliant'], ['dish', 'quite'], ['second', 'appearance', 'mickey', 'follow', 'silent', 'crazy', 'earlier', 'year', 'probably', 'film', 'mostly', 'break'], ['work', 'well'], ['also', 'didn', 'like', 'button', 'felt', 'like', 'would', 'use'], ['put', 'gem', 'movie', 'cinematography', 'act', 'production', 'edit', 'direct', 'aspect', 'film'], ['movie', 'lack', 'interest', 'drama', 'feel', 'narrative'], ['wife', 'hat', 'meal', 'shrimp', 'friend', 'really', 'not', 'enjoy', 'meal', 'either'], ['think', 'brilliant', 'since', 'become', 'actor'], ['bad'], ['cant', 'get', 'software', 'work', 'computer'], ['first', 'lovely', 'bakery', 'nice', 'ambiance', 'clean', 'friendly', 'staff'], ['great', 'pork', 'sandwich'], ['waste', 'money'], ['horrible', 'time'], ['sat', 'another', 'ten', 'minute', 'finally', 'give', 'leave'], ['screen', 'chemistry', 'entire', 'film', 'genuine'], ['impressed', 'headset', 'plantronics'], ['never', 'see', 'another'], ['even', 'look', 'awful'], ['give'], ['pleased', 'see', 'could', 'replace', 'well', 'holster'], ['terrible', 'customer', 'service'], ['great', 'dinner'], ['black', 'waste', 'pg', 'rating', 'certainly', 'win', 'allow'], ['hold', 'phone', 'particular', 'angle', 'party', 'hear', 'clearly'], ['ever', 'movie', 'need', 'word', 'mouth'], ['really', 'recommend', 'place', 'go', 'wrong', 'place'], ['lot', 'beautiful', 'place'], ['poor'], ['friend', 'pasta', 'also', 'bad', 'barely', 'touch'], ['receive', 'use', 'product', 'day', 'break'], ['get', 'want', 'damn'], ['comfortable', 'nice', 'range', 'good', 'battery', 'life'], ['didn', 'charge'], ['good', 'today', 'love', 'film', 'worth', 'see'], ['best', 'rude', 'non', 'customer', 'service', 'focus', 'new'], ['also', 'decide', 'not', 'send', 'back', 'waitress', 'look', 'like', 'heart', 'attack'], ['not', 'much', 'dialogue', 'not', 'much', 'music', 'whole', 'film', 'shot', 'like'], ['much', 'high', 'crap', 'low', 'quite'], ['read', 'please', 'don', 'go'], ['car', 'charger', 'well', 'charger', 'include', 'make', 'sure', 'never', 'run', 'recommend'], ['frozen', 'way', 'taste'], ['rather', 'enjoy'], ['everyone', 'attentive', 'excellent', 'customer', 'service'], ['don', 'recommend', 'unless', 'car', 'break', 'front'], ['place', 'way', 'make', 'wonder', 'long', 'would', 'last'], ['great', 'product', 'sure', 'beat', 'use'], ['waitress', 'friendly', 'happy', 'option'], ['not', 'good'], ['delicious'], ['never', 'go', 'back'], ['black', 'water', 'thriller', 'manage', 'completely', 'flick', 'experience'], ['begin', 'movie', 'perfect', 'exchange', 'one', 'movie', 'make', 'well', 'cold', 'big', 'fear', 'crash'], ['first', 'movie', 'give', 'year'], ['work', 'like', 'charm', 'work', 'one', 'get', 'phone'], ['still', 'bad', 'actress', 'repeat', 'face', 'move', 'picture'], ['camera', 'work', 'present', 'us', 'set'], [], ['case', 'doesn', 'fit'], ['character', 'also', 'lack', 'depth'], ['also', 'take', 'forever', 'bring', 'us', 'check', 'ask'], ['everything', 'bad'], ['bore', 'throughout', 'whole', 'damn', 'thing'], ['plantronics', 'bluetooth', 'buy'], ['not', 'happy', 'item'], [], ['battery', 'last', 'hour'], ['fact', 'hard', 'part', 'ray', 'charles', 'act', 'not', 'play', 'man'], ['many', 'way', 'write', 'different', 'character', 'screen'], ['rest', 'movie', 'lack', 'art', 'charm', 'work', 'guess', 'empty'], ['wind'], ['case', 'bad'], ['nice', 'music', 'soundtrack', 'pleasant'], ['definitely', 'super'], ['help'], ['don', 'website', 'don', 'expect', 'helpful', 'support'], ['chicken', 'also', 'tasty'], ['give', 'one', 'look'], ['audio', 'quality', 'poor'], ['refuse', 'refund', 'replace'], ['service', 'terrible', 'though'], ['didn', 'laugh', 'even'], ['disappoint'], ['still', 'wait', 'sure', 'item', 'would', 'work', 'well', 'ever'], ['also', 'serve', 'bread', 'hummus', 'spicy', 'nut', 'sauce', 'world'], ['awful', 'tinny', 'sound', 'end', 'call'], ['burger', 'aren', 'good', 'pizza', 'use', 'amazing'], ['simply', 'want', 'small', 'phone', 'look', 'elsewhere', 'extra', 'mediocre'], ['exactly', 'want'], ['however', 'year', 'start', 'get', 'screen', 'go', 'black', 'couldn', 'receive', 'place', 'call'], ['pretty', 'cool', 'would', 'say'], ['house', 'get', 'drop', 'coverage', 'no', 'coverage'], ['act', 'terrible', 'write', 'worse'], ['work', 'week', 'break'], ['not', 'recommend'], ['give', 'however'], ['boyfriend', 'sit', 'bar', 'completely', 'experience'], ['could', 'not', 'believe', 'dirty'], ['order', 'way', 'like', 'usual', 'green', 'bean', 'fry', 'love'], ['appetizer', 'take', 'minute', 'pizza', 'another', 'minute'], ['guess', 'clever', 'twist', 'light', 'situation', 'stupid'], ['awesome'], [], ['dead', 'wrong', 'sushi', 'bar', 'not', 'quality', 'great', 'service', 'fast', 'food'], ['movie', 'definitely', 'average', 'rent'], ['also', 'come', 'back', 'check', 'us', 'excellent', 'service'], ['huge', 'piece'], ['terrible', 'lead', 'film'], ['owner', 'use', 'work', 'place', 'really', 'half', 'price'], ['sat', 'right', 'time', 'server', 'get', 'go', 'fantastic'], ['even', 'couldn', 'script', 'worse'], ['bluetooth', 'week', 'really', 'like'], ['mistake'], ['place', 'awesome', 'want', 'something', 'light'], ['haven', 'see', 'don', 'waste', 'time'], ['internet', 'go', 'use', 'thing', 'less', 'like'], ['pair', 'headphone', 'worst', 'ever', 'sound'], ['wind', 'see', 'wonderful', 'age'], ['minute', 'wait', 'get', 'table'], ['everyone', 'taste', 'like', 'year', 'old'], ['act', 'beyond'], ['love', 'place'], ['totally', 'movie', 'top', 'pathetic', 'throughout', 'whole', 'minute', 'torture', 'probably', 'look', 'watch', 'time'], ['price', 'good'], ['today', 'first', 'taste', 'hot', 'tell', 'ever', 'think', 'possible'], ['love'], ['wouldn', 'recommend', 'product'], ['love'], ['script', 'subtle', 'comedy', 'movie', 'recent', 'year'], ['idea', 'lame', 'take', 'character', 'mediocre', 'pg', 'film', 'make', 'complete', 'non', 'change', 'pg', 'rat', 'family', 'movie'], ['headset', 'work', 'great', 'package', 'avoid'], ['not', 'come', 'back'], ['puppet', 'look', 'really', 'not', 'good', 'way', 'like', 'puppet', 'master', 'flick'], ['portion', 'great', 'taste'], ['amazing', 'film', 'one', 'important', 'live'], ['food', 'awful'], ['real', 'sushi', 'let', 'not', 'good'], ['come', 'back', 'next', 'time'], ['earbud', 'headset', 'fail'], ['ray', 'charles'], ['stay', 'vega', 'must', 'get', 'breakfast', 'least'], ['cute', 'simple'], ['hate', 'avoid', 'phone', 'mean'], ['get', 'incredibly', 'fresh', 'fish', 'prepare', 'care'], ['extremely', 'rude', 'really', 'many', 'restaurant', 'would', 'love', 'vega'], ['avoid', 'one'], ['side', 'salad', 'tasty', 'pita', 'hummus'], ['product', 'excellent', 'work', 'well', 'verizon', 'one', 'boy', 'cheap'], ['light', 'battery', 'wear', 'somewhat', 'period', 'time'], ['staff', 'great', 'food', 'incredible', 'beer', 'selection'], ['customer', 'service', 'terrible'], ['maybe', 'twice', 'think', 'average', 'best'], ['great', 'new', 'package', 'nice', 'work', 'good', 'no', 'problem', 'come', 'less', 'time', 'expect'], ['avoid', 'cost'], ['month', 'work', 'far'], ['nice', 'late', 'night'], ['special', 'order'], ['sound', 'quality', 'quite', 'poor', 'phone', 'razr', 'previous', 'headset', 'plug'], ['definitely', 'worth', 'strip', 'pork', 'return', 'next', 'time', 'vega'], ['price', 'good', 'free', 'good', 'purchase'], ['watch'], ['could', 'care', 'less', 'beautiful'], ['performance', 'not', 'actor', 'twice', 'much', 'not', 'whether', 'line', 'well', 'whether', 'line', 'good'], ['steak', 'recommend'], ['connection', 'phone', 'even', 'within', 'couple', 'foot', 'two'], ['staff', 'great', 'ambiance', 'great'], ['insult'], ['awesome', 'device'], ['hate', 'thing', 'much', 'cheap', 'quality', 'black'], ['no', 'real'], ['excellent', 'bluetooth', 'headset'], ['year', 'old', 'nokia', 'hold', 'charge', 'lot', 'well'], ['ten', 'minute', 'film', 'start', 'second', 'thought'], ['don', 'think', 'quality'], ['screen', 'size', 'big', 'well', 'enough', 'camera', 'quality', 'excellent', 'camera', 'phone'], ['see', 'probably', 'leave'], ['problem'], ['cannot', 'believe', 'actor', 'film'], ['screen', 'think', 'even', 'though', 'actor', 'screen'], ['restaurant', 'atmosphere', 'exquisite'], ['certainly', 'not', 'mean', 'good', 'way'], ['character', 'film', 'well', 'play'], ['price', 'amazon', 'excellent', 'product', 'would', 'highly', 'recommend'], ['service', 'little', 'slow', 'consider', 'people', 'server', 'food', 'come', 'slow', 'pace'], ['recommend', 'friend'], ['battery', 'die'], ['cable', 'computer', 'ipod', 'work', 'fine'], ['headphone', 'great', 'find', 'think', 'perhaps', 'best', 'purchase', 'make', 'last', 'several', 'year', 'seriously'], ['good', 'movie', 'really', 'make'], ['also', 'cannot', 'take', 'picture', 'case', 'cover'], ['rude'], ['reception', 'excellent'], ['even', 'sick'], ['good', 'service', 'clean'], ['aren', 'death', 'scene', 'like', 'previous', 'movie', 'terrible'], ['possible', 'give', 'zero', 'star'], ['bad', 'film', 'bad', 'write', 'good', 'actor', 'paul', 'people', 'handle', 'anything', 'picture'], ['recommend', 'anyone', 'different', 'cell', 'phone', 'player', 'family'], ['probably', 'one', 'least', 'effective', 'utterly', 'film', 'ever', 'see', 'entire', 'life'], ['bad', 'ever'], ['great', 'fact', 'good', 'come', 'every', 'not'], ['would', 'not', 'recommend', 'others'], ['cant', 'go', 'wrong', 'food'], ['take', 'little', 'bad', 'service', 'food', 'suck'], ['keep', 'get', 'well', 'good', 'third', 'one', 'palm'], ['extremely'], ['warm', 'atmosphere', 'fun', 'fresh', 'appetizer', 'steak', 'steak'], ['bt', 'battery', 'junk'], ['win', 'end', 'pretty', 'amaze'], ['superb'], ['great', 'reception', 'time'], ['razr', 'owner', 'must'], ['seat'], ['excellent', 'camera', 'good', 'year'], ['go', 'lunch', 'service', 'slow'], ['much', 'good', 'food', 'vega', 'feel', 'waste', 'eat', 'go', 'rice', 'company'], ['battery', 'run', 'quickly'], ['story', 'start', 'fast', 'absolutely', 'no', 'suspense', 'build'], ['completely', 'gross'], ['disappoint', 'dinner', 'go', 'elsewhere', 'dessert'], ['half', 'way', 'film', 'start'], ['food', 'terrible'], ['another', 'note', 'phone', 'appearance', 'really', 'look', 'rather', 'bland', 'especially', 'black'], ['item', 'great', 'let', 'charge', 'work', 'good', 'every', 'since', 'no', 'problem'], ['try', 'far', 'good'], ['movie', 'solid', 'bad', 'plot', 'bad', 'idea', 'way'], ['not', 'make', 'mistake'], ['go', 'rent'], ['movie', 'bad'], ['crisp', 'clear'], ['beautiful', 'look', 'relationship', 'narrative', 'master', 'work'], ['prompt', 'service'], ['also', 'john', 'fine', 'crisp', 'beautifully', 'color', 'cinematography', 'great', 'production', 'design', 'go', 'memorable', 'receive', 'well', 'deserve'], ['bought', 'headphone', 'sound', 'good'], ['need', 'two', 'hand', 'operate', 'screen', 'software', 'old', 'cannot', 'new', 'software', 'design'], ['location', 'need', 'complete'], ['definitely', 'worth', 'check'], ['hand', 'best', 'phone', 'ever'], ['fantastic'], ['comfort', 'whole', 'family'], ['not', 'like'], ['verizon', 'support', 'walk', 'none', 'work', 'hard', 'set'], ['love', 'place'], ['rat', 'say'], ['server', 'not', 'pleasant', 'deal', 'don', 'always', 'pizza'], ['color', 'instead', 'nice', 'no', 'flavor'], ['go', 'back', 'second', 'time', 'still', 'amaze'], ['great', 'phone'], ['true', 'must', 'fan'], ['simply', 'best', 'bluetooth', 'headset', 'sound', 'quality'], ['christmas', 'dinner', 'big', 'fail', 'entire', 'trip', 'us'], ['get', 'junk', 'no', 'idea'], ['try', 'return', 'refund'], ['line', 'seem', 'write', 'year', 'old', 'though', 'try', 'oh', 'hard', 'sound', 'like', 'year', 'old', 'would', 'really', 'know', 'well', 'talk'], ['ear', 'not'], ['sweet', 'phone'], ['predictable', 'even', 'flick'], ['really', 'nice', 'atmosphere'], ['glad', 'didn', 'pay', 'see'], [], ['joy', 'use'], ['own', 'film', 'own', 'daughter', 'own', 'great', 'fire'], ['use', 'slow', 'repeat', 'throughout', 'movie', 'well', 'back', 'bad', 'act', 'bad', 'kind', 'word', 'no', 'no', 'reason', 'whatsoever', 'look', 'like', 'make', 'box', 'style'], ['film', 'drop'], ['every', 'thing', 'phone', 'work', 'perfectly', 'like'], ['chip', 'amaze'], ['superb', 'phone', 'great', 'network'], ['purchase', 'within', 'day', 'no', 'longer', 'work'], ['easy', 'use'], ['not', 'even', 'bad', 'enough', 'make', 'list', 'wonderfully', 'terrible', 'movie'], ['annoy', 'show', 'ever', 'see'], ['clever', 'real', 'crowd', 'film', 'still', 'mickey', 'best', 'film', 'even', 'wonderful', 'year'], ['would', 'not', 'recommend', 'place'], ['waiter', 'pay', 'lot', 'attention', 'table', 'us'], ['super', 'charge', 'use', 'small', 'camera', 'role'], ['didn', 'work', 'people', 'not', 'hear', 'talk'], ['like', 'cable', 'company', 'summary', 'sound', 'interesting', 'twice', 'probably'], ['haven', 'vomit', 'end', 'cheap', 'drama', 'worthless', 'dialogue', 'must', 'bore', 'death', 'waste', 'time'], ['camera', 'phone', 'may', 'use', 'rather', 'use'], ['use', 'unreliable'], ['pretty', 'piece', 'junk'], ['try', 'talk', 'real', 'loud', 'get', 'old', 'still', 'tell', 'wasn', 'great'], ['not', 'sure', 'lose', 'character', 'nearly', 'half', 'walk'], ['film', 'fails', 'level'], ['unreliable', 'service', 'mobile'], ['not', 'tasteless'], ['take', 'min', 'get', 'nothing'], ['impressed', 'character', 'play'], ['writer', 'industry', 'character', 'age'], ['best', 'headset', 'ever'], ['price', 'think', 'place', 'would', 'much', 'rather', 'go'], ['lame', 'would', 'best', 'way', 'describe'], ['probably', 'win', 'come', 'back'], [], ['service'], ['great', 'film'], ['however', 'much', 'barely'], ['piece', 'garbage'], ['camera', 'also', 'annoy'], ['voice', 'tremendous'], ['order', 'pasta', 'first', 'time', 'really', 'excellent', 'pasta', 'since', 'go', 'free', 'several', 'year', 'ago'], ['would', 'definitely', 'recommend', 'well', 'pizza'], ['even', 'allow', 'poor', 'production', 'value', 'time', 'kind', 'series'], ['come', 'verizon', 'cell', 'phone', 'first', 'thing', 'really', 'bad', 'service'], ['two', 'start', 'sound', 'headset'], ['friendly', 'staff'], ['don', 'waste', 'money', 'time'], ['never', 'anything', 'complain'], ['cast', 'actor', 'trip'], ['whole', 'story', 'lack', 'energy'], ['don', 'like'], ['great', 'phone'], ['don', 'know', 'slow'], ['still', 'try', 'get', 'bad'], ['much', 'disappointed', 'company'], ['don', 'understand', 'garbage', 'get', 'movie', 'store', 'not', 'even', 'real', 'movie'], ['absolutely', 'ray', 'charles'], ['bit'], ['phone', 'try', 'hard', 'everything', 'fails', 'ability', 'phone'], ['time'], ['people', 'like', 'film', 'art', 'movie', 'like', 'movie'], ['would', 'highly', 'recommend'], ['thin', 'moist'], ['amazing', 'important'], ['side', 'town', 'definitely', 'spot', 'hit'], ['definitely', 'go', 'back'], ['difficult'], ['fail', 'great', 'part', 'original'], ['bar', 'definitely', 'one', 'establishment', 'win'], ['really', 'didn', 'seem', 'want', 'voice', 'didn', 'get', 'involve'], ['sound', 'ear', 'seem', 'sound', 'volume'], ['watch', 'two', 'ago', 'th', 'begin', 'really', 'enjoy', 'time', 'tap', 'entire', 'thing'], ['no', 'chemistry', 'film', 'couldn', 'understand', 'would', 'consider', 'even', 'leave', 'wife', 'supposedly'], ['menu', 'much', 'good', 'stuff', 'could', 'not', 'decide'], ['really', 'disappointed', 'charger', 'doesn', 'work'], ['performance'], ['slow', 'seat', 'even'], ['bit', 'predictable'], ['bad', 'thai', 'ever'], ['good', 'quality'], ['work', 'describe'], ['instruction'], ['software', 'almost', 'brilliant'], ['best', 'phone', 'ever'], ['feature', 'memorable', 'nut'], ['cast', 'also', 'horrible', 'cause', 'see', 'really', 'really', 'bad', 'actor', 'period'], ['real', 'effect', 'work', 'scene', 'worst', 'blue', 'green', 'screen', 'work', 'ever', 'see'], ['don', 'go', 'look', 'good', 'food'], ['good', 'stuff', 'price'], ['think', 'act'], ['great', 'phone'], ['well', 'new'], ['dish', 'delicious'], ['food'], ['well', 'expect'], ['description', 'return'], ['star', 'final', 'bad', 'series'], ['come', 'leave', 'happy'], ['everything', 'fresh', 'delicious'], ['best', 'feature', 'helpful'], ['microphone', 'also', 'work', 'well', 'people', 'call', 'everything'], ['doesn', 'hold', 'charge'], ['nothing', 'special', 'whatsoever'], ['bad', 'service', 'least'], ['time', 'new', 'spot'], ['handle', 'issue', 'course', 'spoiler'], ['wish', 'could', 'negative', 'value'], ['show', 'offer', 'little', 'bit', 'everything', 'parent', 'kid', 'fx', 'fan'], ['phone'], ['oh', 'yeah', 'pathetic'], ['kind', 'hard', 'mess', 'steak'], ['seafood', 'shrimp', 'definitely', 'not', 'taste', 'fresh'], ['wonderful', 'music'], ['food', 'arrive', 'quickly'], ['didn', 'think', 'instruction', 'provide', 'helpful'], ['thing', 'good', 'film'], ['reception', 'poor'], ['felt', 'light', 'tinny'], ['terrible', 'service'], ['buy', 'use', 'fire', 'absolutely', 'love'], ['experience', 'terrible', 'bluetooth', 'headset', 'much', 'comfortable', 'last', 'jabra', 'hat'], ['highly', 'recommended'], ['right', 'mind', 'buy', 'battery'], ['disappoint'], ['pleased'], ['avoid', 'cost'], ['win', 'ever', 'go'], ['item', 'receive'], ['food', 'come', 'good', 'pace'], ['speaker', 'low', 'quality', 'make', 'ring', 'sound', 'cheap'], ['actually', 'movie'], ['good', 'side', 'staff', 'pleasant', 'real'], ['addition', 'one', 'lovely', 'song', 'ever', 'write', 'also', 'one', 'lead', 'lady', 'ever', 'screen'], ['win', 'back'], ['good', 'case'], ['word', 'level', 'film', 'enough', 'easily', 'film'], ['delicious'], ['stop', 'trip'], ['love', 'sushi', 'find', 'price', 'service'], ['however', 'paul', 'indeed', 'make', 'film', 'superb'], ['two', 'year', 'leave', 'hate', 'phone'], ['everything', 'could', 'want', 'suspense', 'drama', 'comedy', 'american', 'brain', 'eat', 'look', 'end', 'movie', 'look', 'no'], ['cast', 'good'], ['fan', 'movie', 'suck', 'really', 'bad'], ['worst', 'food', 'service'], ['must', 'night', 'place'], ['totally', 'believable'], ['final', 'word', 'show', 'real', 'torture'], ['pretty', 'good', 'product'], [], ['last', 'time'], ['film', 'joy', 'watch'], ['waste', 'money', 'time'], ['product', 'cost', 'much', 'one', 'expect', 'work', 'far', 'well', 'great', 'thing'], ['wouldn', 'say', 'worth', 'hour', 'time', 'though'], ['lovely', 'usual'], ['use', 'case', 'smell', 'disgust'], ['work', 'great'], ['last', 'less', 'minute', 'actually', 'try', 'use', 'phone', 'wife', 'phone', 'problem'], ['good', 'service', 'check'], ['best', 'breakfast', 'buffet'], ['love', 'fry', 'bean'], ['item', 'state', 'include', 'description', 'not', 'include'], ['perfect', 'sit', 'family', 'meal', 'get', 'together', 'friend'], ['film', 'great', 'actor', 'master', 'director', 'significant', 'theme', 'least', 'would', 'significant', 'theme', 'world', 'aerial', 'scene', 'imagination', 'character', 'one', 'might', 'care'], ['would', 'cast', 'role', 'ready', 'script'], ['restaurant', 'clean', 'family', 'restaurant', 'feel'], ['love', 'phone', 'lot', 'feature'], ['also', 'nice'], ['minute', 'wait', 'salad', 'realize', 'wasn', 'time', 'soon'], ['great', 'place', 'awesome', 'burger', 'beer'], ['beer', 'tap', 'also', 'highlight', 'place'], ['item', 'not', 'match', 'picture'], ['need', 'least', 'min', 'get', 'phone', 'book', 'time', 'first', 'turn', 'phone', 'battery', 'life', 'short'], ['although', 'much', 'like', 'look', 'sound', 'place', 'experience', 'bit', 'disappointing'], ['not', 'not', 'right'], ['really', 'pleased', 'product', 'far'], ['sit', 'belt', 'headset', 'lose', 'signal'], ['able', 'voice', 'car', 'no', 'problem'], ['great', 'jawbone'], ['massive', 'level', 'massive', 'character', 'massive', 'game'], ['would', 'come', 'back', 'sushi', 'vega'], ['say', 'rude', 'not', 'even', 'bad', 'food', 'anything'], ['ten', 'truly', 'lovely', 'film'], ['buffet', 'far'], ['minute', 'waste', 'show', 'mediocre', 'actor', 'enough', 'make', 'almost', 'always', 'sometimes', 'may', 'may', 'not', 'make', 'word'], ['truly', 'take', 'journey', 'eye', 'child'], ['check', 'no', 'feature', 'really', 'disappointing'], ['whatever', 'cost', 'much', 'didn', 'quality', 'sure'], ['check', 'director', 'see', 'film', 'didn'], ['movie', 'bad'], ['bluetooth', 'headset'], ['well', 'expect'], ['buy', 'hop', 'could', 'make', 'bluetooth', 'headset', 'fit', 'well', 'thing', 'make', 'wear'], ['service', 'prompt'], ['far', 'work', 'like', 'charm'], ['film', 'leave', 'last'], ['restaurant', 'owner', 'ever', 'come'], ['think', 'food', 'flavor', 'texture', 'lack'], ['would', 'give', 'no', 'star', 'able'], ['total', 'would', 'much', 'rather', 'go', 'shop'], ['wait', 'hour', 'seat', 'not', 'great'], ['try', 'many', 'many', 'handsfree', 'one', 'finally', 'work', 'well'], ['guess', 'like', 'believable'], ['good', 'battery', 'get', 'really', 'fast'], ['classic', 'great', 'soundtrack', 'song', 'end'], ['horrible', 'don', 'waste', 'time', 'money'], ['also', 'like', 'burger', 'fry', 'beer', 'decent', 'deal'], ['story', 'also', 'funny', 'time'], ['problem', 'ear', 'make', 'weak', 'break', 'easily'], ['sound', 'volume', 'little', 'low', 'even', 'turn'], ['wait', 'minute'], ['film', 'cheap', 'look'], ['brilliant', 'piece', 'cinema'], ['none'], ['multiple', 'time', 'time', 'food', 'delicious'], ['totally', 'music', 'dance', 'everything'], ['best', 'headset', 'use'], ['film', 'offer', 'many', 'surprise'], ['great'], ['new', 'character', 'weren', 'memorable'], ['point', 'journey', 'journey', 'touch', 'every', 'family'], ['well', 'design', 'sharp', 'blue', 'nice', 'color'], ['awesome'], ['thing', 'wasn', 'crazy', 'don', 'like', 'ed'], ['not', 'work', 'time', 'nokia'], ['love', 'bacon', 'wrap'], ['not', 'single', 'come', 'see', 'ok', 'even', 'need', 'water', 'finally', 'serve', 'us', 'food'], ['also', 'taste', 'butter', 'amaze', 'delicious'], ['worth', 'check'], ['own', 'phone', 'month', 'say', 'best', 'mobile', 'phone'], ['great', 'food', 'great', 'service', 'clean', 'friendly', 'set'], ['right', 'case', 'movie', 'delivers', 'everything', 'almost', 'right', 'face'], ['however', 'girl', 'complain', 'time', 'phone', 'doesn', 'like', 'phone'], ['nice', 'energy', 'level', 'obviously', 'comfortable', 'front', 'camera'], ['act', 'film', 'glad', 'away', 'far', 'possible'], ['product', 'clearly', 'not', 'ready', 'time', 'don', 'care', 'cool', 'look', 'tell', 'call', 'come', 'worthless'], ['staff', 'also', 'friendly'], ['week', 'far', 'good'], ['ear'], ['phone', 'sound', 'ok', 'not', 'great', 'ok', 'wife', 'phone', 'almost', 'totally', 'couldn', 'understand', 'word', 'say'], ['place'], ['oh', 'thing', 'restaurant'], ['incredible'], ['movie', 'also'], ['happy', 'far'], ['beautiful', 'phone'], ['go', 'someone', 'cook', 'come'], ['first', 'time', 'ever', 'come', 'amazing', 'experience', 'still', 'tell', 'people', 'awesome', 'duck'], ['thin', 'not', 'chewy', 'almost', 'melt', 'mouth'], ['would', 'highly', 'recommend', 'product'], ['everything', 'gross'], ['rat'], ['tom', 'character', 'man', 'not', 'begin', 'take', 'hand', 'story', 'great', 'actor', 'give', 'performance', 'make', 'feel', 'character'], ['would', 'recommend'], ['roll', 'fantastic'], ['line', 'plot', 'weak', 'average', 'episode'], ['every', 'time', 'open', 'mouth', 'expect', 'hear', 'see', 'kid', 'pull', 'plug', 'kill', 'horrible', 'show'], ['nice', 'quality', 'build', 'cheap'], ['three', 'break', 'within', 'two', 'month', 'use'], ['totally', 'absolutely', 'recommend', 'movie', 'anyone', 'like', 'good', 'family', 'movie', 'exactly'], ['sure', 'order', 'dessert', 'even', 'need', 'go', 'die'], ['crap'], ['owner', 'really', 'really', 'need', 'soo', 'cheap', 'let', 'wrap', 'sandwich', 'two', 'paper', 'not', 'one'], ['feel', 'din', 'room', 'cook', 'course', 'high', 'din', 'service', 'slow', 'best'], ['sure', 'beat', 'movie', 'would', 'expect', 'little', 'bit', 'come', 'restaurant'], ['frozen', 'disgust', 'bad', 'people'], ['light', 'one', 'favorite', 'think', 'superb', 'job', 'film'], ['interesting', 'part', 'town', 'place', 'amaze'], ['excellent', 'cast', 'story', 'line', 'performance'], ['kid', 'cool'], ['real', 'disappointment', 'waiter'], ['option', 'great', 'light'], ['bathroom', 'next', 'door', 'nice'], ['place', 'honestly', 'blow'], ['think', 'plan', 'one', 'sure', 'last', 'phone'], ['consider', 'excellent', 'story', 'solid', 'act', 'look', 'film', 'add'], ['bluetooth', 'headset'], ['mention', 'huge', 'spoiler', 'love', 'end', 'character', 'three', 'film', 'young', 'judge', 'together', 'old', 'man', 'watch', 'tv', 'deal', 'many', 'year'], ['chicken', 'season', 'perfect', 'fry', 'outside', 'moist', 'chicken', 'inside'], ['great', 'deal'], ['fact', 'like', 'good', 'like', 'well', 'attempt'], ['drive', 'mean', 'not', 'want', 'wait', 'around', 'half', 'hour', 'food', 'end', 'go', 'make', 'us', 'wait', 'wait'], ['headset', 'easy', 'use', 'everyone', 'love'], ['stay', 'away', 'store'], ['lead', 'man', 'free'], ['folk', 'always', 'make', 'us', 'feel', 'special'], ['get', 'see', 'run', 'around', 'play', 'game'], ['summary', 'disappointing', 'din', 'experience'], ['kind', 'watch', 'film', 'bad'], ['always', 'cut', 'make', 'beep', 'beep', 'beep', 'sound', 'say', 'signal', 'fail'], ['also', 'make', 'easy', 'hold'], ['give', 'star', 'contact', 'cingular'], ['place', 'like', 'well'], ['hot', 'dish', 'not', 'hot', 'cold', 'dish', 'close', 'room', 'watch', 'staff', 'prepare', 'food', 'hand', 'no', 'everything', 'fry'], ['best', 'service', 'food', 'ever', 'server', 'good', 'friendly', 'make', 'day'], ['huge', 'design', 'unless', 'not', 'use', 'don', 'think', 'case'], ['potato', 'like', 'could', 'tell', 'make', 'time', 'keep'], ['device', 'work', 'great'], ['fact', 'smell', 'like', 'direct', 'video', 'release'], ['excellent', 'service'], ['rice', 'dry', 'well'], ['still', 'quite', 'interesting', 'entertain', 'follow'], ['plot', 'pretty', 'much', 'every', 'cheap', 'horror'], ['service', 'fine', 'waitress', 'friendly'], [], ['hate', 'movie', 'like'], ['problem', 'think', 'actor', 'play', 'low', 'rent'], ['not', 'much', 'seafood', 'like', 'pasta', 'bottom'], ['star'], ['salad', 'right', 'amount', 'sauce', 'not', 'power', 'perfectly', 'cook'], ['not', 'good', 'hop'], ['give', 'try', 'eat', 'still'], ['get', 'small'], ['not', 'thing'], ['great', 'food', 'awesome', 'service'], ['highly', 'rude'], ['great', 'place', 'take', 'eat'], ['good', 'job', 'quite'], ['interest'], ['consider', 'two', 'us', 'leave', 'full', 'happy', 'go', 'wrong'], ['consider'], ['stop', 'late', 'may', 'steve', 'love'], ['dialogue', 'suck'], ['bad', 'everyone', 'else', 'involve', 'didn', 'share', 'level', 'quality', 'far', 'well', 'film', 'hand', 'par', 'mess'], ['come', 'salad', 'stale'], ['funny'], ['everything', 'fine', 'reasonable', 'price'], ['charge', 'battery', 'work', 'great'], ['hear', 'garbage', 'audio'], ['conclusion', 'love'], ['however', 'see', 'short', 'year', 'amaze', 'film', 'actually'], ['also', 'happy', 'price'], ['really', 'good', 'show', 'watch'], ['delicious', 'good', 'selection', 'cream', 'real', 'even'], ['say', 'talk', 'manager', 'not', 'want', 'talk', 'guy', 'shot', 'bar'], ['act', 'even', 'terrible', 'direct', 'bad', 'perhaps', 'dialog', 'like', 'camera', 'work', 'barely'], ['authentic', 'leather', 'nice', 'comfort', 'recommend', 'case'], ['give', 'everything', 'right', 'seem', 'good', 'understand'], ['cinematography', 'film', 'shot', 'interesting', 'way'], ['little', 'music', 'anything', 'speak'], ['sad', 'little', 'vegetable'], ['reasonably', 'price', 'also'], ['hate', 'disappointed', 'place'], ['film', 'way', 'long'], ['send', 'back'], ['joke', 'volume', 'quite', 'low'], ['seafood', 'fresh', 'portion'], ['movie', 'not', 'funny', 'consider'], ['live', 'disappoint', 'win', 'back', 'location'], ['disappointed'], ['plug', 'get', 'line', 'right', 'get', 'decent', 'volume'], ['disappointing', 'thing', 'no'], ['also', 'story', 'act', 'weak'], ['however', 'not', 'best', 'neither', 'game'], ['service', 'stink'], ['pizza', 'taste', 'old', 'super', 'chewy', 'not', 'good', 'way'], ['death', 'scene'], ['excellent', 'product', 'price'], ['place', 'receive', 'star', 'appetizer'], ['design', 'might', 'could', 'not', 'ear'], ['best', 'phone'], ['happy', 'product'], ['terrible', 'car', 'not'], ['still', 'lack'], ['great', 'movie'], ['love', 'owner', 'chef', 'one', 'authentic', 'cool'], ['chef', 'friendly', 'good', 'job'], ['everything', 'good', 'tasty'], ['fact', 'take', 'minute', 'another', 'minute', 'get', 'food', 'keep', 'thing'], ['tasteless', 'seem', 'thin', 'water', 'no'], ['force', 'like', 'everything', 'movie'], ['unfortunately', 'not', 'work'], ['really', 'recommend', 'anyone'], ['not', 'good', 'wear', 'hat'], ['many', 'people', 'complain', 'find', 'headset', 'microphone', 'weak'], ['don', 'know', 'place', 'manage', 'serve', 'bland', 'food', 'ever', 'prepare'], ['duck', 'rare', 'tender', 'inside', 'nice', 'outside'], ['literally', 'vomit', 'watching', 'film'], ['amazon', 'suck'], ['bad', 'cause', 'know', 'family', 'own', 'really', 'want', 'like', 'place'], ['film', 'mind'], ['top', 'line', 'don', 'waste', 'time', 'money', 'one', 'bad', 'come'], ['like', 'return'], ['bring', 'fresh', 'fry', 'think', 'something', 'warm', 'no'], ['thoroughly', 'disappointed'], ['comfortable', 'ear'], ['art', 'style', 'appearance', 'wonderfully'], ['let', 'start', 'problem', 'act', 'especially', 'lead', 'bad'], ['overall', 'like', 'food', 'service'], ['game'], ['no', 'one'], ['not', 'check'], ['light', 'dark', 'enough', 'set'], ['extremely', 'pretty', 'tasteless'], ['time', 'seem', 'film', 'masterpiece', 'comfort', 'know', 'still', 'hand', 'tell', 'charm', 'story'], ['bad'], ['know', 'give'], ['one', 'fail', 'create', 'real', 'suspense'], ['still', 'make', 'super', 'end', 'great', 'sea', 'take'], ['highly', 'recommend', 'case'], ['great', 'product'], ['love', 'movie', 'horror', 'movie', 'one', 'way'], ['seat'], ['like', 'patio', 'service'], ['equally', 'awful'], [], ['funny'], ['bad'], ['item', 'work', 'great', 'month', 'use'], ['unless', 'film', 'work', 'one'], ['damn', 'good', 'steak'], ['day', 'later', 'come', 'phone', 'use'], ['red', 'much', 'wasn', 'tasty'], ['worth', 'drive'], ['never', 'know', 'push', 'hard', 'enough', 'right', 'number', 'time', 'want', 'not'], ['toast', 'bread', 'equally', 'butter'], ['none', 'three', 'size', 'send', 'headset', 'would', 'stay', 'ear'], ['area', 'outside', 'not', 'take', 'full', 'unless', 'don', 'mind', 'everyone', 'see'], ['bread', 'make', 'house'], ['keep', 'good', 'work', 'amazon'], ['selection', 'probably', 'worst', 'see', 'vega', 'none'], ['addition', 'feel', 'look', 'phone', 'lightweight', 'cheap', 'plastic'], ['course', 'act'], ['not', 'tasty', 'texture'], ['much', 'interesting', 'action', 'suspense', 'less'], ['back', 'many', 'time', 'soon'], ['not', 'good', 'item', 'work', 'problem', 'player'], ['know', 'could', 'much', 'well'], ['bland', 'good', 'way', 'describe', 'barely', 'meat'], ['not', 'pleasant', 'self'], ['set', 'use', 'throughout', 'film', 'eye', 'please', 'gem'], ['excellent', 'new', 'restaurant', 'experience'], ['come', 'like', 'experience', 'relationship', 'party', 'wait', 'person', 'ask', 'break'], ['mostly', 'fact', 'tv', 'drama', 'get', 'fine', 'performance'], ['get', 'headset', 'think', 'really', 'cute'], ['not', 'work', 'cell', 'phone', 'plug', 'set', 'charger'], ['excellent', 'headset'], ['still', 'make', 'headphone', 'obviously', 'don', 'share', 'enough', 'design', 'human'], ['thing', 'happen', 'character', 'change', 'plot', 'twist', 'no', 'real', 'reason', 'script', 'call'], ['owner'], ['really', 'find', 'funny'], ['enjoy', 'pizza', 'brunch'], ['disappointment', 'hate', 'anything', 'go', 'ear'], ['word'], ['ask', 'bill', 'leave', 'without', 'eat', 'didn', 'bring', 'either'], ['hard', 'judge', 'whether', 'side', 'good', 'gross', 'melt', 'didn', 'want', 'eat', 'fear', 'get', 'sick'], ['food', 'really', 'good', 'get', 'full', 'fast'], ['one', 'best', 'bar', 'food', 'vega'], ['don', 'know', 'kind', 'best'], ['find', 'product', 'big'], ['doesn', 'know', 'make', 'action', 'movie', 'force', 'one', 'write', 'script', 'big', 'money'], ['quite', 'simply', 'high', 'form', 'cinema'], ['disgust', 'pretty', 'sure', 'human'], ['disappointed'], ['really', 'nothing', 'bad', 'say', 'headset'], ['love', 'camera', 'really', 'pretty', 'good', 'quality'], ['sandwich', 'sauce', 'excellent', 'sandwich', 'well'], ['waste', 'little', 'money', 'earpiece'], ['service', 'not', 'par', 'either'], ['phone', 'device'], ['highly', 'recommend', 'price', 'phone'], ['wasn', 'anything', 'one', 'big'], ['probably', 'would', 'not', 'go'], ['give', 'bad', 'review'], ['cast', 'always', 'entertain', 'usual'], ['could', 'not', 'understand', 'kind', 'would', 'produce', 'mess', 'first', 'place', 'not', 'mention', 'several', 'season'], ['couldn', 'use', 'unit', 'not', 'good'], ['nice', 'case', 'feel', 'good', 'hand'], ['fresh', 'subtle', 'rather', 'effect'], ['won', 'regret'], ['food', 'amazing'], ['don', 'bother', 'come'], ['couple', 'month', 'later', 'return', 'amazing', 'meal'], ['best', 'fish', 'ever', 'life'], ['make', 'purchase'], ['case', 'piece', 'plastic', 'no', 'front', 'side', 'whatsoever'], ['film', 'dialogue', 'real', 'life'], ['no', 'one', 'table', 'think', 'food', 'average', 'worth', 'wait'], ['treo', 'mobile', 'refuse', 'replace', 'force', 'buy', 'another', 'phone', 'without', 'kind'], ['don', 'know', 'happen', 'season', 'mess'], ['saw', 'movie', 'today', 'think', 'good', 'effort', 'good', 'message', 'kid'], ['walk', 'away', 'happy', 'first', 'vega', 'buffet', 'experience'], ['well', 'make', 'easy', 'phone', 'belt', 'clip'], ['great', 'brunch', 'spot'], ['instruction', 'didn', 'microphone', 'could', 'use'], ['far', 'bad', 'purchase', 'make', 'amazon'], ['well', 'make', 'fit', 'perfectly'], ['anyway', 'plot', 'scene'], ['highly', 'anyone', 'could', 'ever', 'like', 'trash'], ['one', 'best', 'mexican', 'movie', 'ever', 'one', 'less', 'even', 'mexican', 'no', 'felt'], ['blue', 'easy', 'use'], ['could', 'not', 'get', 'strong', 'enough', 'signal'], ['comfortable', 'fit', 'need', 'headset', 'comfortable', 'least', 'hour', 'time', 'not', 'entire', 'day'], ['server', 'need', 'make', 'us', 'feel', 'would', 'not', 'place'], ['totally', 'odd', 'line'], ['think', 'film', 'like'], ['fun', 'chef'], ['poor', 'meat', 'make', 'chicken', 'tender'], ['product', 'people', 'like', 'ear'], ['highlight', 'great', 'quality'], ['scene', 'end'], ['really', 'really', 'good', 'rice', 'time'], ['device', 'great', 'several', 'situation'], ['never', 'bland', 'food', 'surprise', 'consider', 'read', 'focus', 'much', 'flavor'], ['mistake'], ['really', 'liked'], ['place', 'overprice', 'not', 'really', 'overprice'], ['show', 'right', 'could', 'silent', 'era', 'want', 'see', 'silent', 'work', 'doesn', 'seem'], ['cast', 'great'], ['potato', 'great'], ['good', 'make', 'film', 'great', 'film', 'might', 'one', 'great', 'film', 'ever', 'make'], ['battery', 'life', 'real', 'good'], ['dinner', 'tell', 'everything', 'fresh', 'nice', 'texture', 'taste'], ['get', 'simply', 'nothing', 'low'], ['act', 'like', 'watch', 'puppet', 'move', 'around', 'read', 'book', 'bad'], ['wear', 'glass', 'fit', 'fine'], ['favorite', 'place', 'town'], ['useless', 'not', 'add', 'kind', 'reception', 'buy'], ['good', 'value', 'great', 'food', 'great', 'service'], ['not', 'return'], ['order', 'get', 'single', 'fall', 'apart', 'picture', 'yeah', 'still', 'suck'], [], ['never', 'get'], ['steak', 'shrimp', 'best'], ['like', 'loud', 'conversation', 'phone'], ['fit', 'ear', 'not', 'even', 'need', 'use', 'sound', 'well', 'direct', 'ear'], ['try', 'like', 'place', 'time', 'think', 'do'], ['really', 'recommend', 'since', 'nice', 'cool'], ['win', 'forget', 'movie'], ['saw', 'movie', 'think', 'stupid', 'movie'], ['bad', 'lose', 'heart', 'finish'], ['fry', 'not', 'hot', 'neither', 'burger'], ['several', 'different', 'minute', 'call', 'drop', 'area', 'bar'], ['must'], ['open', 'look', 'like', 'could', 'create'], ['problem', 'hit', 'drop', 'signal'], ['phone', 'sturdy', 'nokia', 'bar', 'phone'], ['place', 'smell', 'like', 'old', 'others', 'eat'], ['nice', 'design', 'quality'], ['menu', 'provide', 'lot', 'option', 'breakfast'], ['even', 'drop', 'phone', 'second', 'still', 'work', 'great'], ['phone', 'get', 'extremely', 'hot'], ['win', 'disappoint'], ['end', 'awful'], ['pretty', 'gross'], ['nothing', 'authentic', 'place'], ['say', 'tip', 'lady'], ['cool', 'phone'], ['not', 'deal', 'good', 'enough', 'would', 'establishment'], ['good', 'phone'], ['good', 'thing', 'place', 'every', 'hope', 'could'], ['not', 'good', 'imagination'], ['beat'], ['even', 'take', 'self', 'outside', 'cool'], ['order', 'arrive', 'one', 'gyro', 'miss'], ['not', 'least', 'barely'], ['though', 'wind', 'tell', 'son', 'every', 'family', 'one', 'character', 'whether', 'john', 'john', 'steve', 'ruthless', 'big', 'stick'], ['yes', 'film', 'rather', 'significant', 'amount', 'piece', 'fit', 'together', 'create', 'beautiful', 'picture'], ['love', 'go', 'back'], ['present', 'yet', 'serious', 'portrayal', 'ups', 'character', 'life'], ['week', 'later', 'die'], ['recommend', 'wait', 'effort', 'let', 'one', 'go'], ['film'], ['time', 'bad', 'customer', 'service'], ['vegetable', 'fresh', 'sauce', 'feel', 'like', 'authentic', 'thai'], ['great', 'product', 'fast'], ['worth', 'every'], ['yes', 'thing', 'really', 'problem', 'film', 'much', 'go', 'without', 'real'], ['anyone', 'right', 'mind', 'ask', 'anything', 'movie'], ['problem'], ['highly', 'recommend', 'device', 'everyone'], ['bar', 'vega', 'not', 'ever', 'charge', 'tap', 'water'], ['think', 'tom', 'good', 'actor'], ['get', 'phone', 'around', 'end', 'may', 'completely'], ['no', 'menu', 'waitress', 'absolutely', 'no', 'not', 'contain'], ['good', 'food', 'good', 'service'], ['nice', 'headphone', 'price', 'work', 'great'], ['could', 'not', 'recommend'], ['disappoint', 'order', 'big', 'bay'], ['work', 'great'], ['absolutely', 'great'], ['awesome', 'movie', 'buy'], ['potato', 'chip', 'order', 'sad', 'could', 'probably', 'many', 'chip', 'box', 'probably', 'around'], ['us'], ['keep', 'watching'], ['burger', 'absolutely', 'no', 'flavor', 'meat', 'totally', 'bland', 'burger', 'no', 'flavor'], ['tool', 'not'], ['junk'], ['overprice', 'get'], ['highly', 'angle'], ['excellent', 'phone', 'case'], ['waiter'], ['great', 'bluetooth'], ['total', 'package'], ['sometimes', 'look', 'away'], ['don', 'waste', 'time'], ['work', 'great', 'car', 'charger', 'especially', 'cannot', 'plug', 'two', 'time'], ['not', 'say'], ['know', 'player', 'little', 'control', 'script', 'act', 'bad', 'script'], ['third', 'friend', 'burger', 'cold'], ['find', 'product', 'easy', 'set', 'use'], ['experience', 'watching', 'film', 'take', 'good', 'two', 'hour'], ['probably', 'not', 'go', 'back'], ['place', 'lack', 'style'], ['felt', 'though', 'go', 'absolutely', 'nothing', 'whatsoever'], ['don', 'buy', 'product', 'fails'], ['say', 'win', 'go', 'back', 'anytime', 'soon'], ['bluetooth', 'not', 'work', 'phone', 'screen', 'make', 'call', 'pocket'], ['design', 'odd', 'ear', 'clip', 'not', 'comfortable'], ['beautiful', 'though'], ['thing', 'really', 'worth', 'watch', 'house', 'beautiful'], ['big', 'disappointment'], ['suck'], ['also', 'fry', 'without', 'worst', 'fry', 'ever'], ['two', 'main', 'character', 'may', 'two', 'believable', 'child', 'ever', 'saw', 'put', 'screen'], [], ['doesn', 'last', 'long'], ['produce', 'one', 'best'], ['great', 'disappointment'], ['server', 'nice', 'even', 'though', 'little', 'need', 'stay', 'friendly', 'end'], ['amazing'], ['big', 'fan', 'game', 'movie', 'self'], ['work', 'perfectly'], ['awful', 'dialogue', 'everyone', 'get', 'shot', 'top', 'real', 'waste', 'time'], ['act', 'suck'], ['disappointed', 'film', 'would', 'receive', 'many', 'especially', 'far', 'deserve', 'work', 'film'], ['fast', 'service'], ['get', 'home', 'see', 'dry', 'damn', 'ever'], ['worst', 'customer', 'service'], ['bottom', 'send', 'end', 'not', 'expect'], ['funny'], ['best', 'place', 'go', 'tasty'], ['slow'], ['perfect'], ['jawbone', 'era', 'awesome'], ['stanwyck', 'perfectly', 'cast', 'many', 'way', 'christmas'], ['piece', 'junk', 'break', 'phone', 'day'], ['easy', 'use', 'clear', 'sound'], ['service', 'bit', 'lack'], ['one', 'best', 'italian', 'thriller'], ['average', 'phone', 'bad', 'battery', 'life', 'operate', 'weak', 'network'], ['movie', 'create', 'every', 'way'], ['design', 'good'], ['wait', 'minute', 'seat', 'although', 'table', 'folk', 'wait'], ['actually', 'turn', 'real', 'world', 'machine', 'instead'], ['work', 'great'], ['someone', 'delivers', 'often', 'ridiculous', 'story', 'bunch', 'scene', 'pretentious', 'dialogue', 'get', 'bad', 'kind', 'movie', 'reviewer', 'pretentious', 'crap'], ['self', 'disappoint'], ['don', 'think', 'go', 'back', 'anytime', 'soon'], ['thing', 'disappoint', 'red'], ['make', 'story', 'different', 'terrific', 'production', 'value', 'edit', 'terrific', 'play', 'history'], ['order'], ['later', 'find', 'lose', 'power', 'film'], ['not', 'expect', 'good'], ['however', 'recent', 'experience', 'particular', 'location', 'not', 'good'], ['like', 'loud', 'conversation', 'phone'], ['every', 'story', 'top', 'sit'], ['work', 'use', 'month', 'purchase', 'another', 'one', 'best', 'headset', 'ever', 'own'], ['problem', 'could', 'not', 'stay', 'connect', 'minute'], ['disappointed'], ['love', 'able', 'use', 'one', 'headset', 'line', 'cell'], ['wasn', 'really', 'impressed', 'strip', 'steak'], ['even', 'series', 'quiet', 'hear', 'person', 'say'], ['wait', 'wait'], ['best', 'part'], ['guess', 'maybe', 'go', 'night'], ['service', 'excellent', 'price', 'pretty', 'reasonable', 'consider', 'vega', 'inside', 'shop'], ['food', 'good', 'bar', 'food'], ['probably', 'would', 'better', 'director', 'movie', 'art', 'work', 'really', 'isn'], ['sweet', 'potato', 'fry', 'good', 'season', 'well'], ['sandwich', 'everything', 'try', 'get'], ['enjoy', 'book', 'child', 'little'], ['whatever', 'prompt', 'documentary', 'beyond'], ['good', 'lunch', 'spot'], ['talk', 'useless', 'customer', 'service'], ['fresh', 'white'], ['end', 'day', 'one', 'bad', 'big', 'budget', 'action', 'movie', 'ever', 'see'], ['anyway', 'restaurant', 'wonderful', 'breakfast', 'lunch'], ['especially', 'like', 'non', 'choice', 'parent', 'movie', 'could', 'dialog', 'write', 'movie', 'make', 'well', 'selection'], ['also', 'problem', 'phone', 'read', 'memory', 'always', 'turn'], ['set', 'especially', 'design', 'work', 'camera', 'amaze', 'beautiful', 'effective'], ['service', 'definitely', 'recommend'], ['excellent', 'product', 'price'], ['feature', 'really', 'use'], ['act', 'though', 'no', 'bad', 'period', 'movie'], ['plot', 'predictable', 'end', 'like', 'kill'], ['truly', 'awful'], ['rating'], ['cinematography', 'call', 'suck'], ['not', 'see', 'movie', 'definitely', 'recommend'], ['cell', 'phone', 'day', 'one'], ['use', 'product', 'control', 'lot', 'high', 'work', 'great'], ['call', 'drop', 'phone', 'come', 'screen', 'go', 'black', 'bad', 'stop', 'ring'], ['actually', 'graphic', 'good', 'time'], ['offer', 'option', 'one', 'need', 'handsfree', 'great'], ['like', 'fact', 'rest', 'ear', 'rather', 'inside'], ['clear', 'crisp', 'sound'], ['clear', 'quality', 'sound', 'don', 'mess', 'sound', 'ipod', 'since', 'sound', 'button', 'headset'], ['sister', 'one', 'also', 'love'], ['food', 'quality', 'horrible'], ['love', 'friendly', 'server', 'great', 'food', 'wonderful', 'menu'], ['bad', 'choice'], ['work', 'great', 'attack', 'phone', 'scratch', 'strip', 'instead', 'screen'], ['poor', 'service'], ['many', 'problem', 'dont', 'know', 'start'], ['despite', 'reviewer', 'like', 'movie'], ['please', 'purchase'], ['clear', 'call', 'long', 'battery', 'life', 'long', 'range'], ['boy', 'dry'], ['never', 'show', 'would', 'give', 'sure', 'side', 'wall'], ['waitress', 'friendly'], ['good'], ['take', 'battery', 'phone', 'put', 'back', 'together'], ['script', 'stupid'], ['way', 'fry'], ['clip', 'belt', 'make', 'feel', 'like', 'come'], ['actor', 'give', 'wonderful', 'performance', 'especially', 'change', 'begin', 'part', 'cool', 'star'], ['great', 'service', 'food'], ['read', 'alone', 'make', 'say', 'wow'], ['give', 'film'], ['rate', 'film', 'stink', 'not', 'funny', 'stay', 'giallo', 'movie'], ['lady', 'table', 'next', 'us', 'find', 'live', 'green', 'salad'], ['love', 'hummus', 'pita', 'amazing'], ['hear', 'drive', 'car', 'don', 'even', 'put', 'loud'], ['would', 'not', 'recommend', 'item', 'anyone'], ['thing', 'think', 'could', 'sound', 'headset'], ['torture', 'disgust', 'piece', 'american'], ['excellent', 'restaurant', 'highlight', 'great', 'service', 'menu', 'beautiful', 'set'], ['one', 'simply', 'disappointment'], ['no', 'plot'], ['isn', 'even', 'bad', 'good', 'bad', 'memorable', 'movie'], ['staff', 'spend', 'time', 'talk'], ['good', 'picture', 'case', 'huge', 'disappointment'], ['didn', 'want', 'clip', 'go', 'top', 'ear', 'cause'], ['saw', 'theater', 'think', 'go', 'sick'], ['fit', 'comfortably', 'either', 'ear', 'sound', 'clear', 'loud', 'charge', 'last', 'couple', 'day'], ['know', 'sound', 'funny', 'seem', 'like', 'wouldn', 'work', 'well', 'well', 'one', 'work', 'great'], [], ['boyfriend', 'come', 'first', 'time', 'recent', 'trip', 'vega', 'could', 'not', 'pleased', 'quality', 'food', 'service'], ['one', 'bad', 'film', 'ever', 'see'], ['phone', 'doesn', 'around', 'car', 'phone', 'hand'], ['worst', 'phone', 'ever', 'month'], ['also', 'enough', 'fit', 'station', 'without', 'case'], ['like', 'bad', 'two', 'hour', 'tv', 'movie'], ['exquisite', 'use', 'close', 'camera', 'angle', 'light', 'include', 'faux', 'home', 'movie', 'wonder', 'joy'], ['nice', 'headset', 'price', 'right'], ['excellent', 'product'], ['ambiance', 'isn', 'much', 'well'], ['end', 'edge', 'back', 'pocket', 'instead'], ['first', 'phone', 'make'], ['want'], ['handsfree', 'part', 'work', 'fine', 'car', 'try', 'book', 'treo', 'overall', 'still', 'rate', 'device', 'high'], [], ['mobile', 'best', 'customer', 'service'], ['chicken', 'fry', 'steak', 'time', 'favorite'], ['get', 'enjoy', 'seafood', 'salad'], ['not', 'connection', 'computer'], ['not', 'good'], ['super'], ['service', 'fantastic'], ['bad', 'one', 'series'], ['perfect', 'true', 'masterpiece', 'sea', 'faux', 'masterpiece'], ['cheap', 'movie', 'poor', 'lot', 'style', 'think', 'good', 'ready', 'roll', 'john'], ['stupid'], ['advise', 'look'], ['unreliable', 'give'], ['see'], ['not', 'impress', 'would', 'not', 'recommend', 'item', 'anyone'], ['battery', 'no', 'life'], ['doesn', 'job'], ['try', 'unit', 'fail', 'within', 'month', 'pro'], ['rating', 'note', 'show', 'bad', 'even', 'cast', 'pull', 'daughter', 'show'], ['say', 'film', 'produce', 'rating', 'film'], ['new', 'vega', 'buffet', 'spot'], ['film', 'nothing', 'show', 'ridiculous', 'action', 'scene'], ['movie', 'edge', 'seat', 'make', 'somewhat', 'go', 'car', 'end', 'night'], ['service', 'leave', 'lot'], ['saw', 'short', 'film', 'day', 'absolutely', 'love'], ['film', 'try', 'serious', 'thriller', 'horror', 'flick', 'fail'], ['felt', 'like', 'never', 'eat', 'thai', 'food', 'dish'], ['suck'], ['nothing', 'work'], ['new', 'battery', 'work', 'great', 'phone'], ['give', 'thumb'], ['nice', 'top', 'feel', 'like', 'do', 'cover', 'food'], ['server', 'go', 'back', 'several', 'time', 'not', 'even', 'much', 'help'], ['truly', 'art', 'movie', 'actually', 'lot', 'art'], ['act', 'involve', 'include', 'like', 'bad', 'wash', 'make', 'seem', 'old', 'look', 'real', 'life', 'special', 'effect', 'like', 'fall'], ['love', 'put', 'food', 'nice', 'plastic', 'little', 'paper', 'box'], ['zero', 'star', 'would', 'give', 'zero', 'star'], ['spoiler', 'whatever', 'else', 'say'], ['no', 'care', 'ever', 'say', 'still', 'end', 'overprice'], ['show', 'make', 'american', 'stupid', 'full', 'elsewhere'], ['memory', 'say', 'enjoy', 'every', 'single', 'episode', 'product', 'show'], ['don', 'waste', 'one'], ['internet', 'fine', 'rare', 'work'], ['show', 'would', 'begin', 'ed', 'comment', 'would', 'totally', 'wall'], ['drink', 'weak', 'people'], ['also', 'turn', 'good', 'performance', 'somewhat', 'memorable', 'role', 'play'], ['good', 'time'], [], ['heart', 'place'], ['little', 'think', 'thats', 'toast', 'right', 'battery', 'leather', 'case'], ['not', 'call', 'unit', 'never', 'work'], [], ['less'], ['not', 'even', 'right'], ['don', 'know', 'big', 'deal', 'place', 'win', 'back'], ['certainly', 'comfortable', 'decent'], ['not', 'film', 'would', 'also', 'manage', 'give', 'away', 'entire', 'movie', 'not', 'every', 'every', 'plot', 'point', 'every', 'joke', 'tell'], ['movie', 'write', 'need', 'suspense'], ['won', 'say', 'don', 'like', 'spoiler', 'don', 'want', 'one', 'believe', 'film', 'worth', 'time'], ['not', 'mention', 'bacon', 'big'], ['liked', 'way', 'character', 'ready', 'everything', 'stay', 'son'], ['watch', 'however', 'small', 'actress', 'play', 'anne', 'sister', 'wonderful', 'job', 'role'], ['breakfast', 'great', 'beautiful', 'slice', 'toast'], ['take', 'back', 'money', 'get'], ['not', 'good', 'enough', 'price'], ['not', 'buy', 'not', 'suck'], ['waiter', 'wasn', 'helpful', 'friendly', 'check', 'us'], ['range', 'decent', 'able', 'around', 'house', 'phone', 'room', 'no', 'reception', 'sound', 'quality', 'issue'], ['first', 'charge', 'keep', 'go', 'dead', 'minute'], ['disappoint'], ['wind', 'completely', 'useless'], ['hope', 'place', 'stick', 'around'], ['even', 'say', 'torture'], ['still', 'like', 'movie', 'not', 'enough', 'movie', 'like', 'one'], ['well'], ['pro', 'good', 'camera', 'nice', 'picture', 'also', 'cool', 'style', 'like', 'black', 'white'], ['light', 'easy', 'use', 'clear', 'reception'], ['look', 'nice'], ['saw', 'film', 'recommend'], ['win', 'disappointed'], ['poor'], ['thing', 'bad', 'act', 'stanwyck'], ['result'], ['comfortable', 'wear', 'well', 'probably', 'important', 'aspect', 'use', 'case'], ['burger', 'amaze'], ['bad', 'movie', 'not'], ['cant', 'say', 'enough', 'good', 'thing', 'place'], ['definitely', 'must', 'state', 'not', 'allow', 'cell', 'phone'], ['definitely', 'one', 'bad', 'one'], ['love', 'never', 'see', 'movie'], ['think', 'not'], ['earpiece', 'large', 'keep', 'fall', 'ear'], ['doesn', 'work'], ['not', 'good'], ['not', 'fun', 'experience'], ['film', 'no', 'feature'], ['true', 'classic'], ['food', 'come', 'disappointment'], ['look', 'new', 'earpiece'], ['enjoy'], ['come', 'back', 'every', 'time', 'vega'], ['short', 'film', 'certainly', 'pull', 'no'], ['like', 'really', 'party', 'mouth', 'hot', 'person', 'party'], ['none', 'new', 'one', 'ever', 'quite', 'work'], ['real', 'killer', 'volume', 'course'], ['call', 'movie', 'drama', 'ridiculous'], ['twice', 'last', 'especially', 'salad'], ['no'], ['food', 'order'], ['food', 'price', 'reasonable'], ['place', 'not', 'clean', 'food', 'oh', 'stale'], ['don', 'like', 'nokia', 'either'], ['probably', 'never', 'come', 'back', 'wouldn', 'recommend'], ['saw', 'film', 'christmas', 'great', 'film'], ['first', 'think', 'good', 'deal', 'plug', 'phone', 'razr'], ['good', 'thing', 'fit', 'comfortably', 'small', 'ear'], ['movie', 'contain', 'star', 'cast', 'love', 'eye', 'see', 'actor', 'haven', 'see'], ['however', 'bt', 'headset', 'not', 'good', 'real', 'time', 'game', 'like', 'first', 'person', 'since', 'audio', 'mess'], ['use', 'case', 'fit', 'fine'], ['leather', 'nice', 'fit', 'cut', 'face', 'good'], ['unfortunately', 'film', 'production', 'work', 'lose', 'script'], ['phone', 'side'], ['work', 'great'], ['like', 'slice', 'white'], ['first', 'time', 'might', 'last'], ['hop'], ['not', 'cast', 'also', 'par', 'script', 'much', 'earlier', 'classic'], ['simply', 'beautiful'], ['also', 'music', 'mark', 'best', 'ever', 'hear'], ['don', 'make', 'mistake', 'please', 'don', 'buy', 'phone'], ['bad', 'day', 'not', 'low', 'rude', 'customer', 'service', 'people', 'job', 'nice', 'wash', 'dish'], ['call', 'nut', 'think', 'one', 'best', 'movie', 'ever'], ['disappointed'], ['unfortunately', 'not', 'iphone', 'despite', 'connect', 'multiple', 'power', 'battery', 'wall', 'etc'], ['server', 'super', 'nice', 'check', 'us', 'many', 'time'], ['sandwich', 'taste', 'really', 'good'], ['design'], ['act', 'one', 'least', 'ever', 'see', 'write', 'write', 'damn', 'movie'], ['station', 'good', 'sign'], ['horrible'], ['need', 'course', 'none', 'table'], ['not', 'director', 'would', 'head', 'spend', 'whatever', 'amount', 'money', 'time', 'movie'], ['service', 'poor', 'thats', 'nice'], ['really', 'fine', 'use', 'right', 'menu', 'hand', 'no', 'price', 'list'], ['food', 'suck', 'expect', 'could'], ['seem', 'completely', 'hold', 'belt', 'keep', 'iphone', 'inside'], ['suspense', 'good', 'line', 'pg'], ['case', 'try', 'fall', 'apart', 'month', 'one', 'seem', 'long'], ['place', 'clean', 'food', 'simply', 'wasn', 'worth'], ['happen', 'next', 'pretty', 'put'], ['please', 'know', 'day', 'let', 'art', 'drive', 'take', 'us'], ['wonderful', 'experience', 'make', 'place', 'must', 'stop', 'town'], ['however', 'need', 'well', 'instruction'], ['see', 'movie', 'like'], ['sad', 'movie', 'good'], ['nokia', 'cable', 'not', 'work', 'phone'], ['excellent'], ['place', 'amaze'], ['bad', 'actually', 'worth', 'see', 'reason'], ['everything', 'movie', 'stupid'], ['win', 'back'], ['overall', 'wasn', 'impress'], ['service', 'think', 'good'], ['see', 'kid', 'open', 'amaze', 'dialog', 'far', 'come', 'last', 'year'], ['great', 'movie'], ['one', 'film'], ['battery', 'work', 'great'], ['yes', 'bad'], ['also', 'great', 'see', 'silent', 'miss', 'step', 'go', 'silent', 'sound'], ['get', 'phone', 'glad'], ['pizza', 'good', 'sauce', 'tasty'], ['bar', 'cell', 'phone', 'home', 'cant', 'not', 'hear', 'anything'], ['work', 'industry', 'recommend', 'longer'], ['movie', 'interest', 'begin', 'end'], ['anyone', 'hear', 'part', 'conversation'], ['not', 'worth'], ['disappoint', 'wonder', 'could'], ['order', 'warm', 'taste', 'like', 'frozen'], ['direct', 'cinematography', 'aren', 'quite', 'good'], ['food', 'service', 'ambiance'], ['terrible', 'phone'], ['would', 'advise', 'not', 'purchase', 'item', 'never', 'work', 'well'], ['extremely', 'tasty'], ['always', 'know', 'brilliant', 'actor', 'actor', 'watch', 'film', 'child'], ['didn', 'meat', 'wow', 'flavor'], ['waitress', 'sweet', 'funny'], ['two', 'daughter', 'beautiful'], ['mark', 'word', 'one', 'cult', 'film', 'like', 'dead', 'people', 'still', 'fall', 'love', 'year', 'line'], ['motorola', 'razr', 'phone'], ['great', 'phone'], ['bad', 'right', 'front', 'bunch', 'horrible'], ['not', 'work', 'music', 'cingular'], ['stupid', 'not', 'see', 'one', 'come'], ['picture', 'far', 'price', 'phone', 'offer', 'today'], ['phone', 'work', 'great'], ['place', 'not', 'quality', 'sushi', 'not', 'quality', 'restaurant'], ['love', 'pizza', 'remind', 'italian', 'pizza'], ['performance', 'real', 'extremely', 'well', 'do', 'indeed', 'black', 'water', 'website', 'believe', 'real', 'location'], ['th', 'house', 'not', 'quite', 'bore', 'movie'], ['easy', 'use'], ['regret'], ['use', 'three', 'film', 'nothing', 'short', 'incredible', 'every', 'shot', 'every', 'scene', 'like', 'work', 'art'], ['never', 'hard', 'never', 'ever', 'step'], ['rating', 'go', 'low', 'awful', 'time', 'get', 'negative', 'number', 'case'], ['service'], ['horrible'], ['dont', 'buy'], ['phone', 'without', 'effort'], ['vomit', 'bathroom', 'lunch'], ['piece', 'film', 'make', 'many', 'theme', 'occasionally', 'self', 'indulgent', 'year', 'aerial', 'love', 'art', 'experience', 'self'], ['lovely', 'little', 'thriller', 'lot', 'nice', 'murder', 'child', 'plot'], ['car', 'charger', 'not', 'work'], ['no', 'plot'], ['simple', 'lightweight', 'great', 'fit'], ['hard', 'not', 'fall', 'head', 'love', 'girl'], ['one', 'thing', 'well', 'character', 'much'], ['poor', 'quality', 'tasteless'], ['love', 'cook', 'wine', 'duck', 'tender', 'potato', 'dish', 'delicious'], ['place', 'eat', 'no', 'would', 'ever', 'return', 'top', 'list'], ['love', 'feature', 'form'], ['energy', 'honestly', 'find', 'hard', 'follow'], ['don', 'miss'], ['movie', 'really', 'get'], ['absolutely', 'amaze'], ['no', 'no', 'no', 'not', 'even', 'scratch', 'nothing', 'couldn', 'happy', 'new', 'one'], ['man', 'not', 'say', 'word', 'food', 'minute', 'late'], ['purchase', 'different', 'case'], ['film', 'terrible', 'make', 'horror', 'movie', 'avoid', 'like'], ['product', 'useless', 'since', 'not', 'enough', 'charge', 'charge', 'plan', 'use'], ['buy', 'different', 'phone', 'not'], ['receive', 'white', 'battery', 'go', 'dead', 'couple', 'original', 'use', 'last', 'week', 'still', 'last', 'longer'], ['service', 'quick', 'friendly'], ['pair', 'iphone', 'could', 'not', 'far'], ['work'], ['overall', 'movie', 'cheap', 'trash'], ['finally', 'three', 'time', 'break', 'could', 'not', 'use', 'long'], ['plain', 'suck'], ['however', 'no', 'decent', 'act', 'action', 'location', 'work', 'thing'], ['overall', 'rate', 'movie', 'scale'], ['movie', 'kind', 'long', 'enjoy', 'every', 'minute'], ['depth', 'character', 'man'], ['really', 'enjoy'], ['try', 'experience', 'tasty', 'food', 'friendly', 'service'], ['far', 'twice', 'food', 'absolutely', 'delicious', 'time'], ['great', 'little', 'item'], ['great', 'way', 'finish', 'great'], ['stick', 'best', 'thing', 'order'], ['really', 'good', 'far', 'probably', 'best', 'bt', 'headset', 'ever'], ['love'], ['much', 'good', 'sushi', 'place', 'go', 'vega'], ['glad', 'find', 'product', 'amazon', 'hard', 'find', 'wasn', 'high', 'price'], ['film', 'easily', 'history', 'cinema'], ['director', 'paul', 'also', 'write', 'direct', 'weak', 'movie', 'clearly', 'doesn', 'know', 'pace', 'film'], ['well', 'act', 'do', 'tv', 'movie'], ['phone', 'also', 'take', 'great', 'picture', 'even', 'video', 'clip'], ['good', 'plot', 'hold', 'complete', 'attention', 'act', 'superb', 'tom', 'fantastic', 'also', 'good'], ['work', 'comfortable'], ['unfortunately', 'set', 'us', 'disappointment'], ['good', 'show', 'samsung'], ['watch', 'wash', 'machine', 'around', 'wouldn', 'eye', 'much', 'show'], ['film', 'despite', 'perhaps', 'obviously', 'budget'], ['sound', 'quality', 'device', 'unless', 'really', 'quiet', 'area', 'almost', 'hear', 'nothing'], ['especially', 'love', 'long', 'battery', 'life'], ['find', 'food', 'wasn', 'food'], ['phone', 'side', 'really'], ['could', 'drive', 'hole'], ['find', 'good', 'movie'], ['fit', 'ear', 'well', 'comfortable'], ['awesome', 'service', 'food'], ['seem', 'like', 'good', 'quick', 'place', 'bite', 'food', 'look', 'elsewhere'], ['love', 'authentic', 'mexican', 'food', 'want', 'whole', 'bunch', 'interest', 'yet', 'delicious', 'meat', 'need', 'try', 'place'], ['won', 'disappoint'], ['late', 'film', 'no', 'no', 'sea', 'wonderfully', 'fun', 'look'], ['great', 'place', 'highly', 'recommend'], ['go', 'motorola', 'website', 'follow', 'direction', 'could', 'not', 'get', 'pair'], ['small', 'not', 'worth', 'price'], ['almost', 'everyone', 'must', 'return', 'act', 'utterly', 'predictable', 'bad', 'script', 'garbage'], ['believe', 'even'], ['either', 'cold', 'not', 'enough', 'flavor', 'bad'], ['plug', 'not', 'work', 'well'], ['main', 'thing', 'didn', 'enjoy', 'crowd', 'old', 'crowd', 'around'], ['anyway', 'not', 'think', 'go', 'back'], ['hell', 'kind', 'crap'], ['great', 'steak', 'great', 'side', 'great', 'wine', 'amazing', 'dessert'], ['server', 'suck', 'wait', 'server', 'suck'], ['return', 'hour', 'later'], ['hold', 'series', 'together', 'amazing', 'performance', 'two', 'quiet', 'conflict'], ['great'], ['film', 'good', 'addition', 'giallo'], ['not', 'definitely', 'place', 'come', 'back', 'every'], ['would', 'recommend', 'item'], ['cream', 'sauce', 'bland', 'vegetable'], ['two', 'bite', 'refuse', 'eat'], ['result', 'phone', 'either', 'volume'], ['overall', 'would', 'recommend', 'phone', 'new'], ['inside', 'really', 'quite', 'nice', 'clean'], ['plot', 'hole', 'pair', 'direction', 'edit'], ['absolutely', 'no', 'problem', 'headset'], ['loud', 'glad', 'say', 'plantronics', 'connection', 'cell', 'no', 'use'], ['meat', 'pretty', 'dry', 'slice', 'pull', 'pork'], ['could', 'serve', 'may', 'make', 'good', 'overall', 'dish', 'still', 'good'], ['love', 'headset'], ['plan', 'use', 'car', 'forget'], ['know', 'make'], ['despite', 'hard', 'rate', 'actually', 'rare', 'give', 'star'], ['pretty', 'easy'], ['piece', 'trash', 'ever', 'release', 'beyond', 'act', 'story', 'character', 'supposedly', 'special', 'effect', 'etc', 'wrong'], ['receive', 'headset', 'good', 'time', 'happy'], ['not', 'recommend'], ['unfortunately', 'easy', 'touch', 'button', 'touch', 'phone', 'face'], ['absolutely', 'no', 'charm', 'scene', 'character'], ['look', 'movie', 'terrific', 'cast', 'good', 'music', 'include', 'way', 'look', 'end', 'give', 'one', 'try'], ['food', 'good', 'service', 'good', 'price', 'good'], ['staff', 'lack', 'well', 'word'], ['order', 'toast', 'come'], ['phone', 'crash', 'completely', 'get', 'replace'], ['never', 'insult', 'felt'], ['place', 'horrible', 'way', 'overprice'], ['no', 'real', 'plot'], ['service'], ['look', 'great', 'strong'], ['yet', 'use', 'charger', 'design'], ['wonderful', 'watch', 'hope', 'get', 'release', 'video'], ['would', 'recommend', 'others'], ['not', 'sure', 'try', 'film'], ['clear', 'range', 'ability', 'pull', 'part'], ['around', 'pm', 'buy', 'around', 'pm', 'start', 'watch', 'around', 'pm', 'fast', 'film', 'see', 'anything', 'leave', 'human', 'brain', 'wasn'], ['get', 'get', 'day'], ['cute'], ['not', 'buy', 'want', 'use', 'holster'], ['everything', 'appal'], ['well', 'right'], ['make', 'easy', 'keep', 'bluetooth', 'not', 'wear'], ['ray', 'charles', 'life', 'provide', 'excellent', 'film', 'go', 'well', 'beyond', 'another', 'movie'], ['order', 'burger', 'rare', 'come', 'do'], ['pathetic', 'attempt', 'give', 'character', 'depth', 'didn', 'really', 'work', 'rest', 'plot'], ['no', 'ear', 'provide', 'no', 'instruction', 'whatsoever'], ['get', 'inside', 'impressed', 'place'], ['aerial', 'scene', 'well', 'do'], ['fun', 'funny', 'movie'], ['place', 'treo', 'case', 'not', 'not', 'lot', 'extra', 'room', 'side'], ['maybe', 'weren', 'cold', 'would', 'somewhat'], ['phone', 'hold', 'charge', 'like', 'new'], ['phone', 'fast', 'send', 'kind', 'message', 'previous', 'phone', 'use'], ['think', 'one', 'people', 'find', 'another', 'one'], ['pay', 'much'], ['avoid', 'cost'], ['story', 'predictable'], ['entertain'], ['wonderful', 'location', 'story'], ['long', 'time', 'didn', 'see', 'actor', 'screen'], ['cast', 'superb', 'perfect', 'role', 'man', 'doesn', 'understand'], ['great', 'pocket', 'phone'], ['like', 'reviewer', 'say', 'couldn', 'pay', 'eat', 'place'], ['highly', 'recommend', 'one', 'blue', 'phone'], ['brilliant', 'twist', 'end'], ['not', 'buy'], ['mediocre'], ['one', 'best', 'movie', 'show', 'strong'], ['great', 'sound', 'effect', 'special', 'effect', 'recommend', 'movie', 'enough'], ['character', 'interest', 'want', 'find', 'longer', 'movie', 'go', 'think', 'people', 'surprise', 'doesn', 'make'], ['money', 'item', 'month'], ['head', 'really', 'expect', 'good', 'food'], ['mobile', 'phone', 'tool', 'must'], ['hell', 'no', 'go', 'back'], ['write', 'certainly', 'make', 'even', 'bad', 'bad'], ['role', 'play', 'well'], ['terrific', 'film', 'predictable', 'time'], ['perhaps', 'phone', 'people', 'cannot', 'hear', 'use'], ['waitress', 'manager', 'friendly'], ['get', 'pay', 'guess'], ['find', 'cell', 'phone', 'right', 'away', 'car'], ['fantastic', 'gem'], ['everything', 'need', 'couldn', 'ask'], ['really', 'bad'], ['well', 'would', 'give', 'zero', 'star', 'possible'], ['lot'], ['story', 'line', 'totally', 'predictable'], ['two', 'felt', 'disgust'], ['time', 'bore', 'didn', 'care', 'happen', 'next'], ['go', 'place', 'gyro'], ['love', 'device'], ['waste', 'money', 'game'], ['right', 'red', 'stuff', 'good'], ['also', 'serve', 'hot', 'bread', 'butter', 'home', 'make', 'potato', 'chip', 'bacon', 'bit', 'top', 'original', 'good'], ['act', 'help', 'write', 'along', 'well', 'maybe', 'sister', 'could', 'play', 'good', 'real', 'joy', 'watch'], ['avoid', 'film', 'cost'], ['isn', 'enough', 'mess', 'movie', 'picture', 'also', 'use', 'set'], ['cheap', 'work', 'give', 'low', 'cost', 'item'], ['ask', 'multiple', 'time', 'wine', 'list', 'time', 'go', 'get', 'one'], ['quite', 'purchase'], ['not', 'back'], ['much', 'less', 'jawbone', 'go', 'replace'], ['good', 'quality'], ['come', 'back', 'cold'], ['drive', 'get'], ['quite', 'disappointed', 'although', 'need', 'place', 'door'], ['first', 'reception', 'suck', 'never', 'bar', 'ever'], ['turn', 'good', 'day', 'feel', 'night', 'memory', 'guess'], ['recommend', 'everyone', 'love', 'film', 'movie', 'anything', 'work', 'art'], ['john', 'incredible', 'job', 'young', 'movie', 'industry'], ['avoid', 'establishment'], ['place', 'great'], ['bt', 'headset'], ['phone', 'take', 'forever', 'charge', 'like', 'hour', 'literally'], ['exchange', 'pretty', 'happy'], ['want', 'first', 'say', 'server', 'great', 'perfect', 'service'], ['service', 'beyond', 'bad'], ['not', 'nearly', 'good', 'look', 'amazon', 'picture', 'make', 'look'], ['scene', 'often', 'funny', 'occasionally', 'touch', 'character', 'life', 'go'], ['one', 'favorite', 'purchase', 'ever'], ['give', 'one']]\n"
          ]
        }
      ],
      "source": [
        "print(train_x)"
      ]
    },
    {
      "cell_type": "code",
      "execution_count": 35,
      "metadata": {
        "id": "wnfQpkxg0Usq"
      },
      "outputs": [],
      "source": [
        "# ******* Inlcuye a continuación todas las líneas de código y celdas que requieras: ***********\n",
        "\n",
        "def comment_to_embedding(comment, embedding_dict, dim):\n",
        "    vectors = [embedding_dict[w] for w in comment if w in embedding_dict]\n",
        "    if len(vectors) == 0:\n",
        "        return np.zeros(dim)  # O puedes usar np.nan o alguna otra estrategia\n",
        "    return np.mean(vectors, axis=0)\n",
        "\n",
        "# Obtén la dimensión de los embeddings\n",
        "embedding_dim = len(next(iter(embedding_dict.values())))\n",
        "\n",
        "trainEmb = np.array([comment_to_embedding(comment, embedding_dict, embedding_dim) for comment in train_x])\n",
        "valEmb   = np.array([comment_to_embedding(comment, embedding_dict, embedding_dim) for comment in val_x])\n",
        "testEmb  = np.array([comment_to_embedding(comment, embedding_dict, embedding_dim) for comment in test_x])\n",
        "\n",
        "\n",
        "# *********** Aquí termina la sección de agregar código *************"
      ]
    },
    {
      "cell_type": "code",
      "execution_count": 36,
      "metadata": {
        "id": "J3BBF96D0N8Z"
      },
      "outputs": [
        {
          "name": "stdout",
          "output_type": "stream",
          "text": [
            "Train-Emb: (2100, 1536)\n",
            "Val-Emb: (450, 1536)\n",
            "Test-Emb: (450, 1536)\n"
          ]
        }
      ],
      "source": [
        "# Veamos las dimensiones de cada conjunto embebido:\n",
        "\n",
        "print(\"Train-Emb:\", trainEmb.shape)\n",
        "print(\"Val-Emb:\", valEmb.shape)\n",
        "print(\"Test-Emb:\", testEmb.shape)"
      ]
    },
    {
      "cell_type": "markdown",
      "metadata": {
        "id": "pibp1LA91CP_"
      },
      "source": [
        "# **Pregunta - 8:**\n"
      ]
    },
    {
      "cell_type": "markdown",
      "metadata": {
        "id": "UxC9K0VnGOwG"
      },
      "source": [
        "\n",
        "Utiliza los modelos de regresión logística y bosque aleatorio (random forest) y encuentra sus desempeños.\n",
        "\n",
        "Compara los resultados con los de la semana anterior."
      ]
    },
    {
      "cell_type": "code",
      "execution_count": null,
      "metadata": {
        "id": "ycwjD8ztGOL7"
      },
      "outputs": [],
      "source": [
        "# REGRESIÓN LOGÍSTICA:\n",
        "\n",
        "# ******* Inlcuye a continuación todas las líneas de código y celdas que requieras: ***********\n",
        "\n",
        "\n",
        "None\n",
        "\n",
        "\n",
        "# *********** Aquí termina la sección de agregar código *************\n"
      ]
    },
    {
      "cell_type": "code",
      "execution_count": null,
      "metadata": {
        "id": "N4n70GHW0sl3"
      },
      "outputs": [],
      "source": [
        "# BOSQUE ALEATORIO (Random Forest):\n",
        "\n",
        "# ******* Inlcuye a continuación todas las líneas de código y celdas que requieras: ***********\n",
        "\n",
        "\n",
        "None\n",
        "\n",
        "\n",
        "# *********** Aquí termina la sección de agregar código *************"
      ]
    },
    {
      "cell_type": "markdown",
      "metadata": {
        "id": "WDIiSHvg0_hm"
      },
      "source": [
        "# **Pregunta - 9:**"
      ]
    },
    {
      "cell_type": "markdown",
      "metadata": {
        "id": "dJJtALGZHrGk"
      },
      "source": [
        "\n",
        "\n",
        "Reporte del mejor modelo con el conjunto de Prueba (Test).\n"
      ]
    },
    {
      "cell_type": "code",
      "execution_count": null,
      "metadata": {
        "id": "ETv4VLjP1GYt"
      },
      "outputs": [],
      "source": [
        "# ******* Inlcuye a continuación todas las líneas de código y celdas que requieras: ***********\n",
        "\n",
        "\n",
        "None\n",
        "\n",
        "\n",
        "# *********** Aquí termina la sección de agregar código *************"
      ]
    },
    {
      "cell_type": "markdown",
      "metadata": {
        "id": "NbhBUBKJp1MB"
      },
      "source": [
        "# **Pregunta - 10:**"
      ]
    },
    {
      "cell_type": "code",
      "execution_count": null,
      "metadata": {
        "id": "3zPSi-H7p6ga"
      },
      "outputs": [],
      "source": [
        "# Incluye todas las líneas de código y celdas que consideres adecuadas para este ejercicio.\n",
        "\n",
        "\n",
        "None\n",
        "\n",
        "\n"
      ]
    },
    {
      "cell_type": "markdown",
      "metadata": {
        "id": "YCkh2WfN1MC1"
      },
      "source": [
        "# **Pregunta - 11:**"
      ]
    },
    {
      "cell_type": "markdown",
      "metadata": {
        "id": "4ySFuDQtVuK5"
      },
      "source": [
        "\n",
        "\n",
        "Incluye tus comentarios finales de la actividad.\n",
        "\n",
        "### ++++++++ Inicia la sección de agregar texto: +++++++++++\n",
        "\n",
        "None\n",
        "\n",
        "### ++++++++ Termina la sección de agregar texto: +++++++++++"
      ]
    },
    {
      "cell_type": "markdown",
      "metadata": {
        "id": "bgKHmQTbWJT1"
      },
      "source": [
        "# **Fin de la Actividad de Vectores Embebidos - OpenAI**"
      ]
    }
  ],
  "metadata": {
    "colab": {
      "collapsed_sections": [
        "4c34ZOnna3Gu",
        "MfZZ0stLmWJN",
        "ygchEdcKqIzU",
        "1qjKoEqiqBN1",
        "RS0Hxj25vTWh",
        "ToqRl7fT_fn2",
        "W4S7q0yR0Mpi",
        "pibp1LA91CP_",
        "WDIiSHvg0_hm",
        "NbhBUBKJp1MB",
        "YCkh2WfN1MC1"
      ],
      "provenance": []
    },
    "kernelspec": {
      "display_name": "env",
      "language": "python",
      "name": "python3"
    },
    "language_info": {
      "codemirror_mode": {
        "name": "ipython",
        "version": 3
      },
      "file_extension": ".py",
      "mimetype": "text/x-python",
      "name": "python",
      "nbconvert_exporter": "python",
      "pygments_lexer": "ipython3",
      "version": "3.13.3"
    }
  },
  "nbformat": 4,
  "nbformat_minor": 0
}
